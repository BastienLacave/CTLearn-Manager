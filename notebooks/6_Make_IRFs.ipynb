{
 "cells": [
  {
   "cell_type": "code",
   "execution_count": 1,
   "metadata": {},
   "outputs": [],
   "source": [
    "import numpy as np\n",
    "import astropy.units as u\n",
    "from astropy.coordinates import SkyCoord\n",
    "from astropy.visualization import quantity_support\n",
    "import matplotlib.pyplot as plt\n",
    "from gammapy.irf import (\n",
    "    IRF,\n",
    "    Background3D,\n",
    "    EffectiveAreaTable2D,\n",
    "    EnergyDependentMultiGaussPSF,\n",
    "    EnergyDispersion2D,\n",
    "    Background2D,\n",
    "    RadMax2D,\n",
    ")\n",
    "from gammapy.irf.io import COMMON_IRF_HEADERS, IRF_DL3_HDU_SPECIFICATION\n",
    "from gammapy.makers.utils import (\n",
    "    make_edisp_kernel_map,\n",
    "    make_map_exposure_true_energy,\n",
    "    make_psf_map,\n",
    ")\n",
    "from gammapy.maps import MapAxis, WcsGeom\n",
    "from astropy.io import fits\n",
    "from ctlearn_manager import CTLearnTriModelManager\n",
    "from ctlearn_manager.io import load_model_from_index"
   ]
  },
  {
   "cell_type": "code",
   "execution_count": 2,
   "metadata": {},
   "outputs": [
    {
     "name": "stdout",
     "output_type": "stream",
     "text": [
      "🧠 Model name: energy_stereo_20deg\n",
      "🧠 Model name: direction_stereo_20deg\n",
      "🧠 Model name: type_stereo_20deg\n"
     ]
    }
   ],
   "source": [
    "MODEL_INDEX_FILE = \"/home/blacave/CTLearn/Software/CTLearn-Manager/ctearn_models_index.h5\"\n",
    "energy_model = load_model_from_index(\"energy_stereo_20deg\", MODEL_INDEX_FILE)\n",
    "direction_model = load_model_from_index(\"direction_stereo_20deg\", MODEL_INDEX_FILE)\n",
    "type_model = load_model_from_index(\"type_stereo_20deg\", MODEL_INDEX_FILE)\n",
    "Stereo_Tri_Model = CTLearnTriModelManager(direction_model=direction_model, energy_model=energy_model, type_model=type_model)"
   ]
  },
  {
   "cell_type": "code",
   "execution_count": 3,
   "metadata": {},
   "outputs": [],
   "source": [
    "config = \"/home/blacave/CTLearn/Software/CTLearn-Manager/src/ctlearn_manager/resources/public-conf.yml\""
   ]
  },
  {
   "cell_type": "code",
   "execution_count": 4,
   "metadata": {},
   "outputs": [
    {
     "name": "stdout",
     "output_type": "stream",
     "text": [
      "💾 Model direction_stereo_20deg IRF data update:\n",
      "💾 Model energy_stereo_20deg IRF data update:\n",
      "💾 Model type_stereo_20deg IRF data update:\n"
     ]
    },
    {
     "name": "stderr",
     "output_type": "stream",
     "text": [
      "2025-01-06 09:01:43,061 \u001b[1;32mINFO\u001b[0m [ctapipe.ctapipe-optimize-event-selection] (tool.initialize): Loading config from '[PosixPath('/home/blacave/CTLearn/Software/CTLearn-Manager/src/ctlearn_manager/resources/public-conf.yml')]'\n",
      "2025-01-06 09:01:43,067 \u001b[1;34mDEBUG\u001b[0m [ctapipe.core.provenance] (provenance.add_input_file): added input entity '/home/blacave/CTLearn/Software/CTLearn-Manager/src/ctlearn_manager/resources/public-conf.yml' to activity: 'ctapipe-optimize-event-selection'\n",
      "2025-01-06 09:01:43,069 \u001b[1;32mINFO\u001b[0m [ctapipe.ctapipe-optimize-event-selection] (tool.initialize): ctapipe version 0.23.1.dev174+g8f481f3f\n",
      "2025-01-06 09:01:43,071 \u001b[1;34mDEBUG\u001b[0m [ctapipe.ctapipe-optimize-event-selection] (tool.run): CONFIG: {'EventSelectionOptimizer': {'chunk_size': 100000, 'config_files': [PosixPath('/home/blacave/CTLearn/Software/CTLearn-Manager/src/ctlearn_manager/resources/public-conf.yml')], 'electron_file': None, 'electron_target_spectrum': <Spectra.IRFDOC_ELECTRON_SPECTRUM: 2>, 'gamma_file': PosixPath('/home/blacave/CTLearn/Data/DL2/Testing/gamma_point_50_300E3GeV_20_20deg_batch0.dl2.h5'), 'gamma_target_spectrum': <Spectra.CRAB_HEGRA: 1>, 'log_config': {}, 'log_datefmt': '%Y-%m-%d %H:%M:%S', 'log_file': None, 'log_file_level': 'INFO', 'log_format': '[%(name)s]%(highlevel)s %(message)s', 'log_level': 10, 'logging_config': {}, 'obs_time': <Quantity 50. h>, 'optimization_algorithm': 'PercentileCuts', 'output_path': PosixPath('/home/blacave/CTLearn/Data/CTLearn_Models_SST1M/IRFs/20deg70_stereo_cuts.fits'), 'overwrite': True, 'point_like': True, 'proton_file': PosixPath('/home/blacave/CTLearn/Data/DL2/Testing/proton_400_500E3GeV_20_20deg_batch5.dl2.h5'), 'proton_target_spectrum': <Spectra.IRFDOC_PROTON_SPECTRUM: 3>, 'provenance_log': PosixPath('/home/blacave/CTLearn/Software/CTLearn-Manager/notebooks/ctapipe-optimize-event-selection.provenance.log'), 'quiet': False, 'show_config': False, 'show_config_json': False, 'PercentileCuts': {'max_bkg_fov_offset': <Quantity 5. deg>, 'min_bkg_fov_offset': <Quantity 0. deg>, 'reco_energy_max': <Quantity 150. TeV>, 'reco_energy_min': <Quantity 0.015 TeV>, 'reco_energy_n_bins_per_decade': 5, 'GhPercentileCutCalculator': {'min_counts': 200, 'smoothing': None, 'target_percentile': 70}, 'ThetaPercentileCutCalculator': {'min_counts': 20, 'smoothing': None, 'target_percentile': 68, 'theta_fill_value': <Quantity 0.3 deg>, 'theta_max_angle': <Quantity 0.3 deg>, 'theta_min_angle': <Quantity -1. deg>}}}}\n",
      "2025-01-06 09:01:43,072 \u001b[1;34mDEBUG\u001b[0m [ctapipe.core.provenance] (provenance.add_config): added config entity '{'EventSelectionOptimizer': {'chunk_size': 100000, 'config_files': [PosixPath('/home/blacave/CTLearn/Software/CTLearn-Manager/src/ctlearn_manager/resources/public-conf.yml')], 'electron_file': None, 'electron_target_spectrum': <Spectra.IRFDOC_ELECTRON_SPECTRUM: 2>, 'gamma_file': PosixPath('/home/blacave/CTLearn/Data/DL2/Testing/gamma_point_50_300E3GeV_20_20deg_batch0.dl2.h5'), 'gamma_target_spectrum': <Spectra.CRAB_HEGRA: 1>, 'log_config': {}, 'log_datefmt': '%Y-%m-%d %H:%M:%S', 'log_file': None, 'log_file_level': 'INFO', 'log_format': '[%(name)s]%(highlevel)s %(message)s', 'log_level': 10, 'logging_config': {}, 'obs_time': <Quantity 50. h>, 'optimization_algorithm': 'PercentileCuts', 'output_path': PosixPath('/home/blacave/CTLearn/Data/CTLearn_Models_SST1M/IRFs/20deg70_stereo_cuts.fits'), 'overwrite': True, 'point_like': True, 'proton_file': PosixPath('/home/blacave/CTLearn/Data/DL2/Testing/proton_400_500E3GeV_20_20deg_batch5.dl2.h5'), 'proton_target_spectrum': <Spectra.IRFDOC_PROTON_SPECTRUM: 3>, 'provenance_log': PosixPath('/home/blacave/CTLearn/Software/CTLearn-Manager/notebooks/ctapipe-optimize-event-selection.provenance.log'), 'quiet': False, 'show_config': False, 'show_config_json': False, 'PercentileCuts': {'max_bkg_fov_offset': <Quantity 5. deg>, 'min_bkg_fov_offset': <Quantity 0. deg>, 'reco_energy_max': <Quantity 150. TeV>, 'reco_energy_min': <Quantity 0.015 TeV>, 'reco_energy_n_bins_per_decade': 5, 'GhPercentileCutCalculator': {'min_counts': 200, 'smoothing': None, 'target_percentile': 70}, 'ThetaPercentileCutCalculator': {'min_counts': 20, 'smoothing': None, 'target_percentile': 68, 'theta_fill_value': <Quantity 0.3 deg>, 'theta_max_angle': <Quantity 0.3 deg>, 'theta_min_angle': <Quantity -1. deg>}}}}' to activity: 'ctapipe-optimize-event-selection'\n",
      "2025-01-06 09:01:43,097 \u001b[1;34mDEBUG\u001b[0m [ctapipe.core.provenance] (provenance.add_input_file): added input entity '/home/blacave/CTLearn/Data/DL2/Testing/gamma_point_50_300E3GeV_20_20deg_batch0.dl2.h5' to activity: 'ctapipe-optimize-event-selection'\n",
      "2025-01-06 09:01:45,204 \u001b[1;34mDEBUG\u001b[0m [ctapipe.ctapipe-optimize-event-selection] (optimize_event_selection.start): Loaded 184342 gammas\n",
      "2025-01-06 09:01:45,205 \u001b[1;34mDEBUG\u001b[0m [ctapipe.ctapipe-optimize-event-selection] (optimize_event_selection.start): Keeping 44853 gammas\n",
      "2025-01-06 09:01:45,205 \u001b[1;32mINFO\u001b[0m [ctapipe.ctapipe-optimize-event-selection] (optimize_event_selection.start): Optimizing cuts using 44853 signal\n",
      "2025-01-06 09:01:45,219 \u001b[1;32mINFO\u001b[0m [ctapipe.ctapipe-optimize-event-selection] (optimize_event_selection.finish): Writing results to /home/blacave/CTLearn/Data/CTLearn_Models_SST1M/IRFs/20deg70_stereo_cuts.fits\n",
      "2025-01-06 09:01:45,222 \u001b[1;34mDEBUG\u001b[0m [ctapipe.core.provenance] (provenance.add_output_file): added output entity '/home/blacave/CTLearn/Data/CTLearn_Models_SST1M/IRFs/20deg70_stereo_cuts.fits' to activity: 'ctapipe-optimize-event-selection'\n",
      "2025-01-06 09:01:45,269 \u001b[1;32mINFO\u001b[0m [ctapipe.ctapipe-optimize-event-selection] (tool.run): Finished: ctapipe-optimize-event-selection\n",
      "2025-01-06 09:01:45,275 \u001b[1;34mDEBUG\u001b[0m [ctapipe.core.provenance] (provenance.finish_activity): finished activity: ctapipe-optimize-event-selection\n",
      "2025-01-06 09:01:45,275 \u001b[1;32mINFO\u001b[0m [ctapipe.ctapipe-optimize-event-selection] (tool.write_provenance): Output: /home/blacave/CTLearn/Data/CTLearn_Models_SST1M/IRFs/20deg70_stereo_cuts.fits\n",
      "2025-01-06 09:01:45,275 \u001b[1;34mDEBUG\u001b[0m [ctapipe.ctapipe-optimize-event-selection] (tool.write_provenance): PROVENANCE: 'Details about provenance is found in /home/blacave/CTLearn/Software/CTLearn-Manager/notebooks/ctapipe-optimize-event-selection.provenance.log'\n",
      "2025-01-06 09:01:45,276 \u001b[1;34mDEBUG\u001b[0m [ctapipe.ctapipe-optimize-event-selection] (application.exit): Exiting application: ctapipe-optimize-event-selection\n",
      "2025-01-06 09:01:47,250 \u001b[1;32mINFO\u001b[0m [ctapipe.ctapipe-compute-irf] (tool.initialize): Loading config from '[PosixPath('/home/blacave/CTLearn/Software/CTLearn-Manager/src/ctlearn_manager/resources/public-conf.yml')]'\n",
      "2025-01-06 09:01:47,256 \u001b[1;34mDEBUG\u001b[0m [ctapipe.core.provenance] (provenance.add_input_file): added input entity '/home/blacave/CTLearn/Software/CTLearn-Manager/src/ctlearn_manager/resources/public-conf.yml' to activity: 'ctapipe-compute-irf'\n",
      "2025-01-06 09:01:47,257 \u001b[1;32mINFO\u001b[0m [ctapipe.ctapipe-compute-irf] (tool.initialize): ctapipe version 0.23.1.dev174+g8f481f3f\n",
      "2025-01-06 09:01:47,362 \u001b[1;33mWARNING\u001b[0m [ctapipe.ctapipe-compute-irf] (compute_irf.setup): Estimating background without electron file.\n",
      "2025-01-06 09:01:47,364 \u001b[1;33mWARNING\u001b[0m [ctapipe.irf.binning] (binning.check_bins_in_range): Valid range for background reco energy is [0.015] to [150.], got [5.0000e-02 7.9245e-02 ... 3.1548e+02 5.0000e+02]\n",
      "2025-01-06 09:01:47,367 \u001b[1;33mWARNING\u001b[0m [ctapipe.irf.binning] (binning.check_bins_in_range): Valid range for Angular resolution energy is [0.015] to [150.], got [5.0000e-02 7.9245e-02 ... 3.1548e+02 5.0000e+02]\n",
      "2025-01-06 09:01:47,369 \u001b[1;33mWARNING\u001b[0m [ctapipe.irf.binning] (binning.check_bins_in_range): Valid range for Sensitivity reco energy is [0.015] to [150.], got [5.0000e-02 7.9245e-02 ... 3.1548e+02 5.0000e+02]\n",
      "2025-01-06 09:01:47,371 \u001b[1;34mDEBUG\u001b[0m [ctapipe.ctapipe-compute-irf] (tool.run): CONFIG: {'IrfTool': {'aeff_maker': 'EffectiveArea2dMaker', 'angular_resolution_maker': 'AngularResolution2dMaker', 'benchmarks_output_path': PosixPath('/home/blacave/CTLearn/Data/CTLearn_Models_SST1M/IRFs/20deg70_stereo_IRFs.fits'), 'bkg_maker': 'BackgroundRate2dMaker', 'chunk_size': 100000, 'config_files': [PosixPath('/home/blacave/CTLearn/Software/CTLearn-Manager/src/ctlearn_manager/resources/public-conf.yml')], 'cuts_file': PosixPath('/home/blacave/CTLearn/Data/CTLearn_Models_SST1M/IRFs/20deg70_stereo_cuts.fits'), 'do_background': True, 'edisp_maker': 'EnergyDispersion2dMaker', 'electron_file': None, 'electron_target_spectrum': <Spectra.IRFDOC_ELECTRON_SPECTRUM: 2>, 'energy_bias_resolution_maker': 'EnergyBiasResolution2dMaker', 'gamma_file': PosixPath('/home/blacave/CTLearn/Data/DL2/Testing/gamma_point_50_300E3GeV_20_20deg_batch0.dl2.h5'), 'gamma_target_spectrum': <Spectra.CRAB_HEGRA: 1>, 'log_config': {}, 'log_datefmt': '%Y-%m-%d %H:%M:%S', 'log_file': None, 'log_file_level': 'INFO', 'log_format': '[%(name)s]%(highlevel)s %(message)s', 'log_level': 10, 'logging_config': {}, 'obs_time': <Quantity 50. h>, 'output_path': PosixPath('/home/blacave/CTLearn/Data/CTLearn_Models_SST1M/IRFs/20deg70_stereo_IRFs.fits'), 'overwrite': True, 'point_like': True, 'proton_file': PosixPath('/home/blacave/CTLearn/Data/DL2/Testing/proton_400_500E3GeV_20_20deg_batch5.dl2.h5'), 'proton_target_spectrum': <Spectra.IRFDOC_PROTON_SPECTRUM: 3>, 'provenance_log': PosixPath('/home/blacave/CTLearn/Software/CTLearn-Manager/notebooks/ctapipe-compute-irf.provenance.log'), 'psf_maker': 'Psf3dMaker', 'quiet': False, 'range_check_error': False, 'sensitivity_maker': 'Sensitivity2dMaker', 'show_config': False, 'show_config_json': False, 'BackgroundRate2dMaker': {'fov_offset_max': <Quantity 1. deg>, 'fov_offset_min': <Quantity 0. deg>, 'fov_offset_n_bins': 1, 'reco_energy_max': <Quantity 500. TeV>, 'reco_energy_min': <Quantity 0.05 TeV>, 'reco_energy_n_bins_per_decade': 5}, 'EnergyDispersion2dMaker': {'energy_migration_linear_bins': True, 'energy_migration_max': 3.0, 'energy_migration_min': 0.0, 'energy_migration_n_bins': 301, 'fov_offset_max': <Quantity 1. deg>, 'fov_offset_min': <Quantity 0. deg>, 'fov_offset_n_bins': 1, 'true_energy_max': <Quantity 500. TeV>, 'true_energy_min': <Quantity 0.05 TeV>, 'true_energy_n_bins_per_decade': 43}, 'EffectiveArea2dMaker': {'fov_offset_max': <Quantity 1. deg>, 'fov_offset_min': <Quantity 0. deg>, 'fov_offset_n_bins': 1, 'true_energy_max': <Quantity 500. TeV>, 'true_energy_min': <Quantity 0.05 TeV>, 'true_energy_n_bins_per_decade': 10}, 'AngularResolution2dMaker': {'fov_offset_max': <Quantity 1. deg>, 'fov_offset_min': <Quantity 0. deg>, 'fov_offset_n_bins': 1, 'reco_energy_max': <Quantity 500. TeV>, 'reco_energy_min': <Quantity 0.05 TeV>, 'reco_energy_n_bins_per_decade': 5, 'true_energy_max': <Quantity 500. TeV>, 'true_energy_min': <Quantity 0.05 TeV>, 'true_energy_n_bins_per_decade': 10, 'use_true_energy': False}, 'EnergyBiasResolution2dMaker': {'fov_offset_max': <Quantity 1. deg>, 'fov_offset_min': <Quantity 0. deg>, 'fov_offset_n_bins': 1, 'true_energy_max': <Quantity 500. TeV>, 'true_energy_min': <Quantity 0.05 TeV>, 'true_energy_n_bins_per_decade': 10}, 'Sensitivity2dMaker': {'alpha': 0.2, 'fov_offset_max': <Quantity 1. deg>, 'fov_offset_min': <Quantity 0. deg>, 'fov_offset_n_bins': 1, 'reco_energy_max': <Quantity 500. TeV>, 'reco_energy_min': <Quantity 0.05 TeV>, 'reco_energy_n_bins_per_decade': 5}}}\n",
      "2025-01-06 09:01:47,373 \u001b[1;34mDEBUG\u001b[0m [ctapipe.core.provenance] (provenance.add_config): added config entity '{'IrfTool': {'aeff_maker': 'EffectiveArea2dMaker', 'angular_resolution_maker': 'AngularResolution2dMaker', 'benchmarks_output_path': PosixPath('/home/blacave/CTLearn/Data/CTLearn_Models_SST1M/IRFs/20deg70_stereo_IRFs.fits'), 'bkg_maker': 'BackgroundRate2dMaker', 'chunk_size': 100000, 'config_files': [PosixPath('/home/blacave/CTLearn/Software/CTLearn-Manager/src/ctlearn_manager/resources/public-conf.yml')], 'cuts_file': PosixPath('/home/blacave/CTLearn/Data/CTLearn_Models_SST1M/IRFs/20deg70_stereo_cuts.fits'), 'do_background': True, 'edisp_maker': 'EnergyDispersion2dMaker', 'electron_file': None, 'electron_target_spectrum': <Spectra.IRFDOC_ELECTRON_SPECTRUM: 2>, 'energy_bias_resolution_maker': 'EnergyBiasResolution2dMaker', 'gamma_file': PosixPath('/home/blacave/CTLearn/Data/DL2/Testing/gamma_point_50_300E3GeV_20_20deg_batch0.dl2.h5'), 'gamma_target_spectrum': <Spectra.CRAB_HEGRA: 1>, 'log_config': {}, 'log_datefmt': '%Y-%m-%d %H:%M:%S', 'log_file': None, 'log_file_level': 'INFO', 'log_format': '[%(name)s]%(highlevel)s %(message)s', 'log_level': 10, 'logging_config': {}, 'obs_time': <Quantity 50. h>, 'output_path': PosixPath('/home/blacave/CTLearn/Data/CTLearn_Models_SST1M/IRFs/20deg70_stereo_IRFs.fits'), 'overwrite': True, 'point_like': True, 'proton_file': PosixPath('/home/blacave/CTLearn/Data/DL2/Testing/proton_400_500E3GeV_20_20deg_batch5.dl2.h5'), 'proton_target_spectrum': <Spectra.IRFDOC_PROTON_SPECTRUM: 3>, 'provenance_log': PosixPath('/home/blacave/CTLearn/Software/CTLearn-Manager/notebooks/ctapipe-compute-irf.provenance.log'), 'psf_maker': 'Psf3dMaker', 'quiet': False, 'range_check_error': False, 'sensitivity_maker': 'Sensitivity2dMaker', 'show_config': False, 'show_config_json': False, 'BackgroundRate2dMaker': {'fov_offset_max': <Quantity 1. deg>, 'fov_offset_min': <Quantity 0. deg>, 'fov_offset_n_bins': 1, 'reco_energy_max': <Quantity 500. TeV>, 'reco_energy_min': <Quantity 0.05 TeV>, 'reco_energy_n_bins_per_decade': 5}, 'EnergyDispersion2dMaker': {'energy_migration_linear_bins': True, 'energy_migration_max': 3.0, 'energy_migration_min': 0.0, 'energy_migration_n_bins': 301, 'fov_offset_max': <Quantity 1. deg>, 'fov_offset_min': <Quantity 0. deg>, 'fov_offset_n_bins': 1, 'true_energy_max': <Quantity 500. TeV>, 'true_energy_min': <Quantity 0.05 TeV>, 'true_energy_n_bins_per_decade': 43}, 'EffectiveArea2dMaker': {'fov_offset_max': <Quantity 1. deg>, 'fov_offset_min': <Quantity 0. deg>, 'fov_offset_n_bins': 1, 'true_energy_max': <Quantity 500. TeV>, 'true_energy_min': <Quantity 0.05 TeV>, 'true_energy_n_bins_per_decade': 10}, 'AngularResolution2dMaker': {'fov_offset_max': <Quantity 1. deg>, 'fov_offset_min': <Quantity 0. deg>, 'fov_offset_n_bins': 1, 'reco_energy_max': <Quantity 500. TeV>, 'reco_energy_min': <Quantity 0.05 TeV>, 'reco_energy_n_bins_per_decade': 5, 'true_energy_max': <Quantity 500. TeV>, 'true_energy_min': <Quantity 0.05 TeV>, 'true_energy_n_bins_per_decade': 10, 'use_true_energy': False}, 'EnergyBiasResolution2dMaker': {'fov_offset_max': <Quantity 1. deg>, 'fov_offset_min': <Quantity 0. deg>, 'fov_offset_n_bins': 1, 'true_energy_max': <Quantity 500. TeV>, 'true_energy_min': <Quantity 0.05 TeV>, 'true_energy_n_bins_per_decade': 10}, 'Sensitivity2dMaker': {'alpha': 0.2, 'fov_offset_max': <Quantity 1. deg>, 'fov_offset_min': <Quantity 0. deg>, 'fov_offset_n_bins': 1, 'reco_energy_max': <Quantity 500. TeV>, 'reco_energy_min': <Quantity 0.05 TeV>, 'reco_energy_n_bins_per_decade': 5}}}' to activity: 'ctapipe-compute-irf'\n",
      "2025-01-06 09:01:47,374 \u001b[1;34mDEBUG\u001b[0m [ctapipe.ctapipe-compute-irf] (compute_irf.start): gammas Precuts: [('multiplicity', 'np.count_nonzero(CTLearn_telescopes,axis=1) == 2'), ('valid classifier', 'CTLearn_is_valid'), ('valid geom reco', 'CTLearn_is_valid'), ('valid energy reco', 'CTLearn_is_valid')]\n",
      "2025-01-06 09:01:47,397 \u001b[1;34mDEBUG\u001b[0m [ctapipe.core.provenance] (provenance.add_input_file): added input entity '/home/blacave/CTLearn/Data/DL2/Testing/gamma_point_50_300E3GeV_20_20deg_batch0.dl2.h5' to activity: 'ctapipe-compute-irf'\n",
      "2025-01-06 09:01:48,350 \u001b[1;34mDEBUG\u001b[0m [ctapipe.ctapipe-compute-irf] (compute_irf.start): Loaded 184342 gammas events\n",
      "2025-01-06 09:01:48,350 \u001b[1;34mDEBUG\u001b[0m [ctapipe.ctapipe-compute-irf] (compute_irf.start): protons Precuts: [('multiplicity', 'np.count_nonzero(CTLearn_telescopes,axis=1) == 2'), ('valid classifier', 'CTLearn_is_valid'), ('valid geom reco', 'CTLearn_is_valid'), ('valid energy reco', 'CTLearn_is_valid')]\n",
      "2025-01-06 09:01:48,376 \u001b[1;34mDEBUG\u001b[0m [ctapipe.core.provenance] (provenance.add_input_file): added input entity '/home/blacave/CTLearn/Data/DL2/Testing/proton_400_500E3GeV_20_20deg_batch5.dl2.h5' to activity: 'ctapipe-compute-irf'\n",
      "2025-01-06 09:01:51,458 \u001b[1;34mDEBUG\u001b[0m [ctapipe.ctapipe-compute-irf] (compute_irf.start): Loaded 773667 protons events\n",
      "2025-01-06 09:01:51,466 \u001b[1;32mINFO\u001b[0m [ctapipe.ctapipe-compute-irf] (compute_irf.calculate_selections): Keeping 20465 signal, 3836 proton events, and 0 electron events\n",
      "/home/blacave/miniforge3/envs/ctapipe-irf/lib/python3.11/site-packages/pyirf/irf/effective_area.py:29: RuntimeWarning: invalid value encountered in divide\n",
      "  return (n_selected / n_simulated) * area\n",
      "2025-01-06 09:01:51,510 \u001b[1;34mDEBUG\u001b[0m [ctapipe.ctapipe-compute-irf] (compute_irf._make_signal_irf_hdus): Currently multiple fov bins is not supported for RAD_MAX. Using `fov_offset_bins = [valid_offset.min, valid_offset.max]`.\n",
      "2025-01-06 09:01:51,639 \u001b[1;32mINFO\u001b[0m [ctapipe.ctapipe-compute-irf] (compute_irf.finish): Writing outputfile '/home/blacave/CTLearn/Data/CTLearn_Models_SST1M/IRFs/20deg70_stereo_IRFs.fits'\n",
      "2025-01-06 09:01:51,662 \u001b[1;34mDEBUG\u001b[0m [ctapipe.core.provenance] (provenance.add_output_file): added output entity '/home/blacave/CTLearn/Data/CTLearn_Models_SST1M/IRFs/20deg70_stereo_IRFs.fits' to activity: 'ctapipe-compute-irf'\n",
      "2025-01-06 09:01:51,662 \u001b[1;32mINFO\u001b[0m [ctapipe.ctapipe-compute-irf] (compute_irf.finish): Writing benchmark file to '/home/blacave/CTLearn/Data/CTLearn_Models_SST1M/IRFs/20deg70_stereo_IRFs.fits'\n",
      "2025-01-06 09:01:51,674 \u001b[1;34mDEBUG\u001b[0m [ctapipe.core.provenance] (provenance.add_output_file): added output entity '/home/blacave/CTLearn/Data/CTLearn_Models_SST1M/IRFs/20deg70_stereo_IRFs.fits' to activity: 'ctapipe-compute-irf'\n",
      "2025-01-06 09:01:51,674 \u001b[1;32mINFO\u001b[0m [ctapipe.ctapipe-compute-irf] (tool.run): Finished: ctapipe-compute-irf\n",
      "2025-01-06 09:01:51,681 \u001b[1;34mDEBUG\u001b[0m [ctapipe.core.provenance] (provenance.finish_activity): finished activity: ctapipe-compute-irf\n",
      "2025-01-06 09:01:51,681 \u001b[1;32mINFO\u001b[0m [ctapipe.ctapipe-compute-irf] (tool.write_provenance): Output: /home/blacave/CTLearn/Data/CTLearn_Models_SST1M/IRFs/20deg70_stereo_IRFs.fits /home/blacave/CTLearn/Data/CTLearn_Models_SST1M/IRFs/20deg70_stereo_IRFs.fits\n",
      "2025-01-06 09:01:51,681 \u001b[1;34mDEBUG\u001b[0m [ctapipe.ctapipe-compute-irf] (tool.write_provenance): PROVENANCE: 'Details about provenance is found in /home/blacave/CTLearn/Software/CTLearn-Manager/notebooks/ctapipe-compute-irf.provenance.log'\n",
      "2025-01-06 09:01:51,683 \u001b[1;34mDEBUG\u001b[0m [ctapipe.ctapipe-compute-irf] (application.exit): Exiting application: ctapipe-compute-irf\n"
     ]
    }
   ],
   "source": [
    "Stereo_Tri_Model.produce_irfs(20, 0)"
   ]
  },
  {
   "cell_type": "code",
   "execution_count": 3,
   "metadata": {},
   "outputs": [
    {
     "ename": "KeyError",
     "evalue": "\"Extension 'EFFECTIVE AREA' not found.\"",
     "output_type": "error",
     "traceback": [
      "\u001b[0;31m---------------------------------------------------------------------------\u001b[0m",
      "\u001b[0;31mKeyError\u001b[0m                                  Traceback (most recent call last)",
      "Cell \u001b[0;32mIn[3], line 1\u001b[0m\n\u001b[0;32m----> 1\u001b[0m \u001b[43mStereo_Tri_Model\u001b[49m\u001b[38;5;241;43m.\u001b[39;49m\u001b[43mplot_irfs\u001b[49m\u001b[43m(\u001b[49m\u001b[38;5;241;43m20\u001b[39;49m\u001b[43m,\u001b[49m\u001b[43m \u001b[49m\u001b[38;5;241;43m0\u001b[39;49m\u001b[43m)\u001b[49m\n",
      "File \u001b[0;32m~/miniforge3/envs/ctapipe-irf/lib/python3.11/site-packages/ctlearn_manager/__init__.py:1117\u001b[0m, in \u001b[0;36mCTLearnTriModelManager.plot_irfs\u001b[0;34m(self, zenith, azimuth)\u001b[0m\n\u001b[1;32m   1115\u001b[0m irf_file \u001b[38;5;241m=\u001b[39m \u001b[38;5;28mself\u001b[39m\u001b[38;5;241m.\u001b[39mdirection_model\u001b[38;5;241m.\u001b[39mget_IRF_data(zenith, azimuth)[\u001b[38;5;241m2\u001b[39m]\n\u001b[1;32m   1116\u001b[0m \u001b[38;5;66;03m# rad_max = RadMax2D.read(irf_file, hdu=\"RAD_MAX\")\u001b[39;00m\n\u001b[0;32m-> 1117\u001b[0m aeff \u001b[38;5;241m=\u001b[39m \u001b[43mEffectiveAreaTable2D\u001b[49m\u001b[38;5;241;43m.\u001b[39;49m\u001b[43mread\u001b[49m\u001b[43m(\u001b[49m\u001b[43mirf_file\u001b[49m\u001b[43m,\u001b[49m\u001b[43m \u001b[49m\u001b[43mhdu\u001b[49m\u001b[38;5;241;43m=\u001b[39;49m\u001b[38;5;124;43m\"\u001b[39;49m\u001b[38;5;124;43mEFFECTIVE AREA\u001b[39;49m\u001b[38;5;124;43m\"\u001b[39;49m\u001b[43m)\u001b[49m\n\u001b[1;32m   1118\u001b[0m bkg \u001b[38;5;241m=\u001b[39m Background2D\u001b[38;5;241m.\u001b[39mread(irf_file, hdu\u001b[38;5;241m=\u001b[39m\u001b[38;5;124m\"\u001b[39m\u001b[38;5;124mBACKGROUND\u001b[39m\u001b[38;5;124m\"\u001b[39m)\n\u001b[1;32m   1119\u001b[0m edisp \u001b[38;5;241m=\u001b[39m EnergyDispersion2D\u001b[38;5;241m.\u001b[39mread(irf_file, hdu\u001b[38;5;241m=\u001b[39m\u001b[38;5;124m\"\u001b[39m\u001b[38;5;124mENERGY DISPERSION\u001b[39m\u001b[38;5;124m\"\u001b[39m)\n",
      "File \u001b[0;32m~/miniforge3/envs/ctapipe-irf/lib/python3.11/site-packages/gammapy/irf/core.py:448\u001b[0m, in \u001b[0;36mIRF.read\u001b[0;34m(cls, filename, hdu, format)\u001b[0m\n\u001b[1;32m    431\u001b[0m \u001b[38;5;250m\u001b[39m\u001b[38;5;124;03m\"\"\"Read from file.\u001b[39;00m\n\u001b[1;32m    432\u001b[0m \n\u001b[1;32m    433\u001b[0m \u001b[38;5;124;03mParameters\u001b[39;00m\n\u001b[0;32m   (...)\u001b[0m\n\u001b[1;32m    445\u001b[0m \u001b[38;5;124;03m    IRF class.\u001b[39;00m\n\u001b[1;32m    446\u001b[0m \u001b[38;5;124;03m\"\"\"\u001b[39;00m\n\u001b[1;32m    447\u001b[0m \u001b[38;5;28;01mwith\u001b[39;00m fits\u001b[38;5;241m.\u001b[39mopen(\u001b[38;5;28mstr\u001b[39m(make_path(filename)), memmap\u001b[38;5;241m=\u001b[39m\u001b[38;5;28;01mFalse\u001b[39;00m) \u001b[38;5;28;01mas\u001b[39;00m hdulist:\n\u001b[0;32m--> 448\u001b[0m     \u001b[38;5;28;01mreturn\u001b[39;00m \u001b[38;5;28;43mcls\u001b[39;49m\u001b[38;5;241;43m.\u001b[39;49m\u001b[43mfrom_hdulist\u001b[49m\u001b[43m(\u001b[49m\u001b[43mhdulist\u001b[49m\u001b[43m,\u001b[49m\u001b[43m \u001b[49m\u001b[43mhdu\u001b[49m\u001b[38;5;241;43m=\u001b[39;49m\u001b[43mhdu\u001b[49m\u001b[43m)\u001b[49m\n",
      "File \u001b[0;32m~/miniforge3/envs/ctapipe-irf/lib/python3.11/site-packages/gammapy/irf/core.py:427\u001b[0m, in \u001b[0;36mIRF.from_hdulist\u001b[0;34m(cls, hdulist, hdu, format)\u001b[0m\n\u001b[1;32m    424\u001b[0m \u001b[38;5;28;01mif\u001b[39;00m hdu \u001b[38;5;129;01mis\u001b[39;00m \u001b[38;5;28;01mNone\u001b[39;00m:\n\u001b[1;32m    425\u001b[0m     hdu \u001b[38;5;241m=\u001b[39m IRF_DL3_HDU_SPECIFICATION[\u001b[38;5;28mcls\u001b[39m\u001b[38;5;241m.\u001b[39mtag][\u001b[38;5;124m\"\u001b[39m\u001b[38;5;124mextname\u001b[39m\u001b[38;5;124m\"\u001b[39m]\n\u001b[0;32m--> 427\u001b[0m \u001b[38;5;28;01mreturn\u001b[39;00m \u001b[38;5;28mcls\u001b[39m\u001b[38;5;241m.\u001b[39mfrom_table(Table\u001b[38;5;241m.\u001b[39mread(\u001b[43mhdulist\u001b[49m\u001b[43m[\u001b[49m\u001b[43mhdu\u001b[49m\u001b[43m]\u001b[49m), \u001b[38;5;28mformat\u001b[39m\u001b[38;5;241m=\u001b[39m\u001b[38;5;28mformat\u001b[39m)\n",
      "File \u001b[0;32m~/miniforge3/envs/ctapipe-irf/lib/python3.11/site-packages/astropy/io/fits/hdu/hdulist.py:391\u001b[0m, in \u001b[0;36mHDUList.__getitem__\u001b[0;34m(self, key)\u001b[0m\n\u001b[1;32m    386\u001b[0m \u001b[38;5;66;03m# Originally this used recursion, but hypothetically an HDU with\u001b[39;00m\n\u001b[1;32m    387\u001b[0m \u001b[38;5;66;03m# a very large number of HDUs could blow the stack, so use a loop\u001b[39;00m\n\u001b[1;32m    388\u001b[0m \u001b[38;5;66;03m# instead\u001b[39;00m\n\u001b[1;32m    389\u001b[0m \u001b[38;5;28;01mtry\u001b[39;00m:\n\u001b[1;32m    390\u001b[0m     \u001b[38;5;28;01mreturn\u001b[39;00m \u001b[38;5;28mself\u001b[39m\u001b[38;5;241m.\u001b[39m_try_while_unread_hdus(\n\u001b[0;32m--> 391\u001b[0m         \u001b[38;5;28msuper\u001b[39m()\u001b[38;5;241m.\u001b[39m\u001b[38;5;21m__getitem__\u001b[39m, \u001b[38;5;28;43mself\u001b[39;49m\u001b[38;5;241;43m.\u001b[39;49m\u001b[43m_positive_index_of\u001b[49m\u001b[43m(\u001b[49m\u001b[43mkey\u001b[49m\u001b[43m)\u001b[49m\n\u001b[1;32m    392\u001b[0m     )\n\u001b[1;32m    393\u001b[0m \u001b[38;5;28;01mexcept\u001b[39;00m \u001b[38;5;167;01mIndexError\u001b[39;00m \u001b[38;5;28;01mas\u001b[39;00m e:\n\u001b[1;32m    394\u001b[0m     \u001b[38;5;66;03m# Raise a more helpful IndexError if the file was not fully read.\u001b[39;00m\n\u001b[1;32m    395\u001b[0m     \u001b[38;5;28;01mif\u001b[39;00m \u001b[38;5;28mself\u001b[39m\u001b[38;5;241m.\u001b[39m_read_all:\n",
      "File \u001b[0;32m~/miniforge3/envs/ctapipe-irf/lib/python3.11/site-packages/astropy/io/fits/hdu/hdulist.py:857\u001b[0m, in \u001b[0;36mHDUList._positive_index_of\u001b[0;34m(self, key)\u001b[0m\n\u001b[1;32m    843\u001b[0m \u001b[38;5;28;01mdef\u001b[39;00m \u001b[38;5;21m_positive_index_of\u001b[39m(\u001b[38;5;28mself\u001b[39m, key):\n\u001b[1;32m    844\u001b[0m \u001b[38;5;250m    \u001b[39m\u001b[38;5;124;03m\"\"\"\u001b[39;00m\n\u001b[1;32m    845\u001b[0m \u001b[38;5;124;03m    Same as index_of, but ensures always returning a positive index\u001b[39;00m\n\u001b[1;32m    846\u001b[0m \u001b[38;5;124;03m    or zero.\u001b[39;00m\n\u001b[0;32m   (...)\u001b[0m\n\u001b[1;32m    855\u001b[0m \u001b[38;5;124;03m    inefficient.\u001b[39;00m\n\u001b[1;32m    856\u001b[0m \u001b[38;5;124;03m    \"\"\"\u001b[39;00m\n\u001b[0;32m--> 857\u001b[0m     index \u001b[38;5;241m=\u001b[39m \u001b[38;5;28;43mself\u001b[39;49m\u001b[38;5;241;43m.\u001b[39;49m\u001b[43mindex_of\u001b[49m\u001b[43m(\u001b[49m\u001b[43mkey\u001b[49m\u001b[43m)\u001b[49m\n\u001b[1;32m    859\u001b[0m     \u001b[38;5;28;01mif\u001b[39;00m index \u001b[38;5;241m>\u001b[39m\u001b[38;5;241m=\u001b[39m \u001b[38;5;241m0\u001b[39m:\n\u001b[1;32m    860\u001b[0m         \u001b[38;5;28;01mreturn\u001b[39;00m index\n",
      "File \u001b[0;32m~/miniforge3/envs/ctapipe-irf/lib/python3.11/site-packages/astropy/io/fits/hdu/hdulist.py:839\u001b[0m, in \u001b[0;36mHDUList.index_of\u001b[0;34m(self, key)\u001b[0m\n\u001b[1;32m    836\u001b[0m         \u001b[38;5;28;01mbreak\u001b[39;00m\n\u001b[1;32m    838\u001b[0m \u001b[38;5;28;01mif\u001b[39;00m found \u001b[38;5;129;01mis\u001b[39;00m \u001b[38;5;28;01mNone\u001b[39;00m:\n\u001b[0;32m--> 839\u001b[0m     \u001b[38;5;28;01mraise\u001b[39;00m \u001b[38;5;167;01mKeyError\u001b[39;00m(\u001b[38;5;124mf\u001b[39m\u001b[38;5;124m\"\u001b[39m\u001b[38;5;124mExtension \u001b[39m\u001b[38;5;132;01m{\u001b[39;00mkey\u001b[38;5;132;01m!r}\u001b[39;00m\u001b[38;5;124m not found.\u001b[39m\u001b[38;5;124m\"\u001b[39m)\n\u001b[1;32m    840\u001b[0m \u001b[38;5;28;01melse\u001b[39;00m:\n\u001b[1;32m    841\u001b[0m     \u001b[38;5;28;01mreturn\u001b[39;00m found\n",
      "\u001b[0;31mKeyError\u001b[0m: \"Extension 'EFFECTIVE AREA' not found.\""
     ]
    }
   ],
   "source": [
    "Stereo_Tri_Model.plot_irfs(20, 0)"
   ]
  },
  {
   "cell_type": "code",
   "execution_count": 8,
   "metadata": {},
   "outputs": [
    {
     "ename": "NameError",
     "evalue": "name 'edisp' is not defined",
     "output_type": "error",
     "traceback": [
      "\u001b[0;31m---------------------------------------------------------------------------\u001b[0m",
      "\u001b[0;31mNameError\u001b[0m                                 Traceback (most recent call last)",
      "Cell \u001b[0;32mIn[8], line 7\u001b[0m\n\u001b[1;32m      1\u001b[0m irf_filename \u001b[38;5;241m=\u001b[39m \u001b[38;5;124m\"\u001b[39m\u001b[38;5;124m/home/blacave/CTLearn/Data/CTLearn_Models_SST1M/IRFs/20deg70_stereo_IRFs.fits\u001b[39m\u001b[38;5;124m\"\u001b[39m\n\u001b[1;32m      3\u001b[0m \u001b[38;5;66;03m# rad_max = RadMax2D.read(irf_filename, hdu=\"RAD_MAX\")\u001b[39;00m\n\u001b[1;32m      4\u001b[0m \u001b[38;5;66;03m# aeff = EffectiveAreaTable2D.read(irf_filename, hdu=\"EFFECTIVE AREA\")\u001b[39;00m\n\u001b[1;32m      5\u001b[0m \u001b[38;5;66;03m# bkg = Background2D.read(irf_filename, hdu=\"BACKGROUND\")\u001b[39;00m\n\u001b[1;32m      6\u001b[0m \u001b[38;5;66;03m# edisp = EnergyDispersion2D.read(irf_filename, hdu=\"ENERGY DISPERSION\")\u001b[39;00m\n\u001b[0;32m----> 7\u001b[0m \u001b[43medisp\u001b[49m\u001b[38;5;241m.\u001b[39mpeek()\n\u001b[1;32m      8\u001b[0m aeff\u001b[38;5;241m.\u001b[39mpeek()\n\u001b[1;32m      9\u001b[0m bkg\u001b[38;5;241m.\u001b[39mpeek()\n",
      "\u001b[0;31mNameError\u001b[0m: name 'edisp' is not defined"
     ]
    }
   ],
   "source": [
    "irf_filename = \"/home/blacave/CTLearn/Data/CTLearn_Models_SST1M/IRFs/20deg70_stereo_IRFs.fits\"\n",
    "\n",
    "rad_max = RadMax2D.read(irf_filename, hdu=\"RAD_MAX\")\n",
    "aeff = EffectiveAreaTable2D.read(irf_filename, hdu=\"EFFECTIVE AREA\")\n",
    "bkg = Background2D.read(irf_filename, hdu=\"BACKGROUND\")\n",
    "edisp = EnergyDispersion2D.read(irf_filename, hdu=\"ENERGY DISPERSION\")\n",
    "edisp.peek()\n",
    "aeff.peek()\n",
    "bkg.peek()\n",
    "aeff"
   ]
  },
  {
   "cell_type": "code",
   "execution_count": 12,
   "metadata": {},
   "outputs": [
    {
     "name": "stdout",
     "output_type": "stream",
     "text": [
      "Filename: /home/blacave/CTLearn/Data/CTLearn_Models_SST1M/IRFs/20deg70_stereo_IRFs.fits\n",
      "No.    Name      Ver    Type      Cards   Dimensions   Format\n",
      "  0  PRIMARY       1 PrimaryHDU       4   ()      \n",
      "  1  ENERGY BIAS RESOLUTION    1 BinTableHDU     34   1R x 7C   [40D, 40D, D, D, 40D, 40D, 40D]   \n",
      "  2  ANGULAR RESOLUTION    1 BinTableHDU     33   1R x 6C   [20D, 20D, D, D, 20D, 20D]   \n",
      "  3  SENSITIVITY    1 BinTableHDU     52   1R x 12C   [20D, 20D, D, D, 20D, 20D, 20D, 20D, 20D, 20D, 20D, 20D]   \n"
     ]
    },
    {
     "data": {
      "text/plain": [
       "FITS_rec([([5.00000000e-02, 7.92446596e-02, 1.25594322e-01, 1.99053585e-01, 3.15478672e-01, 5.00000000e-01, 7.92446596e-01, 1.25594322e+00, 1.99053585e+00, 3.15478672e+00, 5.00000000e+00, 7.92446596e+00, 1.25594322e+01, 1.99053585e+01, 3.15478672e+01, 5.00000000e+01, 7.92446596e+01, 1.25594322e+02, 1.99053585e+02, 3.15478672e+02], [7.92446596e-02, 1.25594322e-01, 1.99053585e-01, 3.15478672e-01, 5.00000000e-01, 7.92446596e-01, 1.25594322e+00, 1.99053585e+00, 3.15478672e+00, 5.00000000e+00, 7.92446596e+00, 1.25594322e+01, 1.99053585e+01, 3.15478672e+01, 5.00000000e+01, 7.92446596e+01, 1.25594322e+02, 1.99053585e+02, 3.15478672e+02, 5.00000000e+02], [0.], [1.], [[          nan,           nan,           nan,           nan,           nan,           nan,  307.30025587,  406.7511208 ,  313.32306671,  347.85884917,  397.70904212,  402.49831695,  487.47667283,  615.72662164,  784.4834712 , 1030.985837  , 1366.32963908, 1689.55985999,           nan,           nan]], [[        nan,         nan,         nan,         nan,         nan,         nan, 37.80516621, 39.25923648, 22.54546891, 18.51951503, 15.80263847, 11.95149669, 10.90519964, 10.37845554, 10.        , 10.        , 10.        , 10.        ,         nan,         nan]], [[0.        , 0.        , 0.        , 0.        , 0.        , 0.        , 3.06923553, 3.91952372, 1.20276578, 0.88396761, 0.71764696, 0.34199028, 0.35125255, 0.31614739, 0.24544593, 0.27469918, 0.26769572, 0.15430381, 0.        , 0.        ]], [[  0.        ,   0.        ,   0.        ,   0.        ,   0.        ,   0.        , 171.31774065, 187.18467334,  47.19641003,  27.32578753,  16.93950086,   6.37102677,   4.33805278,   3.45010546,   1.8564989 ,   1.54120697,   1.09313846,   0.49472921,   0.        ,   0.        ]], [[       nan,        nan,        nan,        nan,        nan,        nan, 5.        , 5.        , 5.        , 5.        , 5.        , 5.        , 5.        , 5.        , 5.237171  , 5.3237083 , 5.46180543, 5.68968143,        nan,        nan]], [[       inf,        inf,        inf,        inf,        inf,        inf, 0.70970036, 0.19069438, 0.11385286, 0.12508409, 0.1568872 , 0.17186094, 0.24459442, 0.36980578, 0.53041479, 0.84715352, 1.63046496, 5.68875374,        inf,        inf]], [[           inf,            inf,            inf,            inf,            inf,            inf, 1.17746668e-11, 9.46698094e-13, 1.69128789e-13, 5.56001120e-14, 2.08670521e-14, 6.83991615e-15, 2.91286354e-15, 1.31779329e-15, 5.65573723e-16, 2.70293574e-16, 1.55662883e-16, 1.62513983e-16,            inf,            inf]], [[           inf,            inf,            inf,            inf,            inf,            inf, 3.17055021e-11, 6.40320658e-12, 2.87344937e-12, 2.37280297e-12, 2.23690279e-12, 1.84177591e-12, 1.97018111e-12, 2.23889282e-12, 2.41365522e-12, 2.89748857e-12, 4.19151554e-12, 1.09920006e-11,            inf,            inf]])],\n",
       "         dtype=(numpy.record, [('ENERG_LO', '>f8', (20,)), ('ENERG_HI', '>f8', (20,)), ('THETA_LO', '>f8', (1,)), ('THETA_HI', '>f8', (1,)), ('N_SIGNAL', '>f8', (1, 20)), ('N_SIGNAL_WEIGHTED', '>f8', (1, 20)), ('N_BACKGROUND', '>f8', (1, 20)), ('N_BACKGROUND_WEIGHTED', '>f8', (1, 20)), ('SIGNIFICANCE', '>f8', (1, 20)), ('RELATIVE_SENSITIVITY', '>f8', (1, 20)), ('FLUX_SENSITIVITY', '>f8', (1, 20)), ('ENERGY_FLUX_SENSITIVITY', '>f8', (1, 20))]))"
      ]
     },
     "execution_count": 12,
     "metadata": {},
     "output_type": "execute_result"
    }
   ],
   "source": [
    "hudl = fits.open(irf_filename)\n",
    "hudl.info()\n",
    "hudl['SENSITIVITY'].data"
   ]
  }
 ],
 "metadata": {
  "kernelspec": {
   "display_name": "ctapipe-irf",
   "language": "python",
   "name": "python3"
  },
  "language_info": {
   "codemirror_mode": {
    "name": "ipython",
    "version": 3
   },
   "file_extension": ".py",
   "mimetype": "text/x-python",
   "name": "python",
   "nbconvert_exporter": "python",
   "pygments_lexer": "ipython3",
   "version": "3.11.11"
  }
 },
 "nbformat": 4,
 "nbformat_minor": 2
}
