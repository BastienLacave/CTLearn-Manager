{
 "cells": [
  {
   "cell_type": "code",
   "execution_count": 1,
   "metadata": {},
   "outputs": [
    {
     "name": "stdout",
     "output_type": "stream",
     "text": [
      "🔧 Using cluster None with account None and python environment ctlearn-cluster\n",
      "🔧 Using cluster None with account None and python environment ctlearn-cluster\n"
     ]
    }
   ],
   "source": [
    "from ctlearn_manager.tri_model import CTLearnTriModelManager\n",
    "from ctlearn_manager.io.io import load_model_from_index"
   ]
  },
  {
   "cell_type": "code",
   "execution_count": 2,
   "metadata": {},
   "outputs": [
    {
     "name": "stdout",
     "output_type": "stream",
     "text": [
      "🧠 Model name: energy_stereo_20deg\n",
      "🧠 Model name: direction_stereo_20deg\n",
      "🧠 Model name: type_stereo_20deg\n"
     ]
    }
   ],
   "source": [
    "MODEL_INDEX_FILE = \"/home/blacave/CTLearn/Software/CTLearn-Manager/ctearn_models_index.h5\"\n",
    "energy_model = load_model_from_index(\"energy_stereo_20deg\", MODEL_INDEX_FILE)\n",
    "direction_model = load_model_from_index(\"direction_stereo_20deg\", MODEL_INDEX_FILE)\n",
    "type_model = load_model_from_index(\"type_stereo_20deg\", MODEL_INDEX_FILE)\n",
    "Stereo_Tri_Model = CTLearnTriModelManager(direction_model=direction_model, energy_model=energy_model, type_model=type_model)"
   ]
  },
  {
   "cell_type": "markdown",
   "metadata": {},
   "source": [
    "# 🔀 If you have multiple testing files for same position, merge them"
   ]
  },
  {
   "cell_type": "code",
   "execution_count": 3,
   "metadata": {},
   "outputs": [
    {
     "name": "stdout",
     "output_type": "stream",
     "text": [
      "✅ There already is a single gamma file for zenith 20 and azimuth 0\n",
      "✅ There already is a single proton file for zenith 20 and azimuth 0\n"
     ]
    }
   ],
   "source": [
    "Stereo_Tri_Model.merge_DL2_files(20, 0, \"/home/blacave/CTLearn/Data/DL2/Testing/merged/gamma_point_50_300E3GeV_20_20deg.h5\", \"/home/blacave/CTLearn/Data/DL2/Testing/merged/proton_diffuse_400_500E3GeV_20_20deg.h5\", overwrite=True)"
   ]
  },
  {
   "cell_type": "markdown",
   "metadata": {},
   "source": [
    "# 📡 Produce the IRFs"
   ]
  },
  {
   "cell_type": "code",
   "execution_count": 4,
   "metadata": {},
   "outputs": [],
   "source": [
    "config = \"/home/blacave/CTLearn/Software/CTLearn-Manager/src/ctlearn_manager/resources/public-conf.yml\"\n",
    "output_cuts_file=\"/home/blacave/CTLearn/Data/CTLearn_Models_SST1M/IRFs/20deg70_stereo_cuts.fits\"\n",
    "output_irf_file=\"/home/blacave/CTLearn/Data/CTLearn_Models_SST1M/IRFs/20deg70_stereo_IRFs.fits\"\n",
    "output_benchmark_file=\"/home/blacave/CTLearn/Data/CTLearn_Models_SST1M/IRFs/20deg70_stereo_benchmark.fits\""
   ]
  },
  {
   "cell_type": "code",
   "execution_count": 5,
   "metadata": {},
   "outputs": [
    {
     "name": "stdout",
     "output_type": "stream",
     "text": [
      "💾 Model direction_stereo_20deg IRF data update:\n",
      "\t➡️ IRF data updated\n",
      "💾 Model energy_stereo_20deg IRF data update:\n",
      "\t➡️ IRF data updated\n",
      "💾 Model type_stereo_20deg IRF data update:\n",
      "\t➡️ IRF data updated\n"
     ]
    },
    {
     "name": "stderr",
     "output_type": "stream",
     "text": [
      "2025-02-13 09:33:03,728 \u001b[1;33mWARNING\u001b[0m [ctapipe.ctapipe-optimize-event-selection] (optimize_event_selection.setup): Optimizing cuts without electron file.\n",
      "2025-02-13 09:33:06,171 \u001b[1;31mERROR\u001b[0m [ctapipe.ctapipe-optimize-event-selection] (tool.run): Caught unexpected exception: Error evaluating expression '('multiplicity 4', 'np.count_nonzero(HillasReconstructor_telescopes,axis=1) >= 4')': name 'HillasReconstructor_telescopes' is not defined\n",
      "Traceback (most recent call last):\n",
      "  File \"/home/blacave/CTLearn/Software/ctapipe/src/ctapipe/core/tool.py\", line 439, in run\n",
      "    self.start()\n",
      "  File \"/home/blacave/CTLearn/Software/ctapipe/src/ctapipe/tools/optimize_event_selection.py\", line 150, in start\n",
      "    events, count, meta = loader.load_preselected_events(\n",
      "  File \"/home/blacave/CTLearn/Software/ctapipe/src/ctapipe/irf/preprocessing.py\", line 227, in load_preselected_events\n",
      "    selected = events[self.epp.quality_query.get_table_mask(events)]\n",
      "  File \"/home/blacave/CTLearn/Software/ctapipe/src/ctapipe/core/qualityquery.py\", line 138, in get_table_mask\n",
      "    for i, res in enumerate(self.engine(table), start=1):\n",
      "  File \"/home/blacave/CTLearn/Software/ctapipe/src/ctapipe/core/expression_engine.py\", line 44, in __call__\n",
      "    raise ExpressionError(\n",
      "ctapipe.core.expression_engine.ExpressionError: Error evaluating expression '('multiplicity 4', 'np.count_nonzero(HillasReconstructor_telescopes,axis=1) >= 4')': name 'HillasReconstructor_telescopes' is not defined\n",
      "2025-02-13 09:33:12,005 \u001b[1;33mWARNING\u001b[0m [ctapipe.ctapipe-compute-irf] (compute_irf.setup): Estimating background without electron file.\n",
      "2025-02-13 09:33:12,009 \u001b[1;33mWARNING\u001b[0m [ctapipe.irf.binning] (binning.check_bins_in_range): Valid range for background reco energy is [0.015] to [150.], got [5.0000e-02 7.9245e-02 ... 3.1548e+02 5.0000e+02]\n",
      "2025-02-13 09:33:12,021 \u001b[1;33mWARNING\u001b[0m [ctapipe.irf.binning] (binning.check_bins_in_range): Valid range for Sensitivity reco energy is [0.015] to [150.], got [5.0000e-02 7.9245e-02 ... 3.1548e+02 5.0000e+02]\n",
      "2025-02-13 09:33:12,105 \u001b[1;31mERROR\u001b[0m [ctapipe.ctapipe-compute-irf] (tool.run): Caught unexpected exception: G/H cuts are only valid for gammaness scores predicted by the same classifier model. Requested model: RandomForestClassifier. Model used for g/h cuts: CTLearn.\n",
      "Traceback (most recent call last):\n",
      "  File \"/home/blacave/CTLearn/Software/ctapipe/src/ctapipe/core/tool.py\", line 439, in run\n",
      "    self.start()\n",
      "  File \"/home/blacave/CTLearn/Software/ctapipe/src/ctapipe/tools/compute_irf.py\", line 463, in start\n",
      "    raise RuntimeError(\n",
      "RuntimeError: G/H cuts are only valid for gammaness scores predicted by the same classifier model. Requested model: RandomForestClassifier. Model used for g/h cuts: CTLearn.\n"
     ]
    }
   ],
   "source": [
    "Stereo_Tri_Model.produce_irfs(20, 0, \n",
    "                              config=config, \n",
    "                              output_cuts_file=output_cuts_file, \n",
    "                              output_irf_file=output_irf_file,\n",
    "                              output_benchmark_file=output_benchmark_file,\n",
    "                              )"
   ]
  },
  {
   "cell_type": "markdown",
   "metadata": {},
   "source": [
    "# 📉 Plot benchmark and IRFs"
   ]
  },
  {
   "cell_type": "code",
   "execution_count": null,
   "metadata": {},
   "outputs": [],
   "source": [
    "Stereo_Tri_Model.plot_benchmark(20, 0)"
   ]
  },
  {
   "cell_type": "code",
   "execution_count": null,
   "metadata": {},
   "outputs": [],
   "source": [
    "Stereo_Tri_Model.plot_irfs(20, 0)"
   ]
  }
 ],
 "metadata": {
  "kernelspec": {
   "display_name": "ctlearn-cluster",
   "language": "python",
   "name": "python3"
  },
  "language_info": {
   "codemirror_mode": {
    "name": "ipython",
    "version": 3
   },
   "file_extension": ".py",
   "mimetype": "text/x-python",
   "name": "python",
   "nbconvert_exporter": "python",
   "pygments_lexer": "ipython3",
   "version": "3.10.15"
  }
 },
 "nbformat": 4,
 "nbformat_minor": 2
}
