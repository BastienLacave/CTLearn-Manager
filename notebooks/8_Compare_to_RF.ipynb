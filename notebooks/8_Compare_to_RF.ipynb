{
 "cells": [
  {
   "cell_type": "code",
   "execution_count": 1,
   "metadata": {},
   "outputs": [
    {
     "name": "stdout",
     "output_type": "stream",
     "text": [
      "🔧 Using cluster lst-cluster with account aswg and python environment ctlearn\n",
      "🔧 Using cluster lst-cluster with account aswg and python environment ctlearn\n",
      "🔧 Using cluster lst-cluster with account aswg and python environment ctlearn\n"
     ]
    }
   ],
   "source": [
    "from ctlearn_manager.tri_model import CTLearnTriModelManager\n",
    "from ctlearn_manager.io.io import load_model_from_index, load_DL2_data_RF\n",
    "from ctlearn_manager.utils.DL2_processing import DL2DataProcessor\n",
    "from ctlearn_manager.utils.RF_counterpart import RFCounterpart, LazyRFCounterpart\n",
    "from ctlearn_manager.utils.utils import ClusterConfiguration\n",
    "import astropy.units as u"
   ]
  },
  {
   "cell_type": "code",
   "execution_count": null,
   "metadata": {},
   "outputs": [
    {
     "name": "stdout",
     "output_type": "stream",
     "text": [
      "🧠 Model name: LST1_energy_CRABdec_4\n",
      "🧠 Model name: LST1_direction_CRABdec_4\n",
      "🧠 Model name: LST1_type_CRABdec_4\n"
     ]
    }
   ],
   "source": [
    "MODEL_INDEX_FILE = \"/home/bastien.lacave/PhD/Analysis/CTLearnManager/ctlearn_models_index.h5\"\n",
    "i = 4\n",
    "cluster_config = ClusterConfiguration(python_env='ctlearn', partition='short', time='2:00:00', use_cluster=True)\n",
    "energy_model = load_model_from_index(f\"LST1_energy_CRABdec_{i}\", MODEL_INDEX_FILE)\n",
    "direction_model = load_model_from_index(f\"LST1_direction_CRABdec_{i}\", MODEL_INDEX_FILE)\n",
    "type_model = load_model_from_index(f\"LST1_type_CRABdec_{i}\", MODEL_INDEX_FILE)\n",
    "Stereo_Tri_Model = CTLearnTriModelManager(direction_model=direction_model, energy_model=energy_model, type_model=type_model, cluster_configuration=cluster_config)"
   ]
  },
  {
   "cell_type": "code",
   "execution_count": null,
   "metadata": {},
   "outputs": [
    {
     "name": "stdout",
     "output_type": "stream",
     "text": [
      "Preprocessing DL2 (~50min/run), only once\n"
     ]
    },
    {
     "name": "stderr",
     "output_type": "stream",
     "text": [
      "Loading processed data:   0%|          | 0/2 [00:00<?, ?it/s]"
     ]
    },
    {
     "name": "stderr",
     "output_type": "stream",
     "text": [
      "Loading processed data: 100%|██████████| 2/2 [00:06<00:00,  3.37s/it]\n"
     ]
    },
    {
     "name": "stdout",
     "output_type": "stream",
     "text": [
      "[2929, 3232]\n",
      "Preprocessing DL2 (~50min/run), only once\n",
      "[NOT USING SLURM] Processing /fefs/aswg/data/real/DL2/20201118/v0.10/tailcut84/nsb_tuning_0.22/dl2_LST-1.Run02929.h5\n",
      "🔧 Using cluster lst-cluster with account aswg and python environment ctlearn\n",
      "🔧 Using cluster lst-cluster with account aswg and python environment ctlearn\n",
      "🔧 Using cluster lst-cluster with account aswg and python environment ctlearn\n",
      "Loading processed DL2 data from /home/bastien.lacave/PhD/data/RF/dl2_LST-1.Run02929_dl2_processed.pkl\n",
      "2064 events after cuts\n",
      "Computing sky positions...\n"
     ]
    }
   ],
   "source": [
    "import glob\n",
    "dl2_files_tjark = glob.glob(\"/fefs/aswg/workspace/tjark.miener/DeepCrab_new/DL2/real/dl2_LST-1.Run0*.h5\")\n",
    "dl2_files_bastien = glob.glob(\"/fefs/aswg/workspace/bastien.lacave/ctlearnLSTData/DL2_Multimodels/03232/LST-1.Run03232.*.dl2.h5\")\n",
    "# print(len(dl2_files_bastien))\n",
    "# Theta2plot = DL2DataProcessor(dl2_files_tjark, Stereo_Tri_Model, gammaness_cut=0.9, dl2_processed_dir=\"/home/bastien.lacave/PhD/data/CTLearn/Tjark/\")\n",
    "# Theta2plot = DL2DataProcessor(dl2_files_bastien, Stereo_Tri_Model, gammaness_cut=0.9, dl2_processed_dir=\"/fefs/aswg/workspace/bastien.lacave/ctlearnLSTData/DL2_Multimodels/03232/\")\n",
    "DL2Processor = DL2DataProcessor([\n",
    "    '/fefs/aswg/workspace/tjark.miener/DeepCrab_new/DL2/real/dl2_LST-1.Run02929.h5',\n",
    "    '/fefs/aswg/workspace/tjark.miener/DeepCrab_new/DL2/real/dl2_LST-1.Run03232.h5',\n",
    "    ], Stereo_Tri_Model, gammaness_cut=0.9, dl2_processed_dir=\"/home/bastien.lacave/PhD/data/CTLearn/Tjark/\")\n",
    "# runs = [2929, 3232]\n",
    "RFDL2Processor = LazyRFCounterpart(DL2Processor, dl2_processed_dir=\"/home/bastien.lacave/PhD/data/RF/\")\n",
    "\n"
   ]
  }
 ],
 "metadata": {
  "kernelspec": {
   "display_name": "ctlearn",
   "language": "python",
   "name": "python3"
  },
  "language_info": {
   "codemirror_mode": {
    "name": "ipython",
    "version": 3
   },
   "file_extension": ".py",
   "mimetype": "text/x-python",
   "name": "python",
   "nbconvert_exporter": "python",
   "pygments_lexer": "ipython3",
   "version": "3.10.13"
  }
 },
 "nbformat": 4,
 "nbformat_minor": 2
}
