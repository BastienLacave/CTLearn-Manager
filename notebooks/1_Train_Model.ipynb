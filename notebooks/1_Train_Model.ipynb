{
 "cells": [
  {
   "cell_type": "code",
   "execution_count": 1,
   "metadata": {},
   "outputs": [],
   "source": [
    "from ctlearn_manager.io.io import load_model_from_index"
   ]
  },
  {
   "cell_type": "markdown",
   "metadata": {},
   "source": [
    "# 🧠 Load `CTLearnModelManager`\n",
    "`CTLearnModelManager` is an object that allows you to setup and train a CTLearn model"
   ]
  },
  {
   "cell_type": "code",
   "execution_count": 2,
   "metadata": {},
   "outputs": [
    {
     "name": "stdout",
     "output_type": "stream",
     "text": [
      "🧠 Model name: energy_tel1_20deg\n"
     ]
    }
   ],
   "source": [
    "MODEL_INDEX_FILE = \"/home/blacave/CTLearn/Software/CTLearn-Manager/ctearn_models_index.h5\"\n",
    "model = load_model_from_index(\"energy_tel1_20deg\", MODEL_INDEX_FILE)\n",
    "# model.info()"
   ]
  },
  {
   "cell_type": "markdown",
   "metadata": {},
   "source": [
    "# 🚀 Launch training"
   ]
  },
  {
   "cell_type": "code",
   "execution_count": null,
   "metadata": {},
   "outputs": [
    {
     "name": "stdout",
     "output_type": "stream",
     "text": [
      "📊 Model trained for 0 epochs\n",
      "🚀 Launching training for 15 epochs\n",
      "🆕 Model does not exist: will create energy_tel1_20deg_v0\n",
      "--pattern-signal \"gamma_diffuse*.h5\" \n",
      "--pattern-signal \"gamma_diffuse*.h5\" \n",
      "Configuration saved to /home/blacave/CTLearn/Data/CTLearn_Models_SST1M//energy_tel1_20deg_v0//config.json\n",
      "ctlearn-train-model  --TrainCTLearnModel.batch_size=64 --signal /home/blacave/CTLearn/Data/DL1/SST1M/MC/Gamma_diffuse/20deg/merged/training/ --pattern-signal \"gamma_diffuse*.h5\"  --output /home/blacave/CTLearn/Data/CTLearn_Models_SST1M//energy_tel1_20deg_v0/ --config /home/blacave/CTLearn/Data/CTLearn_Models_SST1M//energy_tel1_20deg_v0//config.json --overwrite --verbose\n"
     ]
    },
    {
     "name": "stderr",
     "output_type": "stream",
     "text": [
      "2025-01-09 12:09:22.725585: E tensorflow/compiler/xla/stream_executor/cuda/cuda_dnn.cc:9342] Unable to register cuDNN factory: Attempting to register factory for plugin cuDNN when one has already been registered\n",
      "2025-01-09 12:09:22.725668: E tensorflow/compiler/xla/stream_executor/cuda/cuda_fft.cc:609] Unable to register cuFFT factory: Attempting to register factory for plugin cuFFT when one has already been registered\n",
      "2025-01-09 12:09:22.725717: E tensorflow/compiler/xla/stream_executor/cuda/cuda_blas.cc:1518] Unable to register cuBLAS factory: Attempting to register factory for plugin cuBLAS when one has already been registered\n",
      "2025-01-09 12:09:22.751871: I tensorflow/core/platform/cpu_feature_guard.cc:182] This TensorFlow binary is optimized to use available CPU instructions in performance-critical operations.\n",
      "To enable the following instructions: AVX2 FMA, in other operations, rebuild TensorFlow with the appropriate compiler flags.\n",
      "2025-01-09 12:09:32,475 \u001b[1;32mINFO\u001b[0m [ctlearn.ctlearn-train-model] (tool.initialize): Loading config from '[PosixPath('/home/blacave/CTLearn/Data/CTLearn_Models_SST1M/energy_tel1_20deg_v0/config.json')]'\n",
      "2025-01-09 12:09:32,475 \u001b[1;34mDEBUG\u001b[0m [ctlearn.ctlearn-train-model] (application._load_config_files): Looking for /home/blacave/CTLearn/Data/CTLearn_Models_SST1M/energy_tel1_20deg_v0/config in /home/blacave/CTLearn/Software/CTLearn-Manager/notebooks\n",
      "2025-01-09 12:09:32,475 \u001b[1;34mDEBUG\u001b[0m [ctlearn.ctlearn-train-model] (application._load_config_files): Loaded config file: /home/blacave/CTLearn/Data/CTLearn_Models_SST1M/energy_tel1_20deg_v0/config.json\n",
      "2025-01-09 12:09:32,478 \u001b[1;32mINFO\u001b[0m [ctlearn.ctlearn-train-model] (tool.initialize): ctapipe version 0.23.0\n",
      "2025-01-09 12:09:32,478 \u001b[1;32mINFO\u001b[0m [ctlearn.ctlearn-train-model] (train_model.setup): Removing existing output directory /home/blacave/CTLearn/Data/CTLearn_Models_SST1M/energy_tel1_20deg_v0\n",
      "2025-01-09 12:09:32.840637: I tensorflow/compiler/xla/stream_executor/cuda/cuda_gpu_executor.cc:880] could not open file to read NUMA node: /sys/bus/pci/devices/0000:26:00.0/numa_node\n",
      "Your kernel may have been built without NUMA support.\n",
      "2025-01-09 12:09:32.859666: I tensorflow/compiler/xla/stream_executor/cuda/cuda_gpu_executor.cc:880] could not open file to read NUMA node: /sys/bus/pci/devices/0000:26:00.0/numa_node\n",
      "Your kernel may have been built without NUMA support.\n",
      "2025-01-09 12:09:32.859809: I tensorflow/compiler/xla/stream_executor/cuda/cuda_gpu_executor.cc:880] could not open file to read NUMA node: /sys/bus/pci/devices/0000:26:00.0/numa_node\n",
      "Your kernel may have been built without NUMA support.\n",
      "2025-01-09 12:09:32.862407: I tensorflow/compiler/xla/stream_executor/cuda/cuda_gpu_executor.cc:880] could not open file to read NUMA node: /sys/bus/pci/devices/0000:26:00.0/numa_node\n",
      "Your kernel may have been built without NUMA support.\n",
      "2025-01-09 12:09:32.862495: I tensorflow/compiler/xla/stream_executor/cuda/cuda_gpu_executor.cc:880] could not open file to read NUMA node: /sys/bus/pci/devices/0000:26:00.0/numa_node\n",
      "Your kernel may have been built without NUMA support.\n",
      "2025-01-09 12:09:32.862529: I tensorflow/compiler/xla/stream_executor/cuda/cuda_gpu_executor.cc:880] could not open file to read NUMA node: /sys/bus/pci/devices/0000:26:00.0/numa_node\n",
      "Your kernel may have been built without NUMA support.\n",
      "2025-01-09 12:09:33.181293: I tensorflow/compiler/xla/stream_executor/cuda/cuda_gpu_executor.cc:880] could not open file to read NUMA node: /sys/bus/pci/devices/0000:26:00.0/numa_node\n",
      "Your kernel may have been built without NUMA support.\n",
      "2025-01-09 12:09:33.181399: I tensorflow/compiler/xla/stream_executor/cuda/cuda_gpu_executor.cc:880] could not open file to read NUMA node: /sys/bus/pci/devices/0000:26:00.0/numa_node\n",
      "Your kernel may have been built without NUMA support.\n",
      "2025-01-09 12:09:33.181413: I tensorflow/core/common_runtime/gpu/gpu_device.cc:1977] Could not identify NUMA node of platform GPU id 0, defaulting to 0.  Your kernel may not have been built with NUMA support.\n",
      "2025-01-09 12:09:33.181516: I tensorflow/compiler/xla/stream_executor/cuda/cuda_gpu_executor.cc:880] could not open file to read NUMA node: /sys/bus/pci/devices/0000:26:00.0/numa_node\n",
      "Your kernel may have been built without NUMA support.\n",
      "2025-01-09 12:09:33.181560: I tensorflow/core/common_runtime/gpu/gpu_device.cc:1886] Created device /job:localhost/replica:0/task:0/device:GPU:0 with 9517 MB memory:  -> device: 0, name: NVIDIA GeForce RTX 4070 SUPER, pci bus id: 0000:26:00.0, compute capability: 8.9\n",
      "2025-01-09 12:09:33,548 \u001b[1;32mINFO\u001b[0m [ctlearn.ctlearn-train-model] (train_model.setup): Number of devices: 1\n",
      "2025-01-09 12:09:33,549 \u001b[1;32mINFO\u001b[0m [ctlearn.ctlearn-train-model] (train_model.setup): Loading data:\n",
      "2025-01-09 12:09:33,549 \u001b[1;32mINFO\u001b[0m [ctlearn.ctlearn-train-model] (train_model.setup):   For a large dataset, this may take a while...\n",
      "/home/blacave/miniforge3/envs/ctlearn-cluster/lib/python3.10/site-packages/ctapipe/coordinates/__init__.py:62: MissingFrameAttributeWarning: AltAz coordinate has no obstime, assuming same frame\n",
      "  warnings.warn(\n",
      "/home/blacave/miniforge3/envs/ctlearn-cluster/lib/python3.10/site-packages/ctapipe/coordinates/__init__.py:70: MissingFrameAttributeWarning: AltAz coordinate has no location, assuming same frame\n",
      "  warnings.warn(\n"
     ]
    }
   ],
   "source": [
    "model.launch_training(n_epochs=15)"
   ]
  }
 ],
 "metadata": {
  "kernelspec": {
   "display_name": "ctlearn-cluster",
   "language": "python",
   "name": "python3"
  },
  "language_info": {
   "codemirror_mode": {
    "name": "ipython",
    "version": 3
   },
   "file_extension": ".py",
   "mimetype": "text/x-python",
   "name": "python",
   "nbconvert_exporter": "python",
   "pygments_lexer": "ipython3",
   "version": "3.10.15"
  }
 },
 "nbformat": 4,
 "nbformat_minor": 2
}
