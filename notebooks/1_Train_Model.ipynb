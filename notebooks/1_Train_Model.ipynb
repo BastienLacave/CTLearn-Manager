{
 "cells": [
  {
   "cell_type": "code",
   "execution_count": 1,
   "metadata": {},
   "outputs": [],
   "source": [
    "from ctlearn_manager import CTLearnModelManager, CTLearnTriModelManager\n",
    "from ctlearn_manager.io import load_model_from_index"
   ]
  },
  {
   "cell_type": "markdown",
   "metadata": {},
   "source": [
    "# 🧠 Load `CTLearnModelManager`\n",
    "`CTLearnModelManager` is an object that allows you to setup and train a CTLearn model"
   ]
  },
  {
   "cell_type": "code",
   "execution_count": 2,
   "metadata": {},
   "outputs": [
    {
     "name": "stdout",
     "output_type": "stream",
     "text": [
      "🧠 Model name: type_TEL1_2_ZD20_Az0\n",
      "Model nickname: type_stereo_20deg\n",
      "Model name: type_TEL1_2_ZD20_Az0\n",
      "Model directory: /home/blacave/CTLearn/Data/CTLearn_Models_SST1M/\n",
      "Reco: type\n",
      "Telescope names: ['SST1M_1', 'SST1M_2']\n",
      "Telescope indices: [1, 2]\n",
      "Training gamma dirs: ['/home/blacave/CTLearn/Data/DL1/SST1M/MC/Gamma_diffuse/20deg/merged/training/']\n",
      "Training proton dirs: ['/home/blacave/CTLearn/Data/DL1/SST1M/MC/Proton_diffuse/20deg/merged/training/']\n",
      "Training gamma zenith distances: [20]\n",
      "Training gamma azimuths: [0]\n",
      "Training proton zenith distances: [20]\n",
      "Training proton azimuths: [0]\n",
      "Notes: Stereo model for 20deg zenith distance\n",
      "ZD range: [20, 20]\n",
      "Az range: [0, 0]\n",
      "Stereo: True\n"
     ]
    }
   ],
   "source": [
    "MODEL_INDEX_FILE = \"/home/blacave/CTLearn/Software/CTLearn-Manager/ctearn_models_index.ecsv\"\n",
    "model = load_model_from_index(\"type_stereo_20deg\", MODEL_INDEX_FILE)\n",
    "model.info()"
   ]
  },
  {
   "cell_type": "markdown",
   "metadata": {},
   "source": [
    "# 🚀 Launch training"
   ]
  },
  {
   "cell_type": "code",
   "execution_count": null,
   "metadata": {},
   "outputs": [
    {
     "name": "stdout",
     "output_type": "stream",
     "text": [
      "📊 Model trained for 2 epochs\n",
      "🚀 Launching training for 13 epochs\n",
      "➡️ Model already exists: will continue training and create type_stereo_20deg_v2\n",
      "Configuration saved to /home/blacave/CTLearn/Data/CTLearn_Models_SST1M//type_stereo_20deg_v2//config.yml\n",
      "ctlearn-train-model --TrainCTLearnModel.model_type=LoadedModel --LoadedModel.load_model_from=/home/blacave/CTLearn/Data/CTLearn_Models_SST1M//type_stereo_20deg_v1/ctlearn_model.cpk/              --TrainCTLearnModel.batch_size=64             --signal /home/blacave/CTLearn/Data/DL1/SST1M/MC/Gamma_diffuse/20deg/merged/training/              --background /home/blacave/CTLearn/Data/DL1/SST1M/MC/Proton_diffuse/20deg/merged/training/             --reco type             --output /home/blacave/CTLearn/Data/CTLearn_Models_SST1M//type_stereo_20deg_v2/             --DLImageReader.channels=cleaned_image --DLImageReader.channels=cleaned_relative_peak_time             --TrainCTLearnModel.n_epochs=13             --verbose             --TrainCTLearnModel.save_best_validation_only=True            --overwrite             --DLImageReader.mode=stereo             --TrainCTLearnModel.stack_telescope_images=true            --DLImageReader.min_telescopes=2\n"
     ]
    },
    {
     "name": "stderr",
     "output_type": "stream",
     "text": [
      "2025-01-02 13:14:34.191660: E tensorflow/compiler/xla/stream_executor/cuda/cuda_dnn.cc:9342] Unable to register cuDNN factory: Attempting to register factory for plugin cuDNN when one has already been registered\n",
      "2025-01-02 13:14:34.191717: E tensorflow/compiler/xla/stream_executor/cuda/cuda_fft.cc:609] Unable to register cuFFT factory: Attempting to register factory for plugin cuFFT when one has already been registered\n",
      "2025-01-02 13:14:34.194857: E tensorflow/compiler/xla/stream_executor/cuda/cuda_blas.cc:1518] Unable to register cuBLAS factory: Attempting to register factory for plugin cuBLAS when one has already been registered\n",
      "2025-01-02 13:14:34.493852: I tensorflow/core/platform/cpu_feature_guard.cc:182] This TensorFlow binary is optimized to use available CPU instructions in performance-critical operations.\n",
      "To enable the following instructions: AVX2 FMA, in other operations, rebuild TensorFlow with the appropriate compiler flags.\n",
      "2025-01-02 13:14:42,605 \u001b[1;32mINFO\u001b[0m [ctlearn.ctlearn-train-model] (tool.initialize): Loading config from '[]'\n",
      "2025-01-02 13:14:42,606 \u001b[1;32mINFO\u001b[0m [ctlearn.ctlearn-train-model] (tool.initialize): ctapipe version 0.23.0\n",
      "2025-01-02 13:14:42,606 \u001b[1;32mINFO\u001b[0m [ctlearn.ctlearn-train-model] (train_model.setup): Removing existing output directory /home/blacave/CTLearn/Data/CTLearn_Models_SST1M/type_stereo_20deg_v2\n",
      "2025-01-02 13:14:42.936229: I tensorflow/compiler/xla/stream_executor/cuda/cuda_gpu_executor.cc:880] could not open file to read NUMA node: /sys/bus/pci/devices/0000:26:00.0/numa_node\n",
      "Your kernel may have been built without NUMA support.\n",
      "2025-01-02 13:14:43.002145: I tensorflow/compiler/xla/stream_executor/cuda/cuda_gpu_executor.cc:880] could not open file to read NUMA node: /sys/bus/pci/devices/0000:26:00.0/numa_node\n",
      "Your kernel may have been built without NUMA support.\n",
      "2025-01-02 13:14:43.002244: I tensorflow/compiler/xla/stream_executor/cuda/cuda_gpu_executor.cc:880] could not open file to read NUMA node: /sys/bus/pci/devices/0000:26:00.0/numa_node\n",
      "Your kernel may have been built without NUMA support.\n",
      "2025-01-02 13:14:43.005336: I tensorflow/compiler/xla/stream_executor/cuda/cuda_gpu_executor.cc:880] could not open file to read NUMA node: /sys/bus/pci/devices/0000:26:00.0/numa_node\n",
      "Your kernel may have been built without NUMA support.\n",
      "2025-01-02 13:14:43.005427: I tensorflow/compiler/xla/stream_executor/cuda/cuda_gpu_executor.cc:880] could not open file to read NUMA node: /sys/bus/pci/devices/0000:26:00.0/numa_node\n",
      "Your kernel may have been built without NUMA support.\n",
      "2025-01-02 13:14:43.005461: I tensorflow/compiler/xla/stream_executor/cuda/cuda_gpu_executor.cc:880] could not open file to read NUMA node: /sys/bus/pci/devices/0000:26:00.0/numa_node\n",
      "Your kernel may have been built without NUMA support.\n",
      "2025-01-02 13:14:43.355934: I tensorflow/compiler/xla/stream_executor/cuda/cuda_gpu_executor.cc:880] could not open file to read NUMA node: /sys/bus/pci/devices/0000:26:00.0/numa_node\n",
      "Your kernel may have been built without NUMA support.\n",
      "2025-01-02 13:14:43.356029: I tensorflow/compiler/xla/stream_executor/cuda/cuda_gpu_executor.cc:880] could not open file to read NUMA node: /sys/bus/pci/devices/0000:26:00.0/numa_node\n",
      "Your kernel may have been built without NUMA support.\n",
      "2025-01-02 13:14:43.356041: I tensorflow/core/common_runtime/gpu/gpu_device.cc:1977] Could not identify NUMA node of platform GPU id 0, defaulting to 0.  Your kernel may not have been built with NUMA support.\n",
      "2025-01-02 13:14:43.356083: I tensorflow/compiler/xla/stream_executor/cuda/cuda_gpu_executor.cc:880] could not open file to read NUMA node: /sys/bus/pci/devices/0000:26:00.0/numa_node\n",
      "Your kernel may have been built without NUMA support.\n",
      "2025-01-02 13:14:43.356106: I tensorflow/core/common_runtime/gpu/gpu_device.cc:1886] Created device /job:localhost/replica:0/task:0/device:GPU:0 with 9517 MB memory:  -> device: 0, name: NVIDIA GeForce RTX 4070 SUPER, pci bus id: 0000:26:00.0, compute capability: 8.9\n",
      "2025-01-02 13:14:43,618 \u001b[1;32mINFO\u001b[0m [ctlearn.ctlearn-train-model] (train_model.setup): Number of devices: 1\n",
      "2025-01-02 13:14:43,619 \u001b[1;32mINFO\u001b[0m [ctlearn.ctlearn-train-model] (train_model.setup): Loading data:\n",
      "2025-01-02 13:14:43,619 \u001b[1;32mINFO\u001b[0m [ctlearn.ctlearn-train-model] (train_model.setup):   For a large dataset, this may take a while...\n",
      "/home/blacave/miniforge3/envs/ctlearn-cluster/lib/python3.10/site-packages/ctapipe/coordinates/__init__.py:62: MissingFrameAttributeWarning: AltAz coordinate has no obstime, assuming same frame\n",
      "  warnings.warn(\n",
      "/home/blacave/miniforge3/envs/ctlearn-cluster/lib/python3.10/site-packages/ctapipe/coordinates/__init__.py:70: MissingFrameAttributeWarning: AltAz coordinate has no location, assuming same frame\n",
      "  warnings.warn(\n",
      "/home/blacave/miniforge3/envs/ctlearn-cluster/lib/python3.10/site-packages/ctapipe/coordinates/__init__.py:62: MissingFrameAttributeWarning: AltAz coordinate has no obstime, assuming same frame\n",
      "  warnings.warn(\n",
      "/home/blacave/miniforge3/envs/ctlearn-cluster/lib/python3.10/site-packages/ctapipe/coordinates/__init__.py:70: MissingFrameAttributeWarning: AltAz coordinate has no location, assuming same frame\n",
      "  warnings.warn(\n",
      "/home/blacave/miniforge3/envs/ctlearn-cluster/lib/python3.10/site-packages/ctapipe/coordinates/__init__.py:62: MissingFrameAttributeWarning: AltAz coordinate has no obstime, assuming same frame\n",
      "  warnings.warn(\n",
      "/home/blacave/miniforge3/envs/ctlearn-cluster/lib/python3.10/site-packages/ctapipe/coordinates/__init__.py:70: MissingFrameAttributeWarning: AltAz coordinate has no location, assuming same frame\n",
      "  warnings.warn(\n",
      "/home/blacave/miniforge3/envs/ctlearn-cluster/lib/python3.10/site-packages/ctapipe/coordinates/__init__.py:62: MissingFrameAttributeWarning: AltAz coordinate has no obstime, assuming same frame\n",
      "  warnings.warn(\n",
      "/home/blacave/miniforge3/envs/ctlearn-cluster/lib/python3.10/site-packages/ctapipe/coordinates/__init__.py:70: MissingFrameAttributeWarning: AltAz coordinate has no location, assuming same frame\n",
      "  warnings.warn(\n",
      "/home/blacave/miniforge3/envs/ctlearn-cluster/lib/python3.10/site-packages/ctapipe/coordinates/__init__.py:62: MissingFrameAttributeWarning: AltAz coordinate has no obstime, assuming same frame\n",
      "  warnings.warn(\n",
      "/home/blacave/miniforge3/envs/ctlearn-cluster/lib/python3.10/site-packages/ctapipe/coordinates/__init__.py:70: MissingFrameAttributeWarning: AltAz coordinate has no location, assuming same frame\n",
      "  warnings.warn(\n",
      "/home/blacave/miniforge3/envs/ctlearn-cluster/lib/python3.10/site-packages/ctapipe/coordinates/__init__.py:62: MissingFrameAttributeWarning: AltAz coordinate has no obstime, assuming same frame\n",
      "  warnings.warn(\n",
      "/home/blacave/miniforge3/envs/ctlearn-cluster/lib/python3.10/site-packages/ctapipe/coordinates/__init__.py:70: MissingFrameAttributeWarning: AltAz coordinate has no location, assuming same frame\n",
      "  warnings.warn(\n",
      "/home/blacave/miniforge3/envs/ctlearn-cluster/lib/python3.10/site-packages/ctapipe/coordinates/__init__.py:62: MissingFrameAttributeWarning: AltAz coordinate has no obstime, assuming same frame\n",
      "  warnings.warn(\n",
      "/home/blacave/miniforge3/envs/ctlearn-cluster/lib/python3.10/site-packages/ctapipe/coordinates/__init__.py:70: MissingFrameAttributeWarning: AltAz coordinate has no location, assuming same frame\n",
      "  warnings.warn(\n",
      "/home/blacave/miniforge3/envs/ctlearn-cluster/lib/python3.10/site-packages/ctapipe/coordinates/__init__.py:62: MissingFrameAttributeWarning: AltAz coordinate has no obstime, assuming same frame\n",
      "  warnings.warn(\n",
      "/home/blacave/miniforge3/envs/ctlearn-cluster/lib/python3.10/site-packages/ctapipe/coordinates/__init__.py:70: MissingFrameAttributeWarning: AltAz coordinate has no location, assuming same frame\n",
      "  warnings.warn(\n",
      "/home/blacave/miniforge3/envs/ctlearn-cluster/lib/python3.10/site-packages/ctapipe/coordinates/__init__.py:62: MissingFrameAttributeWarning: AltAz coordinate has no obstime, assuming same frame\n",
      "  warnings.warn(\n",
      "/home/blacave/miniforge3/envs/ctlearn-cluster/lib/python3.10/site-packages/ctapipe/coordinates/__init__.py:70: MissingFrameAttributeWarning: AltAz coordinate has no location, assuming same frame\n",
      "  warnings.warn(\n",
      "/home/blacave/miniforge3/envs/ctlearn-cluster/lib/python3.10/site-packages/ctapipe/coordinates/__init__.py:62: MissingFrameAttributeWarning: AltAz coordinate has no obstime, assuming same frame\n",
      "  warnings.warn(\n",
      "/home/blacave/miniforge3/envs/ctlearn-cluster/lib/python3.10/site-packages/ctapipe/coordinates/__init__.py:70: MissingFrameAttributeWarning: AltAz coordinate has no location, assuming same frame\n",
      "  warnings.warn(\n",
      "/home/blacave/miniforge3/envs/ctlearn-cluster/lib/python3.10/site-packages/ctapipe/coordinates/__init__.py:62: MissingFrameAttributeWarning: AltAz coordinate has no obstime, assuming same frame\n",
      "  warnings.warn(\n",
      "/home/blacave/miniforge3/envs/ctlearn-cluster/lib/python3.10/site-packages/ctapipe/coordinates/__init__.py:70: MissingFrameAttributeWarning: AltAz coordinate has no location, assuming same frame\n",
      "  warnings.warn(\n",
      "/home/blacave/miniforge3/envs/ctlearn-cluster/lib/python3.10/site-packages/ctapipe/coordinates/__init__.py:62: MissingFrameAttributeWarning: AltAz coordinate has no obstime, assuming same frame\n",
      "  warnings.warn(\n",
      "/home/blacave/miniforge3/envs/ctlearn-cluster/lib/python3.10/site-packages/ctapipe/coordinates/__init__.py:70: MissingFrameAttributeWarning: AltAz coordinate has no location, assuming same frame\n",
      "  warnings.warn(\n",
      "/home/blacave/miniforge3/envs/ctlearn-cluster/lib/python3.10/site-packages/ctapipe/coordinates/__init__.py:62: MissingFrameAttributeWarning: AltAz coordinate has no obstime, assuming same frame\n",
      "  warnings.warn(\n",
      "/home/blacave/miniforge3/envs/ctlearn-cluster/lib/python3.10/site-packages/ctapipe/coordinates/__init__.py:70: MissingFrameAttributeWarning: AltAz coordinate has no location, assuming same frame\n",
      "  warnings.warn(\n",
      "/home/blacave/miniforge3/envs/ctlearn-cluster/lib/python3.10/site-packages/ctapipe/coordinates/__init__.py:62: MissingFrameAttributeWarning: AltAz coordinate has no obstime, assuming same frame\n",
      "  warnings.warn(\n",
      "/home/blacave/miniforge3/envs/ctlearn-cluster/lib/python3.10/site-packages/ctapipe/coordinates/__init__.py:70: MissingFrameAttributeWarning: AltAz coordinate has no location, assuming same frame\n",
      "  warnings.warn(\n",
      "/home/blacave/miniforge3/envs/ctlearn-cluster/lib/python3.10/site-packages/ctapipe/coordinates/__init__.py:62: MissingFrameAttributeWarning: AltAz coordinate has no obstime, assuming same frame\n",
      "  warnings.warn(\n",
      "/home/blacave/miniforge3/envs/ctlearn-cluster/lib/python3.10/site-packages/ctapipe/coordinates/__init__.py:70: MissingFrameAttributeWarning: AltAz coordinate has no location, assuming same frame\n",
      "  warnings.warn(\n",
      "/home/blacave/miniforge3/envs/ctlearn-cluster/lib/python3.10/site-packages/ctapipe/coordinates/__init__.py:62: MissingFrameAttributeWarning: AltAz coordinate has no obstime, assuming same frame\n",
      "  warnings.warn(\n",
      "/home/blacave/miniforge3/envs/ctlearn-cluster/lib/python3.10/site-packages/ctapipe/coordinates/__init__.py:70: MissingFrameAttributeWarning: AltAz coordinate has no location, assuming same frame\n",
      "  warnings.warn(\n",
      "/home/blacave/miniforge3/envs/ctlearn-cluster/lib/python3.10/site-packages/ctapipe/coordinates/__init__.py:62: MissingFrameAttributeWarning: AltAz coordinate has no obstime, assuming same frame\n",
      "  warnings.warn(\n",
      "/home/blacave/miniforge3/envs/ctlearn-cluster/lib/python3.10/site-packages/ctapipe/coordinates/__init__.py:70: MissingFrameAttributeWarning: AltAz coordinate has no location, assuming same frame\n",
      "  warnings.warn(\n",
      "/home/blacave/miniforge3/envs/ctlearn-cluster/lib/python3.10/site-packages/ctapipe/coordinates/__init__.py:62: MissingFrameAttributeWarning: AltAz coordinate has no obstime, assuming same frame\n",
      "  warnings.warn(\n",
      "/home/blacave/miniforge3/envs/ctlearn-cluster/lib/python3.10/site-packages/ctapipe/coordinates/__init__.py:70: MissingFrameAttributeWarning: AltAz coordinate has no location, assuming same frame\n",
      "  warnings.warn(\n",
      "/home/blacave/miniforge3/envs/ctlearn-cluster/lib/python3.10/site-packages/ctapipe/coordinates/__init__.py:62: MissingFrameAttributeWarning: AltAz coordinate has no obstime, assuming same frame\n",
      "  warnings.warn(\n",
      "/home/blacave/miniforge3/envs/ctlearn-cluster/lib/python3.10/site-packages/ctapipe/coordinates/__init__.py:70: MissingFrameAttributeWarning: AltAz coordinate has no location, assuming same frame\n",
      "  warnings.warn(\n",
      "/home/blacave/miniforge3/envs/ctlearn-cluster/lib/python3.10/site-packages/ctapipe/coordinates/__init__.py:62: MissingFrameAttributeWarning: AltAz coordinate has no obstime, assuming same frame\n",
      "  warnings.warn(\n",
      "/home/blacave/miniforge3/envs/ctlearn-cluster/lib/python3.10/site-packages/ctapipe/coordinates/__init__.py:70: MissingFrameAttributeWarning: AltAz coordinate has no location, assuming same frame\n",
      "  warnings.warn(\n",
      "/home/blacave/miniforge3/envs/ctlearn-cluster/lib/python3.10/site-packages/ctapipe/coordinates/__init__.py:62: MissingFrameAttributeWarning: AltAz coordinate has no obstime, assuming same frame\n",
      "  warnings.warn(\n",
      "/home/blacave/miniforge3/envs/ctlearn-cluster/lib/python3.10/site-packages/ctapipe/coordinates/__init__.py:70: MissingFrameAttributeWarning: AltAz coordinate has no location, assuming same frame\n",
      "  warnings.warn(\n",
      "/home/blacave/miniforge3/envs/ctlearn-cluster/lib/python3.10/site-packages/ctapipe/coordinates/__init__.py:62: MissingFrameAttributeWarning: AltAz coordinate has no obstime, assuming same frame\n",
      "  warnings.warn(\n",
      "/home/blacave/miniforge3/envs/ctlearn-cluster/lib/python3.10/site-packages/ctapipe/coordinates/__init__.py:70: MissingFrameAttributeWarning: AltAz coordinate has no location, assuming same frame\n",
      "  warnings.warn(\n",
      "/home/blacave/miniforge3/envs/ctlearn-cluster/lib/python3.10/site-packages/ctapipe/coordinates/__init__.py:62: MissingFrameAttributeWarning: AltAz coordinate has no obstime, assuming same frame\n",
      "  warnings.warn(\n",
      "/home/blacave/miniforge3/envs/ctlearn-cluster/lib/python3.10/site-packages/ctapipe/coordinates/__init__.py:70: MissingFrameAttributeWarning: AltAz coordinate has no location, assuming same frame\n",
      "  warnings.warn(\n",
      "/home/blacave/miniforge3/envs/ctlearn-cluster/lib/python3.10/site-packages/ctapipe/coordinates/__init__.py:62: MissingFrameAttributeWarning: AltAz coordinate has no obstime, assuming same frame\n",
      "  warnings.warn(\n",
      "/home/blacave/miniforge3/envs/ctlearn-cluster/lib/python3.10/site-packages/ctapipe/coordinates/__init__.py:70: MissingFrameAttributeWarning: AltAz coordinate has no location, assuming same frame\n",
      "  warnings.warn(\n",
      "/home/blacave/miniforge3/envs/ctlearn-cluster/lib/python3.10/site-packages/ctapipe/coordinates/__init__.py:62: MissingFrameAttributeWarning: AltAz coordinate has no obstime, assuming same frame\n",
      "  warnings.warn(\n",
      "/home/blacave/miniforge3/envs/ctlearn-cluster/lib/python3.10/site-packages/ctapipe/coordinates/__init__.py:70: MissingFrameAttributeWarning: AltAz coordinate has no location, assuming same frame\n",
      "  warnings.warn(\n",
      "/home/blacave/miniforge3/envs/ctlearn-cluster/lib/python3.10/site-packages/ctapipe/coordinates/__init__.py:62: MissingFrameAttributeWarning: AltAz coordinate has no obstime, assuming same frame\n",
      "  warnings.warn(\n",
      "/home/blacave/miniforge3/envs/ctlearn-cluster/lib/python3.10/site-packages/ctapipe/coordinates/__init__.py:70: MissingFrameAttributeWarning: AltAz coordinate has no location, assuming same frame\n",
      "  warnings.warn(\n",
      "/home/blacave/miniforge3/envs/ctlearn-cluster/lib/python3.10/site-packages/ctapipe/coordinates/__init__.py:62: MissingFrameAttributeWarning: AltAz coordinate has no obstime, assuming same frame\n",
      "  warnings.warn(\n",
      "/home/blacave/miniforge3/envs/ctlearn-cluster/lib/python3.10/site-packages/ctapipe/coordinates/__init__.py:70: MissingFrameAttributeWarning: AltAz coordinate has no location, assuming same frame\n",
      "  warnings.warn(\n",
      "/home/blacave/miniforge3/envs/ctlearn-cluster/lib/python3.10/site-packages/ctapipe/coordinates/__init__.py:62: MissingFrameAttributeWarning: AltAz coordinate has no obstime, assuming same frame\n",
      "  warnings.warn(\n",
      "/home/blacave/miniforge3/envs/ctlearn-cluster/lib/python3.10/site-packages/ctapipe/coordinates/__init__.py:70: MissingFrameAttributeWarning: AltAz coordinate has no location, assuming same frame\n",
      "  warnings.warn(\n",
      "/home/blacave/miniforge3/envs/ctlearn-cluster/lib/python3.10/site-packages/ctapipe/coordinates/__init__.py:62: MissingFrameAttributeWarning: AltAz coordinate has no obstime, assuming same frame\n",
      "  warnings.warn(\n",
      "/home/blacave/miniforge3/envs/ctlearn-cluster/lib/python3.10/site-packages/ctapipe/coordinates/__init__.py:70: MissingFrameAttributeWarning: AltAz coordinate has no location, assuming same frame\n",
      "  warnings.warn(\n",
      "/home/blacave/miniforge3/envs/ctlearn-cluster/lib/python3.10/site-packages/ctapipe/coordinates/__init__.py:62: MissingFrameAttributeWarning: AltAz coordinate has no obstime, assuming same frame\n",
      "  warnings.warn(\n",
      "/home/blacave/miniforge3/envs/ctlearn-cluster/lib/python3.10/site-packages/ctapipe/coordinates/__init__.py:70: MissingFrameAttributeWarning: AltAz coordinate has no location, assuming same frame\n",
      "  warnings.warn(\n",
      "/home/blacave/miniforge3/envs/ctlearn-cluster/lib/python3.10/site-packages/ctapipe/coordinates/__init__.py:62: MissingFrameAttributeWarning: AltAz coordinate has no obstime, assuming same frame\n",
      "  warnings.warn(\n",
      "/home/blacave/miniforge3/envs/ctlearn-cluster/lib/python3.10/site-packages/ctapipe/coordinates/__init__.py:70: MissingFrameAttributeWarning: AltAz coordinate has no location, assuming same frame\n",
      "  warnings.warn(\n",
      "2025-01-02 13:54:08,907 \u001b[1;32mINFO\u001b[0m [ctlearn.ctlearn-train-model.DLImageReader] (reader.__init__):   Total number of events: 1693107\n",
      "2025-01-02 13:54:08,908 \u001b[1;32mINFO\u001b[0m [ctlearn.ctlearn-train-model.DLImageReader] (reader.__init__):   Number of signal events: 794080\n",
      "2025-01-02 13:54:08,908 \u001b[1;32mINFO\u001b[0m [ctlearn.ctlearn-train-model.DLImageReader] (reader.__init__):   Number of background events: 899027\n",
      "2025-01-02 13:54:08,912 \u001b[1;32mINFO\u001b[0m [ctlearn.ctlearn-train-model] (train_model.setup):   Number of events loaded: 1693107\n",
      "2025-01-02 13:54:09,510 \u001b[1;34mDEBUG\u001b[0m [ctlearn.ctlearn-train-model] (tool.run): CONFIG: {'TrainCTLearnModel': {'batch_size': 64, 'config_files': [], 'dl1dh_reader_type': 'DLImageReader', 'file_pattern_background': ['*.h5'], 'file_pattern_signal': ['*.h5'], 'input_dir_background': PosixPath('/home/blacave/CTLearn/Data/DL1/SST1M/MC/Proton_diffuse/20deg/merged/training'), 'input_dir_signal': PosixPath('/home/blacave/CTLearn/Data/DL1/SST1M/MC/Gamma_diffuse/20deg/merged/training'), 'log_config': {}, 'log_datefmt': '%Y-%m-%d %H:%M:%S', 'log_file': None, 'log_file_level': 'INFO', 'log_format': '[%(name)s]%(highlevel)s %(message)s', 'log_level': 10, 'logging_config': {}, 'lr_reducing': {'factor': 0.5, 'patience': 5, 'min_delta': 0.01, 'min_lr': 1e-06}, 'model_type': 'LoadedModel', 'n_epochs': 13, 'optimizer': {'name': 'Adam', 'base_learning_rate': 0.0001, 'adam_epsilon': 1e-08}, 'output_dir': PosixPath('/home/blacave/CTLearn/Data/CTLearn_Models_SST1M/type_stereo_20deg_v2'), 'overwrite': True, 'provenance_log': PosixPath('/home/blacave/CTLearn/Software/CTLearn-Manager/notebooks/ctlearn-train-model.provenance.log'), 'quiet': False, 'random_seed': 0, 'reco_tasks': ['type'], 'save_best_validation_only': True, 'save_onnx': False, 'show_config': False, 'show_config_json': False, 'sort_by_intensity': False, 'stack_telescope_images': True, 'validation_split': 0.1, 'DLImageReader': {'allowed_tel_types': None, 'allowed_tels': None, 'channels': ['cleaned_image', 'cleaned_relative_peak_time'], 'image_mapper_type': [('type', '*', 'BilinearMapper')], 'min_telescopes': 2, 'min_telescopes_of_type': [('type', '*', 0)], 'mode': 'stereo', 'skip_incompatible_files': False, 'TableQualityQuery': {'quality_criteria': [('> 50 phe', 'hillas_intensity > 50')]}}}}\n",
      "2025-01-02 13:54:09,511 \u001b[1;32mINFO\u001b[0m [ctlearn.ctlearn-train-model] (train_model.start): Setting up the model.\n",
      "2025-01-02 13:54:16,921 \u001b[1;32mINFO\u001b[0m [ctlearn.ctlearn-train-model] (train_model.start): Compiling CTLearn model.\n",
      "2025-01-02 13:54:16,938 \u001b[1;32mINFO\u001b[0m [ctlearn.ctlearn-train-model] (train_model.start): Training and evaluating...\n"
     ]
    },
    {
     "name": "stdout",
     "output_type": "stream",
     "text": [
      "Epoch 1/13\n"
     ]
    },
    {
     "name": "stderr",
     "output_type": "stream",
     "text": [
      "2025-01-02 13:54:27.985035: I tensorflow/compiler/xla/stream_executor/cuda/cuda_dnn.cc:442] Loaded cuDNN version 8700\n",
      "2025-01-02 13:54:31.563278: I tensorflow/compiler/xla/service/service.cc:168] XLA service 0x7f7a04030280 initialized for platform CUDA (this does not guarantee that XLA will be used). Devices:\n",
      "2025-01-02 13:54:31.563347: I tensorflow/compiler/xla/service/service.cc:176]   StreamExecutor device (0): NVIDIA GeForce RTX 4070 SUPER, Compute Capability 8.9\n",
      "2025-01-02 13:54:31.580256: I tensorflow/compiler/mlir/tensorflow/utils/dump_mlir_util.cc:269] disabling MLIR crash reproducer, set env var `MLIR_CRASH_REPRODUCER_DIRECTORY` to enable.\n",
      "2025-01-02 13:54:31.735511: I ./tensorflow/compiler/jit/device_compiler.h:186] Compiled cluster using XLA!  This line is logged at most once for the lifetime of the process.\n"
     ]
    }
   ],
   "source": [
    "model.launch_training(n_epochs=15)"
   ]
  },
  {
   "cell_type": "code",
   "execution_count": null,
   "metadata": {},
   "outputs": [
    {
     "data": {
      "image/png": "[encoded data removed]",
      "text/plain": [
       "<Figure size 640x480 with 1 Axes>"
      ]
     },
     "metadata": {},
     "output_type": "display_data"
    }
   ],
   "source": [
    "model.plot_loss()"
   ]
  }
 ],
 "metadata": {
  "kernelspec": {
   "display_name": "ctlearn-cluster",
   "language": "python",
   "name": "python3"
  },
  "language_info": {
   "codemirror_mode": {
    "name": "ipython",
    "version": 3
   },
   "file_extension": ".py",
   "mimetype": "text/x-python",
   "name": "python",
   "nbconvert_exporter": "python",
   "pygments_lexer": "ipython3",
   "version": "3.10.15"
  }
 },
 "nbformat": 4,
 "nbformat_minor": 2
}
