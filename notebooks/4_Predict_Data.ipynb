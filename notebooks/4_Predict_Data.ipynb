{
 "cells": [
  {
   "cell_type": "code",
   "execution_count": null,
   "metadata": {},
   "outputs": [],
   "source": [
    "from ctlearn_manager import CTLearnTriModelManager\n",
    "from ctlearn_manager.io import load_model_from_index"
   ]
  },
  {
   "cell_type": "markdown",
   "metadata": {},
   "source": [
    "# 💾 Load models"
   ]
  },
  {
   "cell_type": "code",
   "execution_count": null,
   "metadata": {},
   "outputs": [],
   "source": [
    "MODEL_INDEX_FILE = \"/home/blacave/CTLearn/Software/CTLearn-Manager/ctearn_models_index.ecsv\"\n",
    "energy_model = load_model_from_index(\"energy_stereo_20deg\", MODEL_INDEX_FILE)\n",
    "direction_model = load_model_from_index(\"direction_stereo_20deg\", MODEL_INDEX_FILE)\n",
    "type_model = load_model_from_index(\"type_stereo_20deg\", MODEL_INDEX_FILE)\n",
    "Stereo_Tri_Model = CTLearnTriModelManager(direction_model=direction_model, energy_model=energy_model, type_model=type_model)"
   ]
  },
  {
   "cell_type": "markdown",
   "metadata": {},
   "source": [
    "# 🌌 DL1 to DL2"
   ]
  },
  {
   "cell_type": "code",
   "execution_count": null,
   "metadata": {},
   "outputs": [],
   "source": [
    "Stereo_Tri_Model.predict_lstchain_data(input_file, output_file)"
   ]
  },
  {
   "cell_type": "code",
   "execution_count": null,
   "metadata": {},
   "outputs": [],
   "source": [
    "Stereo_Tri_Model.predict_data(input_file, output_file)"
   ]
  }
 ],
 "metadata": {
  "kernelspec": {
   "display_name": "ctlearn-cluster",
   "language": "python",
   "name": "python3"
  },
  "language_info": {
   "name": "python",
   "version": "3.10.15"
  }
 },
 "nbformat": 4,
 "nbformat_minor": 2
}
