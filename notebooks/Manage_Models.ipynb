{
 "cells": [
  {
   "cell_type": "code",
   "execution_count": 12,
   "metadata": {},
   "outputs": [
    {
     "ename": "ImportError",
     "evalue": "cannot import name 'load_model_manager' from 'ctlearn_manager' (/home/blacave/miniforge3/envs/ctlearn-cluster/lib/python3.10/site-packages/ctlearn_manager/__init__.py)",
     "output_type": "error",
     "traceback": [
      "\u001b[0;31m---------------------------------------------------------------------------\u001b[0m",
      "\u001b[0;31mImportError\u001b[0m                               Traceback (most recent call last)",
      "Cell \u001b[0;32mIn[12], line 4\u001b[0m\n\u001b[1;32m      2\u001b[0m \u001b[38;5;28;01mimport\u001b[39;00m \u001b[38;5;21;01mnumpy\u001b[39;00m \u001b[38;5;28;01mas\u001b[39;00m \u001b[38;5;21;01mnp\u001b[39;00m\n\u001b[1;32m      3\u001b[0m \u001b[38;5;28;01mfrom\u001b[39;00m \u001b[38;5;21;01mpathlib\u001b[39;00m \u001b[38;5;28;01mimport\u001b[39;00m Path\n\u001b[0;32m----> 4\u001b[0m \u001b[38;5;28;01mfrom\u001b[39;00m \u001b[38;5;21;01mctlearn_manager\u001b[39;00m \u001b[38;5;28;01mimport\u001b[39;00m CTLearnModelManager, CTLearnTriModelManager, load_model_manager\n",
      "\u001b[0;31mImportError\u001b[0m: cannot import name 'load_model_manager' from 'ctlearn_manager' (/home/blacave/miniforge3/envs/ctlearn-cluster/lib/python3.10/site-packages/ctlearn_manager/__init__.py)"
     ]
    }
   ],
   "source": [
    "from astropy.table import QTable\n",
    "import numpy as np\n",
    "from pathlib import Path\n",
    "from ctlearn_manager import CTLearnModelManager, CTLearnTriModelManager, load_model_from_index"
   ]
  },
  {
   "cell_type": "markdown",
   "metadata": {},
   "source": [
    "# 🧠 Create new CTLearnModelManager\n",
    "CTLearnModelManager is an object that allows you to setup and train a CTLearn model"
   ]
  },
  {
   "cell_type": "code",
   "execution_count": 9,
   "metadata": {},
   "outputs": [
    {
     "name": "stdout",
     "output_type": "stream",
     "text": [
      "🧠 Model name: energy_TEL1_2_ZD20_Az0\n",
      "❌ Model nickname energy_stereo_20deg already in table\n"
     ]
    }
   ],
   "source": [
    "# Where all the models are stored\n",
    "MODEL_INDEX_FILE = \"/home/blacave/CTLearn/Software/CTLearn-Manager/ctearn_models_index.ecsv\"\n",
    "# General parameters\n",
    "model_parameters = {\n",
    "    'model_nickname' : \"direction_stereo_20deg\",\n",
    "    'model_dir' : \"/home/blacave/CTLearn/Data/CTLearn_Models_SST1M/\",\n",
    "    'notes' : \"Stereo model for 20deg zenith distance\",\n",
    "    'reco' : 'direction', #[\"energy\", \"direction\", \"type\"]\n",
    "    'channels' : ['cleaned_image', 'cleaned_relative_peak_time'], # Order matters\n",
    "    'telescope_names' : ['SST1M_1', 'SST1M_2'],\n",
    "    'telescopes_indices' : [1, 2],\n",
    "    'training_gamma_dirs' : ['/home/blacave/CTLearn/Data/DL1/SST1M/MC/Gamma_diffuse/20deg/merged/training/'],\n",
    "    'training_proton_dirs' : ['/home/blacave/CTLearn/Data/DL1/SST1M/MC/Proton/20deg/merged/training/'],\n",
    "    'training_gamma_zenith_distances' : [20],\n",
    "    'training_gamma_azimuths' : [0],\n",
    "    'training_proton_zenith_distances' : [20],\n",
    "    'training_proton_azimuths' : [0],\n",
    "    'max_training_epochs' : 15, \n",
    "}\n",
    "new_model = CTLearnModelManager(model_parameters, MODEL_INDEX_FILE)\n",
    "new_model.save_to_index()"
   ]
  },
  {
   "cell_type": "code",
   "execution_count": 10,
   "metadata": {},
   "outputs": [
    {
     "name": "stdout",
     "output_type": "stream",
     "text": [
      "🚀 Launching training for 15 epochs\n",
      "🆕 Model does not exist: will create energy_stereo_20deg_v0\n",
      "ctlearn-train-model             --signal /home/blacave/CTLearn/Data/DL1/SST1M/MC/Gamma_diffuse/20deg/merged/training/                         --reco energy             --output /home/blacave/CTLearn/Data/CTLearn_Models_SST1M//energy_stereo_20deg_v0/             --DLImageReader.channels=cleaned_image --DLImageReader.channels=cleaned_relative_peak_time             --TrainCTLearnModel.n_epochs=15             --verbose             --TrainCTLearnModel.save_best_validation_only=True            --overwrite             --DLImageReader.mode=stereo             --TrainCTLearnModel.stack_telescope_images=true            --DLImageReader.min_telescopes=2\n"
     ]
    },
    {
     "name": "stderr",
     "output_type": "stream",
     "text": [
      "2024-12-19 11:26:14.909574: E tensorflow/compiler/xla/stream_executor/cuda/cuda_dnn.cc:9342] Unable to register cuDNN factory: Attempting to register factory for plugin cuDNN when one has already been registered\n",
      "2024-12-19 11:26:14.909661: E tensorflow/compiler/xla/stream_executor/cuda/cuda_fft.cc:609] Unable to register cuFFT factory: Attempting to register factory for plugin cuFFT when one has already been registered\n",
      "2024-12-19 11:26:14.909698: E tensorflow/compiler/xla/stream_executor/cuda/cuda_blas.cc:1518] Unable to register cuBLAS factory: Attempting to register factory for plugin cuBLAS when one has already been registered\n",
      "2024-12-19 11:26:14.922326: I tensorflow/core/platform/cpu_feature_guard.cc:182] This TensorFlow binary is optimized to use available CPU instructions in performance-critical operations.\n",
      "To enable the following instructions: AVX2 FMA, in other operations, rebuild TensorFlow with the appropriate compiler flags.\n",
      "2024-12-19 11:26:20,002 \u001b[1;32mINFO\u001b[0m [ctlearn.ctlearn-train-model] (tool.initialize): Loading config from '[]'\n",
      "2024-12-19 11:26:20,003 \u001b[1;32mINFO\u001b[0m [ctlearn.ctlearn-train-model] (tool.initialize): ctapipe version 0.23.0\n",
      "2024-12-19 11:26:20,003 \u001b[1;32mINFO\u001b[0m [ctlearn.ctlearn-train-model] (train_model.setup): Removing existing output directory /home/blacave/CTLearn/Data/CTLearn_Models_SST1M/energy_stereo_20deg_v0\n",
      "2024-12-19 11:26:20.331461: I tensorflow/compiler/xla/stream_executor/cuda/cuda_gpu_executor.cc:880] could not open file to read NUMA node: /sys/bus/pci/devices/0000:26:00.0/numa_node\n",
      "Your kernel may have been built without NUMA support.\n",
      "2024-12-19 11:26:20.337009: I tensorflow/compiler/xla/stream_executor/cuda/cuda_gpu_executor.cc:880] could not open file to read NUMA node: /sys/bus/pci/devices/0000:26:00.0/numa_node\n",
      "Your kernel may have been built without NUMA support.\n",
      "2024-12-19 11:26:20.337107: I tensorflow/compiler/xla/stream_executor/cuda/cuda_gpu_executor.cc:880] could not open file to read NUMA node: /sys/bus/pci/devices/0000:26:00.0/numa_node\n",
      "Your kernel may have been built without NUMA support.\n",
      "2024-12-19 11:26:20.339936: I tensorflow/compiler/xla/stream_executor/cuda/cuda_gpu_executor.cc:880] could not open file to read NUMA node: /sys/bus/pci/devices/0000:26:00.0/numa_node\n",
      "Your kernel may have been built without NUMA support.\n",
      "2024-12-19 11:26:20.340025: I tensorflow/compiler/xla/stream_executor/cuda/cuda_gpu_executor.cc:880] could not open file to read NUMA node: /sys/bus/pci/devices/0000:26:00.0/numa_node\n",
      "Your kernel may have been built without NUMA support.\n",
      "2024-12-19 11:26:20.340058: I tensorflow/compiler/xla/stream_executor/cuda/cuda_gpu_executor.cc:880] could not open file to read NUMA node: /sys/bus/pci/devices/0000:26:00.0/numa_node\n",
      "Your kernel may have been built without NUMA support.\n",
      "2024-12-19 11:26:20.779245: I tensorflow/compiler/xla/stream_executor/cuda/cuda_gpu_executor.cc:880] could not open file to read NUMA node: /sys/bus/pci/devices/0000:26:00.0/numa_node\n",
      "Your kernel may have been built without NUMA support.\n",
      "2024-12-19 11:26:20.779385: I tensorflow/compiler/xla/stream_executor/cuda/cuda_gpu_executor.cc:880] could not open file to read NUMA node: /sys/bus/pci/devices/0000:26:00.0/numa_node\n",
      "Your kernel may have been built without NUMA support.\n",
      "2024-12-19 11:26:20.779403: I tensorflow/core/common_runtime/gpu/gpu_device.cc:1977] Could not identify NUMA node of platform GPU id 0, defaulting to 0.  Your kernel may not have been built with NUMA support.\n",
      "2024-12-19 11:26:20.779481: I tensorflow/compiler/xla/stream_executor/cuda/cuda_gpu_executor.cc:880] could not open file to read NUMA node: /sys/bus/pci/devices/0000:26:00.0/numa_node\n",
      "Your kernel may have been built without NUMA support.\n",
      "2024-12-19 11:26:20.779553: I tensorflow/core/common_runtime/gpu/gpu_device.cc:1886] Created device /job:localhost/replica:0/task:0/device:GPU:0 with 9517 MB memory:  -> device: 0, name: NVIDIA GeForce RTX 4070 SUPER, pci bus id: 0000:26:00.0, compute capability: 8.9\n",
      "2024-12-19 11:26:21,223 \u001b[1;32mINFO\u001b[0m [ctlearn.ctlearn-train-model] (train_model.setup): Number of devices: 1\n",
      "2024-12-19 11:26:21,224 \u001b[1;32mINFO\u001b[0m [ctlearn.ctlearn-train-model] (train_model.setup): Loading data:\n",
      "2024-12-19 11:26:21,224 \u001b[1;32mINFO\u001b[0m [ctlearn.ctlearn-train-model] (train_model.setup):   For a large dataset, this may take a while...\n",
      "/home/blacave/miniforge3/envs/ctlearn-cluster/lib/python3.10/site-packages/ctapipe/coordinates/__init__.py:62: MissingFrameAttributeWarning: AltAz coordinate has no obstime, assuming same frame\n",
      "  warnings.warn(\n",
      "/home/blacave/miniforge3/envs/ctlearn-cluster/lib/python3.10/site-packages/ctapipe/coordinates/__init__.py:70: MissingFrameAttributeWarning: AltAz coordinate has no location, assuming same frame\n",
      "  warnings.warn(\n",
      "/home/blacave/miniforge3/envs/ctlearn-cluster/lib/python3.10/site-packages/ctapipe/coordinates/__init__.py:62: MissingFrameAttributeWarning: AltAz coordinate has no obstime, assuming same frame\n",
      "  warnings.warn(\n",
      "/home/blacave/miniforge3/envs/ctlearn-cluster/lib/python3.10/site-packages/ctapipe/coordinates/__init__.py:70: MissingFrameAttributeWarning: AltAz coordinate has no location, assuming same frame\n",
      "  warnings.warn(\n",
      "/home/blacave/miniforge3/envs/ctlearn-cluster/lib/python3.10/site-packages/ctapipe/coordinates/__init__.py:62: MissingFrameAttributeWarning: AltAz coordinate has no obstime, assuming same frame\n",
      "  warnings.warn(\n",
      "/home/blacave/miniforge3/envs/ctlearn-cluster/lib/python3.10/site-packages/ctapipe/coordinates/__init__.py:70: MissingFrameAttributeWarning: AltAz coordinate has no location, assuming same frame\n",
      "  warnings.warn(\n",
      "/home/blacave/miniforge3/envs/ctlearn-cluster/lib/python3.10/site-packages/ctapipe/coordinates/__init__.py:62: MissingFrameAttributeWarning: AltAz coordinate has no obstime, assuming same frame\n",
      "  warnings.warn(\n",
      "/home/blacave/miniforge3/envs/ctlearn-cluster/lib/python3.10/site-packages/ctapipe/coordinates/__init__.py:70: MissingFrameAttributeWarning: AltAz coordinate has no location, assuming same frame\n",
      "  warnings.warn(\n",
      "2024-12-19 11:27:05,809 \u001b[1;32mINFO\u001b[0m [ctlearn.ctlearn-train-model] (train_model.setup):   Number of events loaded: 25731\n",
      "2024-12-19 11:27:05,825 \u001b[1;34mDEBUG\u001b[0m [ctlearn.ctlearn-train-model] (tool.run): CONFIG: {'TrainCTLearnModel': {'batch_size': 64, 'config_files': [], 'dl1dh_reader_type': 'DLImageReader', 'file_pattern_background': ['*.h5'], 'file_pattern_signal': ['*.h5'], 'input_dir_background': None, 'input_dir_signal': PosixPath('/home/blacave/CTLearn/Data/DL1/SST1M/MC/Gamma_diffuse/20deg/merged/training'), 'log_config': {}, 'log_datefmt': '%Y-%m-%d %H:%M:%S', 'log_file': None, 'log_file_level': 'INFO', 'log_format': '[%(name)s]%(highlevel)s %(message)s', 'log_level': 10, 'logging_config': {}, 'lr_reducing': {'factor': 0.5, 'patience': 5, 'min_delta': 0.01, 'min_lr': 1e-06}, 'model_type': 'ResNet', 'n_epochs': 15, 'optimizer': {'name': 'Adam', 'base_learning_rate': 0.0001, 'adam_epsilon': 1e-08}, 'output_dir': PosixPath('/home/blacave/CTLearn/Data/CTLearn_Models_SST1M/energy_stereo_20deg_v0'), 'overwrite': True, 'provenance_log': PosixPath('/home/blacave/CTLearn/Software/CTLearn-Manager/notebooks/ctlearn-train-model.provenance.log'), 'quiet': False, 'random_seed': 0, 'reco_tasks': ['energy'], 'save_best_validation_only': True, 'save_onnx': False, 'show_config': False, 'show_config_json': False, 'sort_by_intensity': False, 'stack_telescope_images': True, 'validation_split': 0.1, 'DLImageReader': {'allowed_tel_types': None, 'allowed_tels': None, 'channels': ['cleaned_image', 'cleaned_relative_peak_time'], 'image_mapper_type': [('type', '*', 'BilinearMapper')], 'min_telescopes': 2, 'min_telescopes_of_type': [('type', '*', 0)], 'mode': 'stereo', 'skip_incompatible_files': False, 'TableQualityQuery': {'quality_criteria': [('> 50 phe', 'hillas_intensity > 50')]}}}}\n",
      "2024-12-19 11:27:05,826 \u001b[1;32mINFO\u001b[0m [ctlearn.ctlearn-train-model] (train_model.start): Setting up the model.\n",
      "2024-12-19 11:27:07,871 \u001b[1;32mINFO\u001b[0m [ctlearn.ctlearn-train-model] (train_model.start): Compiling CTLearn model.\n",
      "2024-12-19 11:27:07,893 \u001b[1;32mINFO\u001b[0m [ctlearn.ctlearn-train-model] (train_model.start): Training and evaluating...\n"
     ]
    },
    {
     "name": "stdout",
     "output_type": "stream",
     "text": [
      "Epoch 1/15\n"
     ]
    },
    {
     "name": "stderr",
     "output_type": "stream",
     "text": [
      "2024-12-19 11:27:22.102784: I tensorflow/compiler/xla/stream_executor/cuda/cuda_dnn.cc:442] Loaded cuDNN version 8700\n",
      "2024-12-19 11:27:25.812695: I tensorflow/compiler/xla/service/service.cc:168] XLA service 0x565568550ca0 initialized for platform CUDA (this does not guarantee that XLA will be used). Devices:\n",
      "2024-12-19 11:27:25.812748: I tensorflow/compiler/xla/service/service.cc:176]   StreamExecutor device (0): NVIDIA GeForce RTX 4070 SUPER, Compute Capability 8.9\n",
      "2024-12-19 11:27:25.820860: I tensorflow/compiler/mlir/tensorflow/utils/dump_mlir_util.cc:269] disabling MLIR crash reproducer, set env var `MLIR_CRASH_REPRODUCER_DIRECTORY` to enable.\n",
      "2024-12-19 11:27:25.971841: I ./tensorflow/compiler/jit/device_compiler.h:186] Compiled cluster using XLA!  This line is logged at most once for the lifetime of the process.\n"
     ]
    },
    {
     "name": "stdout",
     "output_type": "stream",
     "text": [
      "\n",
      "Epoch 1: val_loss improved from inf to 0.25080, saving model to /home/blacave/CTLearn/Data/CTLearn_Models_SST1M/energy_stereo_20deg_v0/ctlearn_model.cpk\n",
      "361/361 - 225s - loss: 0.3654 - mae_energy: 0.3654 - val_loss: 0.2508 - val_mae_energy: 0.2508 - lr: 1.0000e-04 - 225s/epoch - 623ms/step\n",
      "Epoch 2/15\n",
      "\n",
      "Epoch 2: val_loss improved from 0.25080 to 0.23710, saving model to /home/blacave/CTLearn/Data/CTLearn_Models_SST1M/energy_stereo_20deg_v0/ctlearn_model.cpk\n",
      "361/361 - 189s - loss: 0.2286 - mae_energy: 0.2286 - val_loss: 0.2371 - val_mae_energy: 0.2371 - lr: 1.0000e-04 - 189s/epoch - 525ms/step\n",
      "Epoch 3/15\n",
      "\n",
      "Epoch 3: val_loss improved from 0.23710 to 0.18560, saving model to /home/blacave/CTLearn/Data/CTLearn_Models_SST1M/energy_stereo_20deg_v0/ctlearn_model.cpk\n",
      "361/361 - 188s - loss: 0.1961 - mae_energy: 0.1961 - val_loss: 0.1856 - val_mae_energy: 0.1856 - lr: 1.0000e-04 - 188s/epoch - 522ms/step\n",
      "Epoch 4/15\n",
      "\n",
      "Epoch 4: val_loss did not improve from 0.18560\n",
      "361/361 - 176s - loss: 0.1780 - mae_energy: 0.1780 - val_loss: 0.1918 - val_mae_energy: 0.1918 - lr: 1.0000e-04 - 176s/epoch - 487ms/step\n",
      "Epoch 5/15\n",
      "\n",
      "Epoch 5: val_loss improved from 0.18560 to 0.16129, saving model to /home/blacave/CTLearn/Data/CTLearn_Models_SST1M/energy_stereo_20deg_v0/ctlearn_model.cpk\n",
      "361/361 - 189s - loss: 0.1630 - mae_energy: 0.1630 - val_loss: 0.1613 - val_mae_energy: 0.1613 - lr: 1.0000e-04 - 189s/epoch - 524ms/step\n",
      "Epoch 6/15\n",
      "\n",
      "Epoch 6: val_loss improved from 0.16129 to 0.15516, saving model to /home/blacave/CTLearn/Data/CTLearn_Models_SST1M/energy_stereo_20deg_v0/ctlearn_model.cpk\n",
      "361/361 - 188s - loss: 0.1540 - mae_energy: 0.1540 - val_loss: 0.1552 - val_mae_energy: 0.1552 - lr: 1.0000e-04 - 188s/epoch - 521ms/step\n",
      "Epoch 7/15\n",
      "\n",
      "Epoch 7: val_loss improved from 0.15516 to 0.14843, saving model to /home/blacave/CTLearn/Data/CTLearn_Models_SST1M/energy_stereo_20deg_v0/ctlearn_model.cpk\n",
      "361/361 - 188s - loss: 0.1466 - mae_energy: 0.1466 - val_loss: 0.1484 - val_mae_energy: 0.1484 - lr: 1.0000e-04 - 188s/epoch - 521ms/step\n",
      "Epoch 8/15\n",
      "\n",
      "Epoch 8: val_loss improved from 0.14843 to 0.14206, saving model to /home/blacave/CTLearn/Data/CTLearn_Models_SST1M/energy_stereo_20deg_v0/ctlearn_model.cpk\n",
      "361/361 - 183s - loss: 0.1354 - mae_energy: 0.1354 - val_loss: 0.1421 - val_mae_energy: 0.1421 - lr: 1.0000e-04 - 183s/epoch - 506ms/step\n",
      "Epoch 9/15\n",
      "\n",
      "Epoch 9: val_loss improved from 0.14206 to 0.14170, saving model to /home/blacave/CTLearn/Data/CTLearn_Models_SST1M/energy_stereo_20deg_v0/ctlearn_model.cpk\n",
      "361/361 - 183s - loss: 0.1350 - mae_energy: 0.1350 - val_loss: 0.1417 - val_mae_energy: 0.1417 - lr: 1.0000e-04 - 183s/epoch - 508ms/step\n",
      "Epoch 10/15\n",
      "\n",
      "Epoch 10: val_loss improved from 0.14170 to 0.13098, saving model to /home/blacave/CTLearn/Data/CTLearn_Models_SST1M/energy_stereo_20deg_v0/ctlearn_model.cpk\n",
      "361/361 - 183s - loss: 0.1261 - mae_energy: 0.1261 - val_loss: 0.1310 - val_mae_energy: 0.1310 - lr: 1.0000e-04 - 183s/epoch - 507ms/step\n",
      "Epoch 11/15\n",
      "\n",
      "Epoch 11: val_loss did not improve from 0.13098\n",
      "361/361 - 171s - loss: 0.1200 - mae_energy: 0.1200 - val_loss: 0.1362 - val_mae_energy: 0.1362 - lr: 1.0000e-04 - 171s/epoch - 473ms/step\n",
      "Epoch 12/15\n",
      "\n",
      "Epoch 12: val_loss did not improve from 0.13098\n",
      "361/361 - 171s - loss: 0.1155 - mae_energy: 0.1155 - val_loss: 0.1343 - val_mae_energy: 0.1343 - lr: 1.0000e-04 - 171s/epoch - 473ms/step\n",
      "Epoch 13/15\n",
      "\n",
      "Epoch 13: val_loss improved from 0.13098 to 0.12301, saving model to /home/blacave/CTLearn/Data/CTLearn_Models_SST1M/energy_stereo_20deg_v0/ctlearn_model.cpk\n",
      "361/361 - 185s - loss: 0.1120 - mae_energy: 0.1120 - val_loss: 0.1230 - val_mae_energy: 0.1230 - lr: 1.0000e-04 - 185s/epoch - 513ms/step\n",
      "Epoch 14/15\n",
      "\n",
      "Epoch 14: val_loss improved from 0.12301 to 0.12158, saving model to /home/blacave/CTLearn/Data/CTLearn_Models_SST1M/energy_stereo_20deg_v0/ctlearn_model.cpk\n",
      "361/361 - 190s - loss: 0.1082 - mae_energy: 0.1082 - val_loss: 0.1216 - val_mae_energy: 0.1216 - lr: 1.0000e-04 - 190s/epoch - 525ms/step\n",
      "Epoch 15/15\n",
      "\n",
      "Epoch 15: val_loss did not improve from 0.12158\n",
      "\n",
      "Epoch 15: ReduceLROnPlateau reducing learning rate to 4.999999873689376e-05.\n",
      "361/361 - 176s - loss: 0.1003 - mae_energy: 0.1003 - val_loss: 0.1307 - val_mae_energy: 0.1307 - lr: 1.0000e-04 - 176s/epoch - 487ms/step\n"
     ]
    },
    {
     "name": "stderr",
     "output_type": "stream",
     "text": [
      "2024-12-19 12:13:35,086 \u001b[1;32mINFO\u001b[0m [ctlearn.ctlearn-train-model] (train_model.start): Training and evaluating finished succesfully!\n",
      "2024-12-19 12:13:35,087 \u001b[1;32mINFO\u001b[0m [ctlearn.ctlearn-train-model] (train_model.finish): Plotting training history...\n",
      "2024-12-19 12:13:35,092 \u001b[1;32mINFO\u001b[0m [ctlearn.ctlearn-train-model] (train_model.finish): Plotting training history: loss\n",
      "2024-12-19 12:13:35,438 \u001b[1;32mINFO\u001b[0m [ctlearn.ctlearn-train-model] (train_model.finish): Plotting training history: mae_energy\n",
      "2024-12-19 12:13:35,555 \u001b[1;32mINFO\u001b[0m [ctlearn.ctlearn-train-model] (train_model.finish): Tool is shutting down\n",
      "2024-12-19 12:13:35,555 \u001b[1;32mINFO\u001b[0m [ctlearn.ctlearn-train-model] (tool.run): Finished: ctlearn-train-model\n",
      "2024-12-19 12:13:35,565 \u001b[1;32mINFO\u001b[0m [ctlearn.ctlearn-train-model] (tool.write_provenance): Output: \n",
      "2024-12-19 12:13:35,565 \u001b[1;34mDEBUG\u001b[0m [ctlearn.ctlearn-train-model] (tool.write_provenance): PROVENANCE: 'Details about provenance is found in /home/blacave/CTLearn/Software/CTLearn-Manager/notebooks/ctlearn-train-model.provenance.log'\n",
      "2024-12-19 12:13:35,567 \u001b[1;34mDEBUG\u001b[0m [ctlearn.ctlearn-train-model] (application.exit): Exiting application: ctlearn-train-model\n",
      "Closing remaining open files:/home/blacave/CTLearn/Data/DL1/SST1M/MC/Gamma_diffuse/20deg/merged/training/gamma_diffuse_20deg_2000_2999.dl1.h5...done/home/blacave/CTLearn/Data/DL1/SST1M/MC/Gamma_diffuse/20deg/merged/training/gamma_diffuse_20deg_0_999.dl1.h5...done/home/blacave/CTLearn/Data/DL1/SST1M/MC/Gamma_diffuse/20deg/merged/training/gamma_diffuse_20deg_1000_1999.dl1.h5...done/home/blacave/CTLearn/Data/DL1/SST1M/MC/Gamma_diffuse/20deg/merged/training/gamma_diffuse_20deg_3000_3999.dl1.h5...done\n"
     ]
    }
   ],
   "source": [
    "new_model.launch_training(n_epochs=15)"
   ]
  },
  {
   "cell_type": "code",
   "execution_count": 11,
   "metadata": {},
   "outputs": [
    {
     "data": {
      "image/png": "[encoded data removed]",
      "text/plain": [
       "<Figure size 640x480 with 1 Axes>"
      ]
     },
     "metadata": {},
     "output_type": "display_data"
    }
   ],
   "source": [
    "new_model.plot_loss()"
   ]
  }
 ],
 "metadata": {
  "kernelspec": {
   "display_name": "ctlearn-cluster",
   "language": "python",
   "name": "python3"
  },
  "language_info": {
   "codemirror_mode": {
    "name": "ipython",
    "version": 3
   },
   "file_extension": ".py",
   "mimetype": "text/x-python",
   "name": "python",
   "nbconvert_exporter": "python",
   "pygments_lexer": "ipython3",
   "version": "3.10.15"
  }
 },
 "nbformat": 4,
 "nbformat_minor": 2
}
