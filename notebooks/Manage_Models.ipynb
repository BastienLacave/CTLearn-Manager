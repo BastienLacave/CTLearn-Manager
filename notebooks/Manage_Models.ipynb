{
 "cells": [
  {
   "cell_type": "code",
   "execution_count": 1,
   "metadata": {},
   "outputs": [],
   "source": [
    "from astropy.table import QTable\n",
    "import numpy as np\n",
    "from pathlib import Path\n",
    "from ctlearn_manager import CTLearnModelManager, CTLearnTriModelManager, load_model_from_index"
   ]
  },
  {
   "cell_type": "markdown",
   "metadata": {},
   "source": [
    "# 🧠 Create new CTLearnModelManager\n",
    "CTLearnModelManager is an object that allows you to setup and train a CTLearn model"
   ]
  },
  {
   "cell_type": "code",
   "execution_count": 2,
   "metadata": {},
   "outputs": [
    {
     "name": "stdout",
     "output_type": "stream",
     "text": [
      "🧠 Model name: type_TEL1_2_ZD20_Az0\n",
      "✅ Model nickname type_stereo_20deg added to table\n"
     ]
    }
   ],
   "source": [
    "# Where all the models are stored\n",
    "MODEL_INDEX_FILE = \"/home/blacave/CTLearn/Software/CTLearn-Manager/ctearn_models_index.ecsv\"\n",
    "# General parameters\n",
    "model_parameters = {\n",
    "    'model_nickname' : \"type_stereo_20deg\",\n",
    "    'model_dir' : \"/home/blacave/CTLearn/Data/CTLearn_Models_SST1M/\",\n",
    "    'notes' : \"Stereo model for 20deg zenith distance\",\n",
    "    'reco' : 'type', #[\"energy\", \"direction\", \"type\"]\n",
    "    'channels' : ['cleaned_image', 'cleaned_relative_peak_time'], # Order matters\n",
    "    'telescope_names' : ['SST1M_1', 'SST1M_2'],\n",
    "    'telescopes_indices' : [1, 2],\n",
    "    'training_gamma_dirs' : ['/home/blacave/CTLearn/Data/DL1/SST1M/MC/Gamma_diffuse/20deg/merged/training/'],\n",
    "    'training_proton_dirs' : ['/home/blacave/CTLearn/Data/DL1/SST1M/MC/Proton_diffuse/20deg/merged/training/'],\n",
    "    'training_gamma_zenith_distances' : [20],\n",
    "    'training_gamma_azimuths' : [0],\n",
    "    'training_proton_zenith_distances' : [20],\n",
    "    'training_proton_azimuths' : [0],\n",
    "    'max_training_epochs' : 15, \n",
    "}\n",
    "new_model = CTLearnModelManager(model_parameters, MODEL_INDEX_FILE)\n",
    "new_model.save_to_index()"
   ]
  },
  {
   "cell_type": "code",
   "execution_count": null,
   "metadata": {},
   "outputs": [
    {
     "name": "stdout",
     "output_type": "stream",
     "text": [
      "🚀 Launching training for 15 epochs\n",
      "🆕 Model does not exist: will create type_stereo_20deg_v0\n",
      "ctlearn-train-model             --signal /home/blacave/CTLearn/Data/DL1/SST1M/MC/Gamma_diffuse/20deg/merged/training/             --background /home/blacave/CTLearn/Data/DL1/SST1M/MC/Proton_diffuse/20deg/merged/training/             --reco type             --output /home/blacave/CTLearn/Data/CTLearn_Models_SST1M//type_stereo_20deg_v0/             --DLImageReader.channels=cleaned_image --DLImageReader.channels=cleaned_relative_peak_time             --TrainCTLearnModel.n_epochs=15             --verbose             --TrainCTLearnModel.save_best_validation_only=True            --overwrite             --DLImageReader.mode=stereo             --TrainCTLearnModel.stack_telescope_images=true            --DLImageReader.min_telescopes=2\n"
     ]
    },
    {
     "name": "stderr",
     "output_type": "stream",
     "text": [
      "2024-12-19 13:36:20.614587: E tensorflow/compiler/xla/stream_executor/cuda/cuda_dnn.cc:9342] Unable to register cuDNN factory: Attempting to register factory for plugin cuDNN when one has already been registered\n",
      "2024-12-19 13:36:20.614719: E tensorflow/compiler/xla/stream_executor/cuda/cuda_fft.cc:609] Unable to register cuFFT factory: Attempting to register factory for plugin cuFFT when one has already been registered\n",
      "2024-12-19 13:36:20.618431: E tensorflow/compiler/xla/stream_executor/cuda/cuda_blas.cc:1518] Unable to register cuBLAS factory: Attempting to register factory for plugin cuBLAS when one has already been registered\n",
      "2024-12-19 13:36:20.897056: I tensorflow/core/platform/cpu_feature_guard.cc:182] This TensorFlow binary is optimized to use available CPU instructions in performance-critical operations.\n",
      "To enable the following instructions: AVX2 FMA, in other operations, rebuild TensorFlow with the appropriate compiler flags.\n",
      "2024-12-19 13:36:27,528 \u001b[1;32mINFO\u001b[0m [ctlearn.ctlearn-train-model] (tool.initialize): Loading config from '[]'\n",
      "2024-12-19 13:36:27,529 \u001b[1;32mINFO\u001b[0m [ctlearn.ctlearn-train-model] (tool.initialize): ctapipe version 0.23.0\n",
      "2024-12-19 13:36:27,529 \u001b[1;32mINFO\u001b[0m [ctlearn.ctlearn-train-model] (train_model.setup): Removing existing output directory /home/blacave/CTLearn/Data/CTLearn_Models_SST1M/type_stereo_20deg_v0\n",
      "2024-12-19 13:36:27.855846: I tensorflow/compiler/xla/stream_executor/cuda/cuda_gpu_executor.cc:880] could not open file to read NUMA node: /sys/bus/pci/devices/0000:26:00.0/numa_node\n",
      "Your kernel may have been built without NUMA support.\n",
      "2024-12-19 13:36:27.923206: I tensorflow/compiler/xla/stream_executor/cuda/cuda_gpu_executor.cc:880] could not open file to read NUMA node: /sys/bus/pci/devices/0000:26:00.0/numa_node\n",
      "Your kernel may have been built without NUMA support.\n",
      "2024-12-19 13:36:27.923297: I tensorflow/compiler/xla/stream_executor/cuda/cuda_gpu_executor.cc:880] could not open file to read NUMA node: /sys/bus/pci/devices/0000:26:00.0/numa_node\n",
      "Your kernel may have been built without NUMA support.\n",
      "2024-12-19 13:36:27.926294: I tensorflow/compiler/xla/stream_executor/cuda/cuda_gpu_executor.cc:880] could not open file to read NUMA node: /sys/bus/pci/devices/0000:26:00.0/numa_node\n",
      "Your kernel may have been built without NUMA support.\n",
      "2024-12-19 13:36:27.926392: I tensorflow/compiler/xla/stream_executor/cuda/cuda_gpu_executor.cc:880] could not open file to read NUMA node: /sys/bus/pci/devices/0000:26:00.0/numa_node\n",
      "Your kernel may have been built without NUMA support.\n",
      "2024-12-19 13:36:27.926444: I tensorflow/compiler/xla/stream_executor/cuda/cuda_gpu_executor.cc:880] could not open file to read NUMA node: /sys/bus/pci/devices/0000:26:00.0/numa_node\n",
      "Your kernel may have been built without NUMA support.\n",
      "2024-12-19 13:36:28.259682: I tensorflow/compiler/xla/stream_executor/cuda/cuda_gpu_executor.cc:880] could not open file to read NUMA node: /sys/bus/pci/devices/0000:26:00.0/numa_node\n",
      "Your kernel may have been built without NUMA support.\n",
      "2024-12-19 13:36:28.259809: I tensorflow/compiler/xla/stream_executor/cuda/cuda_gpu_executor.cc:880] could not open file to read NUMA node: /sys/bus/pci/devices/0000:26:00.0/numa_node\n",
      "Your kernel may have been built without NUMA support.\n",
      "2024-12-19 13:36:28.259826: I tensorflow/core/common_runtime/gpu/gpu_device.cc:1977] Could not identify NUMA node of platform GPU id 0, defaulting to 0.  Your kernel may not have been built with NUMA support.\n",
      "2024-12-19 13:36:28.259878: I tensorflow/compiler/xla/stream_executor/cuda/cuda_gpu_executor.cc:880] could not open file to read NUMA node: /sys/bus/pci/devices/0000:26:00.0/numa_node\n",
      "Your kernel may have been built without NUMA support.\n",
      "2024-12-19 13:36:28.259902: I tensorflow/core/common_runtime/gpu/gpu_device.cc:1886] Created device /job:localhost/replica:0/task:0/device:GPU:0 with 9517 MB memory:  -> device: 0, name: NVIDIA GeForce RTX 4070 SUPER, pci bus id: 0000:26:00.0, compute capability: 8.9\n",
      "2024-12-19 13:36:28,536 \u001b[1;32mINFO\u001b[0m [ctlearn.ctlearn-train-model] (train_model.setup): Number of devices: 1\n",
      "2024-12-19 13:36:28,538 \u001b[1;32mINFO\u001b[0m [ctlearn.ctlearn-train-model] (train_model.setup): Loading data:\n",
      "2024-12-19 13:36:28,539 \u001b[1;32mINFO\u001b[0m [ctlearn.ctlearn-train-model] (train_model.setup):   For a large dataset, this may take a while...\n",
      "/home/blacave/miniforge3/envs/ctlearn-cluster/lib/python3.10/site-packages/ctapipe/coordinates/__init__.py:62: MissingFrameAttributeWarning: AltAz coordinate has no obstime, assuming same frame\n",
      "  warnings.warn(\n",
      "/home/blacave/miniforge3/envs/ctlearn-cluster/lib/python3.10/site-packages/ctapipe/coordinates/__init__.py:70: MissingFrameAttributeWarning: AltAz coordinate has no location, assuming same frame\n",
      "  warnings.warn(\n",
      "/home/blacave/miniforge3/envs/ctlearn-cluster/lib/python3.10/site-packages/ctapipe/coordinates/__init__.py:62: MissingFrameAttributeWarning: AltAz coordinate has no obstime, assuming same frame\n",
      "  warnings.warn(\n",
      "/home/blacave/miniforge3/envs/ctlearn-cluster/lib/python3.10/site-packages/ctapipe/coordinates/__init__.py:70: MissingFrameAttributeWarning: AltAz coordinate has no location, assuming same frame\n",
      "  warnings.warn(\n",
      "/home/blacave/miniforge3/envs/ctlearn-cluster/lib/python3.10/site-packages/ctapipe/coordinates/__init__.py:62: MissingFrameAttributeWarning: AltAz coordinate has no obstime, assuming same frame\n",
      "  warnings.warn(\n",
      "/home/blacave/miniforge3/envs/ctlearn-cluster/lib/python3.10/site-packages/ctapipe/coordinates/__init__.py:70: MissingFrameAttributeWarning: AltAz coordinate has no location, assuming same frame\n",
      "  warnings.warn(\n",
      "/home/blacave/miniforge3/envs/ctlearn-cluster/lib/python3.10/site-packages/ctapipe/coordinates/__init__.py:62: MissingFrameAttributeWarning: AltAz coordinate has no obstime, assuming same frame\n",
      "  warnings.warn(\n",
      "/home/blacave/miniforge3/envs/ctlearn-cluster/lib/python3.10/site-packages/ctapipe/coordinates/__init__.py:70: MissingFrameAttributeWarning: AltAz coordinate has no location, assuming same frame\n",
      "  warnings.warn(\n",
      "/home/blacave/miniforge3/envs/ctlearn-cluster/lib/python3.10/site-packages/ctapipe/coordinates/__init__.py:62: MissingFrameAttributeWarning: AltAz coordinate has no obstime, assuming same frame\n",
      "  warnings.warn(\n",
      "/home/blacave/miniforge3/envs/ctlearn-cluster/lib/python3.10/site-packages/ctapipe/coordinates/__init__.py:70: MissingFrameAttributeWarning: AltAz coordinate has no location, assuming same frame\n",
      "  warnings.warn(\n",
      "/home/blacave/miniforge3/envs/ctlearn-cluster/lib/python3.10/site-packages/ctapipe/coordinates/__init__.py:62: MissingFrameAttributeWarning: AltAz coordinate has no obstime, assuming same frame\n",
      "  warnings.warn(\n",
      "/home/blacave/miniforge3/envs/ctlearn-cluster/lib/python3.10/site-packages/ctapipe/coordinates/__init__.py:70: MissingFrameAttributeWarning: AltAz coordinate has no location, assuming same frame\n",
      "  warnings.warn(\n",
      "/home/blacave/miniforge3/envs/ctlearn-cluster/lib/python3.10/site-packages/ctapipe/coordinates/__init__.py:62: MissingFrameAttributeWarning: AltAz coordinate has no obstime, assuming same frame\n",
      "  warnings.warn(\n",
      "/home/blacave/miniforge3/envs/ctlearn-cluster/lib/python3.10/site-packages/ctapipe/coordinates/__init__.py:70: MissingFrameAttributeWarning: AltAz coordinate has no location, assuming same frame\n",
      "  warnings.warn(\n",
      "2024-12-19 13:37:35,384 \u001b[1;32mINFO\u001b[0m [ctlearn.ctlearn-train-model.DLImageReader] (reader.__init__):   Total number of events: 46191\n",
      "2024-12-19 13:37:35,384 \u001b[1;32mINFO\u001b[0m [ctlearn.ctlearn-train-model.DLImageReader] (reader.__init__):   Number of signal events: 25731\n",
      "2024-12-19 13:37:35,384 \u001b[1;32mINFO\u001b[0m [ctlearn.ctlearn-train-model.DLImageReader] (reader.__init__):   Number of background events: 20460\n",
      "2024-12-19 13:37:35,387 \u001b[1;32mINFO\u001b[0m [ctlearn.ctlearn-train-model] (train_model.setup):   Number of events loaded: 46191\n",
      "2024-12-19 13:37:35,396 \u001b[1;34mDEBUG\u001b[0m [ctlearn.ctlearn-train-model] (tool.run): CONFIG: {'TrainCTLearnModel': {'batch_size': 64, 'config_files': [], 'dl1dh_reader_type': 'DLImageReader', 'file_pattern_background': ['*.h5'], 'file_pattern_signal': ['*.h5'], 'input_dir_background': PosixPath('/home/blacave/CTLearn/Data/DL1/SST1M/MC/Proton_diffuse/20deg/merged/training'), 'input_dir_signal': PosixPath('/home/blacave/CTLearn/Data/DL1/SST1M/MC/Gamma_diffuse/20deg/merged/training'), 'log_config': {}, 'log_datefmt': '%Y-%m-%d %H:%M:%S', 'log_file': None, 'log_file_level': 'INFO', 'log_format': '[%(name)s]%(highlevel)s %(message)s', 'log_level': 10, 'logging_config': {}, 'lr_reducing': {'factor': 0.5, 'patience': 5, 'min_delta': 0.01, 'min_lr': 1e-06}, 'model_type': 'ResNet', 'n_epochs': 15, 'optimizer': {'name': 'Adam', 'base_learning_rate': 0.0001, 'adam_epsilon': 1e-08}, 'output_dir': PosixPath('/home/blacave/CTLearn/Data/CTLearn_Models_SST1M/type_stereo_20deg_v0'), 'overwrite': True, 'provenance_log': PosixPath('/home/blacave/CTLearn/Software/CTLearn-Manager/notebooks/ctlearn-train-model.provenance.log'), 'quiet': False, 'random_seed': 0, 'reco_tasks': ['type'], 'save_best_validation_only': True, 'save_onnx': False, 'show_config': False, 'show_config_json': False, 'sort_by_intensity': False, 'stack_telescope_images': True, 'validation_split': 0.1, 'DLImageReader': {'allowed_tel_types': None, 'allowed_tels': None, 'channels': ['cleaned_image', 'cleaned_relative_peak_time'], 'image_mapper_type': [('type', '*', 'BilinearMapper')], 'min_telescopes': 2, 'min_telescopes_of_type': [('type', '*', 0)], 'mode': 'stereo', 'skip_incompatible_files': False, 'TableQualityQuery': {'quality_criteria': [('> 50 phe', 'hillas_intensity > 50')]}}}}\n",
      "2024-12-19 13:37:35,397 \u001b[1;32mINFO\u001b[0m [ctlearn.ctlearn-train-model] (train_model.start): Setting up the model.\n",
      "2024-12-19 13:37:37,193 \u001b[1;32mINFO\u001b[0m [ctlearn.ctlearn-train-model] (train_model.start): Compiling CTLearn model.\n",
      "2024-12-19 13:37:37,205 \u001b[1;32mINFO\u001b[0m [ctlearn.ctlearn-train-model] (train_model.start): Training and evaluating...\n"
     ]
    },
    {
     "name": "stdout",
     "output_type": "stream",
     "text": [
      "Epoch 1/15\n"
     ]
    },
    {
     "name": "stderr",
     "output_type": "stream",
     "text": [
      "2024-12-19 13:37:52.020104: I tensorflow/compiler/xla/stream_executor/cuda/cuda_dnn.cc:442] Loaded cuDNN version 8700\n",
      "2024-12-19 13:37:56.638051: I tensorflow/compiler/xla/service/service.cc:168] XLA service 0x7ff1e40c3940 initialized for platform CUDA (this does not guarantee that XLA will be used). Devices:\n",
      "2024-12-19 13:37:56.638099: I tensorflow/compiler/xla/service/service.cc:176]   StreamExecutor device (0): NVIDIA GeForce RTX 4070 SUPER, Compute Capability 8.9\n",
      "2024-12-19 13:37:56.650839: I tensorflow/compiler/mlir/tensorflow/utils/dump_mlir_util.cc:269] disabling MLIR crash reproducer, set env var `MLIR_CRASH_REPRODUCER_DIRECTORY` to enable.\n",
      "2024-12-19 13:37:56.848353: I ./tensorflow/compiler/jit/device_compiler.h:186] Compiled cluster using XLA!  This line is logged at most once for the lifetime of the process.\n"
     ]
    },
    {
     "name": "stdout",
     "output_type": "stream",
     "text": [
      "\n",
      "Epoch 1: val_loss improved from inf to 0.59020, saving model to /home/blacave/CTLearn/Data/CTLearn_Models_SST1M/type_stereo_20deg_v0/ctlearn_model.cpk\n",
      "649/649 - 369s - loss: 0.6034 - accuracy: 0.6658 - auc: 0.7318 - val_loss: 0.5902 - val_accuracy: 0.6918 - val_auc: 0.7623 - lr: 1.0000e-04 - 369s/epoch - 569ms/step\n",
      "Epoch 2/15\n",
      "\n",
      "Epoch 2: val_loss improved from 0.59020 to 0.43460, saving model to /home/blacave/CTLearn/Data/CTLearn_Models_SST1M/type_stereo_20deg_v0/ctlearn_model.cpk\n",
      "649/649 - 331s - loss: 0.4672 - accuracy: 0.7803 - auc: 0.8600 - val_loss: 0.4346 - val_accuracy: 0.8056 - val_auc: 0.8814 - lr: 1.0000e-04 - 331s/epoch - 510ms/step\n",
      "Epoch 3/15\n",
      "\n",
      "Epoch 3: val_loss did not improve from 0.43460\n",
      "649/649 - 319s - loss: 0.4147 - accuracy: 0.8143 - auc: 0.8925 - val_loss: 0.5080 - val_accuracy: 0.7535 - val_auc: 0.8362 - lr: 1.0000e-04 - 319s/epoch - 491ms/step\n",
      "Epoch 4/15\n",
      "\n",
      "Epoch 4: val_loss improved from 0.43460 to 0.38969, saving model to /home/blacave/CTLearn/Data/CTLearn_Models_SST1M/type_stereo_20deg_v0/ctlearn_model.cpk\n",
      "649/649 - 336s - loss: 0.3938 - accuracy: 0.8249 - auc: 0.9035 - val_loss: 0.3897 - val_accuracy: 0.8268 - val_auc: 0.9058 - lr: 1.0000e-04 - 336s/epoch - 517ms/step\n",
      "Epoch 5/15\n"
     ]
    }
   ],
   "source": [
    "new_model.launch_training(n_epochs=15)"
   ]
  },
  {
   "cell_type": "code",
   "execution_count": null,
   "metadata": {},
   "outputs": [],
   "source": [
    "new_model.plot_loss()"
   ]
  }
 ],
 "metadata": {
  "kernelspec": {
   "display_name": "ctlearn-cluster",
   "language": "python",
   "name": "python3"
  },
  "language_info": {
   "codemirror_mode": {
    "name": "ipython",
    "version": 3
   },
   "file_extension": ".py",
   "mimetype": "text/x-python",
   "name": "python",
   "nbconvert_exporter": "python",
   "pygments_lexer": "ipython3",
   "version": "3.10.15"
  }
 },
 "nbformat": 4,
 "nbformat_minor": 2
}
