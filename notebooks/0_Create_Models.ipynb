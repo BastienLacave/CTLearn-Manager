{
 "cells": [
  {
   "cell_type": "code",
   "execution_count": 1,
   "metadata": {},
   "outputs": [],
   "source": [
    "from ctlearn_manager import CTLearnModelManager, CTLearnTriModelManager, load_model_from_index"
   ]
  },
  {
   "cell_type": "markdown",
   "metadata": {},
   "source": [
    "# 🧠 Create new `CTLearnModelManager`\n",
    "`CTLearnModelManager` is an object that allows you to setup and train a CTLearn model"
   ]
  },
  {
   "cell_type": "code",
   "execution_count": 2,
   "metadata": {},
   "outputs": [
    {
     "name": "stdout",
     "output_type": "stream",
     "text": [
      "🧠 Model name: type_TEL1_2_ZD20_Az0\n",
      "❌ Model nickname type_stereo_20deg already in table\n"
     ]
    }
   ],
   "source": [
    "# Where all the models are stored\n",
    "MODEL_INDEX_FILE = \"/home/blacave/CTLearn/Software/CTLearn-Manager/ctearn_models_index.ecsv\"\n",
    "# General parameters\n",
    "model_parameters = {\n",
    "    'model_nickname' : \"direction_stereo_20deg\",\n",
    "    'model_dir' : \"/home/blacave/CTLearn/Data/CTLearn_Models_SST1M/\",\n",
    "    'notes' : \"Stereo model for 20deg zenith distance\",\n",
    "    'reco' : 'direction', #[\"energy\", \"direction\", \"type\"]\n",
    "    'channels' : ['cleaned_image', 'cleaned_relative_peak_time'], # Order matters\n",
    "    'telescope_names' : ['SST1M_1', 'SST1M_2'],\n",
    "    'telescopes_indices' : [1, 2],\n",
    "    'training_gamma_dirs' : ['/home/blacave/CTLearn/Data/DL1/SST1M/MC/Gamma_diffuse/20deg/merged/training/'],\n",
    "    'training_proton_dirs' : ['/home/blacave/CTLearn/Data/DL1/SST1M/MC/Proton_diffuse/20deg/merged/training/'],\n",
    "    'training_gamma_zenith_distances' : [20],\n",
    "    'training_gamma_azimuths' : [0],\n",
    "    'training_proton_zenith_distances' : [20],\n",
    "    'training_proton_azimuths' : [0],\n",
    "    'max_training_epochs' : 15, \n",
    "}\n",
    "new_model = CTLearnModelManager(model_parameters, MODEL_INDEX_FILE)\n",
    "new_model.save_to_index()"
   ]
  }
 ],
 "metadata": {
  "kernelspec": {
   "display_name": "ctlearn-cluster",
   "language": "python",
   "name": "python3"
  },
  "language_info": {
   "codemirror_mode": {
    "name": "ipython",
    "version": 3
   },
   "file_extension": ".py",
   "mimetype": "text/x-python",
   "name": "python",
   "nbconvert_exporter": "python",
   "pygments_lexer": "ipython3",
   "version": "3.10.15"
  }
 },
 "nbformat": 4,
 "nbformat_minor": 2
}
