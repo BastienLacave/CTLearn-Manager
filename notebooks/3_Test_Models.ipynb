{
 "cells": [
  {
   "cell_type": "code",
   "execution_count": 1,
   "metadata": {},
   "outputs": [],
   "source": [
    "from ctlearn_manager import CTLearnTriModelManager\n",
    "from ctlearn_manager.io import load_model_from_index"
   ]
  },
  {
   "cell_type": "markdown",
   "metadata": {},
   "source": [
    "# 💾 Load models"
   ]
  },
  {
   "cell_type": "code",
   "execution_count": 2,
   "metadata": {},
   "outputs": [
    {
     "name": "stdout",
     "output_type": "stream",
     "text": [
      "\n",
      "🧠 Model name: energy_stereo_20deg\n",
      "\n",
      "🧠 Model name: direction_stereo_20deg\n",
      "\n",
      "🧠 Model name: type_stereo_20deg\n"
     ]
    }
   ],
   "source": [
    "MODEL_INDEX_FILE = \"/home/blacave/CTLearn/Software/CTLearn-Manager/ctearn_models_index.h5\"\n",
    "energy_model = load_model_from_index(\"energy_stereo_20deg\", MODEL_INDEX_FILE)\n",
    "direction_model = load_model_from_index(\"direction_stereo_20deg\", MODEL_INDEX_FILE)\n",
    "type_model = load_model_from_index(\"type_stereo_20deg\", MODEL_INDEX_FILE)\n",
    "Stereo_Tri_Model = CTLearnTriModelManager(direction_model=direction_model, energy_model=energy_model, type_model=type_model)"
   ]
  },
  {
   "cell_type": "code",
   "execution_count": 4,
   "metadata": {},
   "outputs": [
    {
     "name": "stdout",
     "output_type": "stream",
     "text": [
      "/home/blacave/CTLearn/Data/DL1/SST1M/MC/Gamma_point/20deg/testing/\n",
      "                        testing_gamma_dirs                        \n",
      "------------------------------------------------------------------\n",
      "/home/blacave/CTLearn/Data/DL1/SST1M/MC/Gamma_point/20deg/testing/\n",
      "                        testing_gamma_dirs                        \n",
      "------------------------------------------------------------------\n",
      "/home/blacave/CTLearn/Data/DL1/SST1M/MC/Gamma_point/20deg/testing/\n"
     ]
    }
   ],
   "source": [
    "print(energy_model.testing_gamma_dirs)\n",
    "print(direction_model.testing_gamma_dirs)\n",
    "print(type_model.testing_gamma_dirs)"
   ]
  },
  {
   "cell_type": "markdown",
   "metadata": {},
   "source": [
    "# 🗃️ Set testing files and directions"
   ]
  },
  {
   "cell_type": "code",
   "execution_count": 5,
   "metadata": {},
   "outputs": [
    {
     "name": "stdout",
     "output_type": "stream",
     "text": [
      "💾 Model direction_stereo_20deg testing data update:\n",
      "\t➡️ Testing gamma data updated\n",
      "\t➡️ Testing proton data updated\n",
      "💾 Model energy_stereo_20deg testing data update:\n",
      "\t➡️ Testing gamma data updated\n",
      "\t➡️ Testing proton data updated\n",
      "💾 Model type_stereo_20deg testing data update:\n",
      "\t➡️ Testing gamma data updated\n",
      "\t➡️ Testing proton data updated\n"
     ]
    }
   ],
   "source": [
    "Stereo_Tri_Model.set_testing_directories(\n",
    "    testing_gamma_dirs = [\"/home/blacave/CTLearn/Data/DL1/SST1M/MC/Gamma_point/20deg/testing/\"], \n",
    "    testing_proton_dirs = [\"/home/blacave/CTLearn/Data/DL1/SST1M/MC/Proton_diffuse/20deg/merged/testing/\"], \n",
    "    testing_gamma_zenith_distances = [20], \n",
    "    testing_gamma_azimuths = [0], \n",
    "    testing_proton_zenith_distances = [20], \n",
    "    testing_proton_azimuths = [0]\n",
    "    )"
   ]
  },
  {
   "cell_type": "markdown",
   "metadata": {},
   "source": [
    "# 🧪 Launch testing"
   ]
  },
  {
   "cell_type": "code",
   "execution_count": 4,
   "metadata": {},
   "outputs": [
    {
     "ename": "ValueError",
     "evalue": "All models must have the same testing gamma directories, use set_testing_files to set them",
     "output_type": "error",
     "traceback": [
      "\u001b[0;31m---------------------------------------------------------------------------\u001b[0m",
      "\u001b[0;31mValueError\u001b[0m                                Traceback (most recent call last)",
      "Cell \u001b[0;32mIn[4], line 1\u001b[0m\n\u001b[0;32m----> 1\u001b[0m \u001b[43mStereo_Tri_Model\u001b[49m\u001b[38;5;241;43m.\u001b[39;49m\u001b[43mlaunch_testing\u001b[49m\u001b[43m(\u001b[49m\u001b[38;5;241;43m20\u001b[39;49m\u001b[43m,\u001b[49m\u001b[43m \u001b[49m\u001b[38;5;241;43m0\u001b[39;49m\u001b[43m,\u001b[49m\u001b[43m \u001b[49m\n\u001b[1;32m      2\u001b[0m \u001b[43m    \u001b[49m\u001b[43m[\u001b[49m\u001b[38;5;124;43m\"\u001b[39;49m\u001b[38;5;124;43m/home/blacave/CTLearn/Data/DL2/Testing/\u001b[39;49m\u001b[38;5;124;43m\"\u001b[39;49m\u001b[43m]\u001b[49m\u001b[43m,\u001b[49m\u001b[43m \u001b[49m\n\u001b[1;32m      3\u001b[0m \u001b[43m    \u001b[49m\u001b[43mlaunch_particle_type\u001b[49m\u001b[38;5;241;43m=\u001b[39;49m\u001b[38;5;124;43m'\u001b[39;49m\u001b[38;5;124;43mboth\u001b[39;49m\u001b[38;5;124;43m'\u001b[39;49m\u001b[43m,\u001b[49m\u001b[43m \u001b[49m\n\u001b[1;32m      4\u001b[0m \u001b[43m    \u001b[49m\u001b[43m)\u001b[49m\n",
      "File \u001b[0;32m~/miniforge3/envs/ctlearn-cluster/lib/python3.10/site-packages/ctlearn_manager/__init__.py:646\u001b[0m, in \u001b[0;36mCTLearnTriModelManager.launch_testing\u001b[0;34m(self, zenith, azimuth, output_dirs, pattern, sbatch_scripts_dir, launch_particle_type, cluster, account, python_env)\u001b[0m\n\u001b[1;32m    644\u001b[0m \u001b[38;5;28;01mif\u001b[39;00m launch_particle_type \u001b[38;5;129;01min\u001b[39;00m [\u001b[38;5;124m'\u001b[39m\u001b[38;5;124mgamma\u001b[39m\u001b[38;5;124m'\u001b[39m, \u001b[38;5;124m'\u001b[39m\u001b[38;5;124mboth\u001b[39m\u001b[38;5;124m'\u001b[39m]:\n\u001b[1;32m    645\u001b[0m     \u001b[38;5;28;01mif\u001b[39;00m \u001b[38;5;129;01mnot\u001b[39;00m (\u001b[38;5;28mself\u001b[39m\u001b[38;5;241m.\u001b[39mdirection_model\u001b[38;5;241m.\u001b[39mtesting_gamma_dirs \u001b[38;5;241m==\u001b[39m \u001b[38;5;28mself\u001b[39m\u001b[38;5;241m.\u001b[39menergy_model\u001b[38;5;241m.\u001b[39mtesting_gamma_dirs \u001b[38;5;241m==\u001b[39m \u001b[38;5;28mself\u001b[39m\u001b[38;5;241m.\u001b[39mtype_model\u001b[38;5;241m.\u001b[39mtesting_gamma_dirs):\n\u001b[0;32m--> 646\u001b[0m         \u001b[38;5;28;01mraise\u001b[39;00m \u001b[38;5;167;01mValueError\u001b[39;00m(\u001b[38;5;124m\"\u001b[39m\u001b[38;5;124mAll models must have the same testing gamma directories, use set_testing_files to set them\u001b[39m\u001b[38;5;124m\"\u001b[39m)\n\u001b[1;32m    647\u001b[0m     \u001b[38;5;28;01mif\u001b[39;00m \u001b[38;5;129;01mnot\u001b[39;00m \u001b[38;5;28mself\u001b[39m\u001b[38;5;241m.\u001b[39mdirection_model\u001b[38;5;241m.\u001b[39mtesting_gamma_dirs \u001b[38;5;129;01mor\u001b[39;00m \u001b[38;5;129;01mnot\u001b[39;00m \u001b[38;5;28mself\u001b[39m\u001b[38;5;241m.\u001b[39menergy_model\u001b[38;5;241m.\u001b[39mtesting_gamma_dirs \u001b[38;5;129;01mor\u001b[39;00m \u001b[38;5;129;01mnot\u001b[39;00m \u001b[38;5;28mself\u001b[39m\u001b[38;5;241m.\u001b[39mtype_model\u001b[38;5;241m.\u001b[39mtesting_gamma_dirs:\n\u001b[1;32m    648\u001b[0m         \u001b[38;5;28;01mraise\u001b[39;00m \u001b[38;5;167;01mValueError\u001b[39;00m(\u001b[38;5;124m\"\u001b[39m\u001b[38;5;124mTesting gamma directories cannot be empty\u001b[39m\u001b[38;5;124m\"\u001b[39m)\n",
      "\u001b[0;31mValueError\u001b[0m: All models must have the same testing gamma directories, use set_testing_files to set them"
     ]
    }
   ],
   "source": [
    "Stereo_Tri_Model.launch_testing(20, 0, \n",
    "    [\"/home/blacave/CTLearn/Data/DL2/Testing/\"], \n",
    "    launch_particle_type='both', \n",
    "    )"
   ]
  }
 ],
 "metadata": {
  "kernelspec": {
   "display_name": "ctlearn-cluster",
   "language": "python",
   "name": "python3"
  },
  "language_info": {
   "codemirror_mode": {
    "name": "ipython",
    "version": 3
   },
   "file_extension": ".py",
   "mimetype": "text/x-python",
   "name": "python",
   "nbconvert_exporter": "python",
   "pygments_lexer": "ipython3",
   "version": "3.10.15"
  }
 },
 "nbformat": 4,
 "nbformat_minor": 2
}
