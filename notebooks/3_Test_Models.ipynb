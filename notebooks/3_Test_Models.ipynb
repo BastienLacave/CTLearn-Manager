{
 "cells": [
  {
   "cell_type": "code",
   "execution_count": 5,
   "metadata": {},
   "outputs": [],
   "source": [
    "from ctlearn_manager import CTLearnTriModelManager\n",
    "from ctlearn_manager.io import load_model_from_index"
   ]
  },
  {
   "cell_type": "markdown",
   "metadata": {},
   "source": [
    "# 💾 Load models"
   ]
  },
  {
   "cell_type": "code",
   "execution_count": 6,
   "metadata": {},
   "outputs": [
    {
     "name": "stdout",
     "output_type": "stream",
     "text": [
      "🧠 Model name: energy_TEL1_2_ZD20_Az0\n",
      "🧠 Model name: direction_TEL1_2_ZD20_Az0\n",
      "🧠 Model name: type_TEL1_2_ZD20_Az0\n"
     ]
    }
   ],
   "source": [
    "MODEL_INDEX_FILE = \"/home/blacave/CTLearn/Software/CTLearn-Manager/ctearn_models_index.ecsv\"\n",
    "energy_model = load_model_from_index(\"energy_stereo_20deg\", MODEL_INDEX_FILE)\n",
    "direction_model = load_model_from_index(\"direction_stereo_20deg\", MODEL_INDEX_FILE)\n",
    "type_model = load_model_from_index(\"type_stereo_20deg\", MODEL_INDEX_FILE)\n",
    "Stereo_Tri_Model = CTLearnTriModelManager(direction_model=direction_model, energy_model=energy_model, type_model=type_model)"
   ]
  },
  {
   "cell_type": "markdown",
   "metadata": {},
   "source": [
    "# 🗃️ Set testing files and directions"
   ]
  },
  {
   "cell_type": "code",
   "execution_count": 7,
   "metadata": {},
   "outputs": [
    {
     "name": "stdout",
     "output_type": "stream",
     "text": [
      "💾 Model direction_stereo_20deg index update:\n",
      "\t➡️ testing_proton_dirs updated to ['/home/blacave/CTLearn/Data/DL1/SST1M/MC/Proton_diffuse/20deg/merged/testing/']\n",
      "\t➡️ testing_proton_zenith_distances updated to [20]\n",
      "\t➡️ testing_proton_azimuths updated to [0]\n",
      "💾 Model energy_stereo_20deg index update:\n",
      "\t➡️ testing_proton_dirs updated to ['/home/blacave/CTLearn/Data/DL1/SST1M/MC/Proton_diffuse/20deg/merged/testing/']\n",
      "\t➡️ testing_proton_zenith_distances updated to [20]\n",
      "\t➡️ testing_proton_azimuths updated to [0]\n",
      "💾 Model type_stereo_20deg index update:\n",
      "\t➡️ testing_proton_dirs updated to ['/home/blacave/CTLearn/Data/DL1/SST1M/MC/Proton_diffuse/20deg/merged/testing/']\n",
      "\t➡️ testing_proton_zenith_distances updated to [20]\n",
      "\t➡️ testing_proton_azimuths updated to [0]\n"
     ]
    }
   ],
   "source": [
    "Stereo_Tri_Model.set_testing_directories(\n",
    "    testing_gamma_dirs = [], \n",
    "    testing_proton_dirs = [\"/home/blacave/CTLearn/Data/DL1/SST1M/MC/Proton_diffuse/20deg/merged/testing/\"], \n",
    "    testing_gamma_zenith_distances = [], \n",
    "    testing_gamma_azimuths = [], \n",
    "    testing_proton_zenith_distances = [20], \n",
    "    testing_proton_azimuths = [0]\n",
    "    )"
   ]
  },
  {
   "cell_type": "markdown",
   "metadata": {},
   "source": [
    "# 🧪 Launch testing"
   ]
  },
  {
   "cell_type": "code",
   "execution_count": null,
   "metadata": {},
   "outputs": [
    {
     "name": "stdout",
     "output_type": "stream",
     "text": [
      "ctlearn-predict-model --input_url /home/blacave/CTLearn/Data/DL1/SST1M/MC/Proton_diffuse/20deg/merged/testing/proton_400_500E3GeV_20_20deg_batch5.dl1.h5                     --type_model=/home/blacave/CTLearn/Data/CTLearn_Models_SST1M/type_stereo_20deg_v1/ctlearn_model.cpk                     --energy_model=/home/blacave/CTLearn/Data/CTLearn_Models_SST1M/energy_stereo_20deg_v0/ctlearn_model.cpk                     --direction_model=/home/blacave/CTLearn/Data/CTLearn_Models_SST1M/direction_stereo_20deg_v0/ctlearn_model.cpk                     --no-dl1-images --no-true-images --output /home/blacave/CTLearn/Data/DL2/Testing//proton_400_500E3GeV_20_20deg_batch5.dl2.h5                     --DLImageReader.mode=stereo --PredictCTLearnModel.stack_telescope_images=True --DLImageReader.min_telescopes=2                     --PredictCTLearnModel.overwrite_tables=True -v --DLImageReader.channels=cleaned_image --DLImageReader.channels=cleaned_relative_peak_time \n"
     ]
    },
    {
     "name": "stderr",
     "output_type": "stream",
     "text": [
      "2025-01-02 15:01:13.571359: E tensorflow/compiler/xla/stream_executor/cuda/cuda_dnn.cc:9342] Unable to register cuDNN factory: Attempting to register factory for plugin cuDNN when one has already been registered\n",
      "2025-01-02 15:01:13.571431: E tensorflow/compiler/xla/stream_executor/cuda/cuda_fft.cc:609] Unable to register cuFFT factory: Attempting to register factory for plugin cuFFT when one has already been registered\n",
      "2025-01-02 15:01:13.571465: E tensorflow/compiler/xla/stream_executor/cuda/cuda_blas.cc:1518] Unable to register cuBLAS factory: Attempting to register factory for plugin cuBLAS when one has already been registered\n",
      "2025-01-02 15:01:13.578553: I tensorflow/core/platform/cpu_feature_guard.cc:182] This TensorFlow binary is optimized to use available CPU instructions in performance-critical operations.\n",
      "To enable the following instructions: AVX2 FMA, in other operations, rebuild TensorFlow with the appropriate compiler flags.\n"
     ]
    }
   ],
   "source": [
    "Stereo_Tri_Model.launch_testing(20, 0, \n",
    "    [\"/home/blacave/CTLearn/Data/DL2/Testing/\"], \n",
    "    launch_particle_type='proton', \n",
    "    )"
   ]
  }
 ],
 "metadata": {
  "kernelspec": {
   "display_name": "ctlearn-cluster",
   "language": "python",
   "name": "python3"
  },
  "language_info": {
   "codemirror_mode": {
    "name": "ipython",
    "version": 3
   },
   "file_extension": ".py",
   "mimetype": "text/x-python",
   "name": "python",
   "nbconvert_exporter": "python",
   "pygments_lexer": "ipython3",
   "version": "3.10.15"
  }
 },
 "nbformat": 4,
 "nbformat_minor": 2
}
