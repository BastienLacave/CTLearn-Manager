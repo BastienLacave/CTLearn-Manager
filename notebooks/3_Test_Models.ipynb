{
 "cells": [
  {
   "cell_type": "code",
   "execution_count": 1,
   "metadata": {},
   "outputs": [],
   "source": [
    "from ctlearn_manager import CTLearnTriModelManager\n",
    "from ctlearn_manager.io import load_model_from_index"
   ]
  },
  {
   "cell_type": "markdown",
   "metadata": {},
   "source": [
    "# 💾 Load models"
   ]
  },
  {
   "cell_type": "code",
   "execution_count": null,
   "metadata": {},
   "outputs": [
    {
     "name": "stdout",
     "output_type": "stream",
     "text": [
      "\n",
      "🧠 Model name: energy_stereo_20deg\n",
      "\n",
      "🧠 Model name: direction_stereo_20deg\n",
      "\n",
      "🧠 Model name: type_stereo_20deg\n"
     ]
    }
   ],
   "source": [
    "MODEL_INDEX_FILE = \"/home/blacave/CTLearn/Software/CTLearn-Manager/ctearn_models_index.h5\"\n",
    "energy_model = load_model_from_index(\"energy_stereo_20deg\", MODEL_INDEX_FILE)\n",
    "direction_model = load_model_from_index(\"direction_stereo_20deg\", MODEL_INDEX_FILE)\n",
    "type_model = load_model_from_index(\"type_stereo_20deg\", MODEL_INDEX_FILE)\n",
    "Stereo_Tri_Model = CTLearnTriModelManager(direction_model=direction_model, energy_model=energy_model, type_model=type_model)"
   ]
  },
  {
   "cell_type": "markdown",
   "metadata": {},
   "source": [
    "# 🗃️ Set testing files and directions"
   ]
  },
  {
   "cell_type": "code",
   "execution_count": null,
   "metadata": {},
   "outputs": [
    {
     "name": "stdout",
     "output_type": "stream",
     "text": [
      "💾 Model direction_stereo_20deg testing data update:\n",
      "\t➡️ Testing gamma data updated\n",
      "\t➡️ Testing proton data updated\n",
      "💾 Model energy_stereo_20deg testing data update:\n",
      "\t➡️ Testing gamma data updated\n",
      "\t➡️ Testing proton data updated\n",
      "💾 Model type_stereo_20deg testing data update:\n",
      "\t➡️ Testing gamma data updated\n",
      "\t➡️ Testing proton data updated\n"
     ]
    }
   ],
   "source": [
    "Stereo_Tri_Model.set_testing_directories(\n",
    "    testing_gamma_dirs = [\"/home/blacave/CTLearn/Data/DL1/SST1M/MC/Gamma_point/20deg/testing/\"], \n",
    "    testing_proton_dirs = [\"/home/blacave/CTLearn/Data/DL1/SST1M/MC/Proton_diffuse/20deg/merged/testing/\"], \n",
    "    testing_gamma_zenith_distances = [20], \n",
    "    testing_gamma_azimuths = [0], \n",
    "    testing_proton_zenith_distances = [20], \n",
    "    testing_proton_azimuths = [0]\n",
    "    )"
   ]
  },
  {
   "cell_type": "markdown",
   "metadata": {},
   "source": [
    "# 🧪 Launch testing"
   ]
  },
  {
   "cell_type": "code",
   "execution_count": null,
   "metadata": {},
   "outputs": [
    {
     "name": "stdout",
     "output_type": "stream",
     "text": [
      "💾 Model direction_stereo_20deg DL2 data update:\n",
      "\t➡️ Testing DL2 gamma data updated\n",
      "\t➡️ Testing DL2 proton data updated\n",
      "💾 Model energy_stereo_20deg DL2 data update:\n",
      "\t➡️ Testing DL2 gamma data updated\n",
      "\t➡️ Testing DL2 proton data updated\n",
      "💾 Model type_stereo_20deg DL2 data update:\n",
      "\t➡️ Testing DL2 gamma data updated\n",
      "\t➡️ Testing DL2 proton data updated\n",
      "ctlearn-predict-model --input_url /home/blacave/CTLearn/Data/DL1/SST1M/MC/Gamma_point/20deg/testing/gamma_point_50_300E3GeV_20_20deg_batch0.dl1.h5 --type_model=/home/blacave/CTLearn/Data/CTLearn_Models_SST1M/type_stereo_20deg_v2/ctlearn_model.cpk --energy_model=/home/blacave/CTLearn/Data/CTLearn_Models_SST1M/energy_stereo_20deg_v0/ctlearn_model.cpk --direction_model=/home/blacave/CTLearn/Data/CTLearn_Models_SST1M/direction_stereo_20deg_v0/ctlearn_model.cpk --no-dl1-images --no-true-images --output /home/blacave/CTLearn/Data/DL2/Testing//gamma_point_50_300E3GeV_20_20deg_batch0.dl2.h5 --DLImageReader.mode=stereo --PredictCTLearnModel.stack_telescope_images=True --DLImageReader.min_telescopes=2 --PredictCTLearnModel.overwrite_tables=True -v --DLImageReader.channels=cleaned_image --DLImageReader.channels=cleaned_relative_peak_time \n"
     ]
    },
    {
     "name": "stderr",
     "output_type": "stream",
     "text": [
      "2025-01-07 10:47:08.345830: E tensorflow/compiler/xla/stream_executor/cuda/cuda_dnn.cc:9342] Unable to register cuDNN factory: Attempting to register factory for plugin cuDNN when one has already been registered\n",
      "2025-01-07 10:47:08.345897: E tensorflow/compiler/xla/stream_executor/cuda/cuda_fft.cc:609] Unable to register cuFFT factory: Attempting to register factory for plugin cuFFT when one has already been registered\n",
      "2025-01-07 10:47:08.349091: E tensorflow/compiler/xla/stream_executor/cuda/cuda_blas.cc:1518] Unable to register cuBLAS factory: Attempting to register factory for plugin cuBLAS when one has already been registered\n",
      "2025-01-07 10:47:08.619946: I tensorflow/core/platform/cpu_feature_guard.cc:182] This TensorFlow binary is optimized to use available CPU instructions in performance-critical operations.\n",
      "To enable the following instructions: AVX2 FMA, in other operations, rebuild TensorFlow with the appropriate compiler flags.\n",
      "2025-01-07 10:47:16,141 \u001b[1;32mINFO\u001b[0m [ctlearn.PredictCTLearnModel] (tool.initialize): Loading config from '[]'\n",
      "2025-01-07 10:47:16,142 \u001b[1;32mINFO\u001b[0m [ctlearn.PredictCTLearnModel] (tool.initialize): ctapipe version 0.23.0\n",
      "2025-01-07 10:47:16,142 \u001b[1;31mERROR\u001b[0m [ctlearn.PredictCTLearnModel] (tool.run): The output file '/home/blacave/CTLearn/Data/DL2/Testing/gamma_point_50_300E3GeV_20_20deg_batch0.dl2.h5' already exists. Please use '--no-use-HDF5Merger' to disable the usage of the HDF5Merger component.\n",
      "2025-01-07 10:47:16,142 \u001b[1;31mERROR\u001b[0m [ctlearn.PredictCTLearnModel] (tool.run): Use --help for more info\n",
      "2025-01-07 10:47:16,150 \u001b[1;32mINFO\u001b[0m [ctlearn.PredictCTLearnModel] (tool.write_provenance): Output: \n",
      "2025-01-07 10:47:16,150 \u001b[1;34mDEBUG\u001b[0m [ctlearn.PredictCTLearnModel] (tool.write_provenance): PROVENANCE: 'Details about provenance is found in /home/blacave/CTLearn/Software/CTLearn-Manager/notebooks/PredictCTLearnModel.provenance.log'\n",
      "2025-01-07 10:47:16,152 \u001b[1;34mDEBUG\u001b[0m [ctlearn.PredictCTLearnModel] (application.exit): Exiting application: PredictCTLearnModel\n"
     ]
    },
    {
     "name": "stdout",
     "output_type": "stream",
     "text": [
      "ctlearn-predict-model --input_url /home/blacave/CTLearn/Data/DL1/SST1M/MC/Gamma_point/20deg/testing/gamma_point_50_300E3GeV_20_20deg_batch1.dl1.h5 --type_model=/home/blacave/CTLearn/Data/CTLearn_Models_SST1M/type_stereo_20deg_v2/ctlearn_model.cpk --energy_model=/home/blacave/CTLearn/Data/CTLearn_Models_SST1M/energy_stereo_20deg_v0/ctlearn_model.cpk --direction_model=/home/blacave/CTLearn/Data/CTLearn_Models_SST1M/direction_stereo_20deg_v0/ctlearn_model.cpk --no-dl1-images --no-true-images --output /home/blacave/CTLearn/Data/DL2/Testing//gamma_point_50_300E3GeV_20_20deg_batch1.dl2.h5 --DLImageReader.mode=stereo --PredictCTLearnModel.stack_telescope_images=True --DLImageReader.min_telescopes=2 --PredictCTLearnModel.overwrite_tables=True -v --DLImageReader.channels=cleaned_image --DLImageReader.channels=cleaned_relative_peak_time \n"
     ]
    },
    {
     "name": "stderr",
     "output_type": "stream",
     "text": [
      "2025-01-07 10:47:17.688518: E tensorflow/compiler/xla/stream_executor/cuda/cuda_dnn.cc:9342] Unable to register cuDNN factory: Attempting to register factory for plugin cuDNN when one has already been registered\n",
      "2025-01-07 10:47:17.688600: E tensorflow/compiler/xla/stream_executor/cuda/cuda_fft.cc:609] Unable to register cuFFT factory: Attempting to register factory for plugin cuFFT when one has already been registered\n",
      "2025-01-07 10:47:17.688635: E tensorflow/compiler/xla/stream_executor/cuda/cuda_blas.cc:1518] Unable to register cuBLAS factory: Attempting to register factory for plugin cuBLAS when one has already been registered\n",
      "2025-01-07 10:47:17.695935: I tensorflow/core/platform/cpu_feature_guard.cc:182] This TensorFlow binary is optimized to use available CPU instructions in performance-critical operations.\n",
      "To enable the following instructions: AVX2 FMA, in other operations, rebuild TensorFlow with the appropriate compiler flags.\n"
     ]
    }
   ],
   "source": [
    "Stereo_Tri_Model.launch_testing(20, 0, \n",
    "    [\"/home/blacave/CTLearn/Data/DL2/Testing/\"], \n",
    "    launch_particle_type='both', \n",
    "    )"
   ]
  },
  {
   "cell_type": "code",
   "execution_count": 3,
   "metadata": {},
   "outputs": [
    {
     "name": "stderr",
     "output_type": "stream",
     "text": [
      "Merging: 100%|██████████| 3/3 [00:14<00:00,  4.96s/Files]\n"
     ]
    },
    {
     "name": "stdout",
     "output_type": "stream",
     "text": [
      "💾 Model direction_stereo_20deg DL2 merged data update:\n",
      "\t➡️ Testing DL2 gamma merged data updated\n",
      "💾 Model energy_stereo_20deg DL2 merged data update:\n",
      "\t➡️ Testing DL2 gamma merged data updated\n",
      "💾 Model type_stereo_20deg DL2 merged data update:\n",
      "\t➡️ Testing DL2 gamma merged data updated\n"
     ]
    },
    {
     "name": "stderr",
     "output_type": "stream",
     "text": [
      "Merging: 100%|██████████| 6/6 [01:23<00:00, 13.85s/Files]\n"
     ]
    },
    {
     "name": "stdout",
     "output_type": "stream",
     "text": [
      "💾 Model direction_stereo_20deg DL2 merged data update:\n",
      "\t➡️ Testing DL2 proton merged data updated\n",
      "💾 Model energy_stereo_20deg DL2 merged data update:\n",
      "\t➡️ Testing DL2 proton merged data updated\n",
      "💾 Model type_stereo_20deg DL2 merged data update:\n",
      "\t➡️ Testing DL2 proton merged data updated\n"
     ]
    }
   ],
   "source": [
    "Stereo_Tri_Model.merge_DL2_files(20, 0, \"/home/blacave/CTLearn/Data/DL2/Testing/merged/gamma_point_50_300E3GeV_20_20deg.h5\", \"/home/blacave/CTLearn/Data/DL2/Testing/merged/proton_diffuse_400_500E3GeV_20_20deg.h5\", overwrite=True)"
   ]
  }
 ],
 "metadata": {
  "kernelspec": {
   "display_name": "ctlearn-cluster",
   "language": "python",
   "name": "python3"
  },
  "language_info": {
   "codemirror_mode": {
    "name": "ipython",
    "version": 3
   },
   "file_extension": ".py",
   "mimetype": "text/x-python",
   "name": "python",
   "nbconvert_exporter": "python",
   "pygments_lexer": "ipython3",
   "version": "3.10.15"
  }
 },
 "nbformat": 4,
 "nbformat_minor": 2
}
