{
 "cells": [
  {
   "cell_type": "code",
   "execution_count": 2,
   "metadata": {},
   "outputs": [],
   "source": [
    "from ctlearn_manager.tri_model import CTLearnTriModelManager\n",
    "from ctlearn_manager.io.io import load_model_from_index"
   ]
  },
  {
   "cell_type": "markdown",
   "metadata": {},
   "source": [
    "# 💾 Load models"
   ]
  },
  {
   "cell_type": "code",
   "execution_count": 3,
   "metadata": {},
   "outputs": [
    {
     "name": "stdout",
     "output_type": "stream",
     "text": [
      "🧠 Model name: energy_stereo_20deg\n",
      "🧠 Model name: direction_stereo_20deg\n",
      "🧠 Model name: type_stereo_20deg\n"
     ]
    }
   ],
   "source": [
    "MODEL_INDEX_FILE = \"/home/blacave/CTLearn/Software/CTLearn-Manager/ctearn_models_index.h5\"\n",
    "energy_model = load_model_from_index(\"energy_stereo_20deg\", MODEL_INDEX_FILE)\n",
    "direction_model = load_model_from_index(\"direction_stereo_20deg\", MODEL_INDEX_FILE)\n",
    "type_model = load_model_from_index(\"type_stereo_20deg\", MODEL_INDEX_FILE)\n",
    "Stereo_Tri_Model = CTLearnTriModelManager(direction_model=direction_model, energy_model=energy_model, type_model=type_model)"
   ]
  },
  {
   "cell_type": "markdown",
   "metadata": {},
   "source": [
    "# 🗃️ Set testing files and directions"
   ]
  },
  {
   "cell_type": "code",
   "execution_count": 5,
   "metadata": {},
   "outputs": [
    {
     "name": "stdout",
     "output_type": "stream",
     "text": [
      "💾 Model direction_stereo_20deg testing data update:\n",
      "\t➡️ Testing gamma data updated\n",
      "\t➡️ Testing proton data updated\n",
      "💾 Model energy_stereo_20deg testing data update:\n",
      "\t➡️ Testing gamma data updated\n",
      "\t➡️ Testing proton data updated\n",
      "💾 Model type_stereo_20deg testing data update:\n",
      "\t➡️ Testing gamma data updated\n",
      "\t➡️ Testing proton data updated\n"
     ]
    }
   ],
   "source": [
    "Stereo_Tri_Model.set_testing_directories(\n",
    "    testing_gamma_dirs = [\"/home/blacave/CTLearn/Data/DL1/SST1M/MC/Gamma_point/20deg/testing/\"], \n",
    "    testing_proton_dirs = [\"/home/blacave/CTLearn/Data/DL1/SST1M/MC/Proton_diffuse/20deg/merged/testing/\"], \n",
    "    testing_gamma_zenith_distances = [20], \n",
    "    testing_gamma_azimuths = [0], \n",
    "    testing_proton_zenith_distances = [20], \n",
    "    testing_proton_azimuths = [0],\n",
    "    testing_gamma_patterns=[\"*.h5\"],\n",
    "    testing_proton_patterns=[\"*.h5\"],\n",
    "    )"
   ]
  },
  {
   "cell_type": "markdown",
   "metadata": {},
   "source": [
    "# 🧪 Launch testing"
   ]
  },
  {
   "cell_type": "code",
   "execution_count": 6,
   "metadata": {},
   "outputs": [
    {
     "name": "stdout",
     "output_type": "stream",
     "text": [
      "💾 Model direction_stereo_20deg DL2 data update:\n",
      "\t➡️ Testing DL2 gamma data updated\n",
      "\t➡️ Testing DL2 proton data updated\n",
      "💾 Model energy_stereo_20deg DL2 data update:\n",
      "\t➡️ Testing DL2 gamma data updated\n",
      "\t➡️ Testing DL2 proton data updated\n",
      "💾 Model type_stereo_20deg DL2 data update:\n",
      "\t➡️ Testing DL2 gamma data updated\n",
      "\t➡️ Testing DL2 proton data updated\n"
     ]
    },
    {
     "ename": "KeyError",
     "evalue": "None",
     "output_type": "error",
     "traceback": [
      "\u001b[0;31m---------------------------------------------------------------------------\u001b[0m",
      "\u001b[0;31mKeyError\u001b[0m                                  Traceback (most recent call last)",
      "Cell \u001b[0;32mIn[6], line 1\u001b[0m\n\u001b[0;32m----> 1\u001b[0m \u001b[43mStereo_Tri_Model\u001b[49m\u001b[38;5;241;43m.\u001b[39;49m\u001b[43mlaunch_testing\u001b[49m\u001b[43m(\u001b[49m\u001b[38;5;241;43m20\u001b[39;49m\u001b[43m,\u001b[49m\u001b[43m \u001b[49m\u001b[38;5;241;43m0\u001b[39;49m\u001b[43m,\u001b[49m\u001b[43m \u001b[49m\n\u001b[1;32m      2\u001b[0m \u001b[43m    \u001b[49m\u001b[43m[\u001b[49m\u001b[38;5;124;43m\"\u001b[39;49m\u001b[38;5;124;43m/home/blacave/CTLearn/Data/DL2/Testing/\u001b[39;49m\u001b[38;5;124;43m\"\u001b[39;49m\u001b[43m]\u001b[49m\u001b[43m,\u001b[49m\u001b[43m \u001b[49m\n\u001b[1;32m      3\u001b[0m \u001b[43m    \u001b[49m\u001b[43mlaunch_particle_type\u001b[49m\u001b[38;5;241;43m=\u001b[39;49m\u001b[38;5;124;43m'\u001b[39;49m\u001b[38;5;124;43mboth\u001b[39;49m\u001b[38;5;124;43m'\u001b[39;49m\u001b[43m,\u001b[49m\u001b[43m \u001b[49m\n\u001b[1;32m      4\u001b[0m \u001b[43m    \u001b[49m\u001b[43m)\u001b[49m\n",
      "File \u001b[0;32m~/miniforge3/envs/ctlearn-cluster/lib/python3.10/site-packages/ctlearn_manager/tri_model.py:217\u001b[0m, in \u001b[0;36mCTLearnTriModelManager.launch_testing\u001b[0;34m(self, zenith, azimuth, output_dirs, config_dir, launch_particle_type)\u001b[0m\n\u001b[1;32m    208\u001b[0m                 cmd \u001b[38;5;241m=\u001b[39m \u001b[38;5;124mf\u001b[39m\u001b[38;5;124m\"\u001b[39m\u001b[38;5;124mctlearn-predict-model --input_url \u001b[39m\u001b[38;5;132;01m{\u001b[39;00minput_file\u001b[38;5;132;01m}\u001b[39;00m\u001b[38;5;124m \u001b[39m\u001b[38;5;130;01m\\\u001b[39;00m\n\u001b[1;32m    209\u001b[0m \u001b[38;5;124m--type_model=\u001b[39m\u001b[38;5;132;01m{\u001b[39;00mtype_model_dir\u001b[38;5;132;01m}\u001b[39;00m\u001b[38;5;124m/ctlearn_model.cpk \u001b[39m\u001b[38;5;130;01m\\\u001b[39;00m\n\u001b[1;32m    210\u001b[0m \u001b[38;5;124m--energy_model=\u001b[39m\u001b[38;5;132;01m{\u001b[39;00menergy_model_dir\u001b[38;5;132;01m}\u001b[39;00m\u001b[38;5;124m/ctlearn_model.cpk \u001b[39m\u001b[38;5;130;01m\\\u001b[39;00m\n\u001b[1;32m    211\u001b[0m \u001b[38;5;124m--direction_model=\u001b[39m\u001b[38;5;132;01m{\u001b[39;00mdirection_model_dir\u001b[38;5;132;01m}\u001b[39;00m\u001b[38;5;124m/ctlearn_model.cpk \u001b[39m\u001b[38;5;130;01m\\\u001b[39;00m\n\u001b[1;32m    212\u001b[0m \u001b[38;5;124m--no-dl1-images --no-true-images --output \u001b[39m\u001b[38;5;132;01m{\u001b[39;00moutput_file\u001b[38;5;132;01m}\u001b[39;00m\u001b[38;5;124m \u001b[39m\u001b[38;5;130;01m\\\u001b[39;00m\n\u001b[1;32m    213\u001b[0m \u001b[38;5;124m--PredictCTLearnModel.overwrite_tables=True -v \u001b[39m\u001b[38;5;132;01m{\u001b[39;00mchannels_string\u001b[38;5;132;01m}\u001b[39;00m\u001b[38;5;124m\"\u001b[39m\n\u001b[1;32m    215\u001b[0m             \u001b[38;5;28;01mif\u001b[39;00m \u001b[38;5;28mself\u001b[39m\u001b[38;5;241m.\u001b[39mcluster_configuration\u001b[38;5;241m.\u001b[39muse_cluster:\n\u001b[1;32m    216\u001b[0m                 \u001b[38;5;66;03m# sbatch_file = write_sbatch_script(cluster_configuration.cluster, Path(input_file).stem, cmd, config_dir, env_name=cluster_configuration.python_env, account=cluster_configuration.account)\u001b[39;00m\n\u001b[0;32m--> 217\u001b[0m                 sbatch_file \u001b[38;5;241m=\u001b[39m \u001b[38;5;28;43mself\u001b[39;49m\u001b[38;5;241;43m.\u001b[39;49m\u001b[43mcluster_configuration\u001b[49m\u001b[38;5;241;43m.\u001b[39;49m\u001b[43mwrite_sbatch_script\u001b[49m\u001b[43m(\u001b[49m\u001b[43mPath\u001b[49m\u001b[43m(\u001b[49m\u001b[43minput_file\u001b[49m\u001b[43m)\u001b[49m\u001b[38;5;241;43m.\u001b[39;49m\u001b[43mstem\u001b[49m\u001b[43m,\u001b[49m\u001b[43m \u001b[49m\u001b[43mcmd\u001b[49m\u001b[43m,\u001b[49m\u001b[43m \u001b[49m\u001b[43mconfig_dir\u001b[49m\u001b[43m)\u001b[49m\n\u001b[1;32m    218\u001b[0m                 os\u001b[38;5;241m.\u001b[39msystem(\u001b[38;5;124mf\u001b[39m\u001b[38;5;124m\"\u001b[39m\u001b[38;5;124msbatch \u001b[39m\u001b[38;5;132;01m{\u001b[39;00msbatch_file\u001b[38;5;132;01m}\u001b[39;00m\u001b[38;5;124m\"\u001b[39m)  \n\u001b[1;32m    219\u001b[0m             \u001b[38;5;28;01melse\u001b[39;00m:\n",
      "File \u001b[0;32m~/miniforge3/envs/ctlearn-cluster/lib/python3.10/site-packages/ctlearn_manager/utils/utils.py:193\u001b[0m, in \u001b[0;36mClusterConfiguration.write_sbatch_script\u001b[0;34m(self, job_name, cmd, sbatch_scripts_dir)\u001b[0m\n\u001b[1;32m    192\u001b[0m \u001b[38;5;28;01mdef\u001b[39;00m \u001b[38;5;21mwrite_sbatch_script\u001b[39m(\u001b[38;5;28mself\u001b[39m, job_name, cmd, sbatch_scripts_dir):\n\u001b[0;32m--> 193\u001b[0m     sh_script \u001b[38;5;241m=\u001b[39m \u001b[43mget_predict_data_sbatch_script\u001b[49m\u001b[43m(\u001b[49m\u001b[38;5;28;43mself\u001b[39;49m\u001b[38;5;241;43m.\u001b[39;49m\u001b[43mcluster\u001b[49m\u001b[43m,\u001b[49m\u001b[43m \u001b[49m\u001b[43mcmd\u001b[49m\u001b[43m,\u001b[49m\u001b[43m \u001b[49m\u001b[43mjob_name\u001b[49m\u001b[43m,\u001b[49m\u001b[43m \u001b[49m\u001b[43msbatch_scripts_dir\u001b[49m\u001b[43m,\u001b[49m\u001b[43m \u001b[49m\u001b[38;5;28;43mself\u001b[39;49m\u001b[38;5;241;43m.\u001b[39;49m\u001b[43maccount\u001b[49m\u001b[43m,\u001b[49m\u001b[43m \u001b[49m\u001b[38;5;28;43mself\u001b[39;49m\u001b[38;5;241;43m.\u001b[39;49m\u001b[43mpython_env\u001b[49m\u001b[43m,\u001b[49m\u001b[43m \u001b[49m\u001b[38;5;28;43mself\u001b[39;49m\u001b[38;5;241;43m.\u001b[39;49m\u001b[43mtime\u001b[49m\u001b[43m,\u001b[49m\u001b[43m \u001b[49m\u001b[38;5;28;43mself\u001b[39;49m\u001b[38;5;241;43m.\u001b[39;49m\u001b[43mpartition\u001b[49m\u001b[43m)\u001b[49m\n\u001b[1;32m    194\u001b[0m     sbatch_file \u001b[38;5;241m=\u001b[39m \u001b[38;5;124mf\u001b[39m\u001b[38;5;124m\"\u001b[39m\u001b[38;5;132;01m{\u001b[39;00msbatch_scripts_dir\u001b[38;5;132;01m}\u001b[39;00m\u001b[38;5;124m/\u001b[39m\u001b[38;5;132;01m{\u001b[39;00mjob_name\u001b[38;5;132;01m}\u001b[39;00m\u001b[38;5;124m.sh\u001b[39m\u001b[38;5;124m\"\u001b[39m\n\u001b[1;32m    195\u001b[0m     \u001b[38;5;28;01mwith\u001b[39;00m \u001b[38;5;28mopen\u001b[39m(sbatch_file, \u001b[38;5;124m\"\u001b[39m\u001b[38;5;124mw\u001b[39m\u001b[38;5;124m\"\u001b[39m) \u001b[38;5;28;01mas\u001b[39;00m f:\n",
      "File \u001b[0;32m~/miniforge3/envs/ctlearn-cluster/lib/python3.10/site-packages/ctlearn_manager/utils/utils.py:114\u001b[0m, in \u001b[0;36mget_predict_data_sbatch_script\u001b[0;34m(cluster, command, job_name, sbatch_scripts_dir, account, env_name, time, partition)\u001b[0m\n\u001b[1;32m     61\u001b[0m \u001b[38;5;28;01mdef\u001b[39;00m \u001b[38;5;21mget_predict_data_sbatch_script\u001b[39m(cluster, command, job_name, sbatch_scripts_dir, account, env_name, time, partition):\n\u001b[1;32m     62\u001b[0m     sbatch_predict_data_configs \u001b[38;5;241m=\u001b[39m {\n\u001b[1;32m     63\u001b[0m     \u001b[38;5;124m'\u001b[39m\u001b[38;5;124mcamk\u001b[39m\u001b[38;5;124m'\u001b[39m: \n\u001b[1;32m     64\u001b[0m     \u001b[38;5;124mf\u001b[39m\u001b[38;5;124m'''\u001b[39m\u001b[38;5;124m#!/bin/sh\u001b[39m\n\u001b[0;32m   (...)\u001b[0m\n\u001b[1;32m    112\u001b[0m                     \n\u001b[1;32m    113\u001b[0m     }\n\u001b[0;32m--> 114\u001b[0m     \u001b[38;5;28;01mreturn\u001b[39;00m \u001b[43msbatch_predict_data_configs\u001b[49m\u001b[43m[\u001b[49m\u001b[43mcluster\u001b[49m\u001b[43m]\u001b[49m\n",
      "\u001b[0;31mKeyError\u001b[0m: None"
     ]
    }
   ],
   "source": [
    "Stereo_Tri_Model.launch_testing(20, 0, \n",
    "    [\"/home/blacave/CTLearn/Data/DL2/Testing/\"], \n",
    "    launch_particle_type='both', \n",
    "    )"
   ]
  },
  {
   "cell_type": "code",
   "execution_count": 3,
   "metadata": {},
   "outputs": [
    {
     "name": "stderr",
     "output_type": "stream",
     "text": [
      "Merging: 100%|██████████| 3/3 [00:14<00:00,  4.96s/Files]\n"
     ]
    },
    {
     "name": "stdout",
     "output_type": "stream",
     "text": [
      "💾 Model direction_stereo_20deg DL2 merged data update:\n",
      "\t➡️ Testing DL2 gamma merged data updated\n",
      "💾 Model energy_stereo_20deg DL2 merged data update:\n",
      "\t➡️ Testing DL2 gamma merged data updated\n",
      "💾 Model type_stereo_20deg DL2 merged data update:\n",
      "\t➡️ Testing DL2 gamma merged data updated\n"
     ]
    },
    {
     "name": "stderr",
     "output_type": "stream",
     "text": [
      "Merging: 100%|██████████| 6/6 [01:23<00:00, 13.85s/Files]\n"
     ]
    },
    {
     "name": "stdout",
     "output_type": "stream",
     "text": [
      "💾 Model direction_stereo_20deg DL2 merged data update:\n",
      "\t➡️ Testing DL2 proton merged data updated\n",
      "💾 Model energy_stereo_20deg DL2 merged data update:\n",
      "\t➡️ Testing DL2 proton merged data updated\n",
      "💾 Model type_stereo_20deg DL2 merged data update:\n",
      "\t➡️ Testing DL2 proton merged data updated\n"
     ]
    }
   ],
   "source": [
    "Stereo_Tri_Model.merge_DL2_files(20, 0, \"/home/blacave/CTLearn/Data/DL2/Testing/merged/gamma_point_50_300E3GeV_20_20deg.h5\", \"/home/blacave/CTLearn/Data/DL2/Testing/merged/proton_diffuse_400_500E3GeV_20_20deg.h5\", overwrite=True)"
   ]
  }
 ],
 "metadata": {
  "kernelspec": {
   "display_name": "ctlearn-cluster",
   "language": "python",
   "name": "python3"
  },
  "language_info": {
   "codemirror_mode": {
    "name": "ipython",
    "version": 3
   },
   "file_extension": ".py",
   "mimetype": "text/x-python",
   "name": "python",
   "nbconvert_exporter": "python",
   "pygments_lexer": "ipython3",
   "version": "3.10.15"
  }
 },
 "nbformat": 4,
 "nbformat_minor": 2
}
