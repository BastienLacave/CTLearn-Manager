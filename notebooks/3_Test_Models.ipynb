{
 "cells": [
  {
   "cell_type": "code",
   "execution_count": 1,
   "metadata": {},
   "outputs": [],
   "source": [
    "from ctlearn_manager import CTLearnTriModelManager\n",
    "from ctlearn_manager.io import load_model_from_index"
   ]
  },
  {
   "cell_type": "markdown",
   "metadata": {},
   "source": [
    "# 💾 Load models"
   ]
  },
  {
   "cell_type": "code",
   "execution_count": 2,
   "metadata": {},
   "outputs": [
    {
     "name": "stdout",
     "output_type": "stream",
     "text": [
      "🧠 Model name: energy_TEL1_2_ZD20_Az0\n",
      "🧠 Model name: direction_TEL1_2_ZD20_Az0\n",
      "🧠 Model name: type_TEL1_2_ZD20_Az0\n"
     ]
    }
   ],
   "source": [
    "MODEL_INDEX_FILE = \"/home/blacave/CTLearn/Software/CTLearn-Manager/ctearn_models_index.ecsv\"\n",
    "energy_model = load_model_from_index(\"energy_stereo_20deg\", MODEL_INDEX_FILE)\n",
    "direction_model = load_model_from_index(\"direction_stereo_20deg\", MODEL_INDEX_FILE)\n",
    "type_model = load_model_from_index(\"type_stereo_20deg\", MODEL_INDEX_FILE)\n",
    "Stereo_Tri_Model = CTLearnTriModelManager(direction_model=direction_model, energy_model=energy_model, type_model=type_model)"
   ]
  },
  {
   "cell_type": "markdown",
   "metadata": {},
   "source": [
    "# 🗃️ Set testing files and directions"
   ]
  },
  {
   "cell_type": "code",
   "execution_count": 3,
   "metadata": {},
   "outputs": [
    {
     "name": "stdout",
     "output_type": "stream",
     "text": [
      "💾 Model direction_stereo_20deg index update:\n",
      "\t➡️ testing_gamma_dirs updated to ['/home/blacave/CTLearn/Data/DL1/SST1M/MC/Gamma_point/20deg/testing/']\n",
      "\t➡️ testing_proton_dirs updated to ['/home/blacave/CTLearn/Data/DL1/SST1M/MC/Proton_diffuse/20deg/merged/testing/']\n",
      "\t➡️ testing_gamma_zenith_distances updated to [20]\n",
      "\t➡️ testing_gamma_azimuths updated to [0]\n",
      "\t➡️ testing_proton_zenith_distances updated to [20]\n",
      "\t➡️ testing_proton_azimuths updated to [0]\n",
      "💾 Model energy_stereo_20deg index update:\n",
      "\t➡️ testing_gamma_dirs updated to ['/home/blacave/CTLearn/Data/DL1/SST1M/MC/Gamma_point/20deg/testing/']\n",
      "\t➡️ testing_proton_dirs updated to ['/home/blacave/CTLearn/Data/DL1/SST1M/MC/Proton_diffuse/20deg/merged/testing/']\n",
      "\t➡️ testing_gamma_zenith_distances updated to [20]\n",
      "\t➡️ testing_gamma_azimuths updated to [0]\n",
      "\t➡️ testing_proton_zenith_distances updated to [20]\n",
      "\t➡️ testing_proton_azimuths updated to [0]\n",
      "💾 Model type_stereo_20deg index update:\n",
      "\t➡️ testing_gamma_dirs updated to ['/home/blacave/CTLearn/Data/DL1/SST1M/MC/Gamma_point/20deg/testing/']\n",
      "\t➡️ testing_proton_dirs updated to ['/home/blacave/CTLearn/Data/DL1/SST1M/MC/Proton_diffuse/20deg/merged/testing/']\n",
      "\t➡️ testing_gamma_zenith_distances updated to [20]\n",
      "\t➡️ testing_gamma_azimuths updated to [0]\n",
      "\t➡️ testing_proton_zenith_distances updated to [20]\n",
      "\t➡️ testing_proton_azimuths updated to [0]\n"
     ]
    }
   ],
   "source": [
    "Stereo_Tri_Model.set_testing_directories(\n",
    "    testing_gamma_dirs = [\"/home/blacave/CTLearn/Data/DL1/SST1M/MC/Gamma_point/20deg/testing/\"], \n",
    "    testing_proton_dirs = [\"/home/blacave/CTLearn/Data/DL1/SST1M/MC/Proton_diffuse/20deg/merged/testing/\"], \n",
    "    testing_gamma_zenith_distances = [20], \n",
    "    testing_gamma_azimuths = [0], \n",
    "    testing_proton_zenith_distances = [20], \n",
    "    testing_proton_azimuths = [0]\n",
    "    )"
   ]
  },
  {
   "cell_type": "markdown",
   "metadata": {},
   "source": [
    "# 🧪 Launch testing"
   ]
  },
  {
   "cell_type": "code",
   "execution_count": 4,
   "metadata": {},
   "outputs": [
    {
     "name": "stdout",
     "output_type": "stream",
     "text": [
      "💾 Model direction_stereo_20deg index update:\n",
      "\t➡️ testing_DL2_gamma_files updated to ['/home/blacave/CTLearn/Data/DL2/Testing//gamma_point_50_300E3GeV_20_20deg_batch0.dl2.h5', '/home/blacave/CTLearn/Data/DL2/Testing//gamma_point_50_300E3GeV_20_20deg_batch1.dl2.h5', '/home/blacave/CTLearn/Data/DL2/Testing//gamma_point_50_300E3GeV_20_20deg_batch2.dl2.h5']\n",
      "\t➡️ testing_DL2_proton_files updated to ['/home/blacave/CTLearn/Data/DL2/Testing//proton_400_500E3GeV_20_20deg_batch5.dl2.h5', '/home/blacave/CTLearn/Data/DL2/Testing//proton_400_500E3GeV_20_20deg_batch6.dl2.h5', '/home/blacave/CTLearn/Data/DL2/Testing//proton_400_500E3GeV_20_20deg_batch7.dl2.h5', '/home/blacave/CTLearn/Data/DL2/Testing//proton_400_500E3GeV_20_20deg_batch8.dl2.h5', '/home/blacave/CTLearn/Data/DL2/Testing//proton_diffuse_20deg_11000_11999.dl2.h5', '/home/blacave/CTLearn/Data/DL2/Testing//proton_diffuse_20deg_12000_12999.dl2.h5']\n",
      "💾 Model energy_stereo_20deg index update:\n",
      "\t➡️ testing_DL2_gamma_files updated to ['/home/blacave/CTLearn/Data/DL2/Testing//gamma_point_50_300E3GeV_20_20deg_batch0.dl2.h5', '/home/blacave/CTLearn/Data/DL2/Testing//gamma_point_50_300E3GeV_20_20deg_batch1.dl2.h5', '/home/blacave/CTLearn/Data/DL2/Testing//gamma_point_50_300E3GeV_20_20deg_batch2.dl2.h5']\n",
      "\t➡️ testing_DL2_proton_files updated to ['/home/blacave/CTLearn/Data/DL2/Testing//proton_400_500E3GeV_20_20deg_batch5.dl2.h5', '/home/blacave/CTLearn/Data/DL2/Testing//proton_400_500E3GeV_20_20deg_batch6.dl2.h5', '/home/blacave/CTLearn/Data/DL2/Testing//proton_400_500E3GeV_20_20deg_batch7.dl2.h5', '/home/blacave/CTLearn/Data/DL2/Testing//proton_400_500E3GeV_20_20deg_batch8.dl2.h5', '/home/blacave/CTLearn/Data/DL2/Testing//proton_diffuse_20deg_11000_11999.dl2.h5', '/home/blacave/CTLearn/Data/DL2/Testing//proton_diffuse_20deg_12000_12999.dl2.h5']\n",
      "💾 Model type_stereo_20deg index update:\n",
      "\t➡️ testing_DL2_gamma_files updated to ['/home/blacave/CTLearn/Data/DL2/Testing//gamma_point_50_300E3GeV_20_20deg_batch0.dl2.h5', '/home/blacave/CTLearn/Data/DL2/Testing//gamma_point_50_300E3GeV_20_20deg_batch1.dl2.h5', '/home/blacave/CTLearn/Data/DL2/Testing//gamma_point_50_300E3GeV_20_20deg_batch2.dl2.h5']\n",
      "\t➡️ testing_DL2_proton_files updated to ['/home/blacave/CTLearn/Data/DL2/Testing//proton_400_500E3GeV_20_20deg_batch5.dl2.h5', '/home/blacave/CTLearn/Data/DL2/Testing//proton_400_500E3GeV_20_20deg_batch6.dl2.h5', '/home/blacave/CTLearn/Data/DL2/Testing//proton_400_500E3GeV_20_20deg_batch7.dl2.h5', '/home/blacave/CTLearn/Data/DL2/Testing//proton_400_500E3GeV_20_20deg_batch8.dl2.h5', '/home/blacave/CTLearn/Data/DL2/Testing//proton_diffuse_20deg_11000_11999.dl2.h5', '/home/blacave/CTLearn/Data/DL2/Testing//proton_diffuse_20deg_12000_12999.dl2.h5']\n",
      "ctlearn-predict-model --input_url /home/blacave/CTLearn/Data/DL1/SST1M/MC/Gamma_point/20deg/testing/gamma_point_50_300E3GeV_20_20deg_batch0.dl1.h5                     --type_model=/home/blacave/CTLearn/Data/CTLearn_Models_SST1M/type_stereo_20deg_v1/ctlearn_model.cpk                     --energy_model=/home/blacave/CTLearn/Data/CTLearn_Models_SST1M/energy_stereo_20deg_v0/ctlearn_model.cpk                     --direction_model=/home/blacave/CTLearn/Data/CTLearn_Models_SST1M/direction_stereo_20deg_v0/ctlearn_model.cpk                     --no-dl1-images --no-true-images --output /home/blacave/CTLearn/Data/DL2/Testing//gamma_point_50_300E3GeV_20_20deg_batch0.dl2.h5                     --DLImageReader.mode=stereo --PredictCTLearnModel.stack_telescope_images=True --DLImageReader.min_telescopes=2                     --PredictCTLearnModel.overwrite_tables=True -v --DLImageReader.channels=cleaned_image --DLImageReader.channels=cleaned_relative_peak_time \n"
     ]
    },
    {
     "name": "stderr",
     "output_type": "stream",
     "text": [
      "2025-01-02 18:53:39.384828: E tensorflow/compiler/xla/stream_executor/cuda/cuda_dnn.cc:9342] Unable to register cuDNN factory: Attempting to register factory for plugin cuDNN when one has already been registered\n",
      "2025-01-02 18:53:39.384944: E tensorflow/compiler/xla/stream_executor/cuda/cuda_fft.cc:609] Unable to register cuFFT factory: Attempting to register factory for plugin cuFFT when one has already been registered\n",
      "2025-01-02 18:53:39.388151: E tensorflow/compiler/xla/stream_executor/cuda/cuda_blas.cc:1518] Unable to register cuBLAS factory: Attempting to register factory for plugin cuBLAS when one has already been registered\n",
      "2025-01-02 18:53:39.657112: I tensorflow/core/platform/cpu_feature_guard.cc:182] This TensorFlow binary is optimized to use available CPU instructions in performance-critical operations.\n",
      "To enable the following instructions: AVX2 FMA, in other operations, rebuild TensorFlow with the appropriate compiler flags.\n",
      "2025-01-02 18:53:48,705 \u001b[1;32mINFO\u001b[0m [ctlearn.PredictCTLearnModel] (tool.initialize): Loading config from '[]'\n",
      "2025-01-02 18:53:48,706 \u001b[1;32mINFO\u001b[0m [ctlearn.PredictCTLearnModel] (tool.initialize): ctapipe version 0.23.0\n",
      "2025-01-02 18:53:48,706 \u001b[1;31mERROR\u001b[0m [ctlearn.PredictCTLearnModel] (tool.run): The output file '/home/blacave/CTLearn/Data/DL2/Testing/gamma_point_50_300E3GeV_20_20deg_batch0.dl2.h5' already exists. Please use '--no-use-HDF5Merger' to disable the usage of the HDF5Merger component.\n",
      "2025-01-02 18:53:48,706 \u001b[1;31mERROR\u001b[0m [ctlearn.PredictCTLearnModel] (tool.run): Use --help for more info\n",
      "2025-01-02 18:53:48,715 \u001b[1;32mINFO\u001b[0m [ctlearn.PredictCTLearnModel] (tool.write_provenance): Output: \n",
      "2025-01-02 18:53:48,715 \u001b[1;34mDEBUG\u001b[0m [ctlearn.PredictCTLearnModel] (tool.write_provenance): PROVENANCE: 'Details about provenance is found in /home/blacave/CTLearn/Software/CTLearn-Manager/notebooks/PredictCTLearnModel.provenance.log'\n",
      "2025-01-02 18:53:48,717 \u001b[1;34mDEBUG\u001b[0m [ctlearn.PredictCTLearnModel] (application.exit): Exiting application: PredictCTLearnModel\n"
     ]
    },
    {
     "name": "stdout",
     "output_type": "stream",
     "text": [
      "ctlearn-predict-model --input_url /home/blacave/CTLearn/Data/DL1/SST1M/MC/Gamma_point/20deg/testing/gamma_point_50_300E3GeV_20_20deg_batch1.dl1.h5                     --type_model=/home/blacave/CTLearn/Data/CTLearn_Models_SST1M/type_stereo_20deg_v1/ctlearn_model.cpk                     --energy_model=/home/blacave/CTLearn/Data/CTLearn_Models_SST1M/energy_stereo_20deg_v0/ctlearn_model.cpk                     --direction_model=/home/blacave/CTLearn/Data/CTLearn_Models_SST1M/direction_stereo_20deg_v0/ctlearn_model.cpk                     --no-dl1-images --no-true-images --output /home/blacave/CTLearn/Data/DL2/Testing//gamma_point_50_300E3GeV_20_20deg_batch1.dl2.h5                     --DLImageReader.mode=stereo --PredictCTLearnModel.stack_telescope_images=True --DLImageReader.min_telescopes=2                     --PredictCTLearnModel.overwrite_tables=True -v --DLImageReader.channels=cleaned_image --DLImageReader.channels=cleaned_relative_peak_time \n"
     ]
    },
    {
     "name": "stderr",
     "output_type": "stream",
     "text": [
      "2025-01-02 18:53:50.395338: E tensorflow/compiler/xla/stream_executor/cuda/cuda_dnn.cc:9342] Unable to register cuDNN factory: Attempting to register factory for plugin cuDNN when one has already been registered\n",
      "2025-01-02 18:53:50.395424: E tensorflow/compiler/xla/stream_executor/cuda/cuda_fft.cc:609] Unable to register cuFFT factory: Attempting to register factory for plugin cuFFT when one has already been registered\n",
      "2025-01-02 18:53:50.395469: E tensorflow/compiler/xla/stream_executor/cuda/cuda_blas.cc:1518] Unable to register cuBLAS factory: Attempting to register factory for plugin cuBLAS when one has already been registered\n",
      "2025-01-02 18:53:50.403188: I tensorflow/core/platform/cpu_feature_guard.cc:182] This TensorFlow binary is optimized to use available CPU instructions in performance-critical operations.\n",
      "To enable the following instructions: AVX2 FMA, in other operations, rebuild TensorFlow with the appropriate compiler flags.\n",
      "2025-01-02 18:53:54,745 \u001b[1;32mINFO\u001b[0m [ctlearn.PredictCTLearnModel] (tool.initialize): Loading config from '[]'\n",
      "2025-01-02 18:53:54,746 \u001b[1;32mINFO\u001b[0m [ctlearn.PredictCTLearnModel] (tool.initialize): ctapipe version 0.23.0\n",
      "2025-01-02 18:53:54,746 \u001b[1;32mINFO\u001b[0m [ctlearn.PredictCTLearnModel] (predict_model.setup): Copying to output destination.\n",
      "2025-01-02 18:54:02,825 \u001b[1;32mINFO\u001b[0m [ctlearn.PredictCTLearnModel.HDF5Merger] (hdf5merger.__call__): Updated required nodes to ['/configuration/observation/observation_block', '/configuration/observation/scheduling_block', '/configuration/simulation/run', '/configuration/telescope/pointing', '/dl1/event/subarray/trigger', '/dl1/event/telescope/parameters', '/dl1/event/telescope/trigger', '/simulation/event/subarray/shower', '/simulation/event/telescope/images', '/simulation/event/telescope/impact', '/simulation/event/telescope/parameters', '/simulation/service/shower_distribution']\n",
      "2025-01-02 18:54:04.494295: I tensorflow/compiler/xla/stream_executor/cuda/cuda_gpu_executor.cc:880] could not open file to read NUMA node: /sys/bus/pci/devices/0000:26:00.0/numa_node\n",
      "Your kernel may have been built without NUMA support.\n",
      "2025-01-02 18:54:04.558082: I tensorflow/compiler/xla/stream_executor/cuda/cuda_gpu_executor.cc:880] could not open file to read NUMA node: /sys/bus/pci/devices/0000:26:00.0/numa_node\n",
      "Your kernel may have been built without NUMA support.\n",
      "2025-01-02 18:54:04.558177: I tensorflow/compiler/xla/stream_executor/cuda/cuda_gpu_executor.cc:880] could not open file to read NUMA node: /sys/bus/pci/devices/0000:26:00.0/numa_node\n",
      "Your kernel may have been built without NUMA support.\n",
      "2025-01-02 18:54:04.560097: I tensorflow/compiler/xla/stream_executor/cuda/cuda_gpu_executor.cc:880] could not open file to read NUMA node: /sys/bus/pci/devices/0000:26:00.0/numa_node\n",
      "Your kernel may have been built without NUMA support.\n",
      "2025-01-02 18:54:04.560182: I tensorflow/compiler/xla/stream_executor/cuda/cuda_gpu_executor.cc:880] could not open file to read NUMA node: /sys/bus/pci/devices/0000:26:00.0/numa_node\n",
      "Your kernel may have been built without NUMA support.\n",
      "2025-01-02 18:54:04.560238: I tensorflow/compiler/xla/stream_executor/cuda/cuda_gpu_executor.cc:880] could not open file to read NUMA node: /sys/bus/pci/devices/0000:26:00.0/numa_node\n",
      "Your kernel may have been built without NUMA support.\n",
      "2025-01-02 18:54:04.801210: I tensorflow/compiler/xla/stream_executor/cuda/cuda_gpu_executor.cc:880] could not open file to read NUMA node: /sys/bus/pci/devices/0000:26:00.0/numa_node\n",
      "Your kernel may have been built without NUMA support.\n",
      "2025-01-02 18:54:04.801309: I tensorflow/compiler/xla/stream_executor/cuda/cuda_gpu_executor.cc:880] could not open file to read NUMA node: /sys/bus/pci/devices/0000:26:00.0/numa_node\n",
      "Your kernel may have been built without NUMA support.\n",
      "2025-01-02 18:54:04.801321: I tensorflow/core/common_runtime/gpu/gpu_device.cc:1977] Could not identify NUMA node of platform GPU id 0, defaulting to 0.  Your kernel may not have been built with NUMA support.\n",
      "2025-01-02 18:54:04.801368: I tensorflow/compiler/xla/stream_executor/cuda/cuda_gpu_executor.cc:880] could not open file to read NUMA node: /sys/bus/pci/devices/0000:26:00.0/numa_node\n",
      "Your kernel may have been built without NUMA support.\n",
      "2025-01-02 18:54:04.801393: I tensorflow/core/common_runtime/gpu/gpu_device.cc:1886] Created device /job:localhost/replica:0/task:0/device:GPU:0 with 3749 MB memory:  -> device: 0, name: NVIDIA GeForce RTX 4070 SUPER, pci bus id: 0000:26:00.0, compute capability: 8.9\n",
      "2025-01-02 18:54:06,301 \u001b[1;32mINFO\u001b[0m [ctlearn.PredictCTLearnModel] (predict_model.setup): Number of devices: 1\n",
      "2025-01-02 18:54:06,303 \u001b[1;32mINFO\u001b[0m [ctlearn.PredictCTLearnModel] (predict_model.setup): Loading data reader:\n",
      "2025-01-02 18:54:06,306 \u001b[1;32mINFO\u001b[0m [ctlearn.PredictCTLearnModel] (predict_model.setup):   For a large dataset, this may take a while...\n",
      "/home/blacave/miniforge3/envs/ctlearn-cluster/lib/python3.10/site-packages/ctapipe/coordinates/__init__.py:62: MissingFrameAttributeWarning: AltAz coordinate has no obstime, assuming same frame\n",
      "  warnings.warn(\n",
      "/home/blacave/miniforge3/envs/ctlearn-cluster/lib/python3.10/site-packages/ctapipe/coordinates/__init__.py:70: MissingFrameAttributeWarning: AltAz coordinate has no location, assuming same frame\n",
      "  warnings.warn(\n",
      "2025-01-02 18:55:00,204 \u001b[1;32mINFO\u001b[0m [ctlearn.PredictCTLearnModel] (predict_model.setup):   Number of events loaded: 44289\n",
      "2025-01-02 18:55:00,208 \u001b[1;34mDEBUG\u001b[0m [ctlearn.PredictCTLearnModel] (tool.run): CONFIG: {'PredictCTLearnModel': {'batch_size': 64, 'config_files': [], 'dl1dh_reader_type': 'DLImageReader', 'input_url': PosixPath('/home/blacave/CTLearn/Data/DL1/SST1M/MC/Gamma_point/20deg/testing/gamma_point_50_300E3GeV_20_20deg_batch1.dl1.h5'), 'load_direction_model_from': PosixPath('/home/blacave/CTLearn/Data/CTLearn_Models_SST1M/direction_stereo_20deg_v0/ctlearn_model.cpk'), 'load_energy_model_from': PosixPath('/home/blacave/CTLearn/Data/CTLearn_Models_SST1M/energy_stereo_20deg_v0/ctlearn_model.cpk'), 'load_type_model_from': PosixPath('/home/blacave/CTLearn/Data/CTLearn_Models_SST1M/type_stereo_20deg_v1/ctlearn_model.cpk'), 'log_config': {}, 'log_datefmt': '%Y-%m-%d %H:%M:%S', 'log_file': None, 'log_file_level': 'INFO', 'log_format': '[%(name)s]%(highlevel)s %(message)s', 'log_level': 10, 'logging_config': {}, 'output_path': PosixPath('/home/blacave/CTLearn/Data/DL2/Testing/gamma_point_50_300E3GeV_20_20deg_batch1.dl2.h5'), 'overwrite': False, 'overwrite_tables': True, 'prefix': 'CTLearn', 'provenance_log': PosixPath('/home/blacave/CTLearn/Software/CTLearn-Manager/notebooks/PredictCTLearnModel.provenance.log'), 'quiet': False, 'show_config': False, 'show_config_json': False, 'sort_by_intensity': False, 'stack_telescope_images': True, 'use_HDF5Merger': True, 'DLImageReader': {'allowed_tel_types': None, 'allowed_tels': None, 'channels': ['cleaned_image', 'cleaned_relative_peak_time'], 'image_mapper_type': [('type', '*', 'BilinearMapper')], 'min_telescopes': 2, 'min_telescopes_of_type': [('type', '*', 0)], 'mode': 'stereo', 'skip_incompatible_files': False, 'TableQualityQuery': {'quality_criteria': [('> 50 phe', 'hillas_intensity > 50')]}}}}\n",
      "2025-01-02 18:55:00,208 \u001b[1;32mINFO\u001b[0m [ctlearn.PredictCTLearnModel] (predict_model.start): Processing the telescope pointings...\n",
      "WARNING: MergeConflictWarning: In merged column 'obs_id' the 'description' attribute does not match (Simulation Run Identifier != Observation Block ID).  Using Observation Block ID for merged output [astropy.utils.metadata.merge]\n",
      "2025-01-02 18:55:13,070 \u001b[1;32mINFO\u001b[0m [ctlearn.PredictCTLearnModel] (predict_model._store_mc_subarray_pointing): DL1 subarray pointing table was stored in '/home/blacave/CTLearn/Data/DL2/Testing/gamma_point_50_300E3GeV_20_20deg_batch1.dl2.h5' under '/dl1/monitoring/subarray/pointing'\n",
      "2025-01-02 18:55:13,070 \u001b[1;32mINFO\u001b[0m [ctlearn.PredictCTLearnModel] (predict_model.start): Starting the prediction...\n",
      "2025-01-02 18:55:13,070 \u001b[1;32mINFO\u001b[0m [ctlearn.PredictCTLearnModel] (predict_model._predict_classification): Predicting for the classification of the primary particle type.\n",
      "2025-01-02 18:55:20.277803: I tensorflow/compiler/xla/stream_executor/cuda/cuda_dnn.cc:442] Loaded cuDNN version 8700\n"
     ]
    },
    {
     "name": "stdout",
     "output_type": "stream",
     "text": [
      "692/692 [==============================] - 115s 162ms/step\n",
      "1/1 [==============================] - 0s 336ms/step\n"
     ]
    },
    {
     "name": "stderr",
     "output_type": "stream",
     "text": [
      "2025-01-02 18:57:15,056 \u001b[1;32mINFO\u001b[0m [ctlearn.PredictCTLearnModel] (predict_model.start): DL2 prediction data was stored in '/home/blacave/CTLearn/Data/DL2/Testing/gamma_point_50_300E3GeV_20_20deg_batch1.dl2.h5' under '/dl2/event/subarray/classification/CTLearn'\n",
      "2025-01-02 18:57:15,057 \u001b[1;32mINFO\u001b[0m [ctlearn.PredictCTLearnModel] (predict_model._predict_energy): Predicting for the regression of the primary particle energy.\n"
     ]
    },
    {
     "name": "stdout",
     "output_type": "stream",
     "text": [
      "692/692 [==============================] - 108s 155ms/step\n",
      "1/1 [==============================] - 0s 77ms/step\n"
     ]
    },
    {
     "name": "stderr",
     "output_type": "stream",
     "text": [
      "2025-01-02 18:59:10,082 \u001b[1;32mINFO\u001b[0m [ctlearn.PredictCTLearnModel] (predict_model.start): DL2 prediction data was stored in '/home/blacave/CTLearn/Data/DL2/Testing/gamma_point_50_300E3GeV_20_20deg_batch1.dl2.h5' under '/dl2/event/subarray/energy/CTLearn'\n",
      "2025-01-02 18:59:10,495 \u001b[1;32mINFO\u001b[0m [ctlearn.PredictCTLearnModel] (predict_model._predict_direction): Predicting for the regression of the primary particle arrival direction.\n"
     ]
    },
    {
     "name": "stdout",
     "output_type": "stream",
     "text": [
      "692/692 [==============================] - 114s 163ms/step\n",
      "1/1 [==============================] - 0s 86ms/step\n"
     ]
    },
    {
     "name": "stderr",
     "output_type": "stream",
     "text": [
      "2025-01-02 19:01:11,575 \u001b[1;32mINFO\u001b[0m [ctlearn.PredictCTLearnModel] (predict_model.start): DL2 prediction data was stored in '/home/blacave/CTLearn/Data/DL2/Testing/gamma_point_50_300E3GeV_20_20deg_batch1.dl2.h5' under '/dl2/event/subarray/geometry/CTLearn'\n",
      "2025-01-02 19:01:11,584 \u001b[1;32mINFO\u001b[0m [ctlearn.PredictCTLearnModel] (predict_model.finish): Tool is shutting down\n",
      "2025-01-02 19:01:11,584 \u001b[1;32mINFO\u001b[0m [ctlearn.PredictCTLearnModel] (tool.run): Finished: PredictCTLearnModel\n",
      "2025-01-02 19:01:11,609 \u001b[1;32mINFO\u001b[0m [ctlearn.PredictCTLearnModel] (tool.write_provenance): Output: /home/blacave/CTLearn/Data/DL2/Testing/gamma_point_50_300E3GeV_20_20deg_batch1.dl2.h5\n",
      "2025-01-02 19:01:11,609 \u001b[1;34mDEBUG\u001b[0m [ctlearn.PredictCTLearnModel] (tool.write_provenance): PROVENANCE: 'Details about provenance is found in /home/blacave/CTLearn/Software/CTLearn-Manager/notebooks/PredictCTLearnModel.provenance.log'\n",
      "2025-01-02 19:01:11,612 \u001b[1;34mDEBUG\u001b[0m [ctlearn.PredictCTLearnModel] (application.exit): Exiting application: PredictCTLearnModel\n",
      "Closing remaining open files:/home/blacave/CTLearn/Data/DL1/SST1M/MC/Gamma_point/20deg/testing/gamma_point_50_300E3GeV_20_20deg_batch1.dl1.h5...done\n"
     ]
    },
    {
     "name": "stdout",
     "output_type": "stream",
     "text": [
      "ctlearn-predict-model --input_url /home/blacave/CTLearn/Data/DL1/SST1M/MC/Gamma_point/20deg/testing/gamma_point_50_300E3GeV_20_20deg_batch2.dl1.h5                     --type_model=/home/blacave/CTLearn/Data/CTLearn_Models_SST1M/type_stereo_20deg_v1/ctlearn_model.cpk                     --energy_model=/home/blacave/CTLearn/Data/CTLearn_Models_SST1M/energy_stereo_20deg_v0/ctlearn_model.cpk                     --direction_model=/home/blacave/CTLearn/Data/CTLearn_Models_SST1M/direction_stereo_20deg_v0/ctlearn_model.cpk                     --no-dl1-images --no-true-images --output /home/blacave/CTLearn/Data/DL2/Testing//gamma_point_50_300E3GeV_20_20deg_batch2.dl2.h5                     --DLImageReader.mode=stereo --PredictCTLearnModel.stack_telescope_images=True --DLImageReader.min_telescopes=2                     --PredictCTLearnModel.overwrite_tables=True -v --DLImageReader.channels=cleaned_image --DLImageReader.channels=cleaned_relative_peak_time \n"
     ]
    },
    {
     "name": "stderr",
     "output_type": "stream",
     "text": [
      "2025-01-02 19:01:16.242193: E tensorflow/compiler/xla/stream_executor/cuda/cuda_dnn.cc:9342] Unable to register cuDNN factory: Attempting to register factory for plugin cuDNN when one has already been registered\n",
      "2025-01-02 19:01:16.242250: E tensorflow/compiler/xla/stream_executor/cuda/cuda_fft.cc:609] Unable to register cuFFT factory: Attempting to register factory for plugin cuFFT when one has already been registered\n",
      "2025-01-02 19:01:16.245525: E tensorflow/compiler/xla/stream_executor/cuda/cuda_blas.cc:1518] Unable to register cuBLAS factory: Attempting to register factory for plugin cuBLAS when one has already been registered\n",
      "2025-01-02 19:01:16.494890: I tensorflow/core/platform/cpu_feature_guard.cc:182] This TensorFlow binary is optimized to use available CPU instructions in performance-critical operations.\n",
      "To enable the following instructions: AVX2 FMA, in other operations, rebuild TensorFlow with the appropriate compiler flags.\n",
      "2025-01-02 19:01:23,806 \u001b[1;32mINFO\u001b[0m [ctlearn.PredictCTLearnModel] (tool.initialize): Loading config from '[]'\n",
      "2025-01-02 19:01:23,807 \u001b[1;32mINFO\u001b[0m [ctlearn.PredictCTLearnModel] (tool.initialize): ctapipe version 0.23.0\n",
      "2025-01-02 19:01:23,807 \u001b[1;32mINFO\u001b[0m [ctlearn.PredictCTLearnModel] (predict_model.setup): Copying to output destination.\n",
      "2025-01-02 19:01:31,641 \u001b[1;32mINFO\u001b[0m [ctlearn.PredictCTLearnModel.HDF5Merger] (hdf5merger.__call__): Updated required nodes to ['/configuration/observation/observation_block', '/configuration/observation/scheduling_block', '/configuration/simulation/run', '/configuration/telescope/pointing', '/dl1/event/subarray/trigger', '/dl1/event/telescope/parameters', '/dl1/event/telescope/trigger', '/simulation/event/subarray/shower', '/simulation/event/telescope/images', '/simulation/event/telescope/impact', '/simulation/event/telescope/parameters', '/simulation/service/shower_distribution']\n",
      "2025-01-02 19:01:33.348948: I tensorflow/compiler/xla/stream_executor/cuda/cuda_gpu_executor.cc:880] could not open file to read NUMA node: /sys/bus/pci/devices/0000:26:00.0/numa_node\n",
      "Your kernel may have been built without NUMA support.\n",
      "2025-01-02 19:01:33.386931: I tensorflow/compiler/xla/stream_executor/cuda/cuda_gpu_executor.cc:880] could not open file to read NUMA node: /sys/bus/pci/devices/0000:26:00.0/numa_node\n",
      "Your kernel may have been built without NUMA support.\n",
      "2025-01-02 19:01:33.387018: I tensorflow/compiler/xla/stream_executor/cuda/cuda_gpu_executor.cc:880] could not open file to read NUMA node: /sys/bus/pci/devices/0000:26:00.0/numa_node\n",
      "Your kernel may have been built without NUMA support.\n",
      "2025-01-02 19:01:33.388689: I tensorflow/compiler/xla/stream_executor/cuda/cuda_gpu_executor.cc:880] could not open file to read NUMA node: /sys/bus/pci/devices/0000:26:00.0/numa_node\n",
      "Your kernel may have been built without NUMA support.\n",
      "2025-01-02 19:01:33.388769: I tensorflow/compiler/xla/stream_executor/cuda/cuda_gpu_executor.cc:880] could not open file to read NUMA node: /sys/bus/pci/devices/0000:26:00.0/numa_node\n",
      "Your kernel may have been built without NUMA support.\n",
      "2025-01-02 19:01:33.388803: I tensorflow/compiler/xla/stream_executor/cuda/cuda_gpu_executor.cc:880] could not open file to read NUMA node: /sys/bus/pci/devices/0000:26:00.0/numa_node\n",
      "Your kernel may have been built without NUMA support.\n",
      "2025-01-02 19:01:33.630028: I tensorflow/compiler/xla/stream_executor/cuda/cuda_gpu_executor.cc:880] could not open file to read NUMA node: /sys/bus/pci/devices/0000:26:00.0/numa_node\n",
      "Your kernel may have been built without NUMA support.\n",
      "2025-01-02 19:01:33.630126: I tensorflow/compiler/xla/stream_executor/cuda/cuda_gpu_executor.cc:880] could not open file to read NUMA node: /sys/bus/pci/devices/0000:26:00.0/numa_node\n",
      "Your kernel may have been built without NUMA support.\n",
      "2025-01-02 19:01:33.630139: I tensorflow/core/common_runtime/gpu/gpu_device.cc:1977] Could not identify NUMA node of platform GPU id 0, defaulting to 0.  Your kernel may not have been built with NUMA support.\n",
      "2025-01-02 19:01:33.630185: I tensorflow/compiler/xla/stream_executor/cuda/cuda_gpu_executor.cc:880] could not open file to read NUMA node: /sys/bus/pci/devices/0000:26:00.0/numa_node\n",
      "Your kernel may have been built without NUMA support.\n",
      "2025-01-02 19:01:33.631277: I tensorflow/core/common_runtime/gpu/gpu_device.cc:1886] Created device /job:localhost/replica:0/task:0/device:GPU:0 with 9517 MB memory:  -> device: 0, name: NVIDIA GeForce RTX 4070 SUPER, pci bus id: 0000:26:00.0, compute capability: 8.9\n",
      "2025-01-02 19:01:36,420 \u001b[1;32mINFO\u001b[0m [ctlearn.PredictCTLearnModel] (predict_model.setup): Number of devices: 1\n",
      "2025-01-02 19:01:36,420 \u001b[1;32mINFO\u001b[0m [ctlearn.PredictCTLearnModel] (predict_model.setup): Loading data reader:\n",
      "2025-01-02 19:01:36,420 \u001b[1;32mINFO\u001b[0m [ctlearn.PredictCTLearnModel] (predict_model.setup):   For a large dataset, this may take a while...\n",
      "/home/blacave/miniforge3/envs/ctlearn-cluster/lib/python3.10/site-packages/ctapipe/coordinates/__init__.py:62: MissingFrameAttributeWarning: AltAz coordinate has no obstime, assuming same frame\n",
      "  warnings.warn(\n",
      "/home/blacave/miniforge3/envs/ctlearn-cluster/lib/python3.10/site-packages/ctapipe/coordinates/__init__.py:70: MissingFrameAttributeWarning: AltAz coordinate has no location, assuming same frame\n",
      "  warnings.warn(\n",
      "2025-01-02 19:02:31,894 \u001b[1;32mINFO\u001b[0m [ctlearn.PredictCTLearnModel] (predict_model.setup):   Number of events loaded: 44641\n",
      "2025-01-02 19:02:31,898 \u001b[1;34mDEBUG\u001b[0m [ctlearn.PredictCTLearnModel] (tool.run): CONFIG: {'PredictCTLearnModel': {'batch_size': 64, 'config_files': [], 'dl1dh_reader_type': 'DLImageReader', 'input_url': PosixPath('/home/blacave/CTLearn/Data/DL1/SST1M/MC/Gamma_point/20deg/testing/gamma_point_50_300E3GeV_20_20deg_batch2.dl1.h5'), 'load_direction_model_from': PosixPath('/home/blacave/CTLearn/Data/CTLearn_Models_SST1M/direction_stereo_20deg_v0/ctlearn_model.cpk'), 'load_energy_model_from': PosixPath('/home/blacave/CTLearn/Data/CTLearn_Models_SST1M/energy_stereo_20deg_v0/ctlearn_model.cpk'), 'load_type_model_from': PosixPath('/home/blacave/CTLearn/Data/CTLearn_Models_SST1M/type_stereo_20deg_v1/ctlearn_model.cpk'), 'log_config': {}, 'log_datefmt': '%Y-%m-%d %H:%M:%S', 'log_file': None, 'log_file_level': 'INFO', 'log_format': '[%(name)s]%(highlevel)s %(message)s', 'log_level': 10, 'logging_config': {}, 'output_path': PosixPath('/home/blacave/CTLearn/Data/DL2/Testing/gamma_point_50_300E3GeV_20_20deg_batch2.dl2.h5'), 'overwrite': False, 'overwrite_tables': True, 'prefix': 'CTLearn', 'provenance_log': PosixPath('/home/blacave/CTLearn/Software/CTLearn-Manager/notebooks/PredictCTLearnModel.provenance.log'), 'quiet': False, 'show_config': False, 'show_config_json': False, 'sort_by_intensity': False, 'stack_telescope_images': True, 'use_HDF5Merger': True, 'DLImageReader': {'allowed_tel_types': None, 'allowed_tels': None, 'channels': ['cleaned_image', 'cleaned_relative_peak_time'], 'image_mapper_type': [('type', '*', 'BilinearMapper')], 'min_telescopes': 2, 'min_telescopes_of_type': [('type', '*', 0)], 'mode': 'stereo', 'skip_incompatible_files': False, 'TableQualityQuery': {'quality_criteria': [('> 50 phe', 'hillas_intensity > 50')]}}}}\n",
      "2025-01-02 19:02:31,898 \u001b[1;32mINFO\u001b[0m [ctlearn.PredictCTLearnModel] (predict_model.start): Processing the telescope pointings...\n",
      "WARNING: MergeConflictWarning: In merged column 'obs_id' the 'description' attribute does not match (Simulation Run Identifier != Observation Block ID).  Using Observation Block ID for merged output [astropy.utils.metadata.merge]\n",
      "2025-01-02 19:02:44,899 \u001b[1;32mINFO\u001b[0m [ctlearn.PredictCTLearnModel] (predict_model._store_mc_subarray_pointing): DL1 subarray pointing table was stored in '/home/blacave/CTLearn/Data/DL2/Testing/gamma_point_50_300E3GeV_20_20deg_batch2.dl2.h5' under '/dl1/monitoring/subarray/pointing'\n",
      "2025-01-02 19:02:44,899 \u001b[1;32mINFO\u001b[0m [ctlearn.PredictCTLearnModel] (predict_model.start): Starting the prediction...\n",
      "2025-01-02 19:02:44,899 \u001b[1;32mINFO\u001b[0m [ctlearn.PredictCTLearnModel] (predict_model._predict_classification): Predicting for the classification of the primary particle type.\n",
      "2025-01-02 19:02:52.269023: I tensorflow/compiler/xla/stream_executor/cuda/cuda_dnn.cc:442] Loaded cuDNN version 8700\n"
     ]
    },
    {
     "name": "stdout",
     "output_type": "stream",
     "text": [
      "697/697 [==============================] - 109s 152ms/step\n",
      "1/1 [==============================] - 1s 682ms/step\n"
     ]
    },
    {
     "name": "stderr",
     "output_type": "stream",
     "text": [
      "2025-01-02 19:04:41,264 \u001b[1;32mINFO\u001b[0m [ctlearn.PredictCTLearnModel] (predict_model.start): DL2 prediction data was stored in '/home/blacave/CTLearn/Data/DL2/Testing/gamma_point_50_300E3GeV_20_20deg_batch2.dl2.h5' under '/dl2/event/subarray/classification/CTLearn'\n",
      "2025-01-02 19:04:41,264 \u001b[1;32mINFO\u001b[0m [ctlearn.PredictCTLearnModel] (predict_model._predict_energy): Predicting for the regression of the primary particle energy.\n"
     ]
    },
    {
     "name": "stdout",
     "output_type": "stream",
     "text": [
      "697/697 [==============================] - 105s 149ms/step\n",
      "1/1 [==============================] - 0s 190ms/step\n"
     ]
    },
    {
     "name": "stderr",
     "output_type": "stream",
     "text": [
      "2025-01-02 19:06:33,157 \u001b[1;32mINFO\u001b[0m [ctlearn.PredictCTLearnModel] (predict_model.start): DL2 prediction data was stored in '/home/blacave/CTLearn/Data/DL2/Testing/gamma_point_50_300E3GeV_20_20deg_batch2.dl2.h5' under '/dl2/event/subarray/energy/CTLearn'\n",
      "2025-01-02 19:06:33,582 \u001b[1;32mINFO\u001b[0m [ctlearn.PredictCTLearnModel] (predict_model._predict_direction): Predicting for the regression of the primary particle arrival direction.\n"
     ]
    },
    {
     "name": "stdout",
     "output_type": "stream",
     "text": [
      "697/697 [==============================] - 107s 152ms/step\n",
      "1/1 [==============================] - 0s 188ms/step\n"
     ]
    },
    {
     "name": "stderr",
     "output_type": "stream",
     "text": [
      "2025-01-02 19:08:27,053 \u001b[1;32mINFO\u001b[0m [ctlearn.PredictCTLearnModel] (predict_model.start): DL2 prediction data was stored in '/home/blacave/CTLearn/Data/DL2/Testing/gamma_point_50_300E3GeV_20_20deg_batch2.dl2.h5' under '/dl2/event/subarray/geometry/CTLearn'\n",
      "2025-01-02 19:08:27,063 \u001b[1;32mINFO\u001b[0m [ctlearn.PredictCTLearnModel] (predict_model.finish): Tool is shutting down\n",
      "2025-01-02 19:08:27,064 \u001b[1;32mINFO\u001b[0m [ctlearn.PredictCTLearnModel] (tool.run): Finished: PredictCTLearnModel\n",
      "2025-01-02 19:08:27,089 \u001b[1;32mINFO\u001b[0m [ctlearn.PredictCTLearnModel] (tool.write_provenance): Output: /home/blacave/CTLearn/Data/DL2/Testing/gamma_point_50_300E3GeV_20_20deg_batch2.dl2.h5\n",
      "2025-01-02 19:08:27,089 \u001b[1;34mDEBUG\u001b[0m [ctlearn.PredictCTLearnModel] (tool.write_provenance): PROVENANCE: 'Details about provenance is found in /home/blacave/CTLearn/Software/CTLearn-Manager/notebooks/PredictCTLearnModel.provenance.log'\n",
      "2025-01-02 19:08:27,092 \u001b[1;34mDEBUG\u001b[0m [ctlearn.PredictCTLearnModel] (application.exit): Exiting application: PredictCTLearnModel\n",
      "Closing remaining open files:/home/blacave/CTLearn/Data/DL1/SST1M/MC/Gamma_point/20deg/testing/gamma_point_50_300E3GeV_20_20deg_batch2.dl1.h5...done\n"
     ]
    },
    {
     "name": "stdout",
     "output_type": "stream",
     "text": [
      "ctlearn-predict-model --input_url /home/blacave/CTLearn/Data/DL1/SST1M/MC/Proton_diffuse/20deg/merged/testing/proton_400_500E3GeV_20_20deg_batch5.dl1.h5                     --type_model=/home/blacave/CTLearn/Data/CTLearn_Models_SST1M/type_stereo_20deg_v1/ctlearn_model.cpk                     --energy_model=/home/blacave/CTLearn/Data/CTLearn_Models_SST1M/energy_stereo_20deg_v0/ctlearn_model.cpk                     --direction_model=/home/blacave/CTLearn/Data/CTLearn_Models_SST1M/direction_stereo_20deg_v0/ctlearn_model.cpk                     --no-dl1-images --no-true-images --output /home/blacave/CTLearn/Data/DL2/Testing//proton_400_500E3GeV_20_20deg_batch5.dl2.h5                     --DLImageReader.mode=stereo --PredictCTLearnModel.stack_telescope_images=True --DLImageReader.min_telescopes=2                     --PredictCTLearnModel.overwrite_tables=True -v --DLImageReader.channels=cleaned_image --DLImageReader.channels=cleaned_relative_peak_time \n"
     ]
    },
    {
     "name": "stderr",
     "output_type": "stream",
     "text": [
      "2025-01-02 19:08:31.236668: E tensorflow/compiler/xla/stream_executor/cuda/cuda_dnn.cc:9342] Unable to register cuDNN factory: Attempting to register factory for plugin cuDNN when one has already been registered\n",
      "2025-01-02 19:08:31.236735: E tensorflow/compiler/xla/stream_executor/cuda/cuda_fft.cc:609] Unable to register cuFFT factory: Attempting to register factory for plugin cuFFT when one has already been registered\n",
      "2025-01-02 19:08:31.236779: E tensorflow/compiler/xla/stream_executor/cuda/cuda_blas.cc:1518] Unable to register cuBLAS factory: Attempting to register factory for plugin cuBLAS when one has already been registered\n",
      "2025-01-02 19:08:31.252681: I tensorflow/core/platform/cpu_feature_guard.cc:182] This TensorFlow binary is optimized to use available CPU instructions in performance-critical operations.\n",
      "To enable the following instructions: AVX2 FMA, in other operations, rebuild TensorFlow with the appropriate compiler flags.\n",
      "2025-01-02 19:08:38,397 \u001b[1;32mINFO\u001b[0m [ctlearn.PredictCTLearnModel] (tool.initialize): Loading config from '[]'\n",
      "2025-01-02 19:08:38,398 \u001b[1;32mINFO\u001b[0m [ctlearn.PredictCTLearnModel] (tool.initialize): ctapipe version 0.23.0\n",
      "2025-01-02 19:08:38,398 \u001b[1;31mERROR\u001b[0m [ctlearn.PredictCTLearnModel] (tool.run): The output file '/home/blacave/CTLearn/Data/DL2/Testing/proton_400_500E3GeV_20_20deg_batch5.dl2.h5' already exists. Please use '--no-use-HDF5Merger' to disable the usage of the HDF5Merger component.\n",
      "2025-01-02 19:08:38,399 \u001b[1;31mERROR\u001b[0m [ctlearn.PredictCTLearnModel] (tool.run): Use --help for more info\n",
      "2025-01-02 19:08:38,406 \u001b[1;32mINFO\u001b[0m [ctlearn.PredictCTLearnModel] (tool.write_provenance): Output: \n",
      "2025-01-02 19:08:38,406 \u001b[1;34mDEBUG\u001b[0m [ctlearn.PredictCTLearnModel] (tool.write_provenance): PROVENANCE: 'Details about provenance is found in /home/blacave/CTLearn/Software/CTLearn-Manager/notebooks/PredictCTLearnModel.provenance.log'\n",
      "2025-01-02 19:08:38,407 \u001b[1;34mDEBUG\u001b[0m [ctlearn.PredictCTLearnModel] (application.exit): Exiting application: PredictCTLearnModel\n"
     ]
    },
    {
     "name": "stdout",
     "output_type": "stream",
     "text": [
      "ctlearn-predict-model --input_url /home/blacave/CTLearn/Data/DL1/SST1M/MC/Proton_diffuse/20deg/merged/testing/proton_400_500E3GeV_20_20deg_batch6.dl1.h5                     --type_model=/home/blacave/CTLearn/Data/CTLearn_Models_SST1M/type_stereo_20deg_v1/ctlearn_model.cpk                     --energy_model=/home/blacave/CTLearn/Data/CTLearn_Models_SST1M/energy_stereo_20deg_v0/ctlearn_model.cpk                     --direction_model=/home/blacave/CTLearn/Data/CTLearn_Models_SST1M/direction_stereo_20deg_v0/ctlearn_model.cpk                     --no-dl1-images --no-true-images --output /home/blacave/CTLearn/Data/DL2/Testing//proton_400_500E3GeV_20_20deg_batch6.dl2.h5                     --DLImageReader.mode=stereo --PredictCTLearnModel.stack_telescope_images=True --DLImageReader.min_telescopes=2                     --PredictCTLearnModel.overwrite_tables=True -v --DLImageReader.channels=cleaned_image --DLImageReader.channels=cleaned_relative_peak_time \n"
     ]
    },
    {
     "name": "stderr",
     "output_type": "stream",
     "text": [
      "2025-01-02 19:08:39.613996: E tensorflow/compiler/xla/stream_executor/cuda/cuda_dnn.cc:9342] Unable to register cuDNN factory: Attempting to register factory for plugin cuDNN when one has already been registered\n",
      "2025-01-02 19:08:39.614066: E tensorflow/compiler/xla/stream_executor/cuda/cuda_fft.cc:609] Unable to register cuFFT factory: Attempting to register factory for plugin cuFFT when one has already been registered\n",
      "2025-01-02 19:08:39.614101: E tensorflow/compiler/xla/stream_executor/cuda/cuda_blas.cc:1518] Unable to register cuBLAS factory: Attempting to register factory for plugin cuBLAS when one has already been registered\n",
      "2025-01-02 19:08:39.622332: I tensorflow/core/platform/cpu_feature_guard.cc:182] This TensorFlow binary is optimized to use available CPU instructions in performance-critical operations.\n",
      "To enable the following instructions: AVX2 FMA, in other operations, rebuild TensorFlow with the appropriate compiler flags.\n",
      "2025-01-02 19:08:43,829 \u001b[1;32mINFO\u001b[0m [ctlearn.PredictCTLearnModel] (tool.initialize): Loading config from '[]'\n",
      "2025-01-02 19:08:43,830 \u001b[1;32mINFO\u001b[0m [ctlearn.PredictCTLearnModel] (tool.initialize): ctapipe version 0.23.0\n",
      "2025-01-02 19:08:43,830 \u001b[1;31mERROR\u001b[0m [ctlearn.PredictCTLearnModel] (tool.run): The output file '/home/blacave/CTLearn/Data/DL2/Testing/proton_400_500E3GeV_20_20deg_batch6.dl2.h5' already exists. Please use '--no-use-HDF5Merger' to disable the usage of the HDF5Merger component.\n",
      "2025-01-02 19:08:43,830 \u001b[1;31mERROR\u001b[0m [ctlearn.PredictCTLearnModel] (tool.run): Use --help for more info\n",
      "2025-01-02 19:08:43,837 \u001b[1;32mINFO\u001b[0m [ctlearn.PredictCTLearnModel] (tool.write_provenance): Output: \n",
      "2025-01-02 19:08:43,837 \u001b[1;34mDEBUG\u001b[0m [ctlearn.PredictCTLearnModel] (tool.write_provenance): PROVENANCE: 'Details about provenance is found in /home/blacave/CTLearn/Software/CTLearn-Manager/notebooks/PredictCTLearnModel.provenance.log'\n",
      "2025-01-02 19:08:43,838 \u001b[1;34mDEBUG\u001b[0m [ctlearn.PredictCTLearnModel] (application.exit): Exiting application: PredictCTLearnModel\n"
     ]
    },
    {
     "name": "stdout",
     "output_type": "stream",
     "text": [
      "ctlearn-predict-model --input_url /home/blacave/CTLearn/Data/DL1/SST1M/MC/Proton_diffuse/20deg/merged/testing/proton_400_500E3GeV_20_20deg_batch7.dl1.h5                     --type_model=/home/blacave/CTLearn/Data/CTLearn_Models_SST1M/type_stereo_20deg_v1/ctlearn_model.cpk                     --energy_model=/home/blacave/CTLearn/Data/CTLearn_Models_SST1M/energy_stereo_20deg_v0/ctlearn_model.cpk                     --direction_model=/home/blacave/CTLearn/Data/CTLearn_Models_SST1M/direction_stereo_20deg_v0/ctlearn_model.cpk                     --no-dl1-images --no-true-images --output /home/blacave/CTLearn/Data/DL2/Testing//proton_400_500E3GeV_20_20deg_batch7.dl2.h5                     --DLImageReader.mode=stereo --PredictCTLearnModel.stack_telescope_images=True --DLImageReader.min_telescopes=2                     --PredictCTLearnModel.overwrite_tables=True -v --DLImageReader.channels=cleaned_image --DLImageReader.channels=cleaned_relative_peak_time \n"
     ]
    },
    {
     "name": "stderr",
     "output_type": "stream",
     "text": [
      "2025-01-02 19:08:45.049230: E tensorflow/compiler/xla/stream_executor/cuda/cuda_dnn.cc:9342] Unable to register cuDNN factory: Attempting to register factory for plugin cuDNN when one has already been registered\n",
      "2025-01-02 19:08:45.049298: E tensorflow/compiler/xla/stream_executor/cuda/cuda_fft.cc:609] Unable to register cuFFT factory: Attempting to register factory for plugin cuFFT when one has already been registered\n",
      "2025-01-02 19:08:45.049333: E tensorflow/compiler/xla/stream_executor/cuda/cuda_blas.cc:1518] Unable to register cuBLAS factory: Attempting to register factory for plugin cuBLAS when one has already been registered\n",
      "2025-01-02 19:08:45.057767: I tensorflow/core/platform/cpu_feature_guard.cc:182] This TensorFlow binary is optimized to use available CPU instructions in performance-critical operations.\n",
      "To enable the following instructions: AVX2 FMA, in other operations, rebuild TensorFlow with the appropriate compiler flags.\n",
      "2025-01-02 19:08:49,218 \u001b[1;32mINFO\u001b[0m [ctlearn.PredictCTLearnModel] (tool.initialize): Loading config from '[]'\n",
      "2025-01-02 19:08:49,219 \u001b[1;32mINFO\u001b[0m [ctlearn.PredictCTLearnModel] (tool.initialize): ctapipe version 0.23.0\n",
      "2025-01-02 19:08:49,220 \u001b[1;32mINFO\u001b[0m [ctlearn.PredictCTLearnModel] (predict_model.setup): Copying to output destination.\n",
      "2025-01-02 19:09:20,558 \u001b[1;32mINFO\u001b[0m [ctlearn.PredictCTLearnModel.HDF5Merger] (hdf5merger.__call__): Updated required nodes to ['/configuration/observation/observation_block', '/configuration/observation/scheduling_block', '/configuration/simulation/run', '/configuration/telescope/pointing', '/dl1/event/subarray/trigger', '/dl1/event/telescope/parameters', '/dl1/event/telescope/trigger', '/simulation/event/subarray/shower', '/simulation/event/telescope/images', '/simulation/event/telescope/impact', '/simulation/event/telescope/parameters', '/simulation/service/shower_distribution']\n",
      "2025-01-02 19:09:22.866467: I tensorflow/compiler/xla/stream_executor/cuda/cuda_gpu_executor.cc:880] could not open file to read NUMA node: /sys/bus/pci/devices/0000:26:00.0/numa_node\n",
      "Your kernel may have been built without NUMA support.\n",
      "2025-01-02 19:09:22.923580: I tensorflow/compiler/xla/stream_executor/cuda/cuda_gpu_executor.cc:880] could not open file to read NUMA node: /sys/bus/pci/devices/0000:26:00.0/numa_node\n",
      "Your kernel may have been built without NUMA support.\n",
      "2025-01-02 19:09:22.923674: I tensorflow/compiler/xla/stream_executor/cuda/cuda_gpu_executor.cc:880] could not open file to read NUMA node: /sys/bus/pci/devices/0000:26:00.0/numa_node\n",
      "Your kernel may have been built without NUMA support.\n",
      "2025-01-02 19:09:22.929543: I tensorflow/compiler/xla/stream_executor/cuda/cuda_gpu_executor.cc:880] could not open file to read NUMA node: /sys/bus/pci/devices/0000:26:00.0/numa_node\n",
      "Your kernel may have been built without NUMA support.\n",
      "2025-01-02 19:09:22.929631: I tensorflow/compiler/xla/stream_executor/cuda/cuda_gpu_executor.cc:880] could not open file to read NUMA node: /sys/bus/pci/devices/0000:26:00.0/numa_node\n",
      "Your kernel may have been built without NUMA support.\n",
      "2025-01-02 19:09:22.929663: I tensorflow/compiler/xla/stream_executor/cuda/cuda_gpu_executor.cc:880] could not open file to read NUMA node: /sys/bus/pci/devices/0000:26:00.0/numa_node\n",
      "Your kernel may have been built without NUMA support.\n",
      "2025-01-02 19:09:23.163618: I tensorflow/compiler/xla/stream_executor/cuda/cuda_gpu_executor.cc:880] could not open file to read NUMA node: /sys/bus/pci/devices/0000:26:00.0/numa_node\n",
      "Your kernel may have been built without NUMA support.\n",
      "2025-01-02 19:09:23.163711: I tensorflow/compiler/xla/stream_executor/cuda/cuda_gpu_executor.cc:880] could not open file to read NUMA node: /sys/bus/pci/devices/0000:26:00.0/numa_node\n",
      "Your kernel may have been built without NUMA support.\n",
      "2025-01-02 19:09:23.163725: I tensorflow/core/common_runtime/gpu/gpu_device.cc:1977] Could not identify NUMA node of platform GPU id 0, defaulting to 0.  Your kernel may not have been built with NUMA support.\n",
      "2025-01-02 19:09:23.163771: I tensorflow/compiler/xla/stream_executor/cuda/cuda_gpu_executor.cc:880] could not open file to read NUMA node: /sys/bus/pci/devices/0000:26:00.0/numa_node\n",
      "Your kernel may have been built without NUMA support.\n",
      "2025-01-02 19:09:23.164984: I tensorflow/core/common_runtime/gpu/gpu_device.cc:1886] Created device /job:localhost/replica:0/task:0/device:GPU:0 with 9517 MB memory:  -> device: 0, name: NVIDIA GeForce RTX 4070 SUPER, pci bus id: 0000:26:00.0, compute capability: 8.9\n",
      "2025-01-02 19:09:23,433 \u001b[1;32mINFO\u001b[0m [ctlearn.PredictCTLearnModel] (predict_model.setup): Number of devices: 1\n",
      "2025-01-02 19:09:23,433 \u001b[1;32mINFO\u001b[0m [ctlearn.PredictCTLearnModel] (predict_model.setup): Loading data reader:\n",
      "2025-01-02 19:09:23,433 \u001b[1;32mINFO\u001b[0m [ctlearn.PredictCTLearnModel] (predict_model.setup):   For a large dataset, this may take a while...\n",
      "/home/blacave/miniforge3/envs/ctlearn-cluster/lib/python3.10/site-packages/ctapipe/coordinates/__init__.py:62: MissingFrameAttributeWarning: AltAz coordinate has no obstime, assuming same frame\n",
      "  warnings.warn(\n",
      "/home/blacave/miniforge3/envs/ctlearn-cluster/lib/python3.10/site-packages/ctapipe/coordinates/__init__.py:70: MissingFrameAttributeWarning: AltAz coordinate has no location, assuming same frame\n",
      "  warnings.warn(\n",
      "2025-01-02 19:12:52,143 \u001b[1;32mINFO\u001b[0m [ctlearn.PredictCTLearnModel] (predict_model.setup):   Number of events loaded: 161211\n",
      "2025-01-02 19:12:52,150 \u001b[1;34mDEBUG\u001b[0m [ctlearn.PredictCTLearnModel] (tool.run): CONFIG: {'PredictCTLearnModel': {'batch_size': 64, 'config_files': [], 'dl1dh_reader_type': 'DLImageReader', 'input_url': PosixPath('/home/blacave/CTLearn/Data/DL1/SST1M/MC/Proton_diffuse/20deg/merged/testing/proton_400_500E3GeV_20_20deg_batch7.dl1.h5'), 'load_direction_model_from': PosixPath('/home/blacave/CTLearn/Data/CTLearn_Models_SST1M/direction_stereo_20deg_v0/ctlearn_model.cpk'), 'load_energy_model_from': PosixPath('/home/blacave/CTLearn/Data/CTLearn_Models_SST1M/energy_stereo_20deg_v0/ctlearn_model.cpk'), 'load_type_model_from': PosixPath('/home/blacave/CTLearn/Data/CTLearn_Models_SST1M/type_stereo_20deg_v1/ctlearn_model.cpk'), 'log_config': {}, 'log_datefmt': '%Y-%m-%d %H:%M:%S', 'log_file': None, 'log_file_level': 'INFO', 'log_format': '[%(name)s]%(highlevel)s %(message)s', 'log_level': 10, 'logging_config': {}, 'output_path': PosixPath('/home/blacave/CTLearn/Data/DL2/Testing/proton_400_500E3GeV_20_20deg_batch7.dl2.h5'), 'overwrite': False, 'overwrite_tables': True, 'prefix': 'CTLearn', 'provenance_log': PosixPath('/home/blacave/CTLearn/Software/CTLearn-Manager/notebooks/PredictCTLearnModel.provenance.log'), 'quiet': False, 'show_config': False, 'show_config_json': False, 'sort_by_intensity': False, 'stack_telescope_images': True, 'use_HDF5Merger': True, 'DLImageReader': {'allowed_tel_types': None, 'allowed_tels': None, 'channels': ['cleaned_image', 'cleaned_relative_peak_time'], 'image_mapper_type': [('type', '*', 'BilinearMapper')], 'min_telescopes': 2, 'min_telescopes_of_type': [('type', '*', 0)], 'mode': 'stereo', 'skip_incompatible_files': False, 'TableQualityQuery': {'quality_criteria': [('> 50 phe', 'hillas_intensity > 50')]}}}}\n",
      "2025-01-02 19:12:52,150 \u001b[1;32mINFO\u001b[0m [ctlearn.PredictCTLearnModel] (predict_model.start): Processing the telescope pointings...\n",
      "WARNING: MergeConflictWarning: In merged column 'obs_id' the 'description' attribute does not match (Simulation Run Identifier != Observation Block ID).  Using Observation Block ID for merged output [astropy.utils.metadata.merge]\n",
      "2025-01-02 19:13:39,380 \u001b[1;32mINFO\u001b[0m [ctlearn.PredictCTLearnModel] (predict_model._store_mc_subarray_pointing): DL1 subarray pointing table was stored in '/home/blacave/CTLearn/Data/DL2/Testing/proton_400_500E3GeV_20_20deg_batch7.dl2.h5' under '/dl1/monitoring/subarray/pointing'\n",
      "2025-01-02 19:13:39,380 \u001b[1;32mINFO\u001b[0m [ctlearn.PredictCTLearnModel] (predict_model.start): Starting the prediction...\n",
      "2025-01-02 19:13:39,380 \u001b[1;32mINFO\u001b[0m [ctlearn.PredictCTLearnModel] (predict_model._predict_classification): Predicting for the classification of the primary particle type.\n",
      "2025-01-02 19:13:46.677140: I tensorflow/compiler/xla/stream_executor/cuda/cuda_dnn.cc:442] Loaded cuDNN version 8700\n"
     ]
    },
    {
     "name": "stdout",
     "output_type": "stream",
     "text": [
      "2518/2518 [==============================] - 405s 159ms/step\n",
      "1/1 [==============================] - 1s 1s/step\n"
     ]
    },
    {
     "name": "stderr",
     "output_type": "stream",
     "text": [
      "2025-01-02 19:20:34,735 \u001b[1;32mINFO\u001b[0m [ctlearn.PredictCTLearnModel] (predict_model.start): DL2 prediction data was stored in '/home/blacave/CTLearn/Data/DL2/Testing/proton_400_500E3GeV_20_20deg_batch7.dl2.h5' under '/dl2/event/subarray/classification/CTLearn'\n",
      "2025-01-02 19:20:34,735 \u001b[1;32mINFO\u001b[0m [ctlearn.PredictCTLearnModel] (predict_model._predict_energy): Predicting for the regression of the primary particle energy.\n"
     ]
    },
    {
     "name": "stdout",
     "output_type": "stream",
     "text": [
      "2518/2518 [==============================] - 407s 161ms/step\n",
      "1/1 [==============================] - 0s 480ms/step\n"
     ]
    },
    {
     "name": "stderr",
     "output_type": "stream",
     "text": [
      "2025-01-02 19:27:32,057 \u001b[1;32mINFO\u001b[0m [ctlearn.PredictCTLearnModel] (predict_model.start): DL2 prediction data was stored in '/home/blacave/CTLearn/Data/DL2/Testing/proton_400_500E3GeV_20_20deg_batch7.dl2.h5' under '/dl2/event/subarray/energy/CTLearn'\n",
      "2025-01-02 19:27:36,223 \u001b[1;32mINFO\u001b[0m [ctlearn.PredictCTLearnModel] (predict_model._predict_direction): Predicting for the regression of the primary particle arrival direction.\n",
      "Killed\n"
     ]
    },
    {
     "name": "stdout",
     "output_type": "stream",
     "text": [
      "ctlearn-predict-model --input_url /home/blacave/CTLearn/Data/DL1/SST1M/MC/Proton_diffuse/20deg/merged/testing/proton_400_500E3GeV_20_20deg_batch8.dl1.h5                     --type_model=/home/blacave/CTLearn/Data/CTLearn_Models_SST1M/type_stereo_20deg_v1/ctlearn_model.cpk                     --energy_model=/home/blacave/CTLearn/Data/CTLearn_Models_SST1M/energy_stereo_20deg_v0/ctlearn_model.cpk                     --direction_model=/home/blacave/CTLearn/Data/CTLearn_Models_SST1M/direction_stereo_20deg_v0/ctlearn_model.cpk                     --no-dl1-images --no-true-images --output /home/blacave/CTLearn/Data/DL2/Testing//proton_400_500E3GeV_20_20deg_batch8.dl2.h5                     --DLImageReader.mode=stereo --PredictCTLearnModel.stack_telescope_images=True --DLImageReader.min_telescopes=2                     --PredictCTLearnModel.overwrite_tables=True -v --DLImageReader.channels=cleaned_image --DLImageReader.channels=cleaned_relative_peak_time \n"
     ]
    },
    {
     "name": "stderr",
     "output_type": "stream",
     "text": [
      "2025-01-02 19:28:06.979753: E tensorflow/compiler/xla/stream_executor/cuda/cuda_dnn.cc:9342] Unable to register cuDNN factory: Attempting to register factory for plugin cuDNN when one has already been registered\n",
      "2025-01-02 19:28:06.979818: E tensorflow/compiler/xla/stream_executor/cuda/cuda_fft.cc:609] Unable to register cuFFT factory: Attempting to register factory for plugin cuFFT when one has already been registered\n",
      "2025-01-02 19:28:06.983261: E tensorflow/compiler/xla/stream_executor/cuda/cuda_blas.cc:1518] Unable to register cuBLAS factory: Attempting to register factory for plugin cuBLAS when one has already been registered\n",
      "2025-01-02 19:28:07.272631: I tensorflow/core/platform/cpu_feature_guard.cc:182] This TensorFlow binary is optimized to use available CPU instructions in performance-critical operations.\n",
      "To enable the following instructions: AVX2 FMA, in other operations, rebuild TensorFlow with the appropriate compiler flags.\n",
      "2025-01-02 19:28:16,281 \u001b[1;32mINFO\u001b[0m [ctlearn.PredictCTLearnModel] (tool.initialize): Loading config from '[]'\n",
      "2025-01-02 19:28:16,282 \u001b[1;32mINFO\u001b[0m [ctlearn.PredictCTLearnModel] (tool.initialize): ctapipe version 0.23.0\n",
      "2025-01-02 19:28:16,283 \u001b[1;32mINFO\u001b[0m [ctlearn.PredictCTLearnModel] (predict_model.setup): Copying to output destination.\n",
      "2025-01-02 19:28:46,716 \u001b[1;32mINFO\u001b[0m [ctlearn.PredictCTLearnModel.HDF5Merger] (hdf5merger.__call__): Updated required nodes to ['/configuration/observation/observation_block', '/configuration/observation/scheduling_block', '/configuration/simulation/run', '/configuration/telescope/pointing', '/dl1/event/subarray/trigger', '/dl1/event/telescope/parameters', '/dl1/event/telescope/trigger', '/simulation/event/subarray/shower', '/simulation/event/telescope/images', '/simulation/event/telescope/impact', '/simulation/event/telescope/parameters', '/simulation/service/shower_distribution']\n",
      "2025-01-02 19:28:49.104766: I tensorflow/compiler/xla/stream_executor/cuda/cuda_gpu_executor.cc:880] could not open file to read NUMA node: /sys/bus/pci/devices/0000:26:00.0/numa_node\n",
      "Your kernel may have been built without NUMA support.\n",
      "2025-01-02 19:28:49.173540: I tensorflow/compiler/xla/stream_executor/cuda/cuda_gpu_executor.cc:880] could not open file to read NUMA node: /sys/bus/pci/devices/0000:26:00.0/numa_node\n",
      "Your kernel may have been built without NUMA support.\n",
      "2025-01-02 19:28:49.173632: I tensorflow/compiler/xla/stream_executor/cuda/cuda_gpu_executor.cc:880] could not open file to read NUMA node: /sys/bus/pci/devices/0000:26:00.0/numa_node\n",
      "Your kernel may have been built without NUMA support.\n",
      "2025-01-02 19:28:49.181565: I tensorflow/compiler/xla/stream_executor/cuda/cuda_gpu_executor.cc:880] could not open file to read NUMA node: /sys/bus/pci/devices/0000:26:00.0/numa_node\n",
      "Your kernel may have been built without NUMA support.\n",
      "2025-01-02 19:28:49.181649: I tensorflow/compiler/xla/stream_executor/cuda/cuda_gpu_executor.cc:880] could not open file to read NUMA node: /sys/bus/pci/devices/0000:26:00.0/numa_node\n",
      "Your kernel may have been built without NUMA support.\n",
      "2025-01-02 19:28:49.181684: I tensorflow/compiler/xla/stream_executor/cuda/cuda_gpu_executor.cc:880] could not open file to read NUMA node: /sys/bus/pci/devices/0000:26:00.0/numa_node\n",
      "Your kernel may have been built without NUMA support.\n",
      "2025-01-02 19:28:49.450751: I tensorflow/compiler/xla/stream_executor/cuda/cuda_gpu_executor.cc:880] could not open file to read NUMA node: /sys/bus/pci/devices/0000:26:00.0/numa_node\n",
      "Your kernel may have been built without NUMA support.\n",
      "2025-01-02 19:28:49.451786: I tensorflow/compiler/xla/stream_executor/cuda/cuda_gpu_executor.cc:880] could not open file to read NUMA node: /sys/bus/pci/devices/0000:26:00.0/numa_node\n",
      "Your kernel may have been built without NUMA support.\n",
      "2025-01-02 19:28:49.451839: I tensorflow/core/common_runtime/gpu/gpu_device.cc:1977] Could not identify NUMA node of platform GPU id 0, defaulting to 0.  Your kernel may not have been built with NUMA support.\n",
      "2025-01-02 19:28:49.451917: I tensorflow/compiler/xla/stream_executor/cuda/cuda_gpu_executor.cc:880] could not open file to read NUMA node: /sys/bus/pci/devices/0000:26:00.0/numa_node\n",
      "Your kernel may have been built without NUMA support.\n",
      "2025-01-02 19:28:49.451948: I tensorflow/core/common_runtime/gpu/gpu_device.cc:1886] Created device /job:localhost/replica:0/task:0/device:GPU:0 with 9517 MB memory:  -> device: 0, name: NVIDIA GeForce RTX 4070 SUPER, pci bus id: 0000:26:00.0, compute capability: 8.9\n",
      "2025-01-02 19:28:49,767 \u001b[1;32mINFO\u001b[0m [ctlearn.PredictCTLearnModel] (predict_model.setup): Number of devices: 1\n",
      "2025-01-02 19:28:49,767 \u001b[1;32mINFO\u001b[0m [ctlearn.PredictCTLearnModel] (predict_model.setup): Loading data reader:\n",
      "2025-01-02 19:28:49,767 \u001b[1;32mINFO\u001b[0m [ctlearn.PredictCTLearnModel] (predict_model.setup):   For a large dataset, this may take a while...\n",
      "/home/blacave/miniforge3/envs/ctlearn-cluster/lib/python3.10/site-packages/ctapipe/coordinates/__init__.py:62: MissingFrameAttributeWarning: AltAz coordinate has no obstime, assuming same frame\n",
      "  warnings.warn(\n",
      "/home/blacave/miniforge3/envs/ctlearn-cluster/lib/python3.10/site-packages/ctapipe/coordinates/__init__.py:70: MissingFrameAttributeWarning: AltAz coordinate has no location, assuming same frame\n",
      "  warnings.warn(\n",
      "2025-01-02 19:32:27,343 \u001b[1;32mINFO\u001b[0m [ctlearn.PredictCTLearnModel] (predict_model.setup):   Number of events loaded: 165729\n",
      "2025-01-02 19:32:27,352 \u001b[1;34mDEBUG\u001b[0m [ctlearn.PredictCTLearnModel] (tool.run): CONFIG: {'PredictCTLearnModel': {'batch_size': 64, 'config_files': [], 'dl1dh_reader_type': 'DLImageReader', 'input_url': PosixPath('/home/blacave/CTLearn/Data/DL1/SST1M/MC/Proton_diffuse/20deg/merged/testing/proton_400_500E3GeV_20_20deg_batch8.dl1.h5'), 'load_direction_model_from': PosixPath('/home/blacave/CTLearn/Data/CTLearn_Models_SST1M/direction_stereo_20deg_v0/ctlearn_model.cpk'), 'load_energy_model_from': PosixPath('/home/blacave/CTLearn/Data/CTLearn_Models_SST1M/energy_stereo_20deg_v0/ctlearn_model.cpk'), 'load_type_model_from': PosixPath('/home/blacave/CTLearn/Data/CTLearn_Models_SST1M/type_stereo_20deg_v1/ctlearn_model.cpk'), 'log_config': {}, 'log_datefmt': '%Y-%m-%d %H:%M:%S', 'log_file': None, 'log_file_level': 'INFO', 'log_format': '[%(name)s]%(highlevel)s %(message)s', 'log_level': 10, 'logging_config': {}, 'output_path': PosixPath('/home/blacave/CTLearn/Data/DL2/Testing/proton_400_500E3GeV_20_20deg_batch8.dl2.h5'), 'overwrite': False, 'overwrite_tables': True, 'prefix': 'CTLearn', 'provenance_log': PosixPath('/home/blacave/CTLearn/Software/CTLearn-Manager/notebooks/PredictCTLearnModel.provenance.log'), 'quiet': False, 'show_config': False, 'show_config_json': False, 'sort_by_intensity': False, 'stack_telescope_images': True, 'use_HDF5Merger': True, 'DLImageReader': {'allowed_tel_types': None, 'allowed_tels': None, 'channels': ['cleaned_image', 'cleaned_relative_peak_time'], 'image_mapper_type': [('type', '*', 'BilinearMapper')], 'min_telescopes': 2, 'min_telescopes_of_type': [('type', '*', 0)], 'mode': 'stereo', 'skip_incompatible_files': False, 'TableQualityQuery': {'quality_criteria': [('> 50 phe', 'hillas_intensity > 50')]}}}}\n",
      "2025-01-02 19:32:27,352 \u001b[1;32mINFO\u001b[0m [ctlearn.PredictCTLearnModel] (predict_model.start): Processing the telescope pointings...\n",
      "WARNING: MergeConflictWarning: In merged column 'obs_id' the 'description' attribute does not match (Simulation Run Identifier != Observation Block ID).  Using Observation Block ID for merged output [astropy.utils.metadata.merge]\n",
      "2025-01-02 19:33:16,981 \u001b[1;32mINFO\u001b[0m [ctlearn.PredictCTLearnModel] (predict_model._store_mc_subarray_pointing): DL1 subarray pointing table was stored in '/home/blacave/CTLearn/Data/DL2/Testing/proton_400_500E3GeV_20_20deg_batch8.dl2.h5' under '/dl1/monitoring/subarray/pointing'\n",
      "2025-01-02 19:33:16,982 \u001b[1;32mINFO\u001b[0m [ctlearn.PredictCTLearnModel] (predict_model.start): Starting the prediction...\n",
      "2025-01-02 19:33:16,982 \u001b[1;32mINFO\u001b[0m [ctlearn.PredictCTLearnModel] (predict_model._predict_classification): Predicting for the classification of the primary particle type.\n",
      "2025-01-02 19:33:24.826724: I tensorflow/compiler/xla/stream_executor/cuda/cuda_dnn.cc:442] Loaded cuDNN version 8700\n"
     ]
    },
    {
     "name": "stdout",
     "output_type": "stream",
     "text": [
      "2589/2589 [==============================] - 414s 158ms/step\n",
      "1/1 [==============================] - 1s 1s/step\n"
     ]
    },
    {
     "name": "stderr",
     "output_type": "stream",
     "text": [
      "2025-01-02 19:40:22,145 \u001b[1;32mINFO\u001b[0m [ctlearn.PredictCTLearnModel] (predict_model.start): DL2 prediction data was stored in '/home/blacave/CTLearn/Data/DL2/Testing/proton_400_500E3GeV_20_20deg_batch8.dl2.h5' under '/dl2/event/subarray/classification/CTLearn'\n",
      "2025-01-02 19:40:22,146 \u001b[1;32mINFO\u001b[0m [ctlearn.PredictCTLearnModel] (predict_model._predict_energy): Predicting for the regression of the primary particle energy.\n"
     ]
    },
    {
     "name": "stdout",
     "output_type": "stream",
     "text": [
      "2589/2589 [==============================] - 414s 160ms/step\n",
      "1/1 [==============================] - 0s 384ms/step\n"
     ]
    },
    {
     "name": "stderr",
     "output_type": "stream",
     "text": [
      "2025-01-02 19:47:27,088 \u001b[1;32mINFO\u001b[0m [ctlearn.PredictCTLearnModel] (predict_model.start): DL2 prediction data was stored in '/home/blacave/CTLearn/Data/DL2/Testing/proton_400_500E3GeV_20_20deg_batch8.dl2.h5' under '/dl2/event/subarray/energy/CTLearn'\n",
      "2025-01-02 19:47:29,030 \u001b[1;32mINFO\u001b[0m [ctlearn.PredictCTLearnModel] (predict_model._predict_direction): Predicting for the regression of the primary particle arrival direction.\n"
     ]
    },
    {
     "name": "stdout",
     "output_type": "stream",
     "text": [
      "2260/2589 [=========================>....] - ETA: 52s"
     ]
    },
    {
     "name": "stderr",
     "output_type": "stream",
     "text": [
      "Killed\n"
     ]
    },
    {
     "name": "stdout",
     "output_type": "stream",
     "text": [
      "ctlearn-predict-model --input_url /home/blacave/CTLearn/Data/DL1/SST1M/MC/Proton_diffuse/20deg/merged/testing/proton_diffuse_20deg_11000_11999.dl1.h5                     --type_model=/home/blacave/CTLearn/Data/CTLearn_Models_SST1M/type_stereo_20deg_v1/ctlearn_model.cpk                     --energy_model=/home/blacave/CTLearn/Data/CTLearn_Models_SST1M/energy_stereo_20deg_v0/ctlearn_model.cpk                     --direction_model=/home/blacave/CTLearn/Data/CTLearn_Models_SST1M/direction_stereo_20deg_v0/ctlearn_model.cpk                     --no-dl1-images --no-true-images --output /home/blacave/CTLearn/Data/DL2/Testing//proton_diffuse_20deg_11000_11999.dl2.h5                     --DLImageReader.mode=stereo --PredictCTLearnModel.stack_telescope_images=True --DLImageReader.min_telescopes=2                     --PredictCTLearnModel.overwrite_tables=True -v --DLImageReader.channels=cleaned_image --DLImageReader.channels=cleaned_relative_peak_time \n"
     ]
    },
    {
     "name": "stderr",
     "output_type": "stream",
     "text": [
      "2025-01-02 19:55:46.984099: E tensorflow/compiler/xla/stream_executor/cuda/cuda_dnn.cc:9342] Unable to register cuDNN factory: Attempting to register factory for plugin cuDNN when one has already been registered\n",
      "2025-01-02 19:55:46.984166: E tensorflow/compiler/xla/stream_executor/cuda/cuda_fft.cc:609] Unable to register cuFFT factory: Attempting to register factory for plugin cuFFT when one has already been registered\n",
      "2025-01-02 19:55:46.987203: E tensorflow/compiler/xla/stream_executor/cuda/cuda_blas.cc:1518] Unable to register cuBLAS factory: Attempting to register factory for plugin cuBLAS when one has already been registered\n",
      "2025-01-02 19:55:47.307572: I tensorflow/core/platform/cpu_feature_guard.cc:182] This TensorFlow binary is optimized to use available CPU instructions in performance-critical operations.\n",
      "To enable the following instructions: AVX2 FMA, in other operations, rebuild TensorFlow with the appropriate compiler flags.\n",
      "2025-01-02 19:55:56,197 \u001b[1;32mINFO\u001b[0m [ctlearn.PredictCTLearnModel] (tool.initialize): Loading config from '[]'\n",
      "2025-01-02 19:55:56,199 \u001b[1;32mINFO\u001b[0m [ctlearn.PredictCTLearnModel] (tool.initialize): ctapipe version 0.23.0\n",
      "2025-01-02 19:55:56,199 \u001b[1;32mINFO\u001b[0m [ctlearn.PredictCTLearnModel] (predict_model.setup): Copying to output destination.\n",
      "2025-01-02 19:55:58,736 \u001b[1;32mINFO\u001b[0m [ctlearn.PredictCTLearnModel.HDF5Merger] (hdf5merger.__call__): Updated required nodes to ['/configuration/observation/observation_block', '/configuration/observation/scheduling_block', '/configuration/simulation/run', '/configuration/telescope/pointing', '/dl1/event/subarray/trigger', '/dl1/event/telescope/parameters', '/dl1/event/telescope/trigger', '/simulation/event/subarray/shower', '/simulation/event/telescope/images', '/simulation/event/telescope/impact', '/simulation/event/telescope/parameters', '/simulation/service/shower_distribution']\n",
      "2025-01-02 19:55:59.636870: I tensorflow/compiler/xla/stream_executor/cuda/cuda_gpu_executor.cc:880] could not open file to read NUMA node: /sys/bus/pci/devices/0000:26:00.0/numa_node\n",
      "Your kernel may have been built without NUMA support.\n",
      "2025-01-02 19:55:59.699269: I tensorflow/compiler/xla/stream_executor/cuda/cuda_gpu_executor.cc:880] could not open file to read NUMA node: /sys/bus/pci/devices/0000:26:00.0/numa_node\n",
      "Your kernel may have been built without NUMA support.\n",
      "2025-01-02 19:55:59.699356: I tensorflow/compiler/xla/stream_executor/cuda/cuda_gpu_executor.cc:880] could not open file to read NUMA node: /sys/bus/pci/devices/0000:26:00.0/numa_node\n",
      "Your kernel may have been built without NUMA support.\n",
      "2025-01-02 19:55:59.701652: I tensorflow/compiler/xla/stream_executor/cuda/cuda_gpu_executor.cc:880] could not open file to read NUMA node: /sys/bus/pci/devices/0000:26:00.0/numa_node\n",
      "Your kernel may have been built without NUMA support.\n",
      "2025-01-02 19:55:59.701741: I tensorflow/compiler/xla/stream_executor/cuda/cuda_gpu_executor.cc:880] could not open file to read NUMA node: /sys/bus/pci/devices/0000:26:00.0/numa_node\n",
      "Your kernel may have been built without NUMA support.\n",
      "2025-01-02 19:55:59.701775: I tensorflow/compiler/xla/stream_executor/cuda/cuda_gpu_executor.cc:880] could not open file to read NUMA node: /sys/bus/pci/devices/0000:26:00.0/numa_node\n",
      "Your kernel may have been built without NUMA support.\n",
      "2025-01-02 19:55:59.930652: I tensorflow/compiler/xla/stream_executor/cuda/cuda_gpu_executor.cc:880] could not open file to read NUMA node: /sys/bus/pci/devices/0000:26:00.0/numa_node\n",
      "Your kernel may have been built without NUMA support.\n",
      "2025-01-02 19:55:59.930747: I tensorflow/compiler/xla/stream_executor/cuda/cuda_gpu_executor.cc:880] could not open file to read NUMA node: /sys/bus/pci/devices/0000:26:00.0/numa_node\n",
      "Your kernel may have been built without NUMA support.\n",
      "2025-01-02 19:55:59.930760: I tensorflow/core/common_runtime/gpu/gpu_device.cc:1977] Could not identify NUMA node of platform GPU id 0, defaulting to 0.  Your kernel may not have been built with NUMA support.\n",
      "2025-01-02 19:55:59.930803: I tensorflow/compiler/xla/stream_executor/cuda/cuda_gpu_executor.cc:880] could not open file to read NUMA node: /sys/bus/pci/devices/0000:26:00.0/numa_node\n",
      "Your kernel may have been built without NUMA support.\n",
      "2025-01-02 19:55:59.930829: I tensorflow/core/common_runtime/gpu/gpu_device.cc:1886] Created device /job:localhost/replica:0/task:0/device:GPU:0 with 9517 MB memory:  -> device: 0, name: NVIDIA GeForce RTX 4070 SUPER, pci bus id: 0000:26:00.0, compute capability: 8.9\n",
      "2025-01-02 19:56:00,180 \u001b[1;32mINFO\u001b[0m [ctlearn.PredictCTLearnModel] (predict_model.setup): Number of devices: 1\n",
      "2025-01-02 19:56:00,181 \u001b[1;32mINFO\u001b[0m [ctlearn.PredictCTLearnModel] (predict_model.setup): Loading data reader:\n",
      "2025-01-02 19:56:00,181 \u001b[1;32mINFO\u001b[0m [ctlearn.PredictCTLearnModel] (predict_model.setup):   For a large dataset, this may take a while...\n",
      "/home/blacave/miniforge3/envs/ctlearn-cluster/lib/python3.10/site-packages/ctapipe/coordinates/__init__.py:62: MissingFrameAttributeWarning: AltAz coordinate has no obstime, assuming same frame\n",
      "  warnings.warn(\n",
      "/home/blacave/miniforge3/envs/ctlearn-cluster/lib/python3.10/site-packages/ctapipe/coordinates/__init__.py:70: MissingFrameAttributeWarning: AltAz coordinate has no location, assuming same frame\n",
      "  warnings.warn(\n",
      "2025-01-02 19:56:11,646 \u001b[1;32mINFO\u001b[0m [ctlearn.PredictCTLearnModel] (predict_model.setup):   Number of events loaded: 8405\n",
      "2025-01-02 19:56:11,649 \u001b[1;34mDEBUG\u001b[0m [ctlearn.PredictCTLearnModel] (tool.run): CONFIG: {'PredictCTLearnModel': {'batch_size': 64, 'config_files': [], 'dl1dh_reader_type': 'DLImageReader', 'input_url': PosixPath('/home/blacave/CTLearn/Data/DL1/SST1M/MC/Proton_diffuse/20deg/merged/testing/proton_diffuse_20deg_11000_11999.dl1.h5'), 'load_direction_model_from': PosixPath('/home/blacave/CTLearn/Data/CTLearn_Models_SST1M/direction_stereo_20deg_v0/ctlearn_model.cpk'), 'load_energy_model_from': PosixPath('/home/blacave/CTLearn/Data/CTLearn_Models_SST1M/energy_stereo_20deg_v0/ctlearn_model.cpk'), 'load_type_model_from': PosixPath('/home/blacave/CTLearn/Data/CTLearn_Models_SST1M/type_stereo_20deg_v1/ctlearn_model.cpk'), 'log_config': {}, 'log_datefmt': '%Y-%m-%d %H:%M:%S', 'log_file': None, 'log_file_level': 'INFO', 'log_format': '[%(name)s]%(highlevel)s %(message)s', 'log_level': 10, 'logging_config': {}, 'output_path': PosixPath('/home/blacave/CTLearn/Data/DL2/Testing/proton_diffuse_20deg_11000_11999.dl2.h5'), 'overwrite': False, 'overwrite_tables': True, 'prefix': 'CTLearn', 'provenance_log': PosixPath('/home/blacave/CTLearn/Software/CTLearn-Manager/notebooks/PredictCTLearnModel.provenance.log'), 'quiet': False, 'show_config': False, 'show_config_json': False, 'sort_by_intensity': False, 'stack_telescope_images': True, 'use_HDF5Merger': True, 'DLImageReader': {'allowed_tel_types': None, 'allowed_tels': None, 'channels': ['cleaned_image', 'cleaned_relative_peak_time'], 'image_mapper_type': [('type', '*', 'BilinearMapper')], 'min_telescopes': 2, 'min_telescopes_of_type': [('type', '*', 0)], 'mode': 'stereo', 'skip_incompatible_files': False, 'TableQualityQuery': {'quality_criteria': [('> 50 phe', 'hillas_intensity > 50')]}}}}\n",
      "2025-01-02 19:56:11,649 \u001b[1;32mINFO\u001b[0m [ctlearn.PredictCTLearnModel] (predict_model.start): Processing the telescope pointings...\n",
      "WARNING: MergeConflictWarning: In merged column 'obs_id' the 'description' attribute does not match (Simulation Run Identifier != Observation Block ID).  Using Observation Block ID for merged output [astropy.utils.metadata.merge]\n",
      "2025-01-02 19:56:14,164 \u001b[1;32mINFO\u001b[0m [ctlearn.PredictCTLearnModel] (predict_model._store_mc_subarray_pointing): DL1 subarray pointing table was stored in '/home/blacave/CTLearn/Data/DL2/Testing/proton_diffuse_20deg_11000_11999.dl2.h5' under '/dl1/monitoring/subarray/pointing'\n",
      "2025-01-02 19:56:14,164 \u001b[1;32mINFO\u001b[0m [ctlearn.PredictCTLearnModel] (predict_model.start): Starting the prediction...\n",
      "2025-01-02 19:56:14,164 \u001b[1;32mINFO\u001b[0m [ctlearn.PredictCTLearnModel] (predict_model._predict_classification): Predicting for the classification of the primary particle type.\n",
      "2025-01-02 19:56:21.424360: I tensorflow/compiler/xla/stream_executor/cuda/cuda_dnn.cc:442] Loaded cuDNN version 8700\n"
     ]
    },
    {
     "name": "stdout",
     "output_type": "stream",
     "text": [
      "131/131 [==============================] - 24s 154ms/step\n",
      "1/1 [==============================] - 1s 554ms/step\n"
     ]
    },
    {
     "name": "stderr",
     "output_type": "stream",
     "text": [
      "2025-01-02 19:56:44,194 \u001b[1;32mINFO\u001b[0m [ctlearn.PredictCTLearnModel] (predict_model.start): DL2 prediction data was stored in '/home/blacave/CTLearn/Data/DL2/Testing/proton_diffuse_20deg_11000_11999.dl2.h5' under '/dl2/event/subarray/classification/CTLearn'\n",
      "2025-01-02 19:56:44,194 \u001b[1;32mINFO\u001b[0m [ctlearn.PredictCTLearnModel] (predict_model._predict_energy): Predicting for the regression of the primary particle energy.\n"
     ]
    },
    {
     "name": "stdout",
     "output_type": "stream",
     "text": [
      "131/131 [==============================] - 20s 143ms/step\n",
      "1/1 [==============================] - 0s 136ms/step\n"
     ]
    },
    {
     "name": "stderr",
     "output_type": "stream",
     "text": [
      "2025-01-02 19:57:09,992 \u001b[1;32mINFO\u001b[0m [ctlearn.PredictCTLearnModel] (predict_model.start): DL2 prediction data was stored in '/home/blacave/CTLearn/Data/DL2/Testing/proton_diffuse_20deg_11000_11999.dl2.h5' under '/dl2/event/subarray/energy/CTLearn'\n",
      "2025-01-02 19:57:10,056 \u001b[1;32mINFO\u001b[0m [ctlearn.PredictCTLearnModel] (predict_model._predict_direction): Predicting for the regression of the primary particle arrival direction.\n"
     ]
    },
    {
     "name": "stdout",
     "output_type": "stream",
     "text": [
      "131/131 [==============================] - 20s 144ms/step\n",
      "1/1 [==============================] - 0s 134ms/step\n"
     ]
    },
    {
     "name": "stderr",
     "output_type": "stream",
     "text": [
      "2025-01-02 19:57:35,867 \u001b[1;32mINFO\u001b[0m [ctlearn.PredictCTLearnModel] (predict_model.start): DL2 prediction data was stored in '/home/blacave/CTLearn/Data/DL2/Testing/proton_diffuse_20deg_11000_11999.dl2.h5' under '/dl2/event/subarray/geometry/CTLearn'\n",
      "2025-01-02 19:57:35,868 \u001b[1;32mINFO\u001b[0m [ctlearn.PredictCTLearnModel] (predict_model.finish): Tool is shutting down\n",
      "2025-01-02 19:57:35,868 \u001b[1;32mINFO\u001b[0m [ctlearn.PredictCTLearnModel] (tool.run): Finished: PredictCTLearnModel\n",
      "2025-01-02 19:57:35,877 \u001b[1;32mINFO\u001b[0m [ctlearn.PredictCTLearnModel] (tool.write_provenance): Output: /home/blacave/CTLearn/Data/DL2/Testing/proton_diffuse_20deg_11000_11999.dl2.h5\n",
      "2025-01-02 19:57:35,878 \u001b[1;34mDEBUG\u001b[0m [ctlearn.PredictCTLearnModel] (tool.write_provenance): PROVENANCE: 'Details about provenance is found in /home/blacave/CTLearn/Software/CTLearn-Manager/notebooks/PredictCTLearnModel.provenance.log'\n",
      "2025-01-02 19:57:35,880 \u001b[1;34mDEBUG\u001b[0m [ctlearn.PredictCTLearnModel] (application.exit): Exiting application: PredictCTLearnModel\n",
      "Closing remaining open files:/home/blacave/CTLearn/Data/DL1/SST1M/MC/Proton_diffuse/20deg/merged/testing/proton_diffuse_20deg_11000_11999.dl1.h5...done\n"
     ]
    },
    {
     "name": "stdout",
     "output_type": "stream",
     "text": [
      "ctlearn-predict-model --input_url /home/blacave/CTLearn/Data/DL1/SST1M/MC/Proton_diffuse/20deg/merged/testing/proton_diffuse_20deg_12000_12999.dl1.h5                     --type_model=/home/blacave/CTLearn/Data/CTLearn_Models_SST1M/type_stereo_20deg_v1/ctlearn_model.cpk                     --energy_model=/home/blacave/CTLearn/Data/CTLearn_Models_SST1M/energy_stereo_20deg_v0/ctlearn_model.cpk                     --direction_model=/home/blacave/CTLearn/Data/CTLearn_Models_SST1M/direction_stereo_20deg_v0/ctlearn_model.cpk                     --no-dl1-images --no-true-images --output /home/blacave/CTLearn/Data/DL2/Testing//proton_diffuse_20deg_12000_12999.dl2.h5                     --DLImageReader.mode=stereo --PredictCTLearnModel.stack_telescope_images=True --DLImageReader.min_telescopes=2                     --PredictCTLearnModel.overwrite_tables=True -v --DLImageReader.channels=cleaned_image --DLImageReader.channels=cleaned_relative_peak_time \n"
     ]
    },
    {
     "name": "stderr",
     "output_type": "stream",
     "text": [
      "2025-01-02 19:57:38.186057: E tensorflow/compiler/xla/stream_executor/cuda/cuda_dnn.cc:9342] Unable to register cuDNN factory: Attempting to register factory for plugin cuDNN when one has already been registered\n",
      "2025-01-02 19:57:38.186129: E tensorflow/compiler/xla/stream_executor/cuda/cuda_fft.cc:609] Unable to register cuFFT factory: Attempting to register factory for plugin cuFFT when one has already been registered\n",
      "2025-01-02 19:57:38.186170: E tensorflow/compiler/xla/stream_executor/cuda/cuda_blas.cc:1518] Unable to register cuBLAS factory: Attempting to register factory for plugin cuBLAS when one has already been registered\n",
      "2025-01-02 19:57:38.194664: I tensorflow/core/platform/cpu_feature_guard.cc:182] This TensorFlow binary is optimized to use available CPU instructions in performance-critical operations.\n",
      "To enable the following instructions: AVX2 FMA, in other operations, rebuild TensorFlow with the appropriate compiler flags.\n",
      "2025-01-02 19:57:42,308 \u001b[1;32mINFO\u001b[0m [ctlearn.PredictCTLearnModel] (tool.initialize): Loading config from '[]'\n",
      "2025-01-02 19:57:42,309 \u001b[1;32mINFO\u001b[0m [ctlearn.PredictCTLearnModel] (tool.initialize): ctapipe version 0.23.0\n",
      "2025-01-02 19:57:42,310 \u001b[1;32mINFO\u001b[0m [ctlearn.PredictCTLearnModel] (predict_model.setup): Copying to output destination.\n",
      "2025-01-02 19:57:44,782 \u001b[1;32mINFO\u001b[0m [ctlearn.PredictCTLearnModel.HDF5Merger] (hdf5merger.__call__): Updated required nodes to ['/configuration/observation/observation_block', '/configuration/observation/scheduling_block', '/configuration/simulation/run', '/configuration/telescope/pointing', '/dl1/event/subarray/trigger', '/dl1/event/telescope/parameters', '/dl1/event/telescope/trigger', '/simulation/event/subarray/shower', '/simulation/event/telescope/images', '/simulation/event/telescope/impact', '/simulation/event/telescope/parameters', '/simulation/service/shower_distribution']\n",
      "2025-01-02 19:57:45.447241: I tensorflow/compiler/xla/stream_executor/cuda/cuda_gpu_executor.cc:880] could not open file to read NUMA node: /sys/bus/pci/devices/0000:26:00.0/numa_node\n",
      "Your kernel may have been built without NUMA support.\n",
      "2025-01-02 19:57:45.452701: I tensorflow/compiler/xla/stream_executor/cuda/cuda_gpu_executor.cc:880] could not open file to read NUMA node: /sys/bus/pci/devices/0000:26:00.0/numa_node\n",
      "Your kernel may have been built without NUMA support.\n",
      "2025-01-02 19:57:45.452793: I tensorflow/compiler/xla/stream_executor/cuda/cuda_gpu_executor.cc:880] could not open file to read NUMA node: /sys/bus/pci/devices/0000:26:00.0/numa_node\n",
      "Your kernel may have been built without NUMA support.\n",
      "2025-01-02 19:57:45.454185: I tensorflow/compiler/xla/stream_executor/cuda/cuda_gpu_executor.cc:880] could not open file to read NUMA node: /sys/bus/pci/devices/0000:26:00.0/numa_node\n",
      "Your kernel may have been built without NUMA support.\n",
      "2025-01-02 19:57:45.454258: I tensorflow/compiler/xla/stream_executor/cuda/cuda_gpu_executor.cc:880] could not open file to read NUMA node: /sys/bus/pci/devices/0000:26:00.0/numa_node\n",
      "Your kernel may have been built without NUMA support.\n",
      "2025-01-02 19:57:45.454291: I tensorflow/compiler/xla/stream_executor/cuda/cuda_gpu_executor.cc:880] could not open file to read NUMA node: /sys/bus/pci/devices/0000:26:00.0/numa_node\n",
      "Your kernel may have been built without NUMA support.\n",
      "2025-01-02 19:57:45.659436: I tensorflow/compiler/xla/stream_executor/cuda/cuda_gpu_executor.cc:880] could not open file to read NUMA node: /sys/bus/pci/devices/0000:26:00.0/numa_node\n",
      "Your kernel may have been built without NUMA support.\n",
      "2025-01-02 19:57:45.659536: I tensorflow/compiler/xla/stream_executor/cuda/cuda_gpu_executor.cc:880] could not open file to read NUMA node: /sys/bus/pci/devices/0000:26:00.0/numa_node\n",
      "Your kernel may have been built without NUMA support.\n",
      "2025-01-02 19:57:45.659550: I tensorflow/core/common_runtime/gpu/gpu_device.cc:1977] Could not identify NUMA node of platform GPU id 0, defaulting to 0.  Your kernel may not have been built with NUMA support.\n",
      "2025-01-02 19:57:45.659592: I tensorflow/compiler/xla/stream_executor/cuda/cuda_gpu_executor.cc:880] could not open file to read NUMA node: /sys/bus/pci/devices/0000:26:00.0/numa_node\n",
      "Your kernel may have been built without NUMA support.\n",
      "2025-01-02 19:57:45.659616: I tensorflow/core/common_runtime/gpu/gpu_device.cc:1886] Created device /job:localhost/replica:0/task:0/device:GPU:0 with 9517 MB memory:  -> device: 0, name: NVIDIA GeForce RTX 4070 SUPER, pci bus id: 0000:26:00.0, compute capability: 8.9\n",
      "2025-01-02 19:57:45,917 \u001b[1;32mINFO\u001b[0m [ctlearn.PredictCTLearnModel] (predict_model.setup): Number of devices: 1\n",
      "2025-01-02 19:57:45,917 \u001b[1;32mINFO\u001b[0m [ctlearn.PredictCTLearnModel] (predict_model.setup): Loading data reader:\n",
      "2025-01-02 19:57:45,917 \u001b[1;32mINFO\u001b[0m [ctlearn.PredictCTLearnModel] (predict_model.setup):   For a large dataset, this may take a while...\n",
      "/home/blacave/miniforge3/envs/ctlearn-cluster/lib/python3.10/site-packages/ctapipe/coordinates/__init__.py:62: MissingFrameAttributeWarning: AltAz coordinate has no obstime, assuming same frame\n",
      "  warnings.warn(\n",
      "/home/blacave/miniforge3/envs/ctlearn-cluster/lib/python3.10/site-packages/ctapipe/coordinates/__init__.py:70: MissingFrameAttributeWarning: AltAz coordinate has no location, assuming same frame\n",
      "  warnings.warn(\n",
      "2025-01-02 19:57:56,895 \u001b[1;32mINFO\u001b[0m [ctlearn.PredictCTLearnModel] (predict_model.setup):   Number of events loaded: 8299\n",
      "2025-01-02 19:57:56,898 \u001b[1;34mDEBUG\u001b[0m [ctlearn.PredictCTLearnModel] (tool.run): CONFIG: {'PredictCTLearnModel': {'batch_size': 64, 'config_files': [], 'dl1dh_reader_type': 'DLImageReader', 'input_url': PosixPath('/home/blacave/CTLearn/Data/DL1/SST1M/MC/Proton_diffuse/20deg/merged/testing/proton_diffuse_20deg_12000_12999.dl1.h5'), 'load_direction_model_from': PosixPath('/home/blacave/CTLearn/Data/CTLearn_Models_SST1M/direction_stereo_20deg_v0/ctlearn_model.cpk'), 'load_energy_model_from': PosixPath('/home/blacave/CTLearn/Data/CTLearn_Models_SST1M/energy_stereo_20deg_v0/ctlearn_model.cpk'), 'load_type_model_from': PosixPath('/home/blacave/CTLearn/Data/CTLearn_Models_SST1M/type_stereo_20deg_v1/ctlearn_model.cpk'), 'log_config': {}, 'log_datefmt': '%Y-%m-%d %H:%M:%S', 'log_file': None, 'log_file_level': 'INFO', 'log_format': '[%(name)s]%(highlevel)s %(message)s', 'log_level': 10, 'logging_config': {}, 'output_path': PosixPath('/home/blacave/CTLearn/Data/DL2/Testing/proton_diffuse_20deg_12000_12999.dl2.h5'), 'overwrite': False, 'overwrite_tables': True, 'prefix': 'CTLearn', 'provenance_log': PosixPath('/home/blacave/CTLearn/Software/CTLearn-Manager/notebooks/PredictCTLearnModel.provenance.log'), 'quiet': False, 'show_config': False, 'show_config_json': False, 'sort_by_intensity': False, 'stack_telescope_images': True, 'use_HDF5Merger': True, 'DLImageReader': {'allowed_tel_types': None, 'allowed_tels': None, 'channels': ['cleaned_image', 'cleaned_relative_peak_time'], 'image_mapper_type': [('type', '*', 'BilinearMapper')], 'min_telescopes': 2, 'min_telescopes_of_type': [('type', '*', 0)], 'mode': 'stereo', 'skip_incompatible_files': False, 'TableQualityQuery': {'quality_criteria': [('> 50 phe', 'hillas_intensity > 50')]}}}}\n",
      "2025-01-02 19:57:56,898 \u001b[1;32mINFO\u001b[0m [ctlearn.PredictCTLearnModel] (predict_model.start): Processing the telescope pointings...\n",
      "WARNING: MergeConflictWarning: In merged column 'obs_id' the 'description' attribute does not match (Simulation Run Identifier != Observation Block ID).  Using Observation Block ID for merged output [astropy.utils.metadata.merge]\n",
      "2025-01-02 19:57:59,326 \u001b[1;32mINFO\u001b[0m [ctlearn.PredictCTLearnModel] (predict_model._store_mc_subarray_pointing): DL1 subarray pointing table was stored in '/home/blacave/CTLearn/Data/DL2/Testing/proton_diffuse_20deg_12000_12999.dl2.h5' under '/dl1/monitoring/subarray/pointing'\n",
      "2025-01-02 19:57:59,326 \u001b[1;32mINFO\u001b[0m [ctlearn.PredictCTLearnModel] (predict_model.start): Starting the prediction...\n",
      "2025-01-02 19:57:59,326 \u001b[1;32mINFO\u001b[0m [ctlearn.PredictCTLearnModel] (predict_model._predict_classification): Predicting for the classification of the primary particle type.\n",
      "2025-01-02 19:58:05.851219: I tensorflow/compiler/xla/stream_executor/cuda/cuda_dnn.cc:442] Loaded cuDNN version 8700\n"
     ]
    },
    {
     "name": "stdout",
     "output_type": "stream",
     "text": [
      "129/129 [==============================] - 22s 153ms/step\n",
      "1/1 [==============================] - 1s 847ms/step\n"
     ]
    },
    {
     "name": "stderr",
     "output_type": "stream",
     "text": [
      "2025-01-02 19:58:27,861 \u001b[1;32mINFO\u001b[0m [ctlearn.PredictCTLearnModel] (predict_model.start): DL2 prediction data was stored in '/home/blacave/CTLearn/Data/DL2/Testing/proton_diffuse_20deg_12000_12999.dl2.h5' under '/dl2/event/subarray/classification/CTLearn'\n",
      "2025-01-02 19:58:27,861 \u001b[1;32mINFO\u001b[0m [ctlearn.PredictCTLearnModel] (predict_model._predict_energy): Predicting for the regression of the primary particle energy.\n"
     ]
    },
    {
     "name": "stdout",
     "output_type": "stream",
     "text": [
      "129/129 [==============================] - 19s 142ms/step\n",
      "1/1 [==============================] - 0s 235ms/step\n"
     ]
    },
    {
     "name": "stderr",
     "output_type": "stream",
     "text": [
      "2025-01-02 19:58:53,969 \u001b[1;32mINFO\u001b[0m [ctlearn.PredictCTLearnModel] (predict_model.start): DL2 prediction data was stored in '/home/blacave/CTLearn/Data/DL2/Testing/proton_diffuse_20deg_12000_12999.dl2.h5' under '/dl2/event/subarray/energy/CTLearn'\n",
      "2025-01-02 19:58:54,032 \u001b[1;32mINFO\u001b[0m [ctlearn.PredictCTLearnModel] (predict_model._predict_direction): Predicting for the regression of the primary particle arrival direction.\n"
     ]
    },
    {
     "name": "stdout",
     "output_type": "stream",
     "text": [
      "129/129 [==============================] - 19s 141ms/step\n",
      "1/1 [==============================] - 0s 220ms/step\n"
     ]
    },
    {
     "name": "stderr",
     "output_type": "stream",
     "text": [
      "2025-01-02 19:59:19,124 \u001b[1;32mINFO\u001b[0m [ctlearn.PredictCTLearnModel] (predict_model.start): DL2 prediction data was stored in '/home/blacave/CTLearn/Data/DL2/Testing/proton_diffuse_20deg_12000_12999.dl2.h5' under '/dl2/event/subarray/geometry/CTLearn'\n",
      "2025-01-02 19:59:19,125 \u001b[1;32mINFO\u001b[0m [ctlearn.PredictCTLearnModel] (predict_model.finish): Tool is shutting down\n",
      "2025-01-02 19:59:19,125 \u001b[1;32mINFO\u001b[0m [ctlearn.PredictCTLearnModel] (tool.run): Finished: PredictCTLearnModel\n",
      "2025-01-02 19:59:19,132 \u001b[1;32mINFO\u001b[0m [ctlearn.PredictCTLearnModel] (tool.write_provenance): Output: /home/blacave/CTLearn/Data/DL2/Testing/proton_diffuse_20deg_12000_12999.dl2.h5\n",
      "2025-01-02 19:59:19,132 \u001b[1;34mDEBUG\u001b[0m [ctlearn.PredictCTLearnModel] (tool.write_provenance): PROVENANCE: 'Details about provenance is found in /home/blacave/CTLearn/Software/CTLearn-Manager/notebooks/PredictCTLearnModel.provenance.log'\n",
      "2025-01-02 19:59:19,133 \u001b[1;34mDEBUG\u001b[0m [ctlearn.PredictCTLearnModel] (application.exit): Exiting application: PredictCTLearnModel\n",
      "Closing remaining open files:/home/blacave/CTLearn/Data/DL1/SST1M/MC/Proton_diffuse/20deg/merged/testing/proton_diffuse_20deg_12000_12999.dl1.h5...done\n"
     ]
    }
   ],
   "source": [
    "Stereo_Tri_Model.launch_testing(20, 0, \n",
    "    [\"/home/blacave/CTLearn/Data/DL2/Testing/\"], \n",
    "    launch_particle_type='both', \n",
    "    )"
   ]
  }
 ],
 "metadata": {
  "kernelspec": {
   "display_name": "ctlearn-cluster",
   "language": "python",
   "name": "python3"
  },
  "language_info": {
   "codemirror_mode": {
    "name": "ipython",
    "version": 3
   },
   "file_extension": ".py",
   "mimetype": "text/x-python",
   "name": "python",
   "nbconvert_exporter": "python",
   "pygments_lexer": "ipython3",
   "version": "3.10.15"
  }
 },
 "nbformat": 4,
 "nbformat_minor": 2
}
