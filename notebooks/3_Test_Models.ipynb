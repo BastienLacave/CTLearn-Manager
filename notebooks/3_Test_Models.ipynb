{
 "cells": [
  {
   "cell_type": "code",
   "execution_count": 1,
   "metadata": {},
   "outputs": [],
   "source": [
    "from ctlearn_manager import CTLearnTriModelManager\n",
    "from ctlearn_manager.io import load_model_from_index"
   ]
  },
  {
   "cell_type": "markdown",
   "metadata": {},
   "source": [
    "# 💾 Load models"
   ]
  },
  {
   "cell_type": "code",
   "execution_count": 2,
   "metadata": {},
   "outputs": [
    {
     "name": "stdout",
     "output_type": "stream",
     "text": [
      "🧠 Model name: energy_TEL1_2_ZD20_Az0\n",
      "🧠 Model name: direction_TEL1_2_ZD20_Az0\n",
      "🧠 Model name: type_TEL1_2_ZD20_Az0\n"
     ]
    }
   ],
   "source": [
    "MODEL_INDEX_FILE = \"/home/blacave/CTLearn/Software/CTLearn-Manager/ctearn_models_index.ecsv\"\n",
    "energy_model = load_model_from_index(\"energy_stereo_20deg\", MODEL_INDEX_FILE)\n",
    "direction_model = load_model_from_index(\"direction_stereo_20deg\", MODEL_INDEX_FILE)\n",
    "type_model = load_model_from_index(\"type_stereo_20deg\", MODEL_INDEX_FILE)\n",
    "Stereo_Tri_Model = CTLearnTriModelManager(direction_model=direction_model, energy_model=energy_model, type_model=type_model)"
   ]
  },
  {
   "cell_type": "markdown",
   "metadata": {},
   "source": [
    "# 🗃️ Set testing files and directions"
   ]
  },
  {
   "cell_type": "code",
   "execution_count": null,
   "metadata": {},
   "outputs": [
    {
     "name": "stdout",
     "output_type": "stream",
     "text": [
      "💾 Model direction_stereo_20deg index update:\n",
      "\t➡️ testing_gamma_dirs updated to ['/home/blacave/CTLearn/Data/DL1/SST1M/MC/Gamma_point/20deg/testing/']\n",
      "\t➡️ testing_proton_dirs updated to ['/home/blacave/CTLearn/Data/DL1/SST1M/MC/Proton_diffuse/20deg/merged/testing/']\n",
      "\t➡️ testing_gamma_zenith_distances updated to [20]\n",
      "\t➡️ testing_gamma_azimuths updated to [0]\n",
      "\t➡️ testing_proton_zenith_distances updated to [20]\n",
      "\t➡️ testing_proton_azimuths updated to [0]\n",
      "💾 Model energy_stereo_20deg index update:\n",
      "\t➡️ testing_gamma_dirs updated to ['/home/blacave/CTLearn/Data/DL1/SST1M/MC/Gamma_point/20deg/testing/']\n",
      "\t➡️ testing_proton_dirs updated to ['/home/blacave/CTLearn/Data/DL1/SST1M/MC/Proton_diffuse/20deg/merged/testing/']\n",
      "\t➡️ testing_gamma_zenith_distances updated to [20]\n",
      "\t➡️ testing_gamma_azimuths updated to [0]\n",
      "\t➡️ testing_proton_zenith_distances updated to [20]\n",
      "\t➡️ testing_proton_azimuths updated to [0]\n",
      "💾 Model type_stereo_20deg index update:\n",
      "\t➡️ testing_gamma_dirs updated to ['/home/blacave/CTLearn/Data/DL1/SST1M/MC/Gamma_point/20deg/testing/']\n",
      "\t➡️ testing_proton_dirs updated to ['/home/blacave/CTLearn/Data/DL1/SST1M/MC/Proton_diffuse/20deg/merged/testing/']\n",
      "\t➡️ testing_gamma_zenith_distances updated to [20]\n",
      "\t➡️ testing_gamma_azimuths updated to [0]\n",
      "\t➡️ testing_proton_zenith_distances updated to [20]\n",
      "\t➡️ testing_proton_azimuths updated to [0]\n"
     ]
    }
   ],
   "source": [
    "Stereo_Tri_Model.set_testing_directories(\n",
    "    testing_gamma_dirs = [\"/home/blacave/CTLearn/Data/DL1/SST1M/MC/Gamma_point/20deg/testing/\"], \n",
    "    testing_proton_dirs = [\"/home/blacave/CTLearn/Data/DL1/SST1M/MC/Proton_diffuse/20deg/merged/testing/\"], \n",
    "    testing_gamma_zenith_distances = [20], \n",
    "    testing_gamma_azimuths = [0], \n",
    "    testing_proton_zenith_distances = [20], \n",
    "    testing_proton_azimuths = [0]\n",
    "    )"
   ]
  },
  {
   "cell_type": "markdown",
   "metadata": {},
   "source": [
    "# 🧪 Launch testing"
   ]
  },
  {
   "cell_type": "code",
   "execution_count": 4,
   "metadata": {},
   "outputs": [
    {
     "name": "stdout",
     "output_type": "stream",
     "text": [
      "💾 Model direction_stereo_20deg index update:\n",
      "\t➡️ testing_DL2_gamma_files updated to ['/home/blacave/CTLearn/Data/DL2/Testing//gamma_point_50_300E3GeV_20_20deg_batch0.dl2.h5', '/home/blacave/CTLearn/Data/DL2/Testing//gamma_point_50_300E3GeV_20_20deg_batch1.dl2.h5', '/home/blacave/CTLearn/Data/DL2/Testing//gamma_point_50_300E3GeV_20_20deg_batch2.dl2.h5']\n",
      "\t➡️ testing_DL2_proton_files updated to ['/home/blacave/CTLearn/Data/DL2/Testing//proton_400_500E3GeV_20_20deg_batch5.dl2.h5', '/home/blacave/CTLearn/Data/DL2/Testing//proton_400_500E3GeV_20_20deg_batch6.dl2.h5', '/home/blacave/CTLearn/Data/DL2/Testing//proton_400_500E3GeV_20_20deg_batch7.dl2.h5', '/home/blacave/CTLearn/Data/DL2/Testing//proton_400_500E3GeV_20_20deg_batch8.dl2.h5', '/home/blacave/CTLearn/Data/DL2/Testing//proton_diffuse_20deg_11000_11999.dl2.h5', '/home/blacave/CTLearn/Data/DL2/Testing//proton_diffuse_20deg_12000_12999.dl2.h5']\n",
      "💾 Model energy_stereo_20deg index update:\n",
      "\t➡️ testing_DL2_gamma_files updated to ['/home/blacave/CTLearn/Data/DL2/Testing//gamma_point_50_300E3GeV_20_20deg_batch0.dl2.h5', '/home/blacave/CTLearn/Data/DL2/Testing//gamma_point_50_300E3GeV_20_20deg_batch1.dl2.h5', '/home/blacave/CTLearn/Data/DL2/Testing//gamma_point_50_300E3GeV_20_20deg_batch2.dl2.h5']\n",
      "\t➡️ testing_DL2_proton_files updated to ['/home/blacave/CTLearn/Data/DL2/Testing//proton_400_500E3GeV_20_20deg_batch5.dl2.h5', '/home/blacave/CTLearn/Data/DL2/Testing//proton_400_500E3GeV_20_20deg_batch6.dl2.h5', '/home/blacave/CTLearn/Data/DL2/Testing//proton_400_500E3GeV_20_20deg_batch7.dl2.h5', '/home/blacave/CTLearn/Data/DL2/Testing//proton_400_500E3GeV_20_20deg_batch8.dl2.h5', '/home/blacave/CTLearn/Data/DL2/Testing//proton_diffuse_20deg_11000_11999.dl2.h5', '/home/blacave/CTLearn/Data/DL2/Testing//proton_diffuse_20deg_12000_12999.dl2.h5']\n",
      "💾 Model type_stereo_20deg index update:\n",
      "\t➡️ testing_DL2_gamma_files updated to ['/home/blacave/CTLearn/Data/DL2/Testing//gamma_point_50_300E3GeV_20_20deg_batch0.dl2.h5', '/home/blacave/CTLearn/Data/DL2/Testing//gamma_point_50_300E3GeV_20_20deg_batch1.dl2.h5', '/home/blacave/CTLearn/Data/DL2/Testing//gamma_point_50_300E3GeV_20_20deg_batch2.dl2.h5']\n",
      "\t➡️ testing_DL2_proton_files updated to ['/home/blacave/CTLearn/Data/DL2/Testing//proton_400_500E3GeV_20_20deg_batch5.dl2.h5', '/home/blacave/CTLearn/Data/DL2/Testing//proton_400_500E3GeV_20_20deg_batch6.dl2.h5', '/home/blacave/CTLearn/Data/DL2/Testing//proton_400_500E3GeV_20_20deg_batch7.dl2.h5', '/home/blacave/CTLearn/Data/DL2/Testing//proton_400_500E3GeV_20_20deg_batch8.dl2.h5', '/home/blacave/CTLearn/Data/DL2/Testing//proton_diffuse_20deg_11000_11999.dl2.h5', '/home/blacave/CTLearn/Data/DL2/Testing//proton_diffuse_20deg_12000_12999.dl2.h5']\n"
     ]
    },
    {
     "name": "stdout",
     "output_type": "stream",
     "text": [
      "ctlearn-predict-model --input_url /home/blacave/CTLearn/Data/DL1/SST1M/MC/Gamma_point/20deg/testing/gamma_point_50_300E3GeV_20_20deg_batch0.dl1.h5                     --type_model=/home/blacave/CTLearn/Data/CTLearn_Models_SST1M/type_stereo_20deg_v1/ctlearn_model.cpk                     --energy_model=/home/blacave/CTLearn/Data/CTLearn_Models_SST1M/energy_stereo_20deg_v0/ctlearn_model.cpk                     --direction_model=/home/blacave/CTLearn/Data/CTLearn_Models_SST1M/direction_stereo_20deg_v0/ctlearn_model.cpk                     --no-dl1-images --no-true-images --output /home/blacave/CTLearn/Data/DL2/Testing//gamma_point_50_300E3GeV_20_20deg_batch0.dl2.h5                     --DLImageReader.mode=stereo --PredictCTLearnModel.stack_telescope_images=True --DLImageReader.min_telescopes=2                     --PredictCTLearnModel.overwrite_tables=True -v --DLImageReader.channels=cleaned_image --DLImageReader.channels=cleaned_relative_peak_time \n"
     ]
    },
    {
     "name": "stderr",
     "output_type": "stream",
     "text": [
      "2025-01-02 20:05:12.538057: E tensorflow/compiler/xla/stream_executor/cuda/cuda_dnn.cc:9342] Unable to register cuDNN factory: Attempting to register factory for plugin cuDNN when one has already been registered\n",
      "2025-01-02 20:05:12.538141: E tensorflow/compiler/xla/stream_executor/cuda/cuda_fft.cc:609] Unable to register cuFFT factory: Attempting to register factory for plugin cuFFT when one has already been registered\n",
      "2025-01-02 20:05:12.540950: E tensorflow/compiler/xla/stream_executor/cuda/cuda_blas.cc:1518] Unable to register cuBLAS factory: Attempting to register factory for plugin cuBLAS when one has already been registered\n",
      "2025-01-02 20:05:12.817584: I tensorflow/core/platform/cpu_feature_guard.cc:182] This TensorFlow binary is optimized to use available CPU instructions in performance-critical operations.\n",
      "To enable the following instructions: AVX2 FMA, in other operations, rebuild TensorFlow with the appropriate compiler flags.\n",
      "2025-01-02 20:05:21,844 \u001b[1;32mINFO\u001b[0m [ctlearn.PredictCTLearnModel] (tool.initialize): Loading config from '[]'\n",
      "2025-01-02 20:05:21,846 \u001b[1;32mINFO\u001b[0m [ctlearn.PredictCTLearnModel] (tool.initialize): ctapipe version 0.23.0\n",
      "2025-01-02 20:05:21,846 \u001b[1;31mERROR\u001b[0m [ctlearn.PredictCTLearnModel] (tool.run): The output file '/home/blacave/CTLearn/Data/DL2/Testing/gamma_point_50_300E3GeV_20_20deg_batch0.dl2.h5' already exists. Please use '--no-use-HDF5Merger' to disable the usage of the HDF5Merger component.\n",
      "2025-01-02 20:05:21,846 \u001b[1;31mERROR\u001b[0m [ctlearn.PredictCTLearnModel] (tool.run): Use --help for more info\n",
      "2025-01-02 20:05:21,857 \u001b[1;32mINFO\u001b[0m [ctlearn.PredictCTLearnModel] (tool.write_provenance): Output: \n",
      "2025-01-02 20:05:21,857 \u001b[1;34mDEBUG\u001b[0m [ctlearn.PredictCTLearnModel] (tool.write_provenance): PROVENANCE: 'Details about provenance is found in /home/blacave/CTLearn/Software/CTLearn-Manager/notebooks/PredictCTLearnModel.provenance.log'\n",
      "2025-01-02 20:05:21,859 \u001b[1;34mDEBUG\u001b[0m [ctlearn.PredictCTLearnModel] (application.exit): Exiting application: PredictCTLearnModel\n"
     ]
    },
    {
     "name": "stdout",
     "output_type": "stream",
     "text": [
      "ctlearn-predict-model --input_url /home/blacave/CTLearn/Data/DL1/SST1M/MC/Gamma_point/20deg/testing/gamma_point_50_300E3GeV_20_20deg_batch1.dl1.h5                     --type_model=/home/blacave/CTLearn/Data/CTLearn_Models_SST1M/type_stereo_20deg_v1/ctlearn_model.cpk                     --energy_model=/home/blacave/CTLearn/Data/CTLearn_Models_SST1M/energy_stereo_20deg_v0/ctlearn_model.cpk                     --direction_model=/home/blacave/CTLearn/Data/CTLearn_Models_SST1M/direction_stereo_20deg_v0/ctlearn_model.cpk                     --no-dl1-images --no-true-images --output /home/blacave/CTLearn/Data/DL2/Testing//gamma_point_50_300E3GeV_20_20deg_batch1.dl2.h5                     --DLImageReader.mode=stereo --PredictCTLearnModel.stack_telescope_images=True --DLImageReader.min_telescopes=2                     --PredictCTLearnModel.overwrite_tables=True -v --DLImageReader.channels=cleaned_image --DLImageReader.channels=cleaned_relative_peak_time \n"
     ]
    },
    {
     "name": "stderr",
     "output_type": "stream",
     "text": [
      "2025-01-02 20:05:23.676976: E tensorflow/compiler/xla/stream_executor/cuda/cuda_dnn.cc:9342] Unable to register cuDNN factory: Attempting to register factory for plugin cuDNN when one has already been registered\n",
      "2025-01-02 20:05:23.677055: E tensorflow/compiler/xla/stream_executor/cuda/cuda_fft.cc:609] Unable to register cuFFT factory: Attempting to register factory for plugin cuFFT when one has already been registered\n",
      "2025-01-02 20:05:23.677090: E tensorflow/compiler/xla/stream_executor/cuda/cuda_blas.cc:1518] Unable to register cuBLAS factory: Attempting to register factory for plugin cuBLAS when one has already been registered\n",
      "2025-01-02 20:05:23.685832: I tensorflow/core/platform/cpu_feature_guard.cc:182] This TensorFlow binary is optimized to use available CPU instructions in performance-critical operations.\n",
      "To enable the following instructions: AVX2 FMA, in other operations, rebuild TensorFlow with the appropriate compiler flags.\n",
      "2025-01-02 20:05:28,532 \u001b[1;32mINFO\u001b[0m [ctlearn.PredictCTLearnModel] (tool.initialize): Loading config from '[]'\n",
      "2025-01-02 20:05:28,533 \u001b[1;32mINFO\u001b[0m [ctlearn.PredictCTLearnModel] (tool.initialize): ctapipe version 0.23.0\n",
      "2025-01-02 20:05:28,534 \u001b[1;31mERROR\u001b[0m [ctlearn.PredictCTLearnModel] (tool.run): The output file '/home/blacave/CTLearn/Data/DL2/Testing/gamma_point_50_300E3GeV_20_20deg_batch1.dl2.h5' already exists. Please use '--no-use-HDF5Merger' to disable the usage of the HDF5Merger component.\n",
      "2025-01-02 20:05:28,534 \u001b[1;31mERROR\u001b[0m [ctlearn.PredictCTLearnModel] (tool.run): Use --help for more info\n",
      "2025-01-02 20:05:28,541 \u001b[1;32mINFO\u001b[0m [ctlearn.PredictCTLearnModel] (tool.write_provenance): Output: \n",
      "2025-01-02 20:05:28,541 \u001b[1;34mDEBUG\u001b[0m [ctlearn.PredictCTLearnModel] (tool.write_provenance): PROVENANCE: 'Details about provenance is found in /home/blacave/CTLearn/Software/CTLearn-Manager/notebooks/PredictCTLearnModel.provenance.log'\n",
      "2025-01-02 20:05:28,542 \u001b[1;34mDEBUG\u001b[0m [ctlearn.PredictCTLearnModel] (application.exit): Exiting application: PredictCTLearnModel\n"
     ]
    },
    {
     "name": "stdout",
     "output_type": "stream",
     "text": [
      "ctlearn-predict-model --input_url /home/blacave/CTLearn/Data/DL1/SST1M/MC/Gamma_point/20deg/testing/gamma_point_50_300E3GeV_20_20deg_batch2.dl1.h5                     --type_model=/home/blacave/CTLearn/Data/CTLearn_Models_SST1M/type_stereo_20deg_v1/ctlearn_model.cpk                     --energy_model=/home/blacave/CTLearn/Data/CTLearn_Models_SST1M/energy_stereo_20deg_v0/ctlearn_model.cpk                     --direction_model=/home/blacave/CTLearn/Data/CTLearn_Models_SST1M/direction_stereo_20deg_v0/ctlearn_model.cpk                     --no-dl1-images --no-true-images --output /home/blacave/CTLearn/Data/DL2/Testing//gamma_point_50_300E3GeV_20_20deg_batch2.dl2.h5                     --DLImageReader.mode=stereo --PredictCTLearnModel.stack_telescope_images=True --DLImageReader.min_telescopes=2                     --PredictCTLearnModel.overwrite_tables=True -v --DLImageReader.channels=cleaned_image --DLImageReader.channels=cleaned_relative_peak_time \n"
     ]
    },
    {
     "name": "stderr",
     "output_type": "stream",
     "text": [
      "2025-01-02 20:05:29.789501: E tensorflow/compiler/xla/stream_executor/cuda/cuda_dnn.cc:9342] Unable to register cuDNN factory: Attempting to register factory for plugin cuDNN when one has already been registered\n",
      "2025-01-02 20:05:29.789565: E tensorflow/compiler/xla/stream_executor/cuda/cuda_fft.cc:609] Unable to register cuFFT factory: Attempting to register factory for plugin cuFFT when one has already been registered\n",
      "2025-01-02 20:05:29.789602: E tensorflow/compiler/xla/stream_executor/cuda/cuda_blas.cc:1518] Unable to register cuBLAS factory: Attempting to register factory for plugin cuBLAS when one has already been registered\n",
      "2025-01-02 20:05:29.797360: I tensorflow/core/platform/cpu_feature_guard.cc:182] This TensorFlow binary is optimized to use available CPU instructions in performance-critical operations.\n",
      "To enable the following instructions: AVX2 FMA, in other operations, rebuild TensorFlow with the appropriate compiler flags.\n",
      "2025-01-02 20:05:34,003 \u001b[1;32mINFO\u001b[0m [ctlearn.PredictCTLearnModel] (tool.initialize): Loading config from '[]'\n",
      "2025-01-02 20:05:34,004 \u001b[1;32mINFO\u001b[0m [ctlearn.PredictCTLearnModel] (tool.initialize): ctapipe version 0.23.0\n",
      "2025-01-02 20:05:34,004 \u001b[1;31mERROR\u001b[0m [ctlearn.PredictCTLearnModel] (tool.run): The output file '/home/blacave/CTLearn/Data/DL2/Testing/gamma_point_50_300E3GeV_20_20deg_batch2.dl2.h5' already exists. Please use '--no-use-HDF5Merger' to disable the usage of the HDF5Merger component.\n",
      "2025-01-02 20:05:34,004 \u001b[1;31mERROR\u001b[0m [ctlearn.PredictCTLearnModel] (tool.run): Use --help for more info\n",
      "2025-01-02 20:05:34,014 \u001b[1;32mINFO\u001b[0m [ctlearn.PredictCTLearnModel] (tool.write_provenance): Output: \n",
      "2025-01-02 20:05:34,014 \u001b[1;34mDEBUG\u001b[0m [ctlearn.PredictCTLearnModel] (tool.write_provenance): PROVENANCE: 'Details about provenance is found in /home/blacave/CTLearn/Software/CTLearn-Manager/notebooks/PredictCTLearnModel.provenance.log'\n",
      "2025-01-02 20:05:34,017 \u001b[1;34mDEBUG\u001b[0m [ctlearn.PredictCTLearnModel] (application.exit): Exiting application: PredictCTLearnModel\n"
     ]
    },
    {
     "name": "stdout",
     "output_type": "stream",
     "text": [
      "ctlearn-predict-model --input_url /home/blacave/CTLearn/Data/DL1/SST1M/MC/Proton_diffuse/20deg/merged/testing/proton_400_500E3GeV_20_20deg_batch5.dl1.h5                     --type_model=/home/blacave/CTLearn/Data/CTLearn_Models_SST1M/type_stereo_20deg_v1/ctlearn_model.cpk                     --energy_model=/home/blacave/CTLearn/Data/CTLearn_Models_SST1M/energy_stereo_20deg_v0/ctlearn_model.cpk                     --direction_model=/home/blacave/CTLearn/Data/CTLearn_Models_SST1M/direction_stereo_20deg_v0/ctlearn_model.cpk                     --no-dl1-images --no-true-images --output /home/blacave/CTLearn/Data/DL2/Testing//proton_400_500E3GeV_20_20deg_batch5.dl2.h5                     --DLImageReader.mode=stereo --PredictCTLearnModel.stack_telescope_images=True --DLImageReader.min_telescopes=2                     --PredictCTLearnModel.overwrite_tables=True -v --DLImageReader.channels=cleaned_image --DLImageReader.channels=cleaned_relative_peak_time \n"
     ]
    },
    {
     "name": "stderr",
     "output_type": "stream",
     "text": [
      "2025-01-02 20:05:35.311468: E tensorflow/compiler/xla/stream_executor/cuda/cuda_dnn.cc:9342] Unable to register cuDNN factory: Attempting to register factory for plugin cuDNN when one has already been registered\n",
      "2025-01-02 20:05:35.311544: E tensorflow/compiler/xla/stream_executor/cuda/cuda_fft.cc:609] Unable to register cuFFT factory: Attempting to register factory for plugin cuFFT when one has already been registered\n",
      "2025-01-02 20:05:35.311577: E tensorflow/compiler/xla/stream_executor/cuda/cuda_blas.cc:1518] Unable to register cuBLAS factory: Attempting to register factory for plugin cuBLAS when one has already been registered\n",
      "2025-01-02 20:05:35.319748: I tensorflow/core/platform/cpu_feature_guard.cc:182] This TensorFlow binary is optimized to use available CPU instructions in performance-critical operations.\n",
      "To enable the following instructions: AVX2 FMA, in other operations, rebuild TensorFlow with the appropriate compiler flags.\n",
      "2025-01-02 20:05:39,641 \u001b[1;32mINFO\u001b[0m [ctlearn.PredictCTLearnModel] (tool.initialize): Loading config from '[]'\n",
      "2025-01-02 20:05:39,642 \u001b[1;32mINFO\u001b[0m [ctlearn.PredictCTLearnModel] (tool.initialize): ctapipe version 0.23.0\n",
      "2025-01-02 20:05:39,643 \u001b[1;31mERROR\u001b[0m [ctlearn.PredictCTLearnModel] (tool.run): The output file '/home/blacave/CTLearn/Data/DL2/Testing/proton_400_500E3GeV_20_20deg_batch5.dl2.h5' already exists. Please use '--no-use-HDF5Merger' to disable the usage of the HDF5Merger component.\n",
      "2025-01-02 20:05:39,643 \u001b[1;31mERROR\u001b[0m [ctlearn.PredictCTLearnModel] (tool.run): Use --help for more info\n",
      "2025-01-02 20:05:39,649 \u001b[1;32mINFO\u001b[0m [ctlearn.PredictCTLearnModel] (tool.write_provenance): Output: \n",
      "2025-01-02 20:05:39,649 \u001b[1;34mDEBUG\u001b[0m [ctlearn.PredictCTLearnModel] (tool.write_provenance): PROVENANCE: 'Details about provenance is found in /home/blacave/CTLearn/Software/CTLearn-Manager/notebooks/PredictCTLearnModel.provenance.log'\n",
      "2025-01-02 20:05:39,651 \u001b[1;34mDEBUG\u001b[0m [ctlearn.PredictCTLearnModel] (application.exit): Exiting application: PredictCTLearnModel\n"
     ]
    },
    {
     "name": "stdout",
     "output_type": "stream",
     "text": [
      "ctlearn-predict-model --input_url /home/blacave/CTLearn/Data/DL1/SST1M/MC/Proton_diffuse/20deg/merged/testing/proton_400_500E3GeV_20_20deg_batch6.dl1.h5                     --type_model=/home/blacave/CTLearn/Data/CTLearn_Models_SST1M/type_stereo_20deg_v1/ctlearn_model.cpk                     --energy_model=/home/blacave/CTLearn/Data/CTLearn_Models_SST1M/energy_stereo_20deg_v0/ctlearn_model.cpk                     --direction_model=/home/blacave/CTLearn/Data/CTLearn_Models_SST1M/direction_stereo_20deg_v0/ctlearn_model.cpk                     --no-dl1-images --no-true-images --output /home/blacave/CTLearn/Data/DL2/Testing//proton_400_500E3GeV_20_20deg_batch6.dl2.h5                     --DLImageReader.mode=stereo --PredictCTLearnModel.stack_telescope_images=True --DLImageReader.min_telescopes=2                     --PredictCTLearnModel.overwrite_tables=True -v --DLImageReader.channels=cleaned_image --DLImageReader.channels=cleaned_relative_peak_time \n"
     ]
    },
    {
     "name": "stderr",
     "output_type": "stream",
     "text": [
      "2025-01-02 20:05:40.876898: E tensorflow/compiler/xla/stream_executor/cuda/cuda_dnn.cc:9342] Unable to register cuDNN factory: Attempting to register factory for plugin cuDNN when one has already been registered\n",
      "2025-01-02 20:05:40.876984: E tensorflow/compiler/xla/stream_executor/cuda/cuda_fft.cc:609] Unable to register cuFFT factory: Attempting to register factory for plugin cuFFT when one has already been registered\n",
      "2025-01-02 20:05:40.877020: E tensorflow/compiler/xla/stream_executor/cuda/cuda_blas.cc:1518] Unable to register cuBLAS factory: Attempting to register factory for plugin cuBLAS when one has already been registered\n",
      "2025-01-02 20:05:40.885004: I tensorflow/core/platform/cpu_feature_guard.cc:182] This TensorFlow binary is optimized to use available CPU instructions in performance-critical operations.\n",
      "To enable the following instructions: AVX2 FMA, in other operations, rebuild TensorFlow with the appropriate compiler flags.\n",
      "2025-01-02 20:05:45,233 \u001b[1;32mINFO\u001b[0m [ctlearn.PredictCTLearnModel] (tool.initialize): Loading config from '[]'\n",
      "2025-01-02 20:05:45,234 \u001b[1;32mINFO\u001b[0m [ctlearn.PredictCTLearnModel] (tool.initialize): ctapipe version 0.23.0\n",
      "2025-01-02 20:05:45,234 \u001b[1;31mERROR\u001b[0m [ctlearn.PredictCTLearnModel] (tool.run): The output file '/home/blacave/CTLearn/Data/DL2/Testing/proton_400_500E3GeV_20_20deg_batch6.dl2.h5' already exists. Please use '--no-use-HDF5Merger' to disable the usage of the HDF5Merger component.\n",
      "2025-01-02 20:05:45,234 \u001b[1;31mERROR\u001b[0m [ctlearn.PredictCTLearnModel] (tool.run): Use --help for more info\n",
      "2025-01-02 20:05:45,241 \u001b[1;32mINFO\u001b[0m [ctlearn.PredictCTLearnModel] (tool.write_provenance): Output: \n",
      "2025-01-02 20:05:45,241 \u001b[1;34mDEBUG\u001b[0m [ctlearn.PredictCTLearnModel] (tool.write_provenance): PROVENANCE: 'Details about provenance is found in /home/blacave/CTLearn/Software/CTLearn-Manager/notebooks/PredictCTLearnModel.provenance.log'\n",
      "2025-01-02 20:05:45,243 \u001b[1;34mDEBUG\u001b[0m [ctlearn.PredictCTLearnModel] (application.exit): Exiting application: PredictCTLearnModel\n"
     ]
    },
    {
     "name": "stdout",
     "output_type": "stream",
     "text": [
      "ctlearn-predict-model --input_url /home/blacave/CTLearn/Data/DL1/SST1M/MC/Proton_diffuse/20deg/merged/testing/proton_400_500E3GeV_20_20deg_batch7.dl1.h5                     --type_model=/home/blacave/CTLearn/Data/CTLearn_Models_SST1M/type_stereo_20deg_v1/ctlearn_model.cpk                     --energy_model=/home/blacave/CTLearn/Data/CTLearn_Models_SST1M/energy_stereo_20deg_v0/ctlearn_model.cpk                     --direction_model=/home/blacave/CTLearn/Data/CTLearn_Models_SST1M/direction_stereo_20deg_v0/ctlearn_model.cpk                     --no-dl1-images --no-true-images --output /home/blacave/CTLearn/Data/DL2/Testing//proton_400_500E3GeV_20_20deg_batch7.dl2.h5                     --DLImageReader.mode=stereo --PredictCTLearnModel.stack_telescope_images=True --DLImageReader.min_telescopes=2                     --PredictCTLearnModel.overwrite_tables=True -v --DLImageReader.channels=cleaned_image --DLImageReader.channels=cleaned_relative_peak_time \n"
     ]
    },
    {
     "name": "stderr",
     "output_type": "stream",
     "text": [
      "2025-01-02 20:05:46.546274: E tensorflow/compiler/xla/stream_executor/cuda/cuda_dnn.cc:9342] Unable to register cuDNN factory: Attempting to register factory for plugin cuDNN when one has already been registered\n",
      "2025-01-02 20:05:46.546353: E tensorflow/compiler/xla/stream_executor/cuda/cuda_fft.cc:609] Unable to register cuFFT factory: Attempting to register factory for plugin cuFFT when one has already been registered\n",
      "2025-01-02 20:05:46.546386: E tensorflow/compiler/xla/stream_executor/cuda/cuda_blas.cc:1518] Unable to register cuBLAS factory: Attempting to register factory for plugin cuBLAS when one has already been registered\n",
      "2025-01-02 20:05:46.553923: I tensorflow/core/platform/cpu_feature_guard.cc:182] This TensorFlow binary is optimized to use available CPU instructions in performance-critical operations.\n",
      "To enable the following instructions: AVX2 FMA, in other operations, rebuild TensorFlow with the appropriate compiler flags.\n",
      "2025-01-02 20:05:50,734 \u001b[1;32mINFO\u001b[0m [ctlearn.PredictCTLearnModel] (tool.initialize): Loading config from '[]'\n",
      "2025-01-02 20:05:50,735 \u001b[1;32mINFO\u001b[0m [ctlearn.PredictCTLearnModel] (tool.initialize): ctapipe version 0.23.0\n",
      "2025-01-02 20:05:50,736 \u001b[1;32mINFO\u001b[0m [ctlearn.PredictCTLearnModel] (predict_model.setup): Copying to output destination.\n",
      "2025-01-02 20:06:25,721 \u001b[1;32mINFO\u001b[0m [ctlearn.PredictCTLearnModel.HDF5Merger] (hdf5merger.__call__): Updated required nodes to ['/configuration/observation/observation_block', '/configuration/observation/scheduling_block', '/configuration/simulation/run', '/configuration/telescope/pointing', '/dl1/event/subarray/trigger', '/dl1/event/telescope/parameters', '/dl1/event/telescope/trigger', '/simulation/event/subarray/shower', '/simulation/event/telescope/images', '/simulation/event/telescope/impact', '/simulation/event/telescope/parameters', '/simulation/service/shower_distribution']\n",
      "2025-01-02 20:06:28.675292: I tensorflow/compiler/xla/stream_executor/cuda/cuda_gpu_executor.cc:880] could not open file to read NUMA node: /sys/bus/pci/devices/0000:26:00.0/numa_node\n",
      "Your kernel may have been built without NUMA support.\n",
      "2025-01-02 20:06:28.745395: I tensorflow/compiler/xla/stream_executor/cuda/cuda_gpu_executor.cc:880] could not open file to read NUMA node: /sys/bus/pci/devices/0000:26:00.0/numa_node\n",
      "Your kernel may have been built without NUMA support.\n",
      "2025-01-02 20:06:28.745493: I tensorflow/compiler/xla/stream_executor/cuda/cuda_gpu_executor.cc:880] could not open file to read NUMA node: /sys/bus/pci/devices/0000:26:00.0/numa_node\n",
      "Your kernel may have been built without NUMA support.\n",
      "2025-01-02 20:06:28.748458: I tensorflow/compiler/xla/stream_executor/cuda/cuda_gpu_executor.cc:880] could not open file to read NUMA node: /sys/bus/pci/devices/0000:26:00.0/numa_node\n",
      "Your kernel may have been built without NUMA support.\n",
      "2025-01-02 20:06:28.748547: I tensorflow/compiler/xla/stream_executor/cuda/cuda_gpu_executor.cc:880] could not open file to read NUMA node: /sys/bus/pci/devices/0000:26:00.0/numa_node\n",
      "Your kernel may have been built without NUMA support.\n",
      "2025-01-02 20:06:28.748580: I tensorflow/compiler/xla/stream_executor/cuda/cuda_gpu_executor.cc:880] could not open file to read NUMA node: /sys/bus/pci/devices/0000:26:00.0/numa_node\n",
      "Your kernel may have been built without NUMA support.\n",
      "2025-01-02 20:06:29.091571: I tensorflow/compiler/xla/stream_executor/cuda/cuda_gpu_executor.cc:880] could not open file to read NUMA node: /sys/bus/pci/devices/0000:26:00.0/numa_node\n",
      "Your kernel may have been built without NUMA support.\n",
      "2025-01-02 20:06:29.091661: I tensorflow/compiler/xla/stream_executor/cuda/cuda_gpu_executor.cc:880] could not open file to read NUMA node: /sys/bus/pci/devices/0000:26:00.0/numa_node\n",
      "Your kernel may have been built without NUMA support.\n",
      "2025-01-02 20:06:29.091674: I tensorflow/core/common_runtime/gpu/gpu_device.cc:1977] Could not identify NUMA node of platform GPU id 0, defaulting to 0.  Your kernel may not have been built with NUMA support.\n",
      "2025-01-02 20:06:29.091737: I tensorflow/compiler/xla/stream_executor/cuda/cuda_gpu_executor.cc:880] could not open file to read NUMA node: /sys/bus/pci/devices/0000:26:00.0/numa_node\n",
      "Your kernel may have been built without NUMA support.\n",
      "2025-01-02 20:06:29.091770: I tensorflow/core/common_runtime/gpu/gpu_device.cc:1886] Created device /job:localhost/replica:0/task:0/device:GPU:0 with 9517 MB memory:  -> device: 0, name: NVIDIA GeForce RTX 4070 SUPER, pci bus id: 0000:26:00.0, compute capability: 8.9\n",
      "2025-01-02 20:06:29,345 \u001b[1;32mINFO\u001b[0m [ctlearn.PredictCTLearnModel] (predict_model.setup): Number of devices: 1\n",
      "2025-01-02 20:06:29,345 \u001b[1;32mINFO\u001b[0m [ctlearn.PredictCTLearnModel] (predict_model.setup): Loading data reader:\n",
      "2025-01-02 20:06:29,345 \u001b[1;32mINFO\u001b[0m [ctlearn.PredictCTLearnModel] (predict_model.setup):   For a large dataset, this may take a while...\n",
      "/home/blacave/miniforge3/envs/ctlearn-cluster/lib/python3.10/site-packages/ctapipe/coordinates/__init__.py:62: MissingFrameAttributeWarning: AltAz coordinate has no obstime, assuming same frame\n",
      "  warnings.warn(\n",
      "/home/blacave/miniforge3/envs/ctlearn-cluster/lib/python3.10/site-packages/ctapipe/coordinates/__init__.py:70: MissingFrameAttributeWarning: AltAz coordinate has no location, assuming same frame\n",
      "  warnings.warn(\n",
      "2025-01-02 20:10:01,576 \u001b[1;32mINFO\u001b[0m [ctlearn.PredictCTLearnModel] (predict_model.setup):   Number of events loaded: 161211\n",
      "2025-01-02 20:10:01,582 \u001b[1;34mDEBUG\u001b[0m [ctlearn.PredictCTLearnModel] (tool.run): CONFIG: {'PredictCTLearnModel': {'batch_size': 64, 'config_files': [], 'dl1dh_reader_type': 'DLImageReader', 'input_url': PosixPath('/home/blacave/CTLearn/Data/DL1/SST1M/MC/Proton_diffuse/20deg/merged/testing/proton_400_500E3GeV_20_20deg_batch7.dl1.h5'), 'load_direction_model_from': PosixPath('/home/blacave/CTLearn/Data/CTLearn_Models_SST1M/direction_stereo_20deg_v0/ctlearn_model.cpk'), 'load_energy_model_from': PosixPath('/home/blacave/CTLearn/Data/CTLearn_Models_SST1M/energy_stereo_20deg_v0/ctlearn_model.cpk'), 'load_type_model_from': PosixPath('/home/blacave/CTLearn/Data/CTLearn_Models_SST1M/type_stereo_20deg_v1/ctlearn_model.cpk'), 'log_config': {}, 'log_datefmt': '%Y-%m-%d %H:%M:%S', 'log_file': None, 'log_file_level': 'INFO', 'log_format': '[%(name)s]%(highlevel)s %(message)s', 'log_level': 10, 'logging_config': {}, 'output_path': PosixPath('/home/blacave/CTLearn/Data/DL2/Testing/proton_400_500E3GeV_20_20deg_batch7.dl2.h5'), 'overwrite': False, 'overwrite_tables': True, 'prefix': 'CTLearn', 'provenance_log': PosixPath('/home/blacave/CTLearn/Software/CTLearn-Manager/notebooks/PredictCTLearnModel.provenance.log'), 'quiet': False, 'show_config': False, 'show_config_json': False, 'sort_by_intensity': False, 'stack_telescope_images': True, 'use_HDF5Merger': True, 'DLImageReader': {'allowed_tel_types': None, 'allowed_tels': None, 'channels': ['cleaned_image', 'cleaned_relative_peak_time'], 'image_mapper_type': [('type', '*', 'BilinearMapper')], 'min_telescopes': 2, 'min_telescopes_of_type': [('type', '*', 0)], 'mode': 'stereo', 'skip_incompatible_files': False, 'TableQualityQuery': {'quality_criteria': [('> 50 phe', 'hillas_intensity > 50')]}}}}\n",
      "2025-01-02 20:10:01,582 \u001b[1;32mINFO\u001b[0m [ctlearn.PredictCTLearnModel] (predict_model.start): Processing the telescope pointings...\n",
      "WARNING: MergeConflictWarning: In merged column 'obs_id' the 'description' attribute does not match (Simulation Run Identifier != Observation Block ID).  Using Observation Block ID for merged output [astropy.utils.metadata.merge]\n",
      "2025-01-02 20:10:49,580 \u001b[1;32mINFO\u001b[0m [ctlearn.PredictCTLearnModel] (predict_model._store_mc_subarray_pointing): DL1 subarray pointing table was stored in '/home/blacave/CTLearn/Data/DL2/Testing/proton_400_500E3GeV_20_20deg_batch7.dl2.h5' under '/dl1/monitoring/subarray/pointing'\n",
      "2025-01-02 20:10:49,580 \u001b[1;32mINFO\u001b[0m [ctlearn.PredictCTLearnModel] (predict_model.start): Starting the prediction...\n",
      "2025-01-02 20:10:49,580 \u001b[1;32mINFO\u001b[0m [ctlearn.PredictCTLearnModel] (predict_model._predict_classification): Predicting for the classification of the primary particle type.\n",
      "2025-01-02 20:10:56.494224: I tensorflow/compiler/xla/stream_executor/cuda/cuda_dnn.cc:442] Loaded cuDNN version 8700\n"
     ]
    },
    {
     "name": "stdout",
     "output_type": "stream",
     "text": [
      "2518/2518 [==============================] - 387s 152ms/step\n",
      "1/1 [==============================] - 1s 934ms/step\n"
     ]
    },
    {
     "name": "stderr",
     "output_type": "stream",
     "text": [
      "2025-01-02 20:17:26,017 \u001b[1;32mINFO\u001b[0m [ctlearn.PredictCTLearnModel] (predict_model.start): DL2 prediction data was stored in '/home/blacave/CTLearn/Data/DL2/Testing/proton_400_500E3GeV_20_20deg_batch7.dl2.h5' under '/dl2/event/subarray/classification/CTLearn'\n",
      "2025-01-02 20:17:26,017 \u001b[1;32mINFO\u001b[0m [ctlearn.PredictCTLearnModel] (predict_model._predict_energy): Predicting for the regression of the primary particle energy.\n"
     ]
    },
    {
     "name": "stdout",
     "output_type": "stream",
     "text": [
      "2518/2518 [==============================] - 393s 156ms/step\n",
      "1/1 [==============================] - 0s 330ms/step\n"
     ]
    },
    {
     "name": "stderr",
     "output_type": "stream",
     "text": [
      "2025-01-02 20:24:08,170 \u001b[1;32mINFO\u001b[0m [ctlearn.PredictCTLearnModel] (predict_model.start): DL2 prediction data was stored in '/home/blacave/CTLearn/Data/DL2/Testing/proton_400_500E3GeV_20_20deg_batch7.dl2.h5' under '/dl2/event/subarray/energy/CTLearn'\n",
      "2025-01-02 20:24:09,941 \u001b[1;32mINFO\u001b[0m [ctlearn.PredictCTLearnModel] (predict_model._predict_direction): Predicting for the regression of the primary particle arrival direction.\n"
     ]
    },
    {
     "name": "stdout",
     "output_type": "stream",
     "text": [
      "2518/2518 [==============================] - 384s 152ms/step\n",
      "1/1 [==============================] - 0s 289ms/step\n"
     ]
    },
    {
     "name": "stderr",
     "output_type": "stream",
     "text": [
      "2025-01-02 20:30:43,499 \u001b[1;32mINFO\u001b[0m [ctlearn.PredictCTLearnModel] (predict_model.start): DL2 prediction data was stored in '/home/blacave/CTLearn/Data/DL2/Testing/proton_400_500E3GeV_20_20deg_batch7.dl2.h5' under '/dl2/event/subarray/geometry/CTLearn'\n",
      "2025-01-02 20:30:43,627 \u001b[1;32mINFO\u001b[0m [ctlearn.PredictCTLearnModel] (predict_model.finish): Tool is shutting down\n",
      "2025-01-02 20:30:43,627 \u001b[1;32mINFO\u001b[0m [ctlearn.PredictCTLearnModel] (tool.run): Finished: PredictCTLearnModel\n",
      "2025-01-02 20:30:43,676 \u001b[1;32mINFO\u001b[0m [ctlearn.PredictCTLearnModel] (tool.write_provenance): Output: /home/blacave/CTLearn/Data/DL2/Testing/proton_400_500E3GeV_20_20deg_batch7.dl2.h5\n",
      "2025-01-02 20:30:43,676 \u001b[1;34mDEBUG\u001b[0m [ctlearn.PredictCTLearnModel] (tool.write_provenance): PROVENANCE: 'Details about provenance is found in /home/blacave/CTLearn/Software/CTLearn-Manager/notebooks/PredictCTLearnModel.provenance.log'\n",
      "2025-01-02 20:30:43,682 \u001b[1;34mDEBUG\u001b[0m [ctlearn.PredictCTLearnModel] (application.exit): Exiting application: PredictCTLearnModel\n",
      "Closing remaining open files:/home/blacave/CTLearn/Data/DL1/SST1M/MC/Proton_diffuse/20deg/merged/testing/proton_400_500E3GeV_20_20deg_batch7.dl1.h5...done\n"
     ]
    },
    {
     "name": "stdout",
     "output_type": "stream",
     "text": [
      "ctlearn-predict-model --input_url /home/blacave/CTLearn/Data/DL1/SST1M/MC/Proton_diffuse/20deg/merged/testing/proton_400_500E3GeV_20_20deg_batch8.dl1.h5                     --type_model=/home/blacave/CTLearn/Data/CTLearn_Models_SST1M/type_stereo_20deg_v1/ctlearn_model.cpk                     --energy_model=/home/blacave/CTLearn/Data/CTLearn_Models_SST1M/energy_stereo_20deg_v0/ctlearn_model.cpk                     --direction_model=/home/blacave/CTLearn/Data/CTLearn_Models_SST1M/direction_stereo_20deg_v0/ctlearn_model.cpk                     --no-dl1-images --no-true-images --output /home/blacave/CTLearn/Data/DL2/Testing//proton_400_500E3GeV_20_20deg_batch8.dl2.h5                     --DLImageReader.mode=stereo --PredictCTLearnModel.stack_telescope_images=True --DLImageReader.min_telescopes=2                     --PredictCTLearnModel.overwrite_tables=True -v --DLImageReader.channels=cleaned_image --DLImageReader.channels=cleaned_relative_peak_time \n"
     ]
    },
    {
     "name": "stderr",
     "output_type": "stream",
     "text": [
      "2025-01-02 20:30:50.510667: E tensorflow/compiler/xla/stream_executor/cuda/cuda_dnn.cc:9342] Unable to register cuDNN factory: Attempting to register factory for plugin cuDNN when one has already been registered\n",
      "2025-01-02 20:30:50.510748: E tensorflow/compiler/xla/stream_executor/cuda/cuda_fft.cc:609] Unable to register cuFFT factory: Attempting to register factory for plugin cuFFT when one has already been registered\n",
      "2025-01-02 20:30:50.514231: E tensorflow/compiler/xla/stream_executor/cuda/cuda_blas.cc:1518] Unable to register cuBLAS factory: Attempting to register factory for plugin cuBLAS when one has already been registered\n",
      "2025-01-02 20:30:50.753155: I tensorflow/core/platform/cpu_feature_guard.cc:182] This TensorFlow binary is optimized to use available CPU instructions in performance-critical operations.\n",
      "To enable the following instructions: AVX2 FMA, in other operations, rebuild TensorFlow with the appropriate compiler flags.\n",
      "2025-01-02 20:30:58,613 \u001b[1;32mINFO\u001b[0m [ctlearn.PredictCTLearnModel] (tool.initialize): Loading config from '[]'\n",
      "2025-01-02 20:30:58,614 \u001b[1;32mINFO\u001b[0m [ctlearn.PredictCTLearnModel] (tool.initialize): ctapipe version 0.23.0\n",
      "2025-01-02 20:30:58,614 \u001b[1;32mINFO\u001b[0m [ctlearn.PredictCTLearnModel] (predict_model.setup): Copying to output destination.\n",
      "2025-01-02 20:31:19,734 \u001b[1;32mINFO\u001b[0m [ctlearn.PredictCTLearnModel.HDF5Merger] (hdf5merger.__call__): Updated required nodes to ['/configuration/observation/observation_block', '/configuration/observation/scheduling_block', '/configuration/simulation/run', '/configuration/telescope/pointing', '/dl1/event/subarray/trigger', '/dl1/event/telescope/parameters', '/dl1/event/telescope/trigger', '/simulation/event/subarray/shower', '/simulation/event/telescope/images', '/simulation/event/telescope/impact', '/simulation/event/telescope/parameters', '/simulation/service/shower_distribution']\n",
      "2025-01-02 20:31:21.977869: I tensorflow/compiler/xla/stream_executor/cuda/cuda_gpu_executor.cc:880] could not open file to read NUMA node: /sys/bus/pci/devices/0000:26:00.0/numa_node\n",
      "Your kernel may have been built without NUMA support.\n",
      "2025-01-02 20:31:22.017319: I tensorflow/compiler/xla/stream_executor/cuda/cuda_gpu_executor.cc:880] could not open file to read NUMA node: /sys/bus/pci/devices/0000:26:00.0/numa_node\n",
      "Your kernel may have been built without NUMA support.\n",
      "2025-01-02 20:31:22.017477: I tensorflow/compiler/xla/stream_executor/cuda/cuda_gpu_executor.cc:880] could not open file to read NUMA node: /sys/bus/pci/devices/0000:26:00.0/numa_node\n",
      "Your kernel may have been built without NUMA support.\n",
      "2025-01-02 20:31:22.019633: I tensorflow/compiler/xla/stream_executor/cuda/cuda_gpu_executor.cc:880] could not open file to read NUMA node: /sys/bus/pci/devices/0000:26:00.0/numa_node\n",
      "Your kernel may have been built without NUMA support.\n",
      "2025-01-02 20:31:22.019732: I tensorflow/compiler/xla/stream_executor/cuda/cuda_gpu_executor.cc:880] could not open file to read NUMA node: /sys/bus/pci/devices/0000:26:00.0/numa_node\n",
      "Your kernel may have been built without NUMA support.\n",
      "2025-01-02 20:31:22.019782: I tensorflow/compiler/xla/stream_executor/cuda/cuda_gpu_executor.cc:880] could not open file to read NUMA node: /sys/bus/pci/devices/0000:26:00.0/numa_node\n",
      "Your kernel may have been built without NUMA support.\n",
      "2025-01-02 20:31:22.278861: I tensorflow/compiler/xla/stream_executor/cuda/cuda_gpu_executor.cc:880] could not open file to read NUMA node: /sys/bus/pci/devices/0000:26:00.0/numa_node\n",
      "Your kernel may have been built without NUMA support.\n",
      "2025-01-02 20:31:22.278957: I tensorflow/compiler/xla/stream_executor/cuda/cuda_gpu_executor.cc:880] could not open file to read NUMA node: /sys/bus/pci/devices/0000:26:00.0/numa_node\n",
      "Your kernel may have been built without NUMA support.\n",
      "2025-01-02 20:31:22.278970: I tensorflow/core/common_runtime/gpu/gpu_device.cc:1977] Could not identify NUMA node of platform GPU id 0, defaulting to 0.  Your kernel may not have been built with NUMA support.\n",
      "2025-01-02 20:31:22.279015: I tensorflow/compiler/xla/stream_executor/cuda/cuda_gpu_executor.cc:880] could not open file to read NUMA node: /sys/bus/pci/devices/0000:26:00.0/numa_node\n",
      "Your kernel may have been built without NUMA support.\n",
      "2025-01-02 20:31:22.280273: I tensorflow/core/common_runtime/gpu/gpu_device.cc:1886] Created device /job:localhost/replica:0/task:0/device:GPU:0 with 9517 MB memory:  -> device: 0, name: NVIDIA GeForce RTX 4070 SUPER, pci bus id: 0000:26:00.0, compute capability: 8.9\n",
      "2025-01-02 20:31:22,537 \u001b[1;32mINFO\u001b[0m [ctlearn.PredictCTLearnModel] (predict_model.setup): Number of devices: 1\n",
      "2025-01-02 20:31:22,537 \u001b[1;32mINFO\u001b[0m [ctlearn.PredictCTLearnModel] (predict_model.setup): Loading data reader:\n",
      "2025-01-02 20:31:22,537 \u001b[1;32mINFO\u001b[0m [ctlearn.PredictCTLearnModel] (predict_model.setup):   For a large dataset, this may take a while...\n",
      "/home/blacave/miniforge3/envs/ctlearn-cluster/lib/python3.10/site-packages/ctapipe/coordinates/__init__.py:62: MissingFrameAttributeWarning: AltAz coordinate has no obstime, assuming same frame\n",
      "  warnings.warn(\n",
      "/home/blacave/miniforge3/envs/ctlearn-cluster/lib/python3.10/site-packages/ctapipe/coordinates/__init__.py:70: MissingFrameAttributeWarning: AltAz coordinate has no location, assuming same frame\n",
      "  warnings.warn(\n",
      "2025-01-02 20:34:54,483 \u001b[1;32mINFO\u001b[0m [ctlearn.PredictCTLearnModel] (predict_model.setup):   Number of events loaded: 165729\n",
      "2025-01-02 20:34:54,490 \u001b[1;34mDEBUG\u001b[0m [ctlearn.PredictCTLearnModel] (tool.run): CONFIG: {'PredictCTLearnModel': {'batch_size': 64, 'config_files': [], 'dl1dh_reader_type': 'DLImageReader', 'input_url': PosixPath('/home/blacave/CTLearn/Data/DL1/SST1M/MC/Proton_diffuse/20deg/merged/testing/proton_400_500E3GeV_20_20deg_batch8.dl1.h5'), 'load_direction_model_from': PosixPath('/home/blacave/CTLearn/Data/CTLearn_Models_SST1M/direction_stereo_20deg_v0/ctlearn_model.cpk'), 'load_energy_model_from': PosixPath('/home/blacave/CTLearn/Data/CTLearn_Models_SST1M/energy_stereo_20deg_v0/ctlearn_model.cpk'), 'load_type_model_from': PosixPath('/home/blacave/CTLearn/Data/CTLearn_Models_SST1M/type_stereo_20deg_v1/ctlearn_model.cpk'), 'log_config': {}, 'log_datefmt': '%Y-%m-%d %H:%M:%S', 'log_file': None, 'log_file_level': 'INFO', 'log_format': '[%(name)s]%(highlevel)s %(message)s', 'log_level': 10, 'logging_config': {}, 'output_path': PosixPath('/home/blacave/CTLearn/Data/DL2/Testing/proton_400_500E3GeV_20_20deg_batch8.dl2.h5'), 'overwrite': False, 'overwrite_tables': True, 'prefix': 'CTLearn', 'provenance_log': PosixPath('/home/blacave/CTLearn/Software/CTLearn-Manager/notebooks/PredictCTLearnModel.provenance.log'), 'quiet': False, 'show_config': False, 'show_config_json': False, 'sort_by_intensity': False, 'stack_telescope_images': True, 'use_HDF5Merger': True, 'DLImageReader': {'allowed_tel_types': None, 'allowed_tels': None, 'channels': ['cleaned_image', 'cleaned_relative_peak_time'], 'image_mapper_type': [('type', '*', 'BilinearMapper')], 'min_telescopes': 2, 'min_telescopes_of_type': [('type', '*', 0)], 'mode': 'stereo', 'skip_incompatible_files': False, 'TableQualityQuery': {'quality_criteria': [('> 50 phe', 'hillas_intensity > 50')]}}}}\n",
      "2025-01-02 20:34:54,490 \u001b[1;32mINFO\u001b[0m [ctlearn.PredictCTLearnModel] (predict_model.start): Processing the telescope pointings...\n",
      "WARNING: MergeConflictWarning: In merged column 'obs_id' the 'description' attribute does not match (Simulation Run Identifier != Observation Block ID).  Using Observation Block ID for merged output [astropy.utils.metadata.merge]\n",
      "2025-01-02 20:35:43,301 \u001b[1;32mINFO\u001b[0m [ctlearn.PredictCTLearnModel] (predict_model._store_mc_subarray_pointing): DL1 subarray pointing table was stored in '/home/blacave/CTLearn/Data/DL2/Testing/proton_400_500E3GeV_20_20deg_batch8.dl2.h5' under '/dl1/monitoring/subarray/pointing'\n",
      "2025-01-02 20:35:43,301 \u001b[1;32mINFO\u001b[0m [ctlearn.PredictCTLearnModel] (predict_model.start): Starting the prediction...\n",
      "2025-01-02 20:35:43,301 \u001b[1;32mINFO\u001b[0m [ctlearn.PredictCTLearnModel] (predict_model._predict_classification): Predicting for the classification of the primary particle type.\n",
      "2025-01-02 20:35:50.534938: I tensorflow/compiler/xla/stream_executor/cuda/cuda_dnn.cc:442] Loaded cuDNN version 8700\n"
     ]
    },
    {
     "name": "stdout",
     "output_type": "stream",
     "text": [
      "2589/2589 [==============================] - 417s 160ms/step\n",
      "1/1 [==============================] - 1s 814ms/step\n"
     ]
    },
    {
     "name": "stderr",
     "output_type": "stream",
     "text": [
      "2025-01-02 20:42:50,406 \u001b[1;32mINFO\u001b[0m [ctlearn.PredictCTLearnModel] (predict_model.start): DL2 prediction data was stored in '/home/blacave/CTLearn/Data/DL2/Testing/proton_400_500E3GeV_20_20deg_batch8.dl2.h5' under '/dl2/event/subarray/classification/CTLearn'\n",
      "2025-01-02 20:42:50,423 \u001b[1;32mINFO\u001b[0m [ctlearn.PredictCTLearnModel] (predict_model._predict_energy): Predicting for the regression of the primary particle energy.\n"
     ]
    },
    {
     "name": "stdout",
     "output_type": "stream",
     "text": [
      "2589/2589 [==============================] - 401s 154ms/step\n",
      "1/1 [==============================] - 0s 196ms/step\n"
     ]
    },
    {
     "name": "stderr",
     "output_type": "stream",
     "text": [
      "2025-01-02 20:49:44,140 \u001b[1;32mINFO\u001b[0m [ctlearn.PredictCTLearnModel] (predict_model.start): DL2 prediction data was stored in '/home/blacave/CTLearn/Data/DL2/Testing/proton_400_500E3GeV_20_20deg_batch8.dl2.h5' under '/dl2/event/subarray/energy/CTLearn'\n",
      "2025-01-02 20:49:46,196 \u001b[1;32mINFO\u001b[0m [ctlearn.PredictCTLearnModel] (predict_model._predict_direction): Predicting for the regression of the primary particle arrival direction.\n"
     ]
    },
    {
     "name": "stdout",
     "output_type": "stream",
     "text": [
      "2589/2589 [==============================] - 387s 149ms/step\n",
      "1/1 [==============================] - 0s 180ms/step\n"
     ]
    },
    {
     "name": "stderr",
     "output_type": "stream",
     "text": [
      "2025-01-02 20:56:22,736 \u001b[1;32mINFO\u001b[0m [ctlearn.PredictCTLearnModel] (predict_model.start): DL2 prediction data was stored in '/home/blacave/CTLearn/Data/DL2/Testing/proton_400_500E3GeV_20_20deg_batch8.dl2.h5' under '/dl2/event/subarray/geometry/CTLearn'\n",
      "2025-01-02 20:56:22,762 \u001b[1;32mINFO\u001b[0m [ctlearn.PredictCTLearnModel] (predict_model.finish): Tool is shutting down\n",
      "2025-01-02 20:56:22,763 \u001b[1;32mINFO\u001b[0m [ctlearn.PredictCTLearnModel] (tool.run): Finished: PredictCTLearnModel\n",
      "2025-01-02 20:56:22,798 \u001b[1;32mINFO\u001b[0m [ctlearn.PredictCTLearnModel] (tool.write_provenance): Output: /home/blacave/CTLearn/Data/DL2/Testing/proton_400_500E3GeV_20_20deg_batch8.dl2.h5\n",
      "2025-01-02 20:56:22,798 \u001b[1;34mDEBUG\u001b[0m [ctlearn.PredictCTLearnModel] (tool.write_provenance): PROVENANCE: 'Details about provenance is found in /home/blacave/CTLearn/Software/CTLearn-Manager/notebooks/PredictCTLearnModel.provenance.log'\n",
      "2025-01-02 20:56:22,802 \u001b[1;34mDEBUG\u001b[0m [ctlearn.PredictCTLearnModel] (application.exit): Exiting application: PredictCTLearnModel\n",
      "Closing remaining open files:/home/blacave/CTLearn/Data/DL1/SST1M/MC/Proton_diffuse/20deg/merged/testing/proton_400_500E3GeV_20_20deg_batch8.dl1.h5...done\n"
     ]
    },
    {
     "name": "stdout",
     "output_type": "stream",
     "text": [
      "ctlearn-predict-model --input_url /home/blacave/CTLearn/Data/DL1/SST1M/MC/Proton_diffuse/20deg/merged/testing/proton_diffuse_20deg_11000_11999.dl1.h5                     --type_model=/home/blacave/CTLearn/Data/CTLearn_Models_SST1M/type_stereo_20deg_v1/ctlearn_model.cpk                     --energy_model=/home/blacave/CTLearn/Data/CTLearn_Models_SST1M/energy_stereo_20deg_v0/ctlearn_model.cpk                     --direction_model=/home/blacave/CTLearn/Data/CTLearn_Models_SST1M/direction_stereo_20deg_v0/ctlearn_model.cpk                     --no-dl1-images --no-true-images --output /home/blacave/CTLearn/Data/DL2/Testing//proton_diffuse_20deg_11000_11999.dl2.h5                     --DLImageReader.mode=stereo --PredictCTLearnModel.stack_telescope_images=True --DLImageReader.min_telescopes=2                     --PredictCTLearnModel.overwrite_tables=True -v --DLImageReader.channels=cleaned_image --DLImageReader.channels=cleaned_relative_peak_time \n"
     ]
    },
    {
     "name": "stderr",
     "output_type": "stream",
     "text": [
      "2025-01-02 20:56:29.237874: E tensorflow/compiler/xla/stream_executor/cuda/cuda_dnn.cc:9342] Unable to register cuDNN factory: Attempting to register factory for plugin cuDNN when one has already been registered\n",
      "2025-01-02 20:56:29.237943: E tensorflow/compiler/xla/stream_executor/cuda/cuda_fft.cc:609] Unable to register cuFFT factory: Attempting to register factory for plugin cuFFT when one has already been registered\n",
      "2025-01-02 20:56:29.238548: E tensorflow/compiler/xla/stream_executor/cuda/cuda_blas.cc:1518] Unable to register cuBLAS factory: Attempting to register factory for plugin cuBLAS when one has already been registered\n",
      "2025-01-02 20:56:29.316261: I tensorflow/core/platform/cpu_feature_guard.cc:182] This TensorFlow binary is optimized to use available CPU instructions in performance-critical operations.\n",
      "To enable the following instructions: AVX2 FMA, in other operations, rebuild TensorFlow with the appropriate compiler flags.\n",
      "2025-01-02 20:56:36,776 \u001b[1;32mINFO\u001b[0m [ctlearn.PredictCTLearnModel] (tool.initialize): Loading config from '[]'\n",
      "2025-01-02 20:56:36,777 \u001b[1;32mINFO\u001b[0m [ctlearn.PredictCTLearnModel] (tool.initialize): ctapipe version 0.23.0\n",
      "2025-01-02 20:56:36,777 \u001b[1;31mERROR\u001b[0m [ctlearn.PredictCTLearnModel] (tool.run): The output file '/home/blacave/CTLearn/Data/DL2/Testing/proton_diffuse_20deg_11000_11999.dl2.h5' already exists. Please use '--no-use-HDF5Merger' to disable the usage of the HDF5Merger component.\n",
      "2025-01-02 20:56:36,777 \u001b[1;31mERROR\u001b[0m [ctlearn.PredictCTLearnModel] (tool.run): Use --help for more info\n",
      "2025-01-02 20:56:36,784 \u001b[1;32mINFO\u001b[0m [ctlearn.PredictCTLearnModel] (tool.write_provenance): Output: \n",
      "2025-01-02 20:56:36,784 \u001b[1;34mDEBUG\u001b[0m [ctlearn.PredictCTLearnModel] (tool.write_provenance): PROVENANCE: 'Details about provenance is found in /home/blacave/CTLearn/Software/CTLearn-Manager/notebooks/PredictCTLearnModel.provenance.log'\n",
      "2025-01-02 20:56:36,785 \u001b[1;34mDEBUG\u001b[0m [ctlearn.PredictCTLearnModel] (application.exit): Exiting application: PredictCTLearnModel\n"
     ]
    },
    {
     "name": "stdout",
     "output_type": "stream",
     "text": [
      "ctlearn-predict-model --input_url /home/blacave/CTLearn/Data/DL1/SST1M/MC/Proton_diffuse/20deg/merged/testing/proton_diffuse_20deg_12000_12999.dl1.h5                     --type_model=/home/blacave/CTLearn/Data/CTLearn_Models_SST1M/type_stereo_20deg_v1/ctlearn_model.cpk                     --energy_model=/home/blacave/CTLearn/Data/CTLearn_Models_SST1M/energy_stereo_20deg_v0/ctlearn_model.cpk                     --direction_model=/home/blacave/CTLearn/Data/CTLearn_Models_SST1M/direction_stereo_20deg_v0/ctlearn_model.cpk                     --no-dl1-images --no-true-images --output /home/blacave/CTLearn/Data/DL2/Testing//proton_diffuse_20deg_12000_12999.dl2.h5                     --DLImageReader.mode=stereo --PredictCTLearnModel.stack_telescope_images=True --DLImageReader.min_telescopes=2                     --PredictCTLearnModel.overwrite_tables=True -v --DLImageReader.channels=cleaned_image --DLImageReader.channels=cleaned_relative_peak_time \n"
     ]
    },
    {
     "name": "stderr",
     "output_type": "stream",
     "text": [
      "2025-01-02 20:56:38.023315: E tensorflow/compiler/xla/stream_executor/cuda/cuda_dnn.cc:9342] Unable to register cuDNN factory: Attempting to register factory for plugin cuDNN when one has already been registered\n",
      "2025-01-02 20:56:38.023395: E tensorflow/compiler/xla/stream_executor/cuda/cuda_fft.cc:609] Unable to register cuFFT factory: Attempting to register factory for plugin cuFFT when one has already been registered\n",
      "2025-01-02 20:56:38.023434: E tensorflow/compiler/xla/stream_executor/cuda/cuda_blas.cc:1518] Unable to register cuBLAS factory: Attempting to register factory for plugin cuBLAS when one has already been registered\n",
      "2025-01-02 20:56:38.031682: I tensorflow/core/platform/cpu_feature_guard.cc:182] This TensorFlow binary is optimized to use available CPU instructions in performance-critical operations.\n",
      "To enable the following instructions: AVX2 FMA, in other operations, rebuild TensorFlow with the appropriate compiler flags.\n",
      "2025-01-02 20:56:42,127 \u001b[1;32mINFO\u001b[0m [ctlearn.PredictCTLearnModel] (tool.initialize): Loading config from '[]'\n",
      "2025-01-02 20:56:42,128 \u001b[1;32mINFO\u001b[0m [ctlearn.PredictCTLearnModel] (tool.initialize): ctapipe version 0.23.0\n",
      "2025-01-02 20:56:42,128 \u001b[1;31mERROR\u001b[0m [ctlearn.PredictCTLearnModel] (tool.run): The output file '/home/blacave/CTLearn/Data/DL2/Testing/proton_diffuse_20deg_12000_12999.dl2.h5' already exists. Please use '--no-use-HDF5Merger' to disable the usage of the HDF5Merger component.\n",
      "2025-01-02 20:56:42,128 \u001b[1;31mERROR\u001b[0m [ctlearn.PredictCTLearnModel] (tool.run): Use --help for more info\n",
      "2025-01-02 20:56:42,135 \u001b[1;32mINFO\u001b[0m [ctlearn.PredictCTLearnModel] (tool.write_provenance): Output: \n",
      "2025-01-02 20:56:42,135 \u001b[1;34mDEBUG\u001b[0m [ctlearn.PredictCTLearnModel] (tool.write_provenance): PROVENANCE: 'Details about provenance is found in /home/blacave/CTLearn/Software/CTLearn-Manager/notebooks/PredictCTLearnModel.provenance.log'\n",
      "2025-01-02 20:56:42,137 \u001b[1;34mDEBUG\u001b[0m [ctlearn.PredictCTLearnModel] (application.exit): Exiting application: PredictCTLearnModel\n"
     ]
    }
   ],
   "source": [
    "Stereo_Tri_Model.launch_testing(20, 0, \n",
    "    [\"/home/blacave/CTLearn/Data/DL2/Testing/\"], \n",
    "    launch_particle_type='both', \n",
    "    )"
   ]
  }
 ],
 "metadata": {
  "kernelspec": {
   "display_name": "ctlearn-cluster",
   "language": "python",
   "name": "python3"
  },
  "language_info": {
   "codemirror_mode": {
    "name": "ipython",
    "version": 3
   },
   "file_extension": ".py",
   "mimetype": "text/x-python",
   "name": "python",
   "nbconvert_exporter": "python",
   "pygments_lexer": "ipython3",
   "version": "3.10.15"
  }
 },
 "nbformat": 4,
 "nbformat_minor": 2
}
