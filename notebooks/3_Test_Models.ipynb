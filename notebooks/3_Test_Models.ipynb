{
 "cells": [
  {
   "cell_type": "code",
   "execution_count": 1,
   "metadata": {},
   "outputs": [],
   "source": [
    "from ctlearn_manager import CTLearnTriModelManager\n",
    "from ctlearn_manager.io import load_model_from_index"
   ]
  },
  {
   "cell_type": "markdown",
   "metadata": {},
   "source": [
    "# 💾 Load models"
   ]
  },
  {
   "cell_type": "code",
   "execution_count": 2,
   "metadata": {},
   "outputs": [
    {
     "name": "stdout",
     "output_type": "stream",
     "text": [
      "\n",
      "🧠 Model name: energy_stereo_20deg\n",
      "\n",
      "🧠 Model name: direction_stereo_20deg\n",
      "\n",
      "🧠 Model name: type_stereo_20deg\n"
     ]
    }
   ],
   "source": [
    "MODEL_INDEX_FILE = \"/home/blacave/CTLearn/Software/CTLearn-Manager/ctearn_models_index.h5\"\n",
    "energy_model = load_model_from_index(\"energy_stereo_20deg\", MODEL_INDEX_FILE)\n",
    "direction_model = load_model_from_index(\"direction_stereo_20deg\", MODEL_INDEX_FILE)\n",
    "type_model = load_model_from_index(\"type_stereo_20deg\", MODEL_INDEX_FILE)\n",
    "Stereo_Tri_Model = CTLearnTriModelManager(direction_model=direction_model, energy_model=energy_model, type_model=type_model)"
   ]
  },
  {
   "cell_type": "markdown",
   "metadata": {},
   "source": [
    "# 🗃️ Set testing files and directions"
   ]
  },
  {
   "cell_type": "code",
   "execution_count": 3,
   "metadata": {},
   "outputs": [
    {
     "name": "stdout",
     "output_type": "stream",
     "text": [
      "💾 Model direction_stereo_20deg testing data update:\n",
      "\t➡️ Testing gamma data updated\n",
      "\t➡️ Testing proton data updated\n",
      "💾 Model energy_stereo_20deg testing data update:\n",
      "\t➡️ Testing gamma data updated\n",
      "\t➡️ Testing proton data updated\n",
      "💾 Model type_stereo_20deg testing data update:\n",
      "\t➡️ Testing gamma data updated\n",
      "\t➡️ Testing proton data updated\n"
     ]
    }
   ],
   "source": [
    "Stereo_Tri_Model.set_testing_directories(\n",
    "    testing_gamma_dirs = [\"/home/blacave/CTLearn/Data/DL1/SST1M/MC/Gamma_point/20deg/testing/\"], \n",
    "    testing_proton_dirs = [\"/home/blacave/CTLearn/Data/DL1/SST1M/MC/Proton_diffuse/20deg/merged/testing/\"], \n",
    "    testing_gamma_zenith_distances = [20], \n",
    "    testing_gamma_azimuths = [0], \n",
    "    testing_proton_zenith_distances = [20], \n",
    "    testing_proton_azimuths = [0]\n",
    "    )"
   ]
  },
  {
   "cell_type": "markdown",
   "metadata": {},
   "source": [
    "# 🧪 Launch testing"
   ]
  },
  {
   "cell_type": "code",
   "execution_count": 4,
   "metadata": {},
   "outputs": [
    {
     "name": "stdout",
     "output_type": "stream",
     "text": [
      "💾 Model direction_stereo_20deg testing data update:\n",
      "\t➡️ Testing DL2 gamma data updated\n",
      "\t➡️ Testing DL2 proton data updated\n",
      "💾 Model energy_stereo_20deg testing data update:\n",
      "\t➡️ Testing DL2 gamma data updated\n",
      "\t➡️ Testing DL2 proton data updated\n",
      "💾 Model type_stereo_20deg testing data update:\n",
      "\t➡️ Testing DL2 gamma data updated\n",
      "\t➡️ Testing DL2 proton data updated\n",
      "ctlearn-predict-model --input_url /home/blacave/CTLearn/Data/DL1/SST1M/MC/Gamma_point/20deg/testing/gamma_point_50_300E3GeV_20_20deg_batch0.dl1.h5                     --type_model=/home/blacave/CTLearn/Data/CTLearn_Models_SST1M/type_stereo_20deg_v1/ctlearn_model.cpk                     --energy_model=/home/blacave/CTLearn/Data/CTLearn_Models_SST1M/energy_stereo_20deg_v0/ctlearn_model.cpk                     --direction_model=/home/blacave/CTLearn/Data/CTLearn_Models_SST1M/direction_stereo_20deg_v0/ctlearn_model.cpk                     --no-dl1-images --no-true-images --output /home/blacave/CTLearn/Data/DL2/Testing//gamma_point_50_300E3GeV_20_20deg_batch0.dl2.h5                     --DLImageReader.mode=stereo --PredictCTLearnModel.stack_telescope_images=True --DLImageReader.min_telescopes=2                     --PredictCTLearnModel.overwrite_tables=True -v --DLImageReader.channels=[ --DLImageReader.channels=' --DLImageReader.channels=c --DLImageReader.channels=l --DLImageReader.channels=e --DLImageReader.channels=a --DLImageReader.channels=n --DLImageReader.channels=e --DLImageReader.channels=d --DLImageReader.channels=_ --DLImageReader.channels=i --DLImageReader.channels=m --DLImageReader.channels=a --DLImageReader.channels=g --DLImageReader.channels=e --DLImageReader.channels=' --DLImageReader.channels=, --DLImageReader.channels=  --DLImageReader.channels=' --DLImageReader.channels=c --DLImageReader.channels=l --DLImageReader.channels=e --DLImageReader.channels=a --DLImageReader.channels=n --DLImageReader.channels=e --DLImageReader.channels=d --DLImageReader.channels=_ --DLImageReader.channels=r --DLImageReader.channels=e --DLImageReader.channels=l --DLImageReader.channels=a --DLImageReader.channels=t --DLImageReader.channels=i --DLImageReader.channels=v --DLImageReader.channels=e --DLImageReader.channels=_ --DLImageReader.channels=p --DLImageReader.channels=e --DLImageReader.channels=a --DLImageReader.channels=k --DLImageReader.channels=_ --DLImageReader.channels=t --DLImageReader.channels=i --DLImageReader.channels=m --DLImageReader.channels=e --DLImageReader.channels=' --DLImageReader.channels=] \n"
     ]
    },
    {
     "name": "stderr",
     "output_type": "stream",
     "text": [
      "2025-01-03 13:50:10.889054: E tensorflow/compiler/xla/stream_executor/cuda/cuda_dnn.cc:9342] Unable to register cuDNN factory: Attempting to register factory for plugin cuDNN when one has already been registered\n",
      "2025-01-03 13:50:10.889120: E tensorflow/compiler/xla/stream_executor/cuda/cuda_fft.cc:609] Unable to register cuFFT factory: Attempting to register factory for plugin cuFFT when one has already been registered\n",
      "2025-01-03 13:50:10.892718: E tensorflow/compiler/xla/stream_executor/cuda/cuda_blas.cc:1518] Unable to register cuBLAS factory: Attempting to register factory for plugin cuBLAS when one has already been registered\n",
      "2025-01-03 13:50:11.157643: I tensorflow/core/platform/cpu_feature_guard.cc:182] This TensorFlow binary is optimized to use available CPU instructions in performance-critical operations.\n",
      "To enable the following instructions: AVX2 FMA, in other operations, rebuild TensorFlow with the appropriate compiler flags.\n",
      "2025-01-03 13:50:19,201 \u001b[1;32mINFO\u001b[0m [ctlearn.PredictCTLearnModel] (tool.initialize): Loading config from '[]'\n",
      "2025-01-03 13:50:19,202 \u001b[1;32mINFO\u001b[0m [ctlearn.PredictCTLearnModel] (tool.initialize): ctapipe version 0.23.0\n",
      "2025-01-03 13:50:19,202 \u001b[1;31mERROR\u001b[0m [ctlearn.PredictCTLearnModel] (tool.run): The output file '/home/blacave/CTLearn/Data/DL2/Testing/gamma_point_50_300E3GeV_20_20deg_batch0.dl2.h5' already exists. Please use '--no-use-HDF5Merger' to disable the usage of the HDF5Merger component.\n",
      "2025-01-03 13:50:19,202 \u001b[1;31mERROR\u001b[0m [ctlearn.PredictCTLearnModel] (tool.run): Use --help for more info\n",
      "2025-01-03 13:50:19,212 \u001b[1;32mINFO\u001b[0m [ctlearn.PredictCTLearnModel] (tool.write_provenance): Output: \n",
      "2025-01-03 13:50:19,212 \u001b[1;34mDEBUG\u001b[0m [ctlearn.PredictCTLearnModel] (tool.write_provenance): PROVENANCE: 'Details about provenance is found in /home/blacave/CTLearn/Software/CTLearn-Manager/notebooks/PredictCTLearnModel.provenance.log'\n",
      "2025-01-03 13:50:19,214 \u001b[1;34mDEBUG\u001b[0m [ctlearn.PredictCTLearnModel] (application.exit): Exiting application: PredictCTLearnModel\n"
     ]
    },
    {
     "name": "stdout",
     "output_type": "stream",
     "text": [
      "ctlearn-predict-model --input_url /home/blacave/CTLearn/Data/DL1/SST1M/MC/Gamma_point/20deg/testing/gamma_point_50_300E3GeV_20_20deg_batch1.dl1.h5                     --type_model=/home/blacave/CTLearn/Data/CTLearn_Models_SST1M/type_stereo_20deg_v1/ctlearn_model.cpk                     --energy_model=/home/blacave/CTLearn/Data/CTLearn_Models_SST1M/energy_stereo_20deg_v0/ctlearn_model.cpk                     --direction_model=/home/blacave/CTLearn/Data/CTLearn_Models_SST1M/direction_stereo_20deg_v0/ctlearn_model.cpk                     --no-dl1-images --no-true-images --output /home/blacave/CTLearn/Data/DL2/Testing//gamma_point_50_300E3GeV_20_20deg_batch1.dl2.h5                     --DLImageReader.mode=stereo --PredictCTLearnModel.stack_telescope_images=True --DLImageReader.min_telescopes=2                     --PredictCTLearnModel.overwrite_tables=True -v --DLImageReader.channels=[ --DLImageReader.channels=' --DLImageReader.channels=c --DLImageReader.channels=l --DLImageReader.channels=e --DLImageReader.channels=a --DLImageReader.channels=n --DLImageReader.channels=e --DLImageReader.channels=d --DLImageReader.channels=_ --DLImageReader.channels=i --DLImageReader.channels=m --DLImageReader.channels=a --DLImageReader.channels=g --DLImageReader.channels=e --DLImageReader.channels=' --DLImageReader.channels=, --DLImageReader.channels=  --DLImageReader.channels=' --DLImageReader.channels=c --DLImageReader.channels=l --DLImageReader.channels=e --DLImageReader.channels=a --DLImageReader.channels=n --DLImageReader.channels=e --DLImageReader.channels=d --DLImageReader.channels=_ --DLImageReader.channels=r --DLImageReader.channels=e --DLImageReader.channels=l --DLImageReader.channels=a --DLImageReader.channels=t --DLImageReader.channels=i --DLImageReader.channels=v --DLImageReader.channels=e --DLImageReader.channels=_ --DLImageReader.channels=p --DLImageReader.channels=e --DLImageReader.channels=a --DLImageReader.channels=k --DLImageReader.channels=_ --DLImageReader.channels=t --DLImageReader.channels=i --DLImageReader.channels=m --DLImageReader.channels=e --DLImageReader.channels=' --DLImageReader.channels=] \n"
     ]
    },
    {
     "name": "stderr",
     "output_type": "stream",
     "text": [
      "2025-01-03 13:50:20.777888: E tensorflow/compiler/xla/stream_executor/cuda/cuda_dnn.cc:9342] Unable to register cuDNN factory: Attempting to register factory for plugin cuDNN when one has already been registered\n",
      "2025-01-03 13:50:20.777964: E tensorflow/compiler/xla/stream_executor/cuda/cuda_fft.cc:609] Unable to register cuFFT factory: Attempting to register factory for plugin cuFFT when one has already been registered\n",
      "2025-01-03 13:50:20.777995: E tensorflow/compiler/xla/stream_executor/cuda/cuda_blas.cc:1518] Unable to register cuBLAS factory: Attempting to register factory for plugin cuBLAS when one has already been registered\n",
      "2025-01-03 13:50:20.785337: I tensorflow/core/platform/cpu_feature_guard.cc:182] This TensorFlow binary is optimized to use available CPU instructions in performance-critical operations.\n",
      "To enable the following instructions: AVX2 FMA, in other operations, rebuild TensorFlow with the appropriate compiler flags.\n",
      "2025-01-03 13:50:25,114 \u001b[1;32mINFO\u001b[0m [ctlearn.PredictCTLearnModel] (tool.initialize): Loading config from '[]'\n",
      "2025-01-03 13:50:25,115 \u001b[1;32mINFO\u001b[0m [ctlearn.PredictCTLearnModel] (tool.initialize): ctapipe version 0.23.0\n",
      "2025-01-03 13:50:25,115 \u001b[1;31mERROR\u001b[0m [ctlearn.PredictCTLearnModel] (tool.run): The output file '/home/blacave/CTLearn/Data/DL2/Testing/gamma_point_50_300E3GeV_20_20deg_batch1.dl2.h5' already exists. Please use '--no-use-HDF5Merger' to disable the usage of the HDF5Merger component.\n",
      "2025-01-03 13:50:25,115 \u001b[1;31mERROR\u001b[0m [ctlearn.PredictCTLearnModel] (tool.run): Use --help for more info\n",
      "2025-01-03 13:50:25,122 \u001b[1;32mINFO\u001b[0m [ctlearn.PredictCTLearnModel] (tool.write_provenance): Output: \n",
      "2025-01-03 13:50:25,122 \u001b[1;34mDEBUG\u001b[0m [ctlearn.PredictCTLearnModel] (tool.write_provenance): PROVENANCE: 'Details about provenance is found in /home/blacave/CTLearn/Software/CTLearn-Manager/notebooks/PredictCTLearnModel.provenance.log'\n",
      "2025-01-03 13:50:25,123 \u001b[1;34mDEBUG\u001b[0m [ctlearn.PredictCTLearnModel] (application.exit): Exiting application: PredictCTLearnModel\n"
     ]
    },
    {
     "name": "stdout",
     "output_type": "stream",
     "text": [
      "ctlearn-predict-model --input_url /home/blacave/CTLearn/Data/DL1/SST1M/MC/Gamma_point/20deg/testing/gamma_point_50_300E3GeV_20_20deg_batch2.dl1.h5                     --type_model=/home/blacave/CTLearn/Data/CTLearn_Models_SST1M/type_stereo_20deg_v1/ctlearn_model.cpk                     --energy_model=/home/blacave/CTLearn/Data/CTLearn_Models_SST1M/energy_stereo_20deg_v0/ctlearn_model.cpk                     --direction_model=/home/blacave/CTLearn/Data/CTLearn_Models_SST1M/direction_stereo_20deg_v0/ctlearn_model.cpk                     --no-dl1-images --no-true-images --output /home/blacave/CTLearn/Data/DL2/Testing//gamma_point_50_300E3GeV_20_20deg_batch2.dl2.h5                     --DLImageReader.mode=stereo --PredictCTLearnModel.stack_telescope_images=True --DLImageReader.min_telescopes=2                     --PredictCTLearnModel.overwrite_tables=True -v --DLImageReader.channels=[ --DLImageReader.channels=' --DLImageReader.channels=c --DLImageReader.channels=l --DLImageReader.channels=e --DLImageReader.channels=a --DLImageReader.channels=n --DLImageReader.channels=e --DLImageReader.channels=d --DLImageReader.channels=_ --DLImageReader.channels=i --DLImageReader.channels=m --DLImageReader.channels=a --DLImageReader.channels=g --DLImageReader.channels=e --DLImageReader.channels=' --DLImageReader.channels=, --DLImageReader.channels=  --DLImageReader.channels=' --DLImageReader.channels=c --DLImageReader.channels=l --DLImageReader.channels=e --DLImageReader.channels=a --DLImageReader.channels=n --DLImageReader.channels=e --DLImageReader.channels=d --DLImageReader.channels=_ --DLImageReader.channels=r --DLImageReader.channels=e --DLImageReader.channels=l --DLImageReader.channels=a --DLImageReader.channels=t --DLImageReader.channels=i --DLImageReader.channels=v --DLImageReader.channels=e --DLImageReader.channels=_ --DLImageReader.channels=p --DLImageReader.channels=e --DLImageReader.channels=a --DLImageReader.channels=k --DLImageReader.channels=_ --DLImageReader.channels=t --DLImageReader.channels=i --DLImageReader.channels=m --DLImageReader.channels=e --DLImageReader.channels=' --DLImageReader.channels=] \n"
     ]
    },
    {
     "name": "stderr",
     "output_type": "stream",
     "text": [
      "2025-01-03 13:50:26.313440: E tensorflow/compiler/xla/stream_executor/cuda/cuda_dnn.cc:9342] Unable to register cuDNN factory: Attempting to register factory for plugin cuDNN when one has already been registered\n",
      "2025-01-03 13:50:26.313508: E tensorflow/compiler/xla/stream_executor/cuda/cuda_fft.cc:609] Unable to register cuFFT factory: Attempting to register factory for plugin cuFFT when one has already been registered\n",
      "2025-01-03 13:50:26.313538: E tensorflow/compiler/xla/stream_executor/cuda/cuda_blas.cc:1518] Unable to register cuBLAS factory: Attempting to register factory for plugin cuBLAS when one has already been registered\n",
      "2025-01-03 13:50:26.321194: I tensorflow/core/platform/cpu_feature_guard.cc:182] This TensorFlow binary is optimized to use available CPU instructions in performance-critical operations.\n",
      "To enable the following instructions: AVX2 FMA, in other operations, rebuild TensorFlow with the appropriate compiler flags.\n",
      "2025-01-03 13:50:30,358 \u001b[1;32mINFO\u001b[0m [ctlearn.PredictCTLearnModel] (tool.initialize): Loading config from '[]'\n",
      "2025-01-03 13:50:30,359 \u001b[1;32mINFO\u001b[0m [ctlearn.PredictCTLearnModel] (tool.initialize): ctapipe version 0.23.0\n",
      "2025-01-03 13:50:30,359 \u001b[1;31mERROR\u001b[0m [ctlearn.PredictCTLearnModel] (tool.run): The output file '/home/blacave/CTLearn/Data/DL2/Testing/gamma_point_50_300E3GeV_20_20deg_batch2.dl2.h5' already exists. Please use '--no-use-HDF5Merger' to disable the usage of the HDF5Merger component.\n",
      "2025-01-03 13:50:30,360 \u001b[1;31mERROR\u001b[0m [ctlearn.PredictCTLearnModel] (tool.run): Use --help for more info\n",
      "2025-01-03 13:50:30,366 \u001b[1;32mINFO\u001b[0m [ctlearn.PredictCTLearnModel] (tool.write_provenance): Output: \n",
      "2025-01-03 13:50:30,366 \u001b[1;34mDEBUG\u001b[0m [ctlearn.PredictCTLearnModel] (tool.write_provenance): PROVENANCE: 'Details about provenance is found in /home/blacave/CTLearn/Software/CTLearn-Manager/notebooks/PredictCTLearnModel.provenance.log'\n",
      "2025-01-03 13:50:30,368 \u001b[1;34mDEBUG\u001b[0m [ctlearn.PredictCTLearnModel] (application.exit): Exiting application: PredictCTLearnModel\n"
     ]
    },
    {
     "name": "stdout",
     "output_type": "stream",
     "text": [
      "ctlearn-predict-model --input_url /home/blacave/CTLearn/Data/DL1/SST1M/MC/Proton_diffuse/20deg/merged/testing/proton_400_500E3GeV_20_20deg_batch5.dl1.h5                     --type_model=/home/blacave/CTLearn/Data/CTLearn_Models_SST1M/type_stereo_20deg_v1/ctlearn_model.cpk                     --energy_model=/home/blacave/CTLearn/Data/CTLearn_Models_SST1M/energy_stereo_20deg_v0/ctlearn_model.cpk                     --direction_model=/home/blacave/CTLearn/Data/CTLearn_Models_SST1M/direction_stereo_20deg_v0/ctlearn_model.cpk                     --no-dl1-images --no-true-images --output /home/blacave/CTLearn/Data/DL2/Testing//proton_400_500E3GeV_20_20deg_batch5.dl2.h5                     --DLImageReader.mode=stereo --PredictCTLearnModel.stack_telescope_images=True --DLImageReader.min_telescopes=2                     --PredictCTLearnModel.overwrite_tables=True -v --DLImageReader.channels=[ --DLImageReader.channels=' --DLImageReader.channels=c --DLImageReader.channels=l --DLImageReader.channels=e --DLImageReader.channels=a --DLImageReader.channels=n --DLImageReader.channels=e --DLImageReader.channels=d --DLImageReader.channels=_ --DLImageReader.channels=i --DLImageReader.channels=m --DLImageReader.channels=a --DLImageReader.channels=g --DLImageReader.channels=e --DLImageReader.channels=' --DLImageReader.channels=, --DLImageReader.channels=  --DLImageReader.channels=' --DLImageReader.channels=c --DLImageReader.channels=l --DLImageReader.channels=e --DLImageReader.channels=a --DLImageReader.channels=n --DLImageReader.channels=e --DLImageReader.channels=d --DLImageReader.channels=_ --DLImageReader.channels=r --DLImageReader.channels=e --DLImageReader.channels=l --DLImageReader.channels=a --DLImageReader.channels=t --DLImageReader.channels=i --DLImageReader.channels=v --DLImageReader.channels=e --DLImageReader.channels=_ --DLImageReader.channels=p --DLImageReader.channels=e --DLImageReader.channels=a --DLImageReader.channels=k --DLImageReader.channels=_ --DLImageReader.channels=t --DLImageReader.channels=i --DLImageReader.channels=m --DLImageReader.channels=e --DLImageReader.channels=' --DLImageReader.channels=] \n"
     ]
    },
    {
     "name": "stderr",
     "output_type": "stream",
     "text": [
      "2025-01-03 13:50:31.554445: E tensorflow/compiler/xla/stream_executor/cuda/cuda_dnn.cc:9342] Unable to register cuDNN factory: Attempting to register factory for plugin cuDNN when one has already been registered\n",
      "2025-01-03 13:50:31.554534: E tensorflow/compiler/xla/stream_executor/cuda/cuda_fft.cc:609] Unable to register cuFFT factory: Attempting to register factory for plugin cuFFT when one has already been registered\n",
      "2025-01-03 13:50:31.554572: E tensorflow/compiler/xla/stream_executor/cuda/cuda_blas.cc:1518] Unable to register cuBLAS factory: Attempting to register factory for plugin cuBLAS when one has already been registered\n",
      "2025-01-03 13:50:31.563597: I tensorflow/core/platform/cpu_feature_guard.cc:182] This TensorFlow binary is optimized to use available CPU instructions in performance-critical operations.\n",
      "To enable the following instructions: AVX2 FMA, in other operations, rebuild TensorFlow with the appropriate compiler flags.\n",
      "2025-01-03 13:50:36,178 \u001b[1;32mINFO\u001b[0m [ctlearn.PredictCTLearnModel] (tool.initialize): Loading config from '[]'\n",
      "2025-01-03 13:50:36,180 \u001b[1;32mINFO\u001b[0m [ctlearn.PredictCTLearnModel] (tool.initialize): ctapipe version 0.23.0\n",
      "2025-01-03 13:50:36,180 \u001b[1;31mERROR\u001b[0m [ctlearn.PredictCTLearnModel] (tool.run): The output file '/home/blacave/CTLearn/Data/DL2/Testing/proton_400_500E3GeV_20_20deg_batch5.dl2.h5' already exists. Please use '--no-use-HDF5Merger' to disable the usage of the HDF5Merger component.\n",
      "2025-01-03 13:50:36,180 \u001b[1;31mERROR\u001b[0m [ctlearn.PredictCTLearnModel] (tool.run): Use --help for more info\n",
      "2025-01-03 13:50:36,187 \u001b[1;32mINFO\u001b[0m [ctlearn.PredictCTLearnModel] (tool.write_provenance): Output: \n",
      "2025-01-03 13:50:36,187 \u001b[1;34mDEBUG\u001b[0m [ctlearn.PredictCTLearnModel] (tool.write_provenance): PROVENANCE: 'Details about provenance is found in /home/blacave/CTLearn/Software/CTLearn-Manager/notebooks/PredictCTLearnModel.provenance.log'\n",
      "2025-01-03 13:50:36,189 \u001b[1;34mDEBUG\u001b[0m [ctlearn.PredictCTLearnModel] (application.exit): Exiting application: PredictCTLearnModel\n"
     ]
    },
    {
     "name": "stdout",
     "output_type": "stream",
     "text": [
      "ctlearn-predict-model --input_url /home/blacave/CTLearn/Data/DL1/SST1M/MC/Proton_diffuse/20deg/merged/testing/proton_400_500E3GeV_20_20deg_batch6.dl1.h5                     --type_model=/home/blacave/CTLearn/Data/CTLearn_Models_SST1M/type_stereo_20deg_v1/ctlearn_model.cpk                     --energy_model=/home/blacave/CTLearn/Data/CTLearn_Models_SST1M/energy_stereo_20deg_v0/ctlearn_model.cpk                     --direction_model=/home/blacave/CTLearn/Data/CTLearn_Models_SST1M/direction_stereo_20deg_v0/ctlearn_model.cpk                     --no-dl1-images --no-true-images --output /home/blacave/CTLearn/Data/DL2/Testing//proton_400_500E3GeV_20_20deg_batch6.dl2.h5                     --DLImageReader.mode=stereo --PredictCTLearnModel.stack_telescope_images=True --DLImageReader.min_telescopes=2                     --PredictCTLearnModel.overwrite_tables=True -v --DLImageReader.channels=[ --DLImageReader.channels=' --DLImageReader.channels=c --DLImageReader.channels=l --DLImageReader.channels=e --DLImageReader.channels=a --DLImageReader.channels=n --DLImageReader.channels=e --DLImageReader.channels=d --DLImageReader.channels=_ --DLImageReader.channels=i --DLImageReader.channels=m --DLImageReader.channels=a --DLImageReader.channels=g --DLImageReader.channels=e --DLImageReader.channels=' --DLImageReader.channels=, --DLImageReader.channels=  --DLImageReader.channels=' --DLImageReader.channels=c --DLImageReader.channels=l --DLImageReader.channels=e --DLImageReader.channels=a --DLImageReader.channels=n --DLImageReader.channels=e --DLImageReader.channels=d --DLImageReader.channels=_ --DLImageReader.channels=r --DLImageReader.channels=e --DLImageReader.channels=l --DLImageReader.channels=a --DLImageReader.channels=t --DLImageReader.channels=i --DLImageReader.channels=v --DLImageReader.channels=e --DLImageReader.channels=_ --DLImageReader.channels=p --DLImageReader.channels=e --DLImageReader.channels=a --DLImageReader.channels=k --DLImageReader.channels=_ --DLImageReader.channels=t --DLImageReader.channels=i --DLImageReader.channels=m --DLImageReader.channels=e --DLImageReader.channels=' --DLImageReader.channels=] \n"
     ]
    },
    {
     "name": "stderr",
     "output_type": "stream",
     "text": [
      "2025-01-03 13:50:37.400353: E tensorflow/compiler/xla/stream_executor/cuda/cuda_dnn.cc:9342] Unable to register cuDNN factory: Attempting to register factory for plugin cuDNN when one has already been registered\n",
      "2025-01-03 13:50:37.400458: E tensorflow/compiler/xla/stream_executor/cuda/cuda_fft.cc:609] Unable to register cuFFT factory: Attempting to register factory for plugin cuFFT when one has already been registered\n",
      "2025-01-03 13:50:37.400496: E tensorflow/compiler/xla/stream_executor/cuda/cuda_blas.cc:1518] Unable to register cuBLAS factory: Attempting to register factory for plugin cuBLAS when one has already been registered\n",
      "2025-01-03 13:50:37.408873: I tensorflow/core/platform/cpu_feature_guard.cc:182] This TensorFlow binary is optimized to use available CPU instructions in performance-critical operations.\n",
      "To enable the following instructions: AVX2 FMA, in other operations, rebuild TensorFlow with the appropriate compiler flags.\n",
      "2025-01-03 13:50:41,438 \u001b[1;32mINFO\u001b[0m [ctlearn.PredictCTLearnModel] (tool.initialize): Loading config from '[]'\n",
      "2025-01-03 13:50:41,439 \u001b[1;32mINFO\u001b[0m [ctlearn.PredictCTLearnModel] (tool.initialize): ctapipe version 0.23.0\n",
      "2025-01-03 13:50:41,439 \u001b[1;31mERROR\u001b[0m [ctlearn.PredictCTLearnModel] (tool.run): The output file '/home/blacave/CTLearn/Data/DL2/Testing/proton_400_500E3GeV_20_20deg_batch6.dl2.h5' already exists. Please use '--no-use-HDF5Merger' to disable the usage of the HDF5Merger component.\n",
      "2025-01-03 13:50:41,439 \u001b[1;31mERROR\u001b[0m [ctlearn.PredictCTLearnModel] (tool.run): Use --help for more info\n",
      "2025-01-03 13:50:41,445 \u001b[1;32mINFO\u001b[0m [ctlearn.PredictCTLearnModel] (tool.write_provenance): Output: \n",
      "2025-01-03 13:50:41,445 \u001b[1;34mDEBUG\u001b[0m [ctlearn.PredictCTLearnModel] (tool.write_provenance): PROVENANCE: 'Details about provenance is found in /home/blacave/CTLearn/Software/CTLearn-Manager/notebooks/PredictCTLearnModel.provenance.log'\n",
      "2025-01-03 13:50:41,447 \u001b[1;34mDEBUG\u001b[0m [ctlearn.PredictCTLearnModel] (application.exit): Exiting application: PredictCTLearnModel\n"
     ]
    },
    {
     "name": "stdout",
     "output_type": "stream",
     "text": [
      "ctlearn-predict-model --input_url /home/blacave/CTLearn/Data/DL1/SST1M/MC/Proton_diffuse/20deg/merged/testing/proton_400_500E3GeV_20_20deg_batch7.dl1.h5                     --type_model=/home/blacave/CTLearn/Data/CTLearn_Models_SST1M/type_stereo_20deg_v1/ctlearn_model.cpk                     --energy_model=/home/blacave/CTLearn/Data/CTLearn_Models_SST1M/energy_stereo_20deg_v0/ctlearn_model.cpk                     --direction_model=/home/blacave/CTLearn/Data/CTLearn_Models_SST1M/direction_stereo_20deg_v0/ctlearn_model.cpk                     --no-dl1-images --no-true-images --output /home/blacave/CTLearn/Data/DL2/Testing//proton_400_500E3GeV_20_20deg_batch7.dl2.h5                     --DLImageReader.mode=stereo --PredictCTLearnModel.stack_telescope_images=True --DLImageReader.min_telescopes=2                     --PredictCTLearnModel.overwrite_tables=True -v --DLImageReader.channels=[ --DLImageReader.channels=' --DLImageReader.channels=c --DLImageReader.channels=l --DLImageReader.channels=e --DLImageReader.channels=a --DLImageReader.channels=n --DLImageReader.channels=e --DLImageReader.channels=d --DLImageReader.channels=_ --DLImageReader.channels=i --DLImageReader.channels=m --DLImageReader.channels=a --DLImageReader.channels=g --DLImageReader.channels=e --DLImageReader.channels=' --DLImageReader.channels=, --DLImageReader.channels=  --DLImageReader.channels=' --DLImageReader.channels=c --DLImageReader.channels=l --DLImageReader.channels=e --DLImageReader.channels=a --DLImageReader.channels=n --DLImageReader.channels=e --DLImageReader.channels=d --DLImageReader.channels=_ --DLImageReader.channels=r --DLImageReader.channels=e --DLImageReader.channels=l --DLImageReader.channels=a --DLImageReader.channels=t --DLImageReader.channels=i --DLImageReader.channels=v --DLImageReader.channels=e --DLImageReader.channels=_ --DLImageReader.channels=p --DLImageReader.channels=e --DLImageReader.channels=a --DLImageReader.channels=k --DLImageReader.channels=_ --DLImageReader.channels=t --DLImageReader.channels=i --DLImageReader.channels=m --DLImageReader.channels=e --DLImageReader.channels=' --DLImageReader.channels=] \n"
     ]
    },
    {
     "name": "stderr",
     "output_type": "stream",
     "text": [
      "2025-01-03 13:50:42.636073: E tensorflow/compiler/xla/stream_executor/cuda/cuda_dnn.cc:9342] Unable to register cuDNN factory: Attempting to register factory for plugin cuDNN when one has already been registered\n",
      "2025-01-03 13:50:42.636171: E tensorflow/compiler/xla/stream_executor/cuda/cuda_fft.cc:609] Unable to register cuFFT factory: Attempting to register factory for plugin cuFFT when one has already been registered\n",
      "2025-01-03 13:50:42.636217: E tensorflow/compiler/xla/stream_executor/cuda/cuda_blas.cc:1518] Unable to register cuBLAS factory: Attempting to register factory for plugin cuBLAS when one has already been registered\n",
      "2025-01-03 13:50:42.644332: I tensorflow/core/platform/cpu_feature_guard.cc:182] This TensorFlow binary is optimized to use available CPU instructions in performance-critical operations.\n",
      "To enable the following instructions: AVX2 FMA, in other operations, rebuild TensorFlow with the appropriate compiler flags.\n",
      "2025-01-03 13:50:47,439 \u001b[1;32mINFO\u001b[0m [ctlearn.PredictCTLearnModel] (tool.initialize): Loading config from '[]'\n",
      "2025-01-03 13:50:47,440 \u001b[1;32mINFO\u001b[0m [ctlearn.PredictCTLearnModel] (tool.initialize): ctapipe version 0.23.0\n",
      "2025-01-03 13:50:47,440 \u001b[1;31mERROR\u001b[0m [ctlearn.PredictCTLearnModel] (tool.run): The output file '/home/blacave/CTLearn/Data/DL2/Testing/proton_400_500E3GeV_20_20deg_batch7.dl2.h5' already exists. Please use '--no-use-HDF5Merger' to disable the usage of the HDF5Merger component.\n",
      "2025-01-03 13:50:47,441 \u001b[1;31mERROR\u001b[0m [ctlearn.PredictCTLearnModel] (tool.run): Use --help for more info\n",
      "2025-01-03 13:50:47,447 \u001b[1;32mINFO\u001b[0m [ctlearn.PredictCTLearnModel] (tool.write_provenance): Output: \n",
      "2025-01-03 13:50:47,448 \u001b[1;34mDEBUG\u001b[0m [ctlearn.PredictCTLearnModel] (tool.write_provenance): PROVENANCE: 'Details about provenance is found in /home/blacave/CTLearn/Software/CTLearn-Manager/notebooks/PredictCTLearnModel.provenance.log'\n",
      "2025-01-03 13:50:47,449 \u001b[1;34mDEBUG\u001b[0m [ctlearn.PredictCTLearnModel] (application.exit): Exiting application: PredictCTLearnModel\n"
     ]
    },
    {
     "name": "stdout",
     "output_type": "stream",
     "text": [
      "ctlearn-predict-model --input_url /home/blacave/CTLearn/Data/DL1/SST1M/MC/Proton_diffuse/20deg/merged/testing/proton_400_500E3GeV_20_20deg_batch8.dl1.h5                     --type_model=/home/blacave/CTLearn/Data/CTLearn_Models_SST1M/type_stereo_20deg_v1/ctlearn_model.cpk                     --energy_model=/home/blacave/CTLearn/Data/CTLearn_Models_SST1M/energy_stereo_20deg_v0/ctlearn_model.cpk                     --direction_model=/home/blacave/CTLearn/Data/CTLearn_Models_SST1M/direction_stereo_20deg_v0/ctlearn_model.cpk                     --no-dl1-images --no-true-images --output /home/blacave/CTLearn/Data/DL2/Testing//proton_400_500E3GeV_20_20deg_batch8.dl2.h5                     --DLImageReader.mode=stereo --PredictCTLearnModel.stack_telescope_images=True --DLImageReader.min_telescopes=2                     --PredictCTLearnModel.overwrite_tables=True -v --DLImageReader.channels=[ --DLImageReader.channels=' --DLImageReader.channels=c --DLImageReader.channels=l --DLImageReader.channels=e --DLImageReader.channels=a --DLImageReader.channels=n --DLImageReader.channels=e --DLImageReader.channels=d --DLImageReader.channels=_ --DLImageReader.channels=i --DLImageReader.channels=m --DLImageReader.channels=a --DLImageReader.channels=g --DLImageReader.channels=e --DLImageReader.channels=' --DLImageReader.channels=, --DLImageReader.channels=  --DLImageReader.channels=' --DLImageReader.channels=c --DLImageReader.channels=l --DLImageReader.channels=e --DLImageReader.channels=a --DLImageReader.channels=n --DLImageReader.channels=e --DLImageReader.channels=d --DLImageReader.channels=_ --DLImageReader.channels=r --DLImageReader.channels=e --DLImageReader.channels=l --DLImageReader.channels=a --DLImageReader.channels=t --DLImageReader.channels=i --DLImageReader.channels=v --DLImageReader.channels=e --DLImageReader.channels=_ --DLImageReader.channels=p --DLImageReader.channels=e --DLImageReader.channels=a --DLImageReader.channels=k --DLImageReader.channels=_ --DLImageReader.channels=t --DLImageReader.channels=i --DLImageReader.channels=m --DLImageReader.channels=e --DLImageReader.channels=' --DLImageReader.channels=] \n"
     ]
    },
    {
     "name": "stderr",
     "output_type": "stream",
     "text": [
      "2025-01-03 13:50:48.611654: E tensorflow/compiler/xla/stream_executor/cuda/cuda_dnn.cc:9342] Unable to register cuDNN factory: Attempting to register factory for plugin cuDNN when one has already been registered\n",
      "2025-01-03 13:50:48.611717: E tensorflow/compiler/xla/stream_executor/cuda/cuda_fft.cc:609] Unable to register cuFFT factory: Attempting to register factory for plugin cuFFT when one has already been registered\n",
      "2025-01-03 13:50:48.611752: E tensorflow/compiler/xla/stream_executor/cuda/cuda_blas.cc:1518] Unable to register cuBLAS factory: Attempting to register factory for plugin cuBLAS when one has already been registered\n",
      "2025-01-03 13:50:48.619139: I tensorflow/core/platform/cpu_feature_guard.cc:182] This TensorFlow binary is optimized to use available CPU instructions in performance-critical operations.\n",
      "To enable the following instructions: AVX2 FMA, in other operations, rebuild TensorFlow with the appropriate compiler flags.\n",
      "2025-01-03 13:50:52,866 \u001b[1;32mINFO\u001b[0m [ctlearn.PredictCTLearnModel] (tool.initialize): Loading config from '[]'\n",
      "2025-01-03 13:50:52,867 \u001b[1;32mINFO\u001b[0m [ctlearn.PredictCTLearnModel] (tool.initialize): ctapipe version 0.23.0\n",
      "2025-01-03 13:50:52,867 \u001b[1;31mERROR\u001b[0m [ctlearn.PredictCTLearnModel] (tool.run): The output file '/home/blacave/CTLearn/Data/DL2/Testing/proton_400_500E3GeV_20_20deg_batch8.dl2.h5' already exists. Please use '--no-use-HDF5Merger' to disable the usage of the HDF5Merger component.\n",
      "2025-01-03 13:50:52,867 \u001b[1;31mERROR\u001b[0m [ctlearn.PredictCTLearnModel] (tool.run): Use --help for more info\n",
      "2025-01-03 13:50:52,874 \u001b[1;32mINFO\u001b[0m [ctlearn.PredictCTLearnModel] (tool.write_provenance): Output: \n",
      "2025-01-03 13:50:52,874 \u001b[1;34mDEBUG\u001b[0m [ctlearn.PredictCTLearnModel] (tool.write_provenance): PROVENANCE: 'Details about provenance is found in /home/blacave/CTLearn/Software/CTLearn-Manager/notebooks/PredictCTLearnModel.provenance.log'\n",
      "2025-01-03 13:50:52,875 \u001b[1;34mDEBUG\u001b[0m [ctlearn.PredictCTLearnModel] (application.exit): Exiting application: PredictCTLearnModel\n"
     ]
    },
    {
     "name": "stdout",
     "output_type": "stream",
     "text": [
      "ctlearn-predict-model --input_url /home/blacave/CTLearn/Data/DL1/SST1M/MC/Proton_diffuse/20deg/merged/testing/proton_diffuse_20deg_11000_11999.dl1.h5                     --type_model=/home/blacave/CTLearn/Data/CTLearn_Models_SST1M/type_stereo_20deg_v1/ctlearn_model.cpk                     --energy_model=/home/blacave/CTLearn/Data/CTLearn_Models_SST1M/energy_stereo_20deg_v0/ctlearn_model.cpk                     --direction_model=/home/blacave/CTLearn/Data/CTLearn_Models_SST1M/direction_stereo_20deg_v0/ctlearn_model.cpk                     --no-dl1-images --no-true-images --output /home/blacave/CTLearn/Data/DL2/Testing//proton_diffuse_20deg_11000_11999.dl2.h5                     --DLImageReader.mode=stereo --PredictCTLearnModel.stack_telescope_images=True --DLImageReader.min_telescopes=2                     --PredictCTLearnModel.overwrite_tables=True -v --DLImageReader.channels=[ --DLImageReader.channels=' --DLImageReader.channels=c --DLImageReader.channels=l --DLImageReader.channels=e --DLImageReader.channels=a --DLImageReader.channels=n --DLImageReader.channels=e --DLImageReader.channels=d --DLImageReader.channels=_ --DLImageReader.channels=i --DLImageReader.channels=m --DLImageReader.channels=a --DLImageReader.channels=g --DLImageReader.channels=e --DLImageReader.channels=' --DLImageReader.channels=, --DLImageReader.channels=  --DLImageReader.channels=' --DLImageReader.channels=c --DLImageReader.channels=l --DLImageReader.channels=e --DLImageReader.channels=a --DLImageReader.channels=n --DLImageReader.channels=e --DLImageReader.channels=d --DLImageReader.channels=_ --DLImageReader.channels=r --DLImageReader.channels=e --DLImageReader.channels=l --DLImageReader.channels=a --DLImageReader.channels=t --DLImageReader.channels=i --DLImageReader.channels=v --DLImageReader.channels=e --DLImageReader.channels=_ --DLImageReader.channels=p --DLImageReader.channels=e --DLImageReader.channels=a --DLImageReader.channels=k --DLImageReader.channels=_ --DLImageReader.channels=t --DLImageReader.channels=i --DLImageReader.channels=m --DLImageReader.channels=e --DLImageReader.channels=' --DLImageReader.channels=] \n"
     ]
    },
    {
     "name": "stderr",
     "output_type": "stream",
     "text": [
      "2025-01-03 13:50:54.035045: E tensorflow/compiler/xla/stream_executor/cuda/cuda_dnn.cc:9342] Unable to register cuDNN factory: Attempting to register factory for plugin cuDNN when one has already been registered\n",
      "2025-01-03 13:50:54.035133: E tensorflow/compiler/xla/stream_executor/cuda/cuda_fft.cc:609] Unable to register cuFFT factory: Attempting to register factory for plugin cuFFT when one has already been registered\n",
      "2025-01-03 13:50:54.035176: E tensorflow/compiler/xla/stream_executor/cuda/cuda_blas.cc:1518] Unable to register cuBLAS factory: Attempting to register factory for plugin cuBLAS when one has already been registered\n",
      "2025-01-03 13:50:54.042731: I tensorflow/core/platform/cpu_feature_guard.cc:182] This TensorFlow binary is optimized to use available CPU instructions in performance-critical operations.\n",
      "To enable the following instructions: AVX2 FMA, in other operations, rebuild TensorFlow with the appropriate compiler flags.\n",
      "2025-01-03 13:50:58,051 \u001b[1;32mINFO\u001b[0m [ctlearn.PredictCTLearnModel] (tool.initialize): Loading config from '[]'\n",
      "2025-01-03 13:50:58,052 \u001b[1;32mINFO\u001b[0m [ctlearn.PredictCTLearnModel] (tool.initialize): ctapipe version 0.23.0\n",
      "2025-01-03 13:50:58,053 \u001b[1;31mERROR\u001b[0m [ctlearn.PredictCTLearnModel] (tool.run): The output file '/home/blacave/CTLearn/Data/DL2/Testing/proton_diffuse_20deg_11000_11999.dl2.h5' already exists. Please use '--no-use-HDF5Merger' to disable the usage of the HDF5Merger component.\n",
      "2025-01-03 13:50:58,053 \u001b[1;31mERROR\u001b[0m [ctlearn.PredictCTLearnModel] (tool.run): Use --help for more info\n",
      "2025-01-03 13:50:58,060 \u001b[1;32mINFO\u001b[0m [ctlearn.PredictCTLearnModel] (tool.write_provenance): Output: \n",
      "2025-01-03 13:50:58,060 \u001b[1;34mDEBUG\u001b[0m [ctlearn.PredictCTLearnModel] (tool.write_provenance): PROVENANCE: 'Details about provenance is found in /home/blacave/CTLearn/Software/CTLearn-Manager/notebooks/PredictCTLearnModel.provenance.log'\n",
      "2025-01-03 13:50:58,062 \u001b[1;34mDEBUG\u001b[0m [ctlearn.PredictCTLearnModel] (application.exit): Exiting application: PredictCTLearnModel\n"
     ]
    },
    {
     "name": "stdout",
     "output_type": "stream",
     "text": [
      "ctlearn-predict-model --input_url /home/blacave/CTLearn/Data/DL1/SST1M/MC/Proton_diffuse/20deg/merged/testing/proton_diffuse_20deg_12000_12999.dl1.h5                     --type_model=/home/blacave/CTLearn/Data/CTLearn_Models_SST1M/type_stereo_20deg_v1/ctlearn_model.cpk                     --energy_model=/home/blacave/CTLearn/Data/CTLearn_Models_SST1M/energy_stereo_20deg_v0/ctlearn_model.cpk                     --direction_model=/home/blacave/CTLearn/Data/CTLearn_Models_SST1M/direction_stereo_20deg_v0/ctlearn_model.cpk                     --no-dl1-images --no-true-images --output /home/blacave/CTLearn/Data/DL2/Testing//proton_diffuse_20deg_12000_12999.dl2.h5                     --DLImageReader.mode=stereo --PredictCTLearnModel.stack_telescope_images=True --DLImageReader.min_telescopes=2                     --PredictCTLearnModel.overwrite_tables=True -v --DLImageReader.channels=[ --DLImageReader.channels=' --DLImageReader.channels=c --DLImageReader.channels=l --DLImageReader.channels=e --DLImageReader.channels=a --DLImageReader.channels=n --DLImageReader.channels=e --DLImageReader.channels=d --DLImageReader.channels=_ --DLImageReader.channels=i --DLImageReader.channels=m --DLImageReader.channels=a --DLImageReader.channels=g --DLImageReader.channels=e --DLImageReader.channels=' --DLImageReader.channels=, --DLImageReader.channels=  --DLImageReader.channels=' --DLImageReader.channels=c --DLImageReader.channels=l --DLImageReader.channels=e --DLImageReader.channels=a --DLImageReader.channels=n --DLImageReader.channels=e --DLImageReader.channels=d --DLImageReader.channels=_ --DLImageReader.channels=r --DLImageReader.channels=e --DLImageReader.channels=l --DLImageReader.channels=a --DLImageReader.channels=t --DLImageReader.channels=i --DLImageReader.channels=v --DLImageReader.channels=e --DLImageReader.channels=_ --DLImageReader.channels=p --DLImageReader.channels=e --DLImageReader.channels=a --DLImageReader.channels=k --DLImageReader.channels=_ --DLImageReader.channels=t --DLImageReader.channels=i --DLImageReader.channels=m --DLImageReader.channels=e --DLImageReader.channels=' --DLImageReader.channels=] \n"
     ]
    },
    {
     "name": "stderr",
     "output_type": "stream",
     "text": [
      "2025-01-03 13:50:59.183861: E tensorflow/compiler/xla/stream_executor/cuda/cuda_dnn.cc:9342] Unable to register cuDNN factory: Attempting to register factory for plugin cuDNN when one has already been registered\n",
      "2025-01-03 13:50:59.183931: E tensorflow/compiler/xla/stream_executor/cuda/cuda_fft.cc:609] Unable to register cuFFT factory: Attempting to register factory for plugin cuFFT when one has already been registered\n",
      "2025-01-03 13:50:59.183963: E tensorflow/compiler/xla/stream_executor/cuda/cuda_blas.cc:1518] Unable to register cuBLAS factory: Attempting to register factory for plugin cuBLAS when one has already been registered\n",
      "2025-01-03 13:50:59.190864: I tensorflow/core/platform/cpu_feature_guard.cc:182] This TensorFlow binary is optimized to use available CPU instructions in performance-critical operations.\n",
      "To enable the following instructions: AVX2 FMA, in other operations, rebuild TensorFlow with the appropriate compiler flags.\n",
      "2025-01-03 13:51:03,156 \u001b[1;32mINFO\u001b[0m [ctlearn.PredictCTLearnModel] (tool.initialize): Loading config from '[]'\n",
      "2025-01-03 13:51:03,157 \u001b[1;32mINFO\u001b[0m [ctlearn.PredictCTLearnModel] (tool.initialize): ctapipe version 0.23.0\n",
      "2025-01-03 13:51:03,158 \u001b[1;31mERROR\u001b[0m [ctlearn.PredictCTLearnModel] (tool.run): The output file '/home/blacave/CTLearn/Data/DL2/Testing/proton_diffuse_20deg_12000_12999.dl2.h5' already exists. Please use '--no-use-HDF5Merger' to disable the usage of the HDF5Merger component.\n",
      "2025-01-03 13:51:03,158 \u001b[1;31mERROR\u001b[0m [ctlearn.PredictCTLearnModel] (tool.run): Use --help for more info\n",
      "2025-01-03 13:51:03,164 \u001b[1;32mINFO\u001b[0m [ctlearn.PredictCTLearnModel] (tool.write_provenance): Output: \n",
      "2025-01-03 13:51:03,165 \u001b[1;34mDEBUG\u001b[0m [ctlearn.PredictCTLearnModel] (tool.write_provenance): PROVENANCE: 'Details about provenance is found in /home/blacave/CTLearn/Software/CTLearn-Manager/notebooks/PredictCTLearnModel.provenance.log'\n",
      "2025-01-03 13:51:03,166 \u001b[1;34mDEBUG\u001b[0m [ctlearn.PredictCTLearnModel] (application.exit): Exiting application: PredictCTLearnModel\n"
     ]
    }
   ],
   "source": [
    "Stereo_Tri_Model.launch_testing(20, 0, \n",
    "    [\"/home/blacave/CTLearn/Data/DL2/Testing/\"], \n",
    "    launch_particle_type='both', \n",
    "    )"
   ]
  }
 ],
 "metadata": {
  "kernelspec": {
   "display_name": "ctlearn-cluster",
   "language": "python",
   "name": "python3"
  },
  "language_info": {
   "codemirror_mode": {
    "name": "ipython",
    "version": 3
   },
   "file_extension": ".py",
   "mimetype": "text/x-python",
   "name": "python",
   "nbconvert_exporter": "python",
   "pygments_lexer": "ipython3",
   "version": "3.10.15"
  }
 },
 "nbformat": 4,
 "nbformat_minor": 2
}
