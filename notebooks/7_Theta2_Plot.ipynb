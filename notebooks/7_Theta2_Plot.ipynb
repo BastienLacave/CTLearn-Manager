{
 "cells": [
  {
   "cell_type": "code",
   "execution_count": 1,
   "metadata": {},
   "outputs": [],
   "source": [
    "from ctlearn_manager.tri_model import CTLearnTriModelManager\n",
    "from ctlearn_manager.io.io import load_model_from_index\n",
    "from ctlearn_manager.utils.DL2_processing import DL2DataProcessor\n",
    "from ctlearn_manager.utils.Combinator2000 import Combinator2000\n",
    "from ctlearn_manager.utils.utils import ClusterConfiguration\n",
    "import astropy.units as u"
   ]
  },
  {
   "cell_type": "code",
   "execution_count": null,
   "metadata": {},
   "outputs": [
    {
     "name": "stdout",
     "output_type": "stream",
     "text": [
      "🧠 Model name: LST1_energy_CRABdec_4\n",
      "🧠 Model name: LST1_direction_CRABdec_4\n",
      "🧠 Model name: LST1_type_CRABdec_4\n"
     ]
    }
   ],
   "source": [
    "MODEL_INDEX_FILE = \"/home/bastien.lacave/PhD/Analysis/CTLearnManager/ctlearn_models_index.h5\"\n",
    "i = 4\n",
    "cluster_config = ClusterConfiguration(python_env='ctlearn', partition='short', time='2:00:00', use_cluster=True)\n",
    "energy_model = load_model_from_index(f\"LST1_energy_CRABdec_{i}\", MODEL_INDEX_FILE)\n",
    "direction_model = load_model_from_index(f\"LST1_direction_CRABdec_{i}\", MODEL_INDEX_FILE)\n",
    "type_model = load_model_from_index(f\"LST1_type_CRABdec_{i}\", MODEL_INDEX_FILE)\n",
    "Stereo_Tri_Model = CTLearnTriModelManager(direction_model=direction_model, energy_model=energy_model, type_model=type_model, cluster_configuration=cluster_config)"
   ]
  },
  {
   "cell_type": "code",
   "execution_count": null,
   "metadata": {},
   "outputs": [
    {
     "name": "stdout",
     "output_type": "stream",
     "text": [
      "Preprocessing DL2 (~50min/run), only once\n",
      "🔧 Not using any cluster\n",
      "process_dl2_file /fefs/aswg/workspace/tjark.miener/DeepCrab_new/DL2/real/dl2_3232_camcoord_camframe.h5 /home/bastien.lacave/PhD/data/CTLearn/Tjark//dl2_3232_camcoord_camframe.h5_processor.pkl\n",
      "Loading /fefs/aswg/workspace/tjark.miener/DeepCrab_new/DL2/real/dl2_3232_camcoord_camframe.h5\n",
      "Computing time differences...\n",
      "Loaded 318000 events\n",
      "Saved processed DL2 data to /home/bastien.lacave/PhD/data/CTLearn/Tjark/dl2_3232_camcoord_camframe_dl2_processed.pkl\n",
      "Loaded 275187 events\n",
      "Computing sky positions...\n"
     ]
    },
    {
     "name": "stderr",
     "output_type": "stream",
     "text": [
      "Traceback (most recent call last):\n",
      "  File \"/home/bastien.lacave/miniforge3/envs/ctlearn/bin/process_dl2_file\", line 8, in <module>\n",
      "    sys.exit(process_dl2_file())\n",
      "  File \"/home/bastien.lacave/miniforge3/envs/ctlearn/lib/python3.10/site-packages/ctlearn_manager/cli/dl2_processing_slurm.py\", line 77, in process_dl2_file\n",
      "    transformed_reco = reco_temp.transform_to(processor.source_position)\n",
      "  File \"/home/bastien.lacave/miniforge3/envs/ctlearn/lib/python3.10/site-packages/astropy/coordinates/sky_coordinate.py\", line 692, in transform_to\n",
      "    new_coord = trans(self.frame, generic_frame)\n",
      "  File \"/home/bastien.lacave/miniforge3/envs/ctlearn/lib/python3.10/site-packages/astropy/coordinates/transformations.py\", line 1588, in __call__\n",
      "    curr_coord = t(curr_coord, curr_toframe)\n",
      "  File \"/home/bastien.lacave/miniforge3/envs/ctlearn/lib/python3.10/site-packages/astropy/coordinates/transformations.py\", line 1154, in __call__\n",
      "    return supcall(fromcoord, toframe)\n",
      "  File \"/home/bastien.lacave/miniforge3/envs/ctlearn/lib/python3.10/site-packages/astropy/coordinates/builtin_frames/icrs_observed_transforms.py\", line 88, in observed_to_icrs\n",
      "    astrom = erfa_astrom.get().apco(observed_coo)\n",
      "  File \"/home/bastien.lacave/miniforge3/envs/ctlearn/lib/python3.10/site-packages/astropy/coordinates/erfa_astrom.py\", line 57, in apco\n",
      "    earth_pv, earth_heliocentric = prepare_earth_position_vel(obstime)\n",
      "  File \"/home/bastien.lacave/miniforge3/envs/ctlearn/lib/python3.10/site-packages/astropy/coordinates/builtin_frames/utils.py\", line 364, in prepare_earth_position_vel\n",
      "    jd1, jd2 = get_jd12(time, \"tdb\")\n",
      "  File \"/home/bastien.lacave/miniforge3/envs/ctlearn/lib/python3.10/site-packages/astropy/coordinates/builtin_frames/utils.py\", line 115, in get_jd12\n",
      "    newtime = getattr(time, scale)\n",
      "  File \"/home/bastien.lacave/miniforge3/envs/ctlearn/lib/python3.10/site-packages/astropy/time/core.py\", line 1647, in __getattr__\n",
      "    tm._set_scale(attr)\n",
      "  File \"/home/bastien.lacave/miniforge3/envs/ctlearn/lib/python3.10/site-packages/astropy/time/core.py\", line 769, in _set_scale\n",
      "    args.append(get_dt(jd1, jd2))\n",
      "  File \"/home/bastien.lacave/miniforge3/envs/ctlearn/lib/python3.10/site-packages/astropy/time/core.py\", line 2489, in _get_delta_tdb_tt\n",
      "    self._delta_tdb_tt = erfa.dtdb(jd1, jd2, ut, 0.0, 0.0, 0.0)\n",
      "  File \"/home/bastien.lacave/miniforge3/envs/ctlearn/lib/python3.10/site-packages/erfa/core.py\", line 16571, in dtdb\n",
      "    c_retval = ufunc.dtdb(date1, date2, ut, elong, u, v)\n",
      "KeyboardInterrupt\n",
      "Loading processed data: 100%|██████████| 1/1 [00:00<00:00, 1318.13it/s]\n"
     ]
    },
    {
     "name": "stdout",
     "output_type": "stream",
     "text": [
      "Preprocessing DL2 (~50min/run), only once\n",
      "🔧 Not using any cluster\n",
      "process_dl2_file /fefs/aswg/workspace/tjark.miener/DeepCrab_new/DL2/real/dl2_3232_camcoord.h5 /home/bastien.lacave/PhD/data/CTLearn/Tjark//dl2_3232_camcoord.h5_processor.pkl\n"
     ]
    }
   ],
   "source": [
    "import glob\n",
    "dl2_files_tjark = glob.glob(\"/fefs/aswg/workspace/tjark.miener/DeepCrab_new/DL2/real/dl2_LST-1.Run0*.h5\")\n",
    "dl2_files_bastien = glob.glob(\"/fefs/aswg/workspace/bastien.lacave/ctlearnLSTData/DL2_Multimodels/03232/LST-1.Run03232.*.dl2.h5\")\n",
    "# print(len(dl2_files_bastien))\n",
    "# Theta2plot = DL2DataProcessor(dl2_files_tjark, Stereo_Tri_Model, gammaness_cut=0.9, dl2_processed_dir=\"/home/bastien.lacave/PhD/data/CTLearn/Tjark/\")\n",
    "# Theta2plot = DL2DataProcessor(dl2_files_bastien, Stereo_Tri_Model, gammaness_cut=0.9, dl2_processed_dir=\"/fefs/aswg/workspace/bastien.lacave/ctlearnLSTData/DL2_Multimodels/03232/\")\n",
    "DL2_1 = DL2DataProcessor([\n",
    "    '/fefs/aswg/workspace/tjark.miener/DeepCrab_new/DL2/real/dl2_3232_camcoord_camframe.h5',\n",
    "    ], Stereo_Tri_Model, gammaness_cut=0.9, dl2_processed_dir=\"/home/bastien.lacave/PhD/data/CTLearn/Tjark/\")\n",
    "\n",
    "DL2_2 = DL2DataProcessor([\n",
    "    '/fefs/aswg/workspace/tjark.miener/DeepCrab_new/DL2/real/dl2_3232_camcoord.h5',\n",
    "    ], Stereo_Tri_Model, gammaness_cut=0.9, dl2_processed_dir=\"/home/bastien.lacave/PhD/data/CTLearn/Tjark/\")\n",
    "# DL2_dir = DL2DataProcessor([\n",
    "#     '/fefs/aswg/workspace/tjark.miener/DeepCrab_new/DL2/real/3232/new_camcoord/dl2_LST-1.Run03232.0000.h5',\n",
    "#     '/fefs/aswg/workspace/tjark.miener/DeepCrab_new/DL2/real/3232/new_camcoord/dl2_LST-1.Run03232.0001.h5',\n",
    "#     '/fefs/aswg/workspace/tjark.miener/DeepCrab_new/DL2/real/3232/new_camcoord/dl2_LST-1.Run03232.0002.h5',\n",
    "#     '/fefs/aswg/workspace/tjark.miener/DeepCrab_new/DL2/real/3232/new_camcoord/dl2_LST-1.Run03232.0003.h5',\n",
    "#     '/fefs/aswg/workspace/tjark.miener/DeepCrab_new/DL2/real/3232/new_camcoord/dl2_LST-1.Run03232.0004.h5',\n",
    "#     '/fefs/aswg/workspace/tjark.miener/DeepCrab_new/DL2/real/3232/new_camcoord/dl2_LST-1.Run03232.0005.h5',\n",
    "#     '/fefs/aswg/workspace/tjark.miener/DeepCrab_new/DL2/real/3232/new_camcoord/dl2_LST-1.Run03232.0006.h5',\n",
    "#     '/fefs/aswg/workspace/tjark.miener/DeepCrab_new/DL2/real/3232/new_camcoord/dl2_LST-1.Run03232.0007.h5',\n",
    "#     '/fefs/aswg/workspace/tjark.miener/DeepCrab_new/DL2/real/3232/new_camcoord/dl2_LST-1.Run03232.0008.h5',\n",
    "#     '/fefs/aswg/workspace/tjark.miener/DeepCrab_new/DL2/real/3232/new_camcoord/dl2_LST-1.Run03232.0009.h5',\n",
    "#     ], Stereo_Tri_Model, gammaness_cut=0.9, dl2_processed_dir=\"/home/bastien.lacave/PhD/data/CTLearn/Tjark/\")"
   ]
  },
  {
   "cell_type": "code",
   "execution_count": null,
   "metadata": {},
   "outputs": [],
   "source": [
    "DL2_1.plot_skymap()\n",
    "DL2_2.plot_skymap()"
   ]
  },
  {
   "cell_type": "code",
   "execution_count": null,
   "metadata": {},
   "outputs": [],
   "source": [
    "import matplotlib.pyplot as plt\n",
    "import numpy as np\n",
    "dl2 = DL2_dir.dl2s[0]\n",
    "dl2 = dl2[DL2_dir.cuts_masks[0]]\n",
    "dl2\n",
    "reco = DL2_dir.reco_directions[0]\n",
    "pointing = DL2_dir.pointings[0]\n",
    "cuts_mask = DL2_dir.cuts_masks[0]\n",
    "ra_values = reco[cuts_mask].ra.deg\n",
    "dec_values = reco[cuts_mask].dec.deg\n",
    "pointings_ra = pointing[cuts_mask].ra.deg\n",
    "pointings_dec = pointing[cuts_mask].dec.deg\n",
    "ra_values\n",
    "plt.hist2d(ra_values[np.isfinite(ra_values)], dec_values[np.isfinite(dec_values)], bins=100, cmap='viridis', zorder=0)\n",
    "plt.show()"
   ]
  },
  {
   "cell_type": "code",
   "execution_count": null,
   "metadata": {},
   "outputs": [],
   "source": [
    "Combinator2000 = Combinator2000(dl2_processors=[DL2_energy_type, DL2_dir], direction_index=1, energy_index=0, type_index=0)\n",
    "Combinator2000.plot_skymap()"
   ]
  },
  {
   "cell_type": "code",
   "execution_count": null,
   "metadata": {},
   "outputs": [],
   "source": [
    "import matplotlib.pyplot as plt\n",
    "plt.scatter(Combinator2000.dl2s[0]['CTLearn_tel_alt'], Combinator2000.dl2s[0]['CTLearn_tel_az'], label='reco')\n",
    "plt.scatter(Combinator2000.dl2s[0]['altitude'], Combinator2000.dl2s[0]['azimuth'], label='pointing')\n",
    "plt.legend()"
   ]
  },
  {
   "cell_type": "code",
   "execution_count": null,
   "metadata": {},
   "outputs": [],
   "source": [
    "Theta2plot.plot_skymap()"
   ]
  },
  {
   "cell_type": "code",
   "execution_count": null,
   "metadata": {},
   "outputs": [],
   "source": [
    "Theta2plot.plot_bkg_discrimination_capability()\n",
    "Theta2plot.plot_excess_vs_background_rates()\n",
    "Theta2plot.plot_excess_and_background_rates_vs_energy()\n",
    "Theta2plot.plot_PSF()\n",
    "Theta2plot.plot_sensitivity()"
   ]
  },
  {
   "cell_type": "code",
   "execution_count": null,
   "metadata": {},
   "outputs": [],
   "source": [
    "Theta2plot.plot_theta2_distribution(bins=20,)\n",
    "# Theta2plot.plot_theta2_distribution(DL2_files= [\"/home/bastien.lacave/LST-1.Run02929.0000.dl2.h5\"], bins=10, tel_id=1, gammaness_cut=0.0)"
   ]
  },
  {
   "cell_type": "code",
   "execution_count": null,
   "metadata": {},
   "outputs": [],
   "source": [
    "Theta2plot.plot_skymap()"
   ]
  },
  {
   "cell_type": "code",
   "execution_count": null,
   "metadata": {},
   "outputs": [],
   "source": []
  }
 ],
 "metadata": {
  "kernelspec": {
   "display_name": "ctlearn",
   "language": "python",
   "name": "python3"
  },
  "language_info": {
   "codemirror_mode": {
    "name": "ipython",
    "version": 3
   },
   "file_extension": ".py",
   "mimetype": "text/x-python",
   "name": "python",
   "nbconvert_exporter": "python",
   "pygments_lexer": "ipython3",
   "version": "3.10.13"
  }
 },
 "nbformat": 4,
 "nbformat_minor": 2
}
