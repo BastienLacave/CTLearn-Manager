{
 "cells": [
  {
   "cell_type": "code",
   "execution_count": 1,
   "metadata": {},
   "outputs": [],
   "source": [
    "from ctlearn_manager.tri_model import CTLearnTriModelManager\n",
    "from ctlearn_manager.io.io import load_model_from_index\n",
    "from ctlearn_manager.utils.sky_coord_utils import DL2DataProcessor"
   ]
  },
  {
   "cell_type": "code",
   "execution_count": 2,
   "metadata": {},
   "outputs": [
    {
     "name": "stdout",
     "output_type": "stream",
     "text": [
      "🧠 Model name: LST1_energy_CRABdec_7\n",
      "🧠 Model name: LST1_direction_CRABdec_7\n",
      "🧠 Model name: LST1_type_CRABdec_7\n"
     ]
    }
   ],
   "source": [
    "MODEL_INDEX_FILE = \"/home/bastien.lacave/PhD/Analysis/CTLearnManager/ctlearn_models_index.h5\"\n",
    "i = 7\n",
    "energy_model = load_model_from_index(f\"LST1_energy_CRABdec_{i}\", MODEL_INDEX_FILE)\n",
    "direction_model = load_model_from_index(f\"LST1_direction_CRABdec_{i}\", MODEL_INDEX_FILE)\n",
    "type_model = load_model_from_index(f\"LST1_type_CRABdec_{i}\", MODEL_INDEX_FILE)\n",
    "Stereo_Tri_Model = CTLearnTriModelManager(direction_model=direction_model, energy_model=energy_model, type_model=type_model)"
   ]
  },
  {
   "cell_type": "code",
   "execution_count": 3,
   "metadata": {},
   "outputs": [
    {
     "name": "stdout",
     "output_type": "stream",
     "text": [
      "LST1 is in the telescope names\n",
      "Preprocessing DL2 data...\n",
      "Loading /fefs/aswg/workspace/tjark.miener/DeepCrab_new/DL2/real/dl2_LST-1.Run02969.h5\n"
     ]
    },
    {
     "name": "stdout",
     "output_type": "stream",
     "text": [
      "Loaded 6495875 events\n",
      "30550 events after cuts\n",
      "Computing sky positions...\n"
     ]
    }
   ],
   "source": [
    "Theta2plot = DL2DataProcessor([\"/fefs/aswg/workspace/tjark.miener/DeepCrab_new/DL2/real/dl2_LST-1.Run02969.h5\"], Stereo_Tri_Model)"
   ]
  },
  {
   "cell_type": "code",
   "execution_count": 4,
   "metadata": {},
   "outputs": [
    {
     "name": "stdout",
     "output_type": "stream",
     "text": [
      "Computing on-off counts...\n"
     ]
    },
    {
     "ename": "TypeError",
     "evalue": "unsupported operand type(s) for *=: 'numpy.ndarray' and 'IrreducibleUnit'",
     "output_type": "error",
     "traceback": [
      "\u001b[0;31m---------------------------------------------------------------------------\u001b[0m",
      "\u001b[0;31mTypeError\u001b[0m                                 Traceback (most recent call last)",
      "Cell \u001b[0;32mIn[4], line 1\u001b[0m\n\u001b[0;32m----> 1\u001b[0m \u001b[43mTheta2plot\u001b[49m\u001b[38;5;241;43m.\u001b[39;49m\u001b[43mplot_theta2_distribution\u001b[49m\u001b[43m(\u001b[49m\u001b[43mbins\u001b[49m\u001b[38;5;241;43m=\u001b[39;49m\u001b[38;5;241;43m20\u001b[39;49m\u001b[43m,\u001b[49m\u001b[43m)\u001b[49m\n",
      "File \u001b[0;32m~/miniforge3/envs/ctlearn/lib/python3.10/site-packages/ctlearn_manager/utils/sky_coord_utils.py:100\u001b[0m, in \u001b[0;36mDL2DataProcessor.plot_theta2_distribution\u001b[0;34m(self, bins, n_off)\u001b[0m\n\u001b[1;32m     96\u001b[0m h_on \u001b[38;5;241m+\u001b[39m\u001b[38;5;241m=\u001b[39m h_on_temp\n\u001b[1;32m     97\u001b[0m h_off \u001b[38;5;241m+\u001b[39m\u001b[38;5;241m=\u001b[39m h_off_temp \u001b[38;5;241m/\u001b[39m n_off \u001b[38;5;66;03m# To plot the average off source counts\u001b[39;00m\n\u001b[0;32m--> 100\u001b[0m t_eff_temp, t_elapsed_temp \u001b[38;5;241m=\u001b[39m \u001b[38;5;28;43mself\u001b[39;49m\u001b[38;5;241;43m.\u001b[39;49m\u001b[43mcompute_eff_time\u001b[49m\u001b[43m(\u001b[49m\u001b[43mdl2\u001b[49m\u001b[43m)\u001b[49m\n\u001b[1;32m    101\u001b[0m t_eff \u001b[38;5;241m+\u001b[39m\u001b[38;5;241m=\u001b[39m t_eff_temp\n\u001b[1;32m    102\u001b[0m t_elapsed \u001b[38;5;241m+\u001b[39m\u001b[38;5;241m=\u001b[39m t_elapsed_temp\n",
      "File \u001b[0;32m~/miniforge3/envs/ctlearn/lib/python3.10/site-packages/ctlearn_manager/utils/sky_coord_utils.py:159\u001b[0m, in \u001b[0;36mDL2DataProcessor.compute_eff_time\u001b[0;34m(self, events)\u001b[0m\n\u001b[1;32m    156\u001b[0m delta_t \u001b[38;5;241m=\u001b[39m np\u001b[38;5;241m.\u001b[39marray(events[\u001b[38;5;124m\"\u001b[39m\u001b[38;5;124mdelta_t\u001b[39m\u001b[38;5;124m\"\u001b[39m])\n\u001b[1;32m    158\u001b[0m \u001b[38;5;28;01mif\u001b[39;00m \u001b[38;5;129;01mnot\u001b[39;00m \u001b[38;5;28misinstance\u001b[39m(timestamp, u\u001b[38;5;241m.\u001b[39mQuantity):\n\u001b[0;32m--> 159\u001b[0m     timestamp \u001b[38;5;241m*\u001b[39m\u001b[38;5;241m=\u001b[39m u\u001b[38;5;241m.\u001b[39ms\n\u001b[1;32m    160\u001b[0m \u001b[38;5;28;01mif\u001b[39;00m \u001b[38;5;129;01mnot\u001b[39;00m \u001b[38;5;28misinstance\u001b[39m(delta_t, u\u001b[38;5;241m.\u001b[39mQuantity):\n\u001b[1;32m    161\u001b[0m     delta_t \u001b[38;5;241m*\u001b[39m\u001b[38;5;241m=\u001b[39m u\u001b[38;5;241m.\u001b[39ms\n",
      "\u001b[0;31mTypeError\u001b[0m: unsupported operand type(s) for *=: 'numpy.ndarray' and 'IrreducibleUnit'"
     ]
    }
   ],
   "source": [
    "Theta2plot.plot_theta2_distribution(bins=20,)\n",
    "# Theta2plot.plot_theta2_distribution(DL2_files= [\"/home/bastien.lacave/LST-1.Run02929.0000.dl2.h5\"], bins=10, tel_id=1, gammaness_cut=0.0)"
   ]
  }
 ],
 "metadata": {
  "kernelspec": {
   "display_name": "ctlearn",
   "language": "python",
   "name": "python3"
  },
  "language_info": {
   "codemirror_mode": {
    "name": "ipython",
    "version": 3
   },
   "file_extension": ".py",
   "mimetype": "text/x-python",
   "name": "python",
   "nbconvert_exporter": "python",
   "pygments_lexer": "ipython3",
   "version": "undefined.undefined.undefined"
  }
 },
 "nbformat": 4,
 "nbformat_minor": 2
}
